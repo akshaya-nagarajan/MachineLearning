{
  "nbformat": 4,
  "nbformat_minor": 0,
  "metadata": {
    "colab": {
      "name": "beautifulSoupCode.ipynb",
      "provenance": [],
      "collapsed_sections": [],
      "include_colab_link": true
    },
    "kernelspec": {
      "name": "python3",
      "display_name": "Python 3"
    }
  },
  "cells": [
    {
      "cell_type": "markdown",
      "metadata": {
        "id": "view-in-github",
        "colab_type": "text"
      },
      "source": [
        "<a href=\"https://colab.research.google.com/github/akshaya-nagarajan/MachineLearning/blob/master/beautifulSoupCode.ipynb\" target=\"_parent\"><img src=\"https://colab.research.google.com/assets/colab-badge.svg\" alt=\"Open In Colab\"/></a>"
      ]
    },
    {
      "cell_type": "markdown",
      "metadata": {
        "id": "nOm_JOqJ4lwB",
        "colab_type": "text"
      },
      "source": [
        "##Installing Headless webdriver"
      ]
    },
    {
      "cell_type": "code",
      "metadata": {
        "id": "kfkn_cIfNmZu",
        "colab_type": "code",
        "outputId": "f3d49a61-8095-4ff9-8f29-327868167abc",
        "colab": {
          "base_uri": "https://localhost:8080/",
          "height": 136
        }
      },
      "source": [
        "# install chromium, its driver, and selenium\n",
        "!apt install chromium-chromedriver\n",
        "!pip install selenium\n",
        "# set options to be headless, ..\n",
        "from selenium import webdriver\n",
        "options = webdriver.ChromeOptions()\n",
        "options.add_argument('--headless')\n",
        "options.add_argument('--no-sandbox')\n",
        "options.add_argument('--disable-dev-shm-usage')\n",
        "# open it, go to a website, and get results\n",
        "wd = webdriver.Chrome('chromedriver',options=options)"
      ],
      "execution_count": 0,
      "outputs": [
        {
          "output_type": "stream",
          "text": [
            "Reading package lists... Done\n",
            "Building dependency tree       \n",
            "Reading state information... Done\n",
            "chromium-chromedriver is already the newest version (80.0.3987.87-0ubuntu0.18.04.1).\n",
            "0 upgraded, 0 newly installed, 0 to remove and 32 not upgraded.\n",
            "Requirement already satisfied: selenium in /usr/local/lib/python3.6/dist-packages (3.141.0)\n",
            "Requirement already satisfied: urllib3 in /usr/local/lib/python3.6/dist-packages (from selenium) (1.24.3)\n"
          ],
          "name": "stdout"
        }
      ]
    },
    {
      "cell_type": "code",
      "metadata": {
        "id": "GHVx7OZHZeIk",
        "colab_type": "code",
        "colab": {}
      },
      "source": [
        "wd.get('https://www.wunderground.com/history/monthly/KBOS/date/2020-2')"
      ],
      "execution_count": 0,
      "outputs": []
    },
    {
      "cell_type": "code",
      "metadata": {
        "id": "YCbMPgL_b-9O",
        "colab_type": "code",
        "colab": {}
      },
      "source": [
        "wd.implicitly_wait(3)"
      ],
      "execution_count": 0,
      "outputs": []
    },
    {
      "cell_type": "code",
      "metadata": {
        "id": "y9AfUqZMcB23",
        "colab_type": "code",
        "colab": {}
      },
      "source": [
        "page = wd.page_source"
      ],
      "execution_count": 0,
      "outputs": []
    },
    {
      "cell_type": "code",
      "metadata": {
        "id": "-yMBp3JGViha",
        "colab_type": "code",
        "colab": {}
      },
      "source": [
        "from bs4 import BeautifulSoup\n",
        "import pandas as pd"
      ],
      "execution_count": 0,
      "outputs": []
    },
    {
      "cell_type": "code",
      "metadata": {
        "id": "078Lj9_0XwBP",
        "colab_type": "code",
        "colab": {}
      },
      "source": [
        "soup = BeautifulSoup(page)"
      ],
      "execution_count": 0,
      "outputs": []
    },
    {
      "cell_type": "code",
      "metadata": {
        "id": "39yvjYw_ZTQz",
        "colab_type": "code",
        "colab": {}
      },
      "source": [
        "table = soup.find(\"table\", {\"class\": \"days\"})"
      ],
      "execution_count": 0,
      "outputs": []
    },
    {
      "cell_type": "code",
      "metadata": {
        "id": "Du4zixf_oKY9",
        "colab_type": "code",
        "outputId": "5e876136-98c6-4c0e-c41a-3153ac228742",
        "colab": {
          "base_uri": "https://localhost:8080/",
          "height": 54
        }
      },
      "source": [
        "table"
      ],
      "execution_count": 0,
      "outputs": [
        {
          "output_type": "execute_result",
          "data": {
            "text/plain": [
              "<table _ngcontent-app-root-c12=\"\" class=\"days ng-star-inserted\"><thead _ngcontent-app-root-c12=\"\"><tr _ngcontent-app-root-c12=\"\"><!-- --><td _ngcontent-app-root-c12=\"\" class=\"ng-star-inserted\">Time</td><td _ngcontent-app-root-c12=\"\" class=\"ng-star-inserted\">Temperature (° F)</td><td _ngcontent-app-root-c12=\"\" class=\"ng-star-inserted\">Dew Point (° F)</td><td _ngcontent-app-root-c12=\"\" class=\"ng-star-inserted\">Humidity (%)</td><td _ngcontent-app-root-c12=\"\" class=\"ng-star-inserted\">Wind Speed (mph)</td><td _ngcontent-app-root-c12=\"\" class=\"ng-star-inserted\">Pressure (Hg)</td><td _ngcontent-app-root-c12=\"\" class=\"ng-star-inserted\">Precipitation (in)</td></tr></thead><tbody _ngcontent-app-root-c12=\"\"><tr _ngcontent-app-root-c12=\"\"><!-- --><td _ngcontent-app-root-c12=\"\" class=\"ng-star-inserted\"><table _ngcontent-app-root-c12=\"\"><!-- --><tr _ngcontent-app-root-c12=\"\" class=\"ng-star-inserted\"><!-- --><td _ngcontent-app-root-c12=\"\" class=\"ng-star-inserted\"> Feb </td></tr><tr _ngcontent-app-root-c12=\"\" class=\"ng-star-inserted\"><!-- --><td _ngcontent-app-root-c12=\"\" class=\"ng-star-inserted\"> 1 </td></tr><tr _ngcontent-app-root-c12=\"\" class=\"ng-star-inserted\"><!-- --><td _ngcontent-app-root-c12=\"\" class=\"ng-star-inserted\"> 2 </td></tr><tr _ngcontent-app-root-c12=\"\" class=\"ng-star-inserted\"><!-- --><td _ngcontent-app-root-c12=\"\" class=\"ng-star-inserted\"> 3 </td></tr><tr _ngcontent-app-root-c12=\"\" class=\"ng-star-inserted\"><!-- --><td _ngcontent-app-root-c12=\"\" class=\"ng-star-inserted\"> 4 </td></tr><tr _ngcontent-app-root-c12=\"\" class=\"ng-star-inserted\"><!-- --><td _ngcontent-app-root-c12=\"\" class=\"ng-star-inserted\"> 5 </td></tr><tr _ngcontent-app-root-c12=\"\" class=\"ng-star-inserted\"><!-- --><td _ngcontent-app-root-c12=\"\" class=\"ng-star-inserted\"> 6 </td></tr><tr _ngcontent-app-root-c12=\"\" class=\"ng-star-inserted\"><!-- --><td _ngcontent-app-root-c12=\"\" class=\"ng-star-inserted\"> 7 </td></tr><tr _ngcontent-app-root-c12=\"\" class=\"ng-star-inserted\"><!-- --><td _ngcontent-app-root-c12=\"\" class=\"ng-star-inserted\"> 8 </td></tr><tr _ngcontent-app-root-c12=\"\" class=\"ng-star-inserted\"><!-- --><td _ngcontent-app-root-c12=\"\" class=\"ng-star-inserted\"> 9 </td></tr><tr _ngcontent-app-root-c12=\"\" class=\"ng-star-inserted\"><!-- --><td _ngcontent-app-root-c12=\"\" class=\"ng-star-inserted\"> 10 </td></tr><tr _ngcontent-app-root-c12=\"\" class=\"ng-star-inserted\"><!-- --><td _ngcontent-app-root-c12=\"\" class=\"ng-star-inserted\"> 11 </td></tr><tr _ngcontent-app-root-c12=\"\" class=\"ng-star-inserted\"><!-- --><td _ngcontent-app-root-c12=\"\" class=\"ng-star-inserted\"> 12 </td></tr><tr _ngcontent-app-root-c12=\"\" class=\"ng-star-inserted\"><!-- --><td _ngcontent-app-root-c12=\"\" class=\"ng-star-inserted\"> 13 </td></tr><tr _ngcontent-app-root-c12=\"\" class=\"ng-star-inserted\"><!-- --><td _ngcontent-app-root-c12=\"\" class=\"ng-star-inserted\"> 14 </td></tr><tr _ngcontent-app-root-c12=\"\" class=\"ng-star-inserted\"><!-- --><td _ngcontent-app-root-c12=\"\" class=\"ng-star-inserted\"> 15 </td></tr><tr _ngcontent-app-root-c12=\"\" class=\"ng-star-inserted\"><!-- --><td _ngcontent-app-root-c12=\"\" class=\"ng-star-inserted\"> 16 </td></tr><tr _ngcontent-app-root-c12=\"\" class=\"ng-star-inserted\"><!-- --><td _ngcontent-app-root-c12=\"\" class=\"ng-star-inserted\"> 17 </td></tr><tr _ngcontent-app-root-c12=\"\" class=\"ng-star-inserted\"><!-- --><td _ngcontent-app-root-c12=\"\" class=\"ng-star-inserted\"> 18 </td></tr><tr _ngcontent-app-root-c12=\"\" class=\"ng-star-inserted\"><!-- --><td _ngcontent-app-root-c12=\"\" class=\"ng-star-inserted\"> 19 </td></tr><tr _ngcontent-app-root-c12=\"\" class=\"ng-star-inserted\"><!-- --><td _ngcontent-app-root-c12=\"\" class=\"ng-star-inserted\"> 20 </td></tr><tr _ngcontent-app-root-c12=\"\" class=\"ng-star-inserted\"><!-- --><td _ngcontent-app-root-c12=\"\" class=\"ng-star-inserted\"> 21 </td></tr><tr _ngcontent-app-root-c12=\"\" class=\"ng-star-inserted\"><!-- --><td _ngcontent-app-root-c12=\"\" class=\"ng-star-inserted\"> 22 </td></tr><tr _ngcontent-app-root-c12=\"\" class=\"ng-star-inserted\"><!-- --><td _ngcontent-app-root-c12=\"\" class=\"ng-star-inserted\"> 23 </td></tr><tr _ngcontent-app-root-c12=\"\" class=\"ng-star-inserted\"><!-- --><td _ngcontent-app-root-c12=\"\" class=\"ng-star-inserted\"> 24 </td></tr><tr _ngcontent-app-root-c12=\"\" class=\"ng-star-inserted\"><!-- --><td _ngcontent-app-root-c12=\"\" class=\"ng-star-inserted\"> 25 </td></tr><tr _ngcontent-app-root-c12=\"\" class=\"ng-star-inserted\"><!-- --><td _ngcontent-app-root-c12=\"\" class=\"ng-star-inserted\"> 26 </td></tr><tr _ngcontent-app-root-c12=\"\" class=\"ng-star-inserted\"><!-- --><td _ngcontent-app-root-c12=\"\" class=\"ng-star-inserted\"> 27 </td></tr><tr _ngcontent-app-root-c12=\"\" class=\"ng-star-inserted\"><!-- --><td _ngcontent-app-root-c12=\"\" class=\"ng-star-inserted\"> 28 </td></tr><tr _ngcontent-app-root-c12=\"\" class=\"ng-star-inserted\"><!-- --><td _ngcontent-app-root-c12=\"\" class=\"ng-star-inserted\"> 29 </td></tr><tr _ngcontent-app-root-c12=\"\" class=\"ng-star-inserted\"><!-- --><td _ngcontent-app-root-c12=\"\" class=\"ng-star-inserted\"> 1 </td></tr></table></td><td _ngcontent-app-root-c12=\"\" class=\"ng-star-inserted\"><table _ngcontent-app-root-c12=\"\"><!-- --><tr _ngcontent-app-root-c12=\"\" class=\"ng-star-inserted\"><!-- --><td _ngcontent-app-root-c12=\"\" class=\"ng-star-inserted\"> Max </td><td _ngcontent-app-root-c12=\"\" class=\"ng-star-inserted\"> Avg </td><td _ngcontent-app-root-c12=\"\" class=\"ng-star-inserted\"> Min </td></tr><tr _ngcontent-app-root-c12=\"\" class=\"ng-star-inserted\"><!-- --><td _ngcontent-app-root-c12=\"\" class=\"ng-star-inserted\"> 40 </td><td _ngcontent-app-root-c12=\"\" class=\"ng-star-inserted\"> 38.1 </td><td _ngcontent-app-root-c12=\"\" class=\"ng-star-inserted\"> 35 </td></tr><tr _ngcontent-app-root-c12=\"\" class=\"ng-star-inserted\"><!-- --><td _ngcontent-app-root-c12=\"\" class=\"ng-star-inserted\"> 42 </td><td _ngcontent-app-root-c12=\"\" class=\"ng-star-inserted\"> 39.3 </td><td _ngcontent-app-root-c12=\"\" class=\"ng-star-inserted\"> 37 </td></tr><tr _ngcontent-app-root-c12=\"\" class=\"ng-star-inserted\"><!-- --><td _ngcontent-app-root-c12=\"\" class=\"ng-star-inserted\"> 49 </td><td _ngcontent-app-root-c12=\"\" class=\"ng-star-inserted\"> 42.2 </td><td _ngcontent-app-root-c12=\"\" class=\"ng-star-inserted\"> 35 </td></tr><tr _ngcontent-app-root-c12=\"\" class=\"ng-star-inserted\"><!-- --><td _ngcontent-app-root-c12=\"\" class=\"ng-star-inserted\"> 47 </td><td _ngcontent-app-root-c12=\"\" class=\"ng-star-inserted\"> 42.0 </td><td _ngcontent-app-root-c12=\"\" class=\"ng-star-inserted\"> 36 </td></tr><tr _ngcontent-app-root-c12=\"\" class=\"ng-star-inserted\"><!-- --><td _ngcontent-app-root-c12=\"\" class=\"ng-star-inserted\"> 43 </td><td _ngcontent-app-root-c12=\"\" class=\"ng-star-inserted\"> 39.8 </td><td _ngcontent-app-root-c12=\"\" class=\"ng-star-inserted\"> 34 </td></tr><tr _ngcontent-app-root-c12=\"\" class=\"ng-star-inserted\"><!-- --><td _ngcontent-app-root-c12=\"\" class=\"ng-star-inserted\"> 41 </td><td _ngcontent-app-root-c12=\"\" class=\"ng-star-inserted\"> 37.9 </td><td _ngcontent-app-root-c12=\"\" class=\"ng-star-inserted\"> 33 </td></tr><tr _ngcontent-app-root-c12=\"\" class=\"ng-star-inserted\"><!-- --><td _ngcontent-app-root-c12=\"\" class=\"ng-star-inserted\"> 56 </td><td _ngcontent-app-root-c12=\"\" class=\"ng-star-inserted\"> 39.9 </td><td _ngcontent-app-root-c12=\"\" class=\"ng-star-inserted\"> 31 </td></tr><tr _ngcontent-app-root-c12=\"\" class=\"ng-star-inserted\"><!-- --><td _ngcontent-app-root-c12=\"\" class=\"ng-star-inserted\"> 37 </td><td _ngcontent-app-root-c12=\"\" class=\"ng-star-inserted\"> 30.1 </td><td _ngcontent-app-root-c12=\"\" class=\"ng-star-inserted\"> 26 </td></tr><tr _ngcontent-app-root-c12=\"\" class=\"ng-star-inserted\"><!-- --><td _ngcontent-app-root-c12=\"\" class=\"ng-star-inserted\"> 38 </td><td _ngcontent-app-root-c12=\"\" class=\"ng-star-inserted\"> 29.4 </td><td _ngcontent-app-root-c12=\"\" class=\"ng-star-inserted\"> 20 </td></tr><tr _ngcontent-app-root-c12=\"\" class=\"ng-star-inserted\"><!-- --><td _ngcontent-app-root-c12=\"\" class=\"ng-star-inserted\"> 47 </td><td _ngcontent-app-root-c12=\"\" class=\"ng-star-inserted\"> 44.2 </td><td _ngcontent-app-root-c12=\"\" class=\"ng-star-inserted\"> 38 </td></tr><tr _ngcontent-app-root-c12=\"\" class=\"ng-star-inserted\"><!-- --><td _ngcontent-app-root-c12=\"\" class=\"ng-star-inserted\"> 45 </td><td _ngcontent-app-root-c12=\"\" class=\"ng-star-inserted\"> 41.8 </td><td _ngcontent-app-root-c12=\"\" class=\"ng-star-inserted\"> 40 </td></tr><tr _ngcontent-app-root-c12=\"\" class=\"ng-star-inserted\"><!-- --><td _ngcontent-app-root-c12=\"\" class=\"ng-star-inserted\"> 45 </td><td _ngcontent-app-root-c12=\"\" class=\"ng-star-inserted\"> 41.3 </td><td _ngcontent-app-root-c12=\"\" class=\"ng-star-inserted\"> 38 </td></tr><tr _ngcontent-app-root-c12=\"\" class=\"ng-star-inserted\"><!-- --><td _ngcontent-app-root-c12=\"\" class=\"ng-star-inserted\"> 41 </td><td _ngcontent-app-root-c12=\"\" class=\"ng-star-inserted\"> 38.5 </td><td _ngcontent-app-root-c12=\"\" class=\"ng-star-inserted\"> 35 </td></tr><tr _ngcontent-app-root-c12=\"\" class=\"ng-star-inserted\"><!-- --><td _ngcontent-app-root-c12=\"\" class=\"ng-star-inserted\"> 40 </td><td _ngcontent-app-root-c12=\"\" class=\"ng-star-inserted\"> 27.9 </td><td _ngcontent-app-root-c12=\"\" class=\"ng-star-inserted\"> 15 </td></tr><tr _ngcontent-app-root-c12=\"\" class=\"ng-star-inserted\"><!-- --><td _ngcontent-app-root-c12=\"\" class=\"ng-star-inserted\"> 31 </td><td _ngcontent-app-root-c12=\"\" class=\"ng-star-inserted\"> 21.4 </td><td _ngcontent-app-root-c12=\"\" class=\"ng-star-inserted\"> 12 </td></tr><tr _ngcontent-app-root-c12=\"\" class=\"ng-star-inserted\"><!-- --><td _ngcontent-app-root-c12=\"\" class=\"ng-star-inserted\"> 46 </td><td _ngcontent-app-root-c12=\"\" class=\"ng-star-inserted\"> 38.3 </td><td _ngcontent-app-root-c12=\"\" class=\"ng-star-inserted\"> 29 </td></tr><tr _ngcontent-app-root-c12=\"\" class=\"ng-star-inserted\"><!-- --><td _ngcontent-app-root-c12=\"\" class=\"ng-star-inserted\"> 48 </td><td _ngcontent-app-root-c12=\"\" class=\"ng-star-inserted\"> 40.8 </td><td _ngcontent-app-root-c12=\"\" class=\"ng-star-inserted\"> 33 </td></tr><tr _ngcontent-app-root-c12=\"\" class=\"ng-star-inserted\"><!-- --><td _ngcontent-app-root-c12=\"\" class=\"ng-star-inserted\"> 42 </td><td _ngcontent-app-root-c12=\"\" class=\"ng-star-inserted\"> 39.0 </td><td _ngcontent-app-root-c12=\"\" class=\"ng-star-inserted\"> 32 </td></tr><tr _ngcontent-app-root-c12=\"\" class=\"ng-star-inserted\"><!-- --><td _ngcontent-app-root-c12=\"\" class=\"ng-star-inserted\"> 46 </td><td _ngcontent-app-root-c12=\"\" class=\"ng-star-inserted\"> 41.6 </td><td _ngcontent-app-root-c12=\"\" class=\"ng-star-inserted\"> 34 </td></tr><tr _ngcontent-app-root-c12=\"\" class=\"ng-star-inserted\"><!-- --><td _ngcontent-app-root-c12=\"\" class=\"ng-star-inserted\"> 36 </td><td _ngcontent-app-root-c12=\"\" class=\"ng-star-inserted\"> 30.6 </td><td _ngcontent-app-root-c12=\"\" class=\"ng-star-inserted\"> 24 </td></tr><tr _ngcontent-app-root-c12=\"\" class=\"ng-star-inserted\"><!-- --><td _ngcontent-app-root-c12=\"\" class=\"ng-star-inserted\"> 33 </td><td _ngcontent-app-root-c12=\"\" class=\"ng-star-inserted\"> 25.7 </td><td _ngcontent-app-root-c12=\"\" class=\"ng-star-inserted\"> 17 </td></tr><tr _ngcontent-app-root-c12=\"\" class=\"ng-star-inserted\"><!-- --><td _ngcontent-app-root-c12=\"\" class=\"ng-star-inserted\"> 48 </td><td _ngcontent-app-root-c12=\"\" class=\"ng-star-inserted\"> 38.6 </td><td _ngcontent-app-root-c12=\"\" class=\"ng-star-inserted\"> 29 </td></tr><tr _ngcontent-app-root-c12=\"\" class=\"ng-star-inserted\"><!-- --><td _ngcontent-app-root-c12=\"\" class=\"ng-star-inserted\"> 57 </td><td _ngcontent-app-root-c12=\"\" class=\"ng-star-inserted\"> 44.7 </td><td _ngcontent-app-root-c12=\"\" class=\"ng-star-inserted\"> 35 </td></tr><tr _ngcontent-app-root-c12=\"\" class=\"ng-star-inserted\"><!-- --><td _ngcontent-app-root-c12=\"\" class=\"ng-star-inserted\"> 64 </td><td _ngcontent-app-root-c12=\"\" class=\"ng-star-inserted\"> 48.8 </td><td _ngcontent-app-root-c12=\"\" class=\"ng-star-inserted\"> 36 </td></tr><tr _ngcontent-app-root-c12=\"\" class=\"ng-star-inserted\"><!-- --><td _ngcontent-app-root-c12=\"\" class=\"ng-star-inserted\"> 51 </td><td _ngcontent-app-root-c12=\"\" class=\"ng-star-inserted\"> 46.6 </td><td _ngcontent-app-root-c12=\"\" class=\"ng-star-inserted\"> 44 </td></tr><tr _ngcontent-app-root-c12=\"\" class=\"ng-star-inserted\"><!-- --><td _ngcontent-app-root-c12=\"\" class=\"ng-star-inserted\"> 48 </td><td _ngcontent-app-root-c12=\"\" class=\"ng-star-inserted\"> 45.4 </td><td _ngcontent-app-root-c12=\"\" class=\"ng-star-inserted\"> 44 </td></tr><tr _ngcontent-app-root-c12=\"\" class=\"ng-star-inserted\"><!-- --><td _ngcontent-app-root-c12=\"\" class=\"ng-star-inserted\"> 55 </td><td _ngcontent-app-root-c12=\"\" class=\"ng-star-inserted\"> 44.8 </td><td _ngcontent-app-root-c12=\"\" class=\"ng-star-inserted\"> 34 </td></tr><tr _ngcontent-app-root-c12=\"\" class=\"ng-star-inserted\"><!-- --><td _ngcontent-app-root-c12=\"\" class=\"ng-star-inserted\"> 37 </td><td _ngcontent-app-root-c12=\"\" class=\"ng-star-inserted\"> 33.6 </td><td _ngcontent-app-root-c12=\"\" class=\"ng-star-inserted\"> 30 </td></tr><tr _ngcontent-app-root-c12=\"\" class=\"ng-star-inserted\"><!-- --><td _ngcontent-app-root-c12=\"\" class=\"ng-star-inserted\"> 34 </td><td _ngcontent-app-root-c12=\"\" class=\"ng-star-inserted\"> 29.0 </td><td _ngcontent-app-root-c12=\"\" class=\"ng-star-inserted\"> 22 </td></tr><tr _ngcontent-app-root-c12=\"\" class=\"ng-star-inserted\"><!-- --><td _ngcontent-app-root-c12=\"\" class=\"ng-star-inserted\"> 22 </td><td _ngcontent-app-root-c12=\"\" class=\"ng-star-inserted\"> 22.0 </td><td _ngcontent-app-root-c12=\"\" class=\"ng-star-inserted\"> 22 </td></tr></table></td><td _ngcontent-app-root-c12=\"\" class=\"ng-star-inserted\"><table _ngcontent-app-root-c12=\"\"><!-- --><tr _ngcontent-app-root-c12=\"\" class=\"ng-star-inserted\"><!-- --><td _ngcontent-app-root-c12=\"\" class=\"ng-star-inserted\"> Max </td><td _ngcontent-app-root-c12=\"\" class=\"ng-star-inserted\"> Avg </td><td _ngcontent-app-root-c12=\"\" class=\"ng-star-inserted\"> Min </td></tr><tr _ngcontent-app-root-c12=\"\" class=\"ng-star-inserted\"><!-- --><td _ngcontent-app-root-c12=\"\" class=\"ng-star-inserted\"> 34 </td><td _ngcontent-app-root-c12=\"\" class=\"ng-star-inserted\"> 31.7 </td><td _ngcontent-app-root-c12=\"\" class=\"ng-star-inserted\"> 28 </td></tr><tr _ngcontent-app-root-c12=\"\" class=\"ng-star-inserted\"><!-- --><td _ngcontent-app-root-c12=\"\" class=\"ng-star-inserted\"> 31 </td><td _ngcontent-app-root-c12=\"\" class=\"ng-star-inserted\"> 25.4 </td><td _ngcontent-app-root-c12=\"\" class=\"ng-star-inserted\"> 20 </td></tr><tr _ngcontent-app-root-c12=\"\" class=\"ng-star-inserted\"><!-- --><td _ngcontent-app-root-c12=\"\" class=\"ng-star-inserted\"> 29 </td><td _ngcontent-app-root-c12=\"\" class=\"ng-star-inserted\"> 26.3 </td><td _ngcontent-app-root-c12=\"\" class=\"ng-star-inserted\"> 22 </td></tr><tr _ngcontent-app-root-c12=\"\" class=\"ng-star-inserted\"><!-- --><td _ngcontent-app-root-c12=\"\" class=\"ng-star-inserted\"> 35 </td><td _ngcontent-app-root-c12=\"\" class=\"ng-star-inserted\"> 31.9 </td><td _ngcontent-app-root-c12=\"\" class=\"ng-star-inserted\"> 27 </td></tr><tr _ngcontent-app-root-c12=\"\" class=\"ng-star-inserted\"><!-- --><td _ngcontent-app-root-c12=\"\" class=\"ng-star-inserted\"> 36 </td><td _ngcontent-app-root-c12=\"\" class=\"ng-star-inserted\"> 24.6 </td><td _ngcontent-app-root-c12=\"\" class=\"ng-star-inserted\"> 11 </td></tr><tr _ngcontent-app-root-c12=\"\" class=\"ng-star-inserted\"><!-- --><td _ngcontent-app-root-c12=\"\" class=\"ng-star-inserted\"> 37 </td><td _ngcontent-app-root-c12=\"\" class=\"ng-star-inserted\"> 32.1 </td><td _ngcontent-app-root-c12=\"\" class=\"ng-star-inserted\"> 14 </td></tr><tr _ngcontent-app-root-c12=\"\" class=\"ng-star-inserted\"><!-- --><td _ngcontent-app-root-c12=\"\" class=\"ng-star-inserted\"> 47 </td><td _ngcontent-app-root-c12=\"\" class=\"ng-star-inserted\"> 33.4 </td><td _ngcontent-app-root-c12=\"\" class=\"ng-star-inserted\"> 14 </td></tr><tr _ngcontent-app-root-c12=\"\" class=\"ng-star-inserted\"><!-- --><td _ngcontent-app-root-c12=\"\" class=\"ng-star-inserted\"> 14 </td><td _ngcontent-app-root-c12=\"\" class=\"ng-star-inserted\"> 10.2 </td><td _ngcontent-app-root-c12=\"\" class=\"ng-star-inserted\"> 7 </td></tr><tr _ngcontent-app-root-c12=\"\" class=\"ng-star-inserted\"><!-- --><td _ngcontent-app-root-c12=\"\" class=\"ng-star-inserted\"> 29 </td><td _ngcontent-app-root-c12=\"\" class=\"ng-star-inserted\"> 16.0 </td><td _ngcontent-app-root-c12=\"\" class=\"ng-star-inserted\"> 7 </td></tr><tr _ngcontent-app-root-c12=\"\" class=\"ng-star-inserted\"><!-- --><td _ngcontent-app-root-c12=\"\" class=\"ng-star-inserted\"> 39 </td><td _ngcontent-app-root-c12=\"\" class=\"ng-star-inserted\"> 36.2 </td><td _ngcontent-app-root-c12=\"\" class=\"ng-star-inserted\"> 30 </td></tr><tr _ngcontent-app-root-c12=\"\" class=\"ng-star-inserted\"><!-- --><td _ngcontent-app-root-c12=\"\" class=\"ng-star-inserted\"> 40 </td><td _ngcontent-app-root-c12=\"\" class=\"ng-star-inserted\"> 37.1 </td><td _ngcontent-app-root-c12=\"\" class=\"ng-star-inserted\"> 35 </td></tr><tr _ngcontent-app-root-c12=\"\" class=\"ng-star-inserted\"><!-- --><td _ngcontent-app-root-c12=\"\" class=\"ng-star-inserted\"> 34 </td><td _ngcontent-app-root-c12=\"\" class=\"ng-star-inserted\"> 22.8 </td><td _ngcontent-app-root-c12=\"\" class=\"ng-star-inserted\"> 18 </td></tr><tr _ngcontent-app-root-c12=\"\" class=\"ng-star-inserted\"><!-- --><td _ngcontent-app-root-c12=\"\" class=\"ng-star-inserted\"> 36 </td><td _ngcontent-app-root-c12=\"\" class=\"ng-star-inserted\"> 32.9 </td><td _ngcontent-app-root-c12=\"\" class=\"ng-star-inserted\"> 26 </td></tr><tr _ngcontent-app-root-c12=\"\" class=\"ng-star-inserted\"><!-- --><td _ngcontent-app-root-c12=\"\" class=\"ng-star-inserted\"> 31 </td><td _ngcontent-app-root-c12=\"\" class=\"ng-star-inserted\"> 8.8 </td><td _ngcontent-app-root-c12=\"\" class=\"ng-star-inserted\"> -9 </td></tr><tr _ngcontent-app-root-c12=\"\" class=\"ng-star-inserted\"><!-- --><td _ngcontent-app-root-c12=\"\" class=\"ng-star-inserted\"> 14 </td><td _ngcontent-app-root-c12=\"\" class=\"ng-star-inserted\"> 0.0 </td><td _ngcontent-app-root-c12=\"\" class=\"ng-star-inserted\"> -9 </td></tr><tr _ngcontent-app-root-c12=\"\" class=\"ng-star-inserted\"><!-- --><td _ngcontent-app-root-c12=\"\" class=\"ng-star-inserted\"> 24 </td><td _ngcontent-app-root-c12=\"\" class=\"ng-star-inserted\"> 19.6 </td><td _ngcontent-app-root-c12=\"\" class=\"ng-star-inserted\"> 15 </td></tr><tr _ngcontent-app-root-c12=\"\" class=\"ng-star-inserted\"><!-- --><td _ngcontent-app-root-c12=\"\" class=\"ng-star-inserted\"> 24 </td><td _ngcontent-app-root-c12=\"\" class=\"ng-star-inserted\"> 18.8 </td><td _ngcontent-app-root-c12=\"\" class=\"ng-star-inserted\"> 11 </td></tr><tr _ngcontent-app-root-c12=\"\" class=\"ng-star-inserted\"><!-- --><td _ngcontent-app-root-c12=\"\" class=\"ng-star-inserted\"> 36 </td><td _ngcontent-app-root-c12=\"\" class=\"ng-star-inserted\"> 28.4 </td><td _ngcontent-app-root-c12=\"\" class=\"ng-star-inserted\"> 11 </td></tr><tr _ngcontent-app-root-c12=\"\" class=\"ng-star-inserted\"><!-- --><td _ngcontent-app-root-c12=\"\" class=\"ng-star-inserted\"> 35 </td><td _ngcontent-app-root-c12=\"\" class=\"ng-star-inserted\"> 20.1 </td><td _ngcontent-app-root-c12=\"\" class=\"ng-star-inserted\"> 7 </td></tr><tr _ngcontent-app-root-c12=\"\" class=\"ng-star-inserted\"><!-- --><td _ngcontent-app-root-c12=\"\" class=\"ng-star-inserted\"> 7 </td><td _ngcontent-app-root-c12=\"\" class=\"ng-star-inserted\"> 5.6 </td><td _ngcontent-app-root-c12=\"\" class=\"ng-star-inserted\"> 4 </td></tr><tr _ngcontent-app-root-c12=\"\" class=\"ng-star-inserted\"><!-- --><td _ngcontent-app-root-c12=\"\" class=\"ng-star-inserted\"> 9 </td><td _ngcontent-app-root-c12=\"\" class=\"ng-star-inserted\"> 1.0 </td><td _ngcontent-app-root-c12=\"\" class=\"ng-star-inserted\"> -4 </td></tr><tr _ngcontent-app-root-c12=\"\" class=\"ng-star-inserted\"><!-- --><td _ngcontent-app-root-c12=\"\" class=\"ng-star-inserted\"> 17 </td><td _ngcontent-app-root-c12=\"\" class=\"ng-star-inserted\"> 10.1 </td><td _ngcontent-app-root-c12=\"\" class=\"ng-star-inserted\"> 3 </td></tr><tr _ngcontent-app-root-c12=\"\" class=\"ng-star-inserted\"><!-- --><td _ngcontent-app-root-c12=\"\" class=\"ng-star-inserted\"> 23 </td><td _ngcontent-app-root-c12=\"\" class=\"ng-star-inserted\"> 18.9 </td><td _ngcontent-app-root-c12=\"\" class=\"ng-star-inserted\"> 16 </td></tr><tr _ngcontent-app-root-c12=\"\" class=\"ng-star-inserted\"><!-- --><td _ngcontent-app-root-c12=\"\" class=\"ng-star-inserted\"> 32 </td><td _ngcontent-app-root-c12=\"\" class=\"ng-star-inserted\"> 25.0 </td><td _ngcontent-app-root-c12=\"\" class=\"ng-star-inserted\"> 19 </td></tr><tr _ngcontent-app-root-c12=\"\" class=\"ng-star-inserted\"><!-- --><td _ngcontent-app-root-c12=\"\" class=\"ng-star-inserted\"> 42 </td><td _ngcontent-app-root-c12=\"\" class=\"ng-star-inserted\"> 39.0 </td><td _ngcontent-app-root-c12=\"\" class=\"ng-star-inserted\"> 32 </td></tr><tr _ngcontent-app-root-c12=\"\" class=\"ng-star-inserted\"><!-- --><td _ngcontent-app-root-c12=\"\" class=\"ng-star-inserted\"> 41 </td><td _ngcontent-app-root-c12=\"\" class=\"ng-star-inserted\"> 39.4 </td><td _ngcontent-app-root-c12=\"\" class=\"ng-star-inserted\"> 37 </td></tr><tr _ngcontent-app-root-c12=\"\" class=\"ng-star-inserted\"><!-- --><td _ngcontent-app-root-c12=\"\" class=\"ng-star-inserted\"> 47 </td><td _ngcontent-app-root-c12=\"\" class=\"ng-star-inserted\"> 34.4 </td><td _ngcontent-app-root-c12=\"\" class=\"ng-star-inserted\"> 7 </td></tr><tr _ngcontent-app-root-c12=\"\" class=\"ng-star-inserted\"><!-- --><td _ngcontent-app-root-c12=\"\" class=\"ng-star-inserted\"> 11 </td><td _ngcontent-app-root-c12=\"\" class=\"ng-star-inserted\"> 8.3 </td><td _ngcontent-app-root-c12=\"\" class=\"ng-star-inserted\"> 5 </td></tr><tr _ngcontent-app-root-c12=\"\" class=\"ng-star-inserted\"><!-- --><td _ngcontent-app-root-c12=\"\" class=\"ng-star-inserted\"> 11 </td><td _ngcontent-app-root-c12=\"\" class=\"ng-star-inserted\"> 8.0 </td><td _ngcontent-app-root-c12=\"\" class=\"ng-star-inserted\"> 4 </td></tr><tr _ngcontent-app-root-c12=\"\" class=\"ng-star-inserted\"><!-- --><td _ngcontent-app-root-c12=\"\" class=\"ng-star-inserted\"> 6 </td><td _ngcontent-app-root-c12=\"\" class=\"ng-star-inserted\"> 6.0 </td><td _ngcontent-app-root-c12=\"\" class=\"ng-star-inserted\"> 6 </td></tr></table></td><td _ngcontent-app-root-c12=\"\" class=\"ng-star-inserted\"><table _ngcontent-app-root-c12=\"\"><!-- --><tr _ngcontent-app-root-c12=\"\" class=\"ng-star-inserted\"><!-- --><td _ngcontent-app-root-c12=\"\" class=\"ng-star-inserted\"> Max </td><td _ngcontent-app-root-c12=\"\" class=\"ng-star-inserted\"> Avg </td><td _ngcontent-app-root-c12=\"\" class=\"ng-star-inserted\"> Min </td></tr><tr _ngcontent-app-root-c12=\"\" class=\"ng-star-inserted\"><!-- --><td _ngcontent-app-root-c12=\"\" class=\"ng-star-inserted\"> 86 </td><td _ngcontent-app-root-c12=\"\" class=\"ng-star-inserted\"> 78.0 </td><td _ngcontent-app-root-c12=\"\" class=\"ng-star-inserted\"> 68 </td></tr><tr _ngcontent-app-root-c12=\"\" class=\"ng-star-inserted\"><!-- --><td _ngcontent-app-root-c12=\"\" class=\"ng-star-inserted\"> 76 </td><td _ngcontent-app-root-c12=\"\" class=\"ng-star-inserted\"> 58.8 </td><td _ngcontent-app-root-c12=\"\" class=\"ng-star-inserted\"> 41 </td></tr><tr _ngcontent-app-root-c12=\"\" class=\"ng-star-inserted\"><!-- --><td _ngcontent-app-root-c12=\"\" class=\"ng-star-inserted\"> 64 </td><td _ngcontent-app-root-c12=\"\" class=\"ng-star-inserted\"> 53.9 </td><td _ngcontent-app-root-c12=\"\" class=\"ng-star-inserted\"> 41 </td></tr><tr _ngcontent-app-root-c12=\"\" class=\"ng-star-inserted\"><!-- --><td _ngcontent-app-root-c12=\"\" class=\"ng-star-inserted\"> 76 </td><td _ngcontent-app-root-c12=\"\" class=\"ng-star-inserted\"> 67.8 </td><td _ngcontent-app-root-c12=\"\" class=\"ng-star-inserted\"> 57 </td></tr><tr _ngcontent-app-root-c12=\"\" class=\"ng-star-inserted\"><!-- --><td _ngcontent-app-root-c12=\"\" class=\"ng-star-inserted\"> 76 </td><td _ngcontent-app-root-c12=\"\" class=\"ng-star-inserted\"> 56.5 </td><td _ngcontent-app-root-c12=\"\" class=\"ng-star-inserted\"> 37 </td></tr><tr _ngcontent-app-root-c12=\"\" class=\"ng-star-inserted\"><!-- --><td _ngcontent-app-root-c12=\"\" class=\"ng-star-inserted\"> 87 </td><td _ngcontent-app-root-c12=\"\" class=\"ng-star-inserted\"> 80.6 </td><td _ngcontent-app-root-c12=\"\" class=\"ng-star-inserted\"> 46 </td></tr><tr _ngcontent-app-root-c12=\"\" class=\"ng-star-inserted\"><!-- --><td _ngcontent-app-root-c12=\"\" class=\"ng-star-inserted\"> 90 </td><td _ngcontent-app-root-c12=\"\" class=\"ng-star-inserted\"> 78.5 </td><td _ngcontent-app-root-c12=\"\" class=\"ng-star-inserted\"> 50 </td></tr><tr _ngcontent-app-root-c12=\"\" class=\"ng-star-inserted\"><!-- --><td _ngcontent-app-root-c12=\"\" class=\"ng-star-inserted\"> 51 </td><td _ngcontent-app-root-c12=\"\" class=\"ng-star-inserted\"> 43.8 </td><td _ngcontent-app-root-c12=\"\" class=\"ng-star-inserted\"> 33 </td></tr><tr _ngcontent-app-root-c12=\"\" class=\"ng-star-inserted\"><!-- --><td _ngcontent-app-root-c12=\"\" class=\"ng-star-inserted\"> 70 </td><td _ngcontent-app-root-c12=\"\" class=\"ng-star-inserted\"> 57.6 </td><td _ngcontent-app-root-c12=\"\" class=\"ng-star-inserted\"> 47 </td></tr><tr _ngcontent-app-root-c12=\"\" class=\"ng-star-inserted\"><!-- --><td _ngcontent-app-root-c12=\"\" class=\"ng-star-inserted\"> 76 </td><td _ngcontent-app-root-c12=\"\" class=\"ng-star-inserted\"> 73.5 </td><td _ngcontent-app-root-c12=\"\" class=\"ng-star-inserted\"> 70 </td></tr><tr _ngcontent-app-root-c12=\"\" class=\"ng-star-inserted\"><!-- --><td _ngcontent-app-root-c12=\"\" class=\"ng-star-inserted\"> 89 </td><td _ngcontent-app-root-c12=\"\" class=\"ng-star-inserted\"> 83.5 </td><td _ngcontent-app-root-c12=\"\" class=\"ng-star-inserted\"> 74 </td></tr><tr _ngcontent-app-root-c12=\"\" class=\"ng-star-inserted\"><!-- --><td _ngcontent-app-root-c12=\"\" class=\"ng-star-inserted\"> 73 </td><td _ngcontent-app-root-c12=\"\" class=\"ng-star-inserted\"> 49.4 </td><td _ngcontent-app-root-c12=\"\" class=\"ng-star-inserted\"> 35 </td></tr><tr _ngcontent-app-root-c12=\"\" class=\"ng-star-inserted\"><!-- --><td _ngcontent-app-root-c12=\"\" class=\"ng-star-inserted\"> 89 </td><td _ngcontent-app-root-c12=\"\" class=\"ng-star-inserted\"> 80.8 </td><td _ngcontent-app-root-c12=\"\" class=\"ng-star-inserted\"> 55 </td></tr><tr _ngcontent-app-root-c12=\"\" class=\"ng-star-inserted\"><!-- --><td _ngcontent-app-root-c12=\"\" class=\"ng-star-inserted\"> 73 </td><td _ngcontent-app-root-c12=\"\" class=\"ng-star-inserted\"> 46.7 </td><td _ngcontent-app-root-c12=\"\" class=\"ng-star-inserted\"> 26 </td></tr><tr _ngcontent-app-root-c12=\"\" class=\"ng-star-inserted\"><!-- --><td _ngcontent-app-root-c12=\"\" class=\"ng-star-inserted\"> 56 </td><td _ngcontent-app-root-c12=\"\" class=\"ng-star-inserted\"> 40.0 </td><td _ngcontent-app-root-c12=\"\" class=\"ng-star-inserted\"> 29 </td></tr><tr _ngcontent-app-root-c12=\"\" class=\"ng-star-inserted\"><!-- --><td _ngcontent-app-root-c12=\"\" class=\"ng-star-inserted\"> 61 </td><td _ngcontent-app-root-c12=\"\" class=\"ng-star-inserted\"> 47.7 </td><td _ngcontent-app-root-c12=\"\" class=\"ng-star-inserted\"> 37 </td></tr><tr _ngcontent-app-root-c12=\"\" class=\"ng-star-inserted\"><!-- --><td _ngcontent-app-root-c12=\"\" class=\"ng-star-inserted\"> 67 </td><td _ngcontent-app-root-c12=\"\" class=\"ng-star-inserted\"> 43.0 </td><td _ngcontent-app-root-c12=\"\" class=\"ng-star-inserted\"> 27 </td></tr><tr _ngcontent-app-root-c12=\"\" class=\"ng-star-inserted\"><!-- --><td _ngcontent-app-root-c12=\"\" class=\"ng-star-inserted\"> 82 </td><td _ngcontent-app-root-c12=\"\" class=\"ng-star-inserted\"> 66.8 </td><td _ngcontent-app-root-c12=\"\" class=\"ng-star-inserted\"> 40 </td></tr><tr _ngcontent-app-root-c12=\"\" class=\"ng-star-inserted\"><!-- --><td _ngcontent-app-root-c12=\"\" class=\"ng-star-inserted\"> 83 </td><td _ngcontent-app-root-c12=\"\" class=\"ng-star-inserted\"> 45.7 </td><td _ngcontent-app-root-c12=\"\" class=\"ng-star-inserted\"> 25 </td></tr><tr _ngcontent-app-root-c12=\"\" class=\"ng-star-inserted\"><!-- --><td _ngcontent-app-root-c12=\"\" class=\"ng-star-inserted\"> 44 </td><td _ngcontent-app-root-c12=\"\" class=\"ng-star-inserted\"> 35.3 </td><td _ngcontent-app-root-c12=\"\" class=\"ng-star-inserted\"> 29 </td></tr><tr _ngcontent-app-root-c12=\"\" class=\"ng-star-inserted\"><!-- --><td _ngcontent-app-root-c12=\"\" class=\"ng-star-inserted\"> 45 </td><td _ngcontent-app-root-c12=\"\" class=\"ng-star-inserted\"> 35.3 </td><td _ngcontent-app-root-c12=\"\" class=\"ng-star-inserted\"> 20 </td></tr><tr _ngcontent-app-root-c12=\"\" class=\"ng-star-inserted\"><!-- --><td _ngcontent-app-root-c12=\"\" class=\"ng-star-inserted\"> 38 </td><td _ngcontent-app-root-c12=\"\" class=\"ng-star-inserted\"> 31.3 </td><td _ngcontent-app-root-c12=\"\" class=\"ng-star-inserted\"> 24 </td></tr><tr _ngcontent-app-root-c12=\"\" class=\"ng-star-inserted\"><!-- --><td _ngcontent-app-root-c12=\"\" class=\"ng-star-inserted\"> 48 </td><td _ngcontent-app-root-c12=\"\" class=\"ng-star-inserted\"> 37.1 </td><td _ngcontent-app-root-c12=\"\" class=\"ng-star-inserted\"> 22 </td></tr><tr _ngcontent-app-root-c12=\"\" class=\"ng-star-inserted\"><!-- --><td _ngcontent-app-root-c12=\"\" class=\"ng-star-inserted\"> 59 </td><td _ngcontent-app-root-c12=\"\" class=\"ng-star-inserted\"> 41.8 </td><td _ngcontent-app-root-c12=\"\" class=\"ng-star-inserted\"> 19 </td></tr><tr _ngcontent-app-root-c12=\"\" class=\"ng-star-inserted\"><!-- --><td _ngcontent-app-root-c12=\"\" class=\"ng-star-inserted\"> 86 </td><td _ngcontent-app-root-c12=\"\" class=\"ng-star-inserted\"> 74.9 </td><td _ngcontent-app-root-c12=\"\" class=\"ng-star-inserted\"> 60 </td></tr><tr _ngcontent-app-root-c12=\"\" class=\"ng-star-inserted\"><!-- --><td _ngcontent-app-root-c12=\"\" class=\"ng-star-inserted\"> 86 </td><td _ngcontent-app-root-c12=\"\" class=\"ng-star-inserted\"> 79.4 </td><td _ngcontent-app-root-c12=\"\" class=\"ng-star-inserted\"> 66 </td></tr><tr _ngcontent-app-root-c12=\"\" class=\"ng-star-inserted\"><!-- --><td _ngcontent-app-root-c12=\"\" class=\"ng-star-inserted\"> 89 </td><td _ngcontent-app-root-c12=\"\" class=\"ng-star-inserted\"> 69.6 </td><td _ngcontent-app-root-c12=\"\" class=\"ng-star-inserted\"> 32 </td></tr><tr _ngcontent-app-root-c12=\"\" class=\"ng-star-inserted\"><!-- --><td _ngcontent-app-root-c12=\"\" class=\"ng-star-inserted\"> 42 </td><td _ngcontent-app-root-c12=\"\" class=\"ng-star-inserted\"> 35.0 </td><td _ngcontent-app-root-c12=\"\" class=\"ng-star-inserted\"> 31 </td></tr><tr _ngcontent-app-root-c12=\"\" class=\"ng-star-inserted\"><!-- --><td _ngcontent-app-root-c12=\"\" class=\"ng-star-inserted\"> 53 </td><td _ngcontent-app-root-c12=\"\" class=\"ng-star-inserted\"> 41.8 </td><td _ngcontent-app-root-c12=\"\" class=\"ng-star-inserted\"> 31 </td></tr><tr _ngcontent-app-root-c12=\"\" class=\"ng-star-inserted\"><!-- --><td _ngcontent-app-root-c12=\"\" class=\"ng-star-inserted\"> 51 </td><td _ngcontent-app-root-c12=\"\" class=\"ng-star-inserted\"> 51.0 </td><td _ngcontent-app-root-c12=\"\" class=\"ng-star-inserted\"> 51 </td></tr></table></td><td _ngcontent-app-root-c12=\"\" class=\"ng-star-inserted\"><table _ngcontent-app-root-c12=\"\"><!-- --><tr _ngcontent-app-root-c12=\"\" class=\"ng-star-inserted\"><!-- --><td _ngcontent-app-root-c12=\"\" class=\"ng-star-inserted\"> Max </td><td _ngcontent-app-root-c12=\"\" class=\"ng-star-inserted\"> Avg </td><td _ngcontent-app-root-c12=\"\" class=\"ng-star-inserted\"> Min </td></tr><tr _ngcontent-app-root-c12=\"\" class=\"ng-star-inserted\"><!-- --><td _ngcontent-app-root-c12=\"\" class=\"ng-star-inserted\"> 8 </td><td _ngcontent-app-root-c12=\"\" class=\"ng-star-inserted\"> 4.3 </td><td _ngcontent-app-root-c12=\"\" class=\"ng-star-inserted\"> 0 </td></tr><tr _ngcontent-app-root-c12=\"\" class=\"ng-star-inserted\"><!-- --><td _ngcontent-app-root-c12=\"\" class=\"ng-star-inserted\"> 12 </td><td _ngcontent-app-root-c12=\"\" class=\"ng-star-inserted\"> 7.1 </td><td _ngcontent-app-root-c12=\"\" class=\"ng-star-inserted\"> 0 </td></tr><tr _ngcontent-app-root-c12=\"\" class=\"ng-star-inserted\"><!-- --><td _ngcontent-app-root-c12=\"\" class=\"ng-star-inserted\"> 15 </td><td _ngcontent-app-root-c12=\"\" class=\"ng-star-inserted\"> 9.6 </td><td _ngcontent-app-root-c12=\"\" class=\"ng-star-inserted\"> 5 </td></tr><tr _ngcontent-app-root-c12=\"\" class=\"ng-star-inserted\"><!-- --><td _ngcontent-app-root-c12=\"\" class=\"ng-star-inserted\"> 9 </td><td _ngcontent-app-root-c12=\"\" class=\"ng-star-inserted\"> 3.7 </td><td _ngcontent-app-root-c12=\"\" class=\"ng-star-inserted\"> 0 </td></tr><tr _ngcontent-app-root-c12=\"\" class=\"ng-star-inserted\"><!-- --><td _ngcontent-app-root-c12=\"\" class=\"ng-star-inserted\"> 13 </td><td _ngcontent-app-root-c12=\"\" class=\"ng-star-inserted\"> 6.0 </td><td _ngcontent-app-root-c12=\"\" class=\"ng-star-inserted\"> 0 </td></tr><tr _ngcontent-app-root-c12=\"\" class=\"ng-star-inserted\"><!-- --><td _ngcontent-app-root-c12=\"\" class=\"ng-star-inserted\"> 22 </td><td _ngcontent-app-root-c12=\"\" class=\"ng-star-inserted\"> 12.7 </td><td _ngcontent-app-root-c12=\"\" class=\"ng-star-inserted\"> 0 </td></tr><tr _ngcontent-app-root-c12=\"\" class=\"ng-star-inserted\"><!-- --><td _ngcontent-app-root-c12=\"\" class=\"ng-star-inserted\"> 41 </td><td _ngcontent-app-root-c12=\"\" class=\"ng-star-inserted\"> 14.6 </td><td _ngcontent-app-root-c12=\"\" class=\"ng-star-inserted\"> 3 </td></tr><tr _ngcontent-app-root-c12=\"\" class=\"ng-star-inserted\"><!-- --><td _ngcontent-app-root-c12=\"\" class=\"ng-star-inserted\"> 23 </td><td _ngcontent-app-root-c12=\"\" class=\"ng-star-inserted\"> 17.0 </td><td _ngcontent-app-root-c12=\"\" class=\"ng-star-inserted\"> 9 </td></tr><tr _ngcontent-app-root-c12=\"\" class=\"ng-star-inserted\"><!-- --><td _ngcontent-app-root-c12=\"\" class=\"ng-star-inserted\"> 15 </td><td _ngcontent-app-root-c12=\"\" class=\"ng-star-inserted\"> 7.5 </td><td _ngcontent-app-root-c12=\"\" class=\"ng-star-inserted\"> 0 </td></tr><tr _ngcontent-app-root-c12=\"\" class=\"ng-star-inserted\"><!-- --><td _ngcontent-app-root-c12=\"\" class=\"ng-star-inserted\"> 23 </td><td _ngcontent-app-root-c12=\"\" class=\"ng-star-inserted\"> 14.2 </td><td _ngcontent-app-root-c12=\"\" class=\"ng-star-inserted\"> 6 </td></tr><tr _ngcontent-app-root-c12=\"\" class=\"ng-star-inserted\"><!-- --><td _ngcontent-app-root-c12=\"\" class=\"ng-star-inserted\"> 12 </td><td _ngcontent-app-root-c12=\"\" class=\"ng-star-inserted\"> 6.5 </td><td _ngcontent-app-root-c12=\"\" class=\"ng-star-inserted\"> 0 </td></tr><tr _ngcontent-app-root-c12=\"\" class=\"ng-star-inserted\"><!-- --><td _ngcontent-app-root-c12=\"\" class=\"ng-star-inserted\"> 15 </td><td _ngcontent-app-root-c12=\"\" class=\"ng-star-inserted\"> 11.7 </td><td _ngcontent-app-root-c12=\"\" class=\"ng-star-inserted\"> 8 </td></tr><tr _ngcontent-app-root-c12=\"\" class=\"ng-star-inserted\"><!-- --><td _ngcontent-app-root-c12=\"\" class=\"ng-star-inserted\"> 25 </td><td _ngcontent-app-root-c12=\"\" class=\"ng-star-inserted\"> 6.3 </td><td _ngcontent-app-root-c12=\"\" class=\"ng-star-inserted\"> 0 </td></tr><tr _ngcontent-app-root-c12=\"\" class=\"ng-star-inserted\"><!-- --><td _ngcontent-app-root-c12=\"\" class=\"ng-star-inserted\"> 21 </td><td _ngcontent-app-root-c12=\"\" class=\"ng-star-inserted\"> 14.4 </td><td _ngcontent-app-root-c12=\"\" class=\"ng-star-inserted\"> 6 </td></tr><tr _ngcontent-app-root-c12=\"\" class=\"ng-star-inserted\"><!-- --><td _ngcontent-app-root-c12=\"\" class=\"ng-star-inserted\"> 16 </td><td _ngcontent-app-root-c12=\"\" class=\"ng-star-inserted\"> 10.3 </td><td _ngcontent-app-root-c12=\"\" class=\"ng-star-inserted\"> 5 </td></tr><tr _ngcontent-app-root-c12=\"\" class=\"ng-star-inserted\"><!-- --><td _ngcontent-app-root-c12=\"\" class=\"ng-star-inserted\"> 20 </td><td _ngcontent-app-root-c12=\"\" class=\"ng-star-inserted\"> 11.5 </td><td _ngcontent-app-root-c12=\"\" class=\"ng-star-inserted\"> 3 </td></tr><tr _ngcontent-app-root-c12=\"\" class=\"ng-star-inserted\"><!-- --><td _ngcontent-app-root-c12=\"\" class=\"ng-star-inserted\"> 14 </td><td _ngcontent-app-root-c12=\"\" class=\"ng-star-inserted\"> 9.1 </td><td _ngcontent-app-root-c12=\"\" class=\"ng-star-inserted\"> 0 </td></tr><tr _ngcontent-app-root-c12=\"\" class=\"ng-star-inserted\"><!-- --><td _ngcontent-app-root-c12=\"\" class=\"ng-star-inserted\"> 17 </td><td _ngcontent-app-root-c12=\"\" class=\"ng-star-inserted\"> 11.0 </td><td _ngcontent-app-root-c12=\"\" class=\"ng-star-inserted\"> 5 </td></tr><tr _ngcontent-app-root-c12=\"\" class=\"ng-star-inserted\"><!-- --><td _ngcontent-app-root-c12=\"\" class=\"ng-star-inserted\"> 26 </td><td _ngcontent-app-root-c12=\"\" class=\"ng-star-inserted\"> 14.9 </td><td _ngcontent-app-root-c12=\"\" class=\"ng-star-inserted\"> 6 </td></tr><tr _ngcontent-app-root-c12=\"\" class=\"ng-star-inserted\"><!-- --><td _ngcontent-app-root-c12=\"\" class=\"ng-star-inserted\"> 16 </td><td _ngcontent-app-root-c12=\"\" class=\"ng-star-inserted\"> 11.9 </td><td _ngcontent-app-root-c12=\"\" class=\"ng-star-inserted\"> 5 </td></tr><tr _ngcontent-app-root-c12=\"\" class=\"ng-star-inserted\"><!-- --><td _ngcontent-app-root-c12=\"\" class=\"ng-star-inserted\"> 17 </td><td _ngcontent-app-root-c12=\"\" class=\"ng-star-inserted\"> 10.1 </td><td _ngcontent-app-root-c12=\"\" class=\"ng-star-inserted\"> 5 </td></tr><tr _ngcontent-app-root-c12=\"\" class=\"ng-star-inserted\"><!-- --><td _ngcontent-app-root-c12=\"\" class=\"ng-star-inserted\"> 15 </td><td _ngcontent-app-root-c12=\"\" class=\"ng-star-inserted\"> 12.1 </td><td _ngcontent-app-root-c12=\"\" class=\"ng-star-inserted\"> 8 </td></tr><tr _ngcontent-app-root-c12=\"\" class=\"ng-star-inserted\"><!-- --><td _ngcontent-app-root-c12=\"\" class=\"ng-star-inserted\"> 15 </td><td _ngcontent-app-root-c12=\"\" class=\"ng-star-inserted\"> 8.8 </td><td _ngcontent-app-root-c12=\"\" class=\"ng-star-inserted\"> 6 </td></tr><tr _ngcontent-app-root-c12=\"\" class=\"ng-star-inserted\"><!-- --><td _ngcontent-app-root-c12=\"\" class=\"ng-star-inserted\"> 17 </td><td _ngcontent-app-root-c12=\"\" class=\"ng-star-inserted\"> 9.4 </td><td _ngcontent-app-root-c12=\"\" class=\"ng-star-inserted\"> 0 </td></tr><tr _ngcontent-app-root-c12=\"\" class=\"ng-star-inserted\"><!-- --><td _ngcontent-app-root-c12=\"\" class=\"ng-star-inserted\"> 8 </td><td _ngcontent-app-root-c12=\"\" class=\"ng-star-inserted\"> 5.4 </td><td _ngcontent-app-root-c12=\"\" class=\"ng-star-inserted\"> 0 </td></tr><tr _ngcontent-app-root-c12=\"\" class=\"ng-star-inserted\"><!-- --><td _ngcontent-app-root-c12=\"\" class=\"ng-star-inserted\"> 14 </td><td _ngcontent-app-root-c12=\"\" class=\"ng-star-inserted\"> 9.1 </td><td _ngcontent-app-root-c12=\"\" class=\"ng-star-inserted\"> 3 </td></tr><tr _ngcontent-app-root-c12=\"\" class=\"ng-star-inserted\"><!-- --><td _ngcontent-app-root-c12=\"\" class=\"ng-star-inserted\"> 33 </td><td _ngcontent-app-root-c12=\"\" class=\"ng-star-inserted\"> 20.4 </td><td _ngcontent-app-root-c12=\"\" class=\"ng-star-inserted\"> 9 </td></tr><tr _ngcontent-app-root-c12=\"\" class=\"ng-star-inserted\"><!-- --><td _ngcontent-app-root-c12=\"\" class=\"ng-star-inserted\"> 21 </td><td _ngcontent-app-root-c12=\"\" class=\"ng-star-inserted\"> 15.8 </td><td _ngcontent-app-root-c12=\"\" class=\"ng-star-inserted\"> 8 </td></tr><tr _ngcontent-app-root-c12=\"\" class=\"ng-star-inserted\"><!-- --><td _ngcontent-app-root-c12=\"\" class=\"ng-star-inserted\"> 18 </td><td _ngcontent-app-root-c12=\"\" class=\"ng-star-inserted\"> 12.3 </td><td _ngcontent-app-root-c12=\"\" class=\"ng-star-inserted\"> 7 </td></tr><tr _ngcontent-app-root-c12=\"\" class=\"ng-star-inserted\"><!-- --><td _ngcontent-app-root-c12=\"\" class=\"ng-star-inserted\"> 10 </td><td _ngcontent-app-root-c12=\"\" class=\"ng-star-inserted\"> 10.0 </td><td _ngcontent-app-root-c12=\"\" class=\"ng-star-inserted\"> 10 </td></tr></table></td><td _ngcontent-app-root-c12=\"\" class=\"ng-star-inserted\"><table _ngcontent-app-root-c12=\"\"><!-- --><tr _ngcontent-app-root-c12=\"\" class=\"ng-star-inserted\"><!-- --><td _ngcontent-app-root-c12=\"\" class=\"ng-star-inserted\"> Max </td><td _ngcontent-app-root-c12=\"\" class=\"ng-star-inserted\"> Avg </td><td _ngcontent-app-root-c12=\"\" class=\"ng-star-inserted\"> Min </td></tr><tr _ngcontent-app-root-c12=\"\" class=\"ng-star-inserted\"><!-- --><td _ngcontent-app-root-c12=\"\" class=\"ng-star-inserted\"> 30.2 </td><td _ngcontent-app-root-c12=\"\" class=\"ng-star-inserted\"> 29.9 </td><td _ngcontent-app-root-c12=\"\" class=\"ng-star-inserted\"> 29.6 </td></tr><tr _ngcontent-app-root-c12=\"\" class=\"ng-star-inserted\"><!-- --><td _ngcontent-app-root-c12=\"\" class=\"ng-star-inserted\"> 29.6 </td><td _ngcontent-app-root-c12=\"\" class=\"ng-star-inserted\"> 29.5 </td><td _ngcontent-app-root-c12=\"\" class=\"ng-star-inserted\"> 29.4 </td></tr><tr _ngcontent-app-root-c12=\"\" class=\"ng-star-inserted\"><!-- --><td _ngcontent-app-root-c12=\"\" class=\"ng-star-inserted\"> 29.9 </td><td _ngcontent-app-root-c12=\"\" class=\"ng-star-inserted\"> 29.7 </td><td _ngcontent-app-root-c12=\"\" class=\"ng-star-inserted\"> 29.5 </td></tr><tr _ngcontent-app-root-c12=\"\" class=\"ng-star-inserted\"><!-- --><td _ngcontent-app-root-c12=\"\" class=\"ng-star-inserted\"> 29.9 </td><td _ngcontent-app-root-c12=\"\" class=\"ng-star-inserted\"> 29.8 </td><td _ngcontent-app-root-c12=\"\" class=\"ng-star-inserted\"> 29.7 </td></tr><tr _ngcontent-app-root-c12=\"\" class=\"ng-star-inserted\"><!-- --><td _ngcontent-app-root-c12=\"\" class=\"ng-star-inserted\"> 30.1 </td><td _ngcontent-app-root-c12=\"\" class=\"ng-star-inserted\"> 29.9 </td><td _ngcontent-app-root-c12=\"\" class=\"ng-star-inserted\"> 29.8 </td></tr><tr _ngcontent-app-root-c12=\"\" class=\"ng-star-inserted\"><!-- --><td _ngcontent-app-root-c12=\"\" class=\"ng-star-inserted\"> 30.0 </td><td _ngcontent-app-root-c12=\"\" class=\"ng-star-inserted\"> 29.8 </td><td _ngcontent-app-root-c12=\"\" class=\"ng-star-inserted\"> 29.4 </td></tr><tr _ngcontent-app-root-c12=\"\" class=\"ng-star-inserted\"><!-- --><td _ngcontent-app-root-c12=\"\" class=\"ng-star-inserted\"> 29.5 </td><td _ngcontent-app-root-c12=\"\" class=\"ng-star-inserted\"> 29.1 </td><td _ngcontent-app-root-c12=\"\" class=\"ng-star-inserted\"> 28.6 </td></tr><tr _ngcontent-app-root-c12=\"\" class=\"ng-star-inserted\"><!-- --><td _ngcontent-app-root-c12=\"\" class=\"ng-star-inserted\"> 30.4 </td><td _ngcontent-app-root-c12=\"\" class=\"ng-star-inserted\"> 30.0 </td><td _ngcontent-app-root-c12=\"\" class=\"ng-star-inserted\"> 29.6 </td></tr><tr _ngcontent-app-root-c12=\"\" class=\"ng-star-inserted\"><!-- --><td _ngcontent-app-root-c12=\"\" class=\"ng-star-inserted\"> 30.6 </td><td _ngcontent-app-root-c12=\"\" class=\"ng-star-inserted\"> 30.5 </td><td _ngcontent-app-root-c12=\"\" class=\"ng-star-inserted\"> 30.4 </td></tr><tr _ngcontent-app-root-c12=\"\" class=\"ng-star-inserted\"><!-- --><td _ngcontent-app-root-c12=\"\" class=\"ng-star-inserted\"> 30.4 </td><td _ngcontent-app-root-c12=\"\" class=\"ng-star-inserted\"> 30.1 </td><td _ngcontent-app-root-c12=\"\" class=\"ng-star-inserted\"> 30.0 </td></tr><tr _ngcontent-app-root-c12=\"\" class=\"ng-star-inserted\"><!-- --><td _ngcontent-app-root-c12=\"\" class=\"ng-star-inserted\"> 30.1 </td><td _ngcontent-app-root-c12=\"\" class=\"ng-star-inserted\"> 29.9 </td><td _ngcontent-app-root-c12=\"\" class=\"ng-star-inserted\"> 29.7 </td></tr><tr _ngcontent-app-root-c12=\"\" class=\"ng-star-inserted\"><!-- --><td _ngcontent-app-root-c12=\"\" class=\"ng-star-inserted\"> 30.1 </td><td _ngcontent-app-root-c12=\"\" class=\"ng-star-inserted\"> 30.0 </td><td _ngcontent-app-root-c12=\"\" class=\"ng-star-inserted\"> 29.8 </td></tr><tr _ngcontent-app-root-c12=\"\" class=\"ng-star-inserted\"><!-- --><td _ngcontent-app-root-c12=\"\" class=\"ng-star-inserted\"> 30.0 </td><td _ngcontent-app-root-c12=\"\" class=\"ng-star-inserted\"> 29.7 </td><td _ngcontent-app-root-c12=\"\" class=\"ng-star-inserted\"> 29.6 </td></tr><tr _ngcontent-app-root-c12=\"\" class=\"ng-star-inserted\"><!-- --><td _ngcontent-app-root-c12=\"\" class=\"ng-star-inserted\"> 30.5 </td><td _ngcontent-app-root-c12=\"\" class=\"ng-star-inserted\"> 30.2 </td><td _ngcontent-app-root-c12=\"\" class=\"ng-star-inserted\"> 29.8 </td></tr><tr _ngcontent-app-root-c12=\"\" class=\"ng-star-inserted\"><!-- --><td _ngcontent-app-root-c12=\"\" class=\"ng-star-inserted\"> 30.6 </td><td _ngcontent-app-root-c12=\"\" class=\"ng-star-inserted\"> 30.5 </td><td _ngcontent-app-root-c12=\"\" class=\"ng-star-inserted\"> 30.3 </td></tr><tr _ngcontent-app-root-c12=\"\" class=\"ng-star-inserted\"><!-- --><td _ngcontent-app-root-c12=\"\" class=\"ng-star-inserted\"> 30.3 </td><td _ngcontent-app-root-c12=\"\" class=\"ng-star-inserted\"> 30.1 </td><td _ngcontent-app-root-c12=\"\" class=\"ng-star-inserted\"> 30.0 </td></tr><tr _ngcontent-app-root-c12=\"\" class=\"ng-star-inserted\"><!-- --><td _ngcontent-app-root-c12=\"\" class=\"ng-star-inserted\"> 30.4 </td><td _ngcontent-app-root-c12=\"\" class=\"ng-star-inserted\"> 30.2 </td><td _ngcontent-app-root-c12=\"\" class=\"ng-star-inserted\"> 30.1 </td></tr><tr _ngcontent-app-root-c12=\"\" class=\"ng-star-inserted\"><!-- --><td _ngcontent-app-root-c12=\"\" class=\"ng-star-inserted\"> 30.5 </td><td _ngcontent-app-root-c12=\"\" class=\"ng-star-inserted\"> 30.2 </td><td _ngcontent-app-root-c12=\"\" class=\"ng-star-inserted\"> 29.9 </td></tr><tr _ngcontent-app-root-c12=\"\" class=\"ng-star-inserted\"><!-- --><td _ngcontent-app-root-c12=\"\" class=\"ng-star-inserted\"> 30.3 </td><td _ngcontent-app-root-c12=\"\" class=\"ng-star-inserted\"> 30.1 </td><td _ngcontent-app-root-c12=\"\" class=\"ng-star-inserted\"> 29.9 </td></tr><tr _ngcontent-app-root-c12=\"\" class=\"ng-star-inserted\"><!-- --><td _ngcontent-app-root-c12=\"\" class=\"ng-star-inserted\"> 30.4 </td><td _ngcontent-app-root-c12=\"\" class=\"ng-star-inserted\"> 30.4 </td><td _ngcontent-app-root-c12=\"\" class=\"ng-star-inserted\"> 30.3 </td></tr><tr _ngcontent-app-root-c12=\"\" class=\"ng-star-inserted\"><!-- --><td _ngcontent-app-root-c12=\"\" class=\"ng-star-inserted\"> 30.5 </td><td _ngcontent-app-root-c12=\"\" class=\"ng-star-inserted\"> 30.4 </td><td _ngcontent-app-root-c12=\"\" class=\"ng-star-inserted\"> 30.3 </td></tr><tr _ngcontent-app-root-c12=\"\" class=\"ng-star-inserted\"><!-- --><td _ngcontent-app-root-c12=\"\" class=\"ng-star-inserted\"> 30.2 </td><td _ngcontent-app-root-c12=\"\" class=\"ng-star-inserted\"> 30.1 </td><td _ngcontent-app-root-c12=\"\" class=\"ng-star-inserted\"> 30.1 </td></tr><tr _ngcontent-app-root-c12=\"\" class=\"ng-star-inserted\"><!-- --><td _ngcontent-app-root-c12=\"\" class=\"ng-star-inserted\"> 30.1 </td><td _ngcontent-app-root-c12=\"\" class=\"ng-star-inserted\"> 30.1 </td><td _ngcontent-app-root-c12=\"\" class=\"ng-star-inserted\"> 30.0 </td></tr><tr _ngcontent-app-root-c12=\"\" class=\"ng-star-inserted\"><!-- --><td _ngcontent-app-root-c12=\"\" class=\"ng-star-inserted\"> 30.1 </td><td _ngcontent-app-root-c12=\"\" class=\"ng-star-inserted\"> 30.0 </td><td _ngcontent-app-root-c12=\"\" class=\"ng-star-inserted\"> 29.9 </td></tr><tr _ngcontent-app-root-c12=\"\" class=\"ng-star-inserted\"><!-- --><td _ngcontent-app-root-c12=\"\" class=\"ng-star-inserted\"> 29.9 </td><td _ngcontent-app-root-c12=\"\" class=\"ng-star-inserted\"> 29.9 </td><td _ngcontent-app-root-c12=\"\" class=\"ng-star-inserted\"> 29.9 </td></tr><tr _ngcontent-app-root-c12=\"\" class=\"ng-star-inserted\"><!-- --><td _ngcontent-app-root-c12=\"\" class=\"ng-star-inserted\"> 30.0 </td><td _ngcontent-app-root-c12=\"\" class=\"ng-star-inserted\"> 29.9 </td><td _ngcontent-app-root-c12=\"\" class=\"ng-star-inserted\"> 29.9 </td></tr><tr _ngcontent-app-root-c12=\"\" class=\"ng-star-inserted\"><!-- --><td _ngcontent-app-root-c12=\"\" class=\"ng-star-inserted\"> 29.9 </td><td _ngcontent-app-root-c12=\"\" class=\"ng-star-inserted\"> 29.4 </td><td _ngcontent-app-root-c12=\"\" class=\"ng-star-inserted\"> 29.1 </td></tr><tr _ngcontent-app-root-c12=\"\" class=\"ng-star-inserted\"><!-- --><td _ngcontent-app-root-c12=\"\" class=\"ng-star-inserted\"> 29.8 </td><td _ngcontent-app-root-c12=\"\" class=\"ng-star-inserted\"> 29.7 </td><td _ngcontent-app-root-c12=\"\" class=\"ng-star-inserted\"> 29.6 </td></tr><tr _ngcontent-app-root-c12=\"\" class=\"ng-star-inserted\"><!-- --><td _ngcontent-app-root-c12=\"\" class=\"ng-star-inserted\"> 29.9 </td><td _ngcontent-app-root-c12=\"\" class=\"ng-star-inserted\"> 29.8 </td><td _ngcontent-app-root-c12=\"\" class=\"ng-star-inserted\"> 29.7 </td></tr><tr _ngcontent-app-root-c12=\"\" class=\"ng-star-inserted\"><!-- --><td _ngcontent-app-root-c12=\"\" class=\"ng-star-inserted\"> 29.9 </td><td _ngcontent-app-root-c12=\"\" class=\"ng-star-inserted\"> 29.9 </td><td _ngcontent-app-root-c12=\"\" class=\"ng-star-inserted\"> 29.9 </td></tr></table></td><td _ngcontent-app-root-c12=\"\" class=\"ng-star-inserted\"><table _ngcontent-app-root-c12=\"\"><!-- --><tr _ngcontent-app-root-c12=\"\" class=\"ng-star-inserted\"><!-- --><td _ngcontent-app-root-c12=\"\" class=\"ng-star-inserted\"> Total </td></tr><tr _ngcontent-app-root-c12=\"\" class=\"ng-star-inserted\"><!-- --><td _ngcontent-app-root-c12=\"\" class=\"ng-star-inserted\"> 0.02 </td></tr><tr _ngcontent-app-root-c12=\"\" class=\"ng-star-inserted\"><!-- --><td _ngcontent-app-root-c12=\"\" class=\"ng-star-inserted\"> 0.00 </td></tr><tr _ngcontent-app-root-c12=\"\" class=\"ng-star-inserted\"><!-- --><td _ngcontent-app-root-c12=\"\" class=\"ng-star-inserted\"> 0.00 </td></tr><tr _ngcontent-app-root-c12=\"\" class=\"ng-star-inserted\"><!-- --><td _ngcontent-app-root-c12=\"\" class=\"ng-star-inserted\"> 0.00 </td></tr><tr _ngcontent-app-root-c12=\"\" class=\"ng-star-inserted\"><!-- --><td _ngcontent-app-root-c12=\"\" class=\"ng-star-inserted\"> 0.05 </td></tr><tr _ngcontent-app-root-c12=\"\" class=\"ng-star-inserted\"><!-- --><td _ngcontent-app-root-c12=\"\" class=\"ng-star-inserted\"> 0.29 </td></tr><tr _ngcontent-app-root-c12=\"\" class=\"ng-star-inserted\"><!-- --><td _ngcontent-app-root-c12=\"\" class=\"ng-star-inserted\"> 0.21 </td></tr><tr _ngcontent-app-root-c12=\"\" class=\"ng-star-inserted\"><!-- --><td _ngcontent-app-root-c12=\"\" class=\"ng-star-inserted\"> 0.26 </td></tr><tr _ngcontent-app-root-c12=\"\" class=\"ng-star-inserted\"><!-- --><td _ngcontent-app-root-c12=\"\" class=\"ng-star-inserted\"> 0.00 </td></tr><tr _ngcontent-app-root-c12=\"\" class=\"ng-star-inserted\"><!-- --><td _ngcontent-app-root-c12=\"\" class=\"ng-star-inserted\"> 0.03 </td></tr><tr _ngcontent-app-root-c12=\"\" class=\"ng-star-inserted\"><!-- --><td _ngcontent-app-root-c12=\"\" class=\"ng-star-inserted\"> 0.14 </td></tr><tr _ngcontent-app-root-c12=\"\" class=\"ng-star-inserted\"><!-- --><td _ngcontent-app-root-c12=\"\" class=\"ng-star-inserted\"> 0.16 </td></tr><tr _ngcontent-app-root-c12=\"\" class=\"ng-star-inserted\"><!-- --><td _ngcontent-app-root-c12=\"\" class=\"ng-star-inserted\"> 0.42 </td></tr><tr _ngcontent-app-root-c12=\"\" class=\"ng-star-inserted\"><!-- --><td _ngcontent-app-root-c12=\"\" class=\"ng-star-inserted\"> 0.11 </td></tr><tr _ngcontent-app-root-c12=\"\" class=\"ng-star-inserted\"><!-- --><td _ngcontent-app-root-c12=\"\" class=\"ng-star-inserted\"> 0.00 </td></tr><tr _ngcontent-app-root-c12=\"\" class=\"ng-star-inserted\"><!-- --><td _ngcontent-app-root-c12=\"\" class=\"ng-star-inserted\"> 0.00 </td></tr><tr _ngcontent-app-root-c12=\"\" class=\"ng-star-inserted\"><!-- --><td _ngcontent-app-root-c12=\"\" class=\"ng-star-inserted\"> 0.00 </td></tr><tr _ngcontent-app-root-c12=\"\" class=\"ng-star-inserted\"><!-- --><td _ngcontent-app-root-c12=\"\" class=\"ng-star-inserted\"> 0.00 </td></tr><tr _ngcontent-app-root-c12=\"\" class=\"ng-star-inserted\"><!-- --><td _ngcontent-app-root-c12=\"\" class=\"ng-star-inserted\"> 0.45 </td></tr><tr _ngcontent-app-root-c12=\"\" class=\"ng-star-inserted\"><!-- --><td _ngcontent-app-root-c12=\"\" class=\"ng-star-inserted\"> 0.00 </td></tr><tr _ngcontent-app-root-c12=\"\" class=\"ng-star-inserted\"><!-- --><td _ngcontent-app-root-c12=\"\" class=\"ng-star-inserted\"> 0.00 </td></tr><tr _ngcontent-app-root-c12=\"\" class=\"ng-star-inserted\"><!-- --><td _ngcontent-app-root-c12=\"\" class=\"ng-star-inserted\"> 0.00 </td></tr><tr _ngcontent-app-root-c12=\"\" class=\"ng-star-inserted\"><!-- --><td _ngcontent-app-root-c12=\"\" class=\"ng-star-inserted\"> 0.00 </td></tr><tr _ngcontent-app-root-c12=\"\" class=\"ng-star-inserted\"><!-- --><td _ngcontent-app-root-c12=\"\" class=\"ng-star-inserted\"> 0.00 </td></tr><tr _ngcontent-app-root-c12=\"\" class=\"ng-star-inserted\"><!-- --><td _ngcontent-app-root-c12=\"\" class=\"ng-star-inserted\"> 0.00 </td></tr><tr _ngcontent-app-root-c12=\"\" class=\"ng-star-inserted\"><!-- --><td _ngcontent-app-root-c12=\"\" class=\"ng-star-inserted\"> 0.41 </td></tr><tr _ngcontent-app-root-c12=\"\" class=\"ng-star-inserted\"><!-- --><td _ngcontent-app-root-c12=\"\" class=\"ng-star-inserted\"> 0.62 </td></tr><tr _ngcontent-app-root-c12=\"\" class=\"ng-star-inserted\"><!-- --><td _ngcontent-app-root-c12=\"\" class=\"ng-star-inserted\"> 0.13 </td></tr><tr _ngcontent-app-root-c12=\"\" class=\"ng-star-inserted\"><!-- --><td _ngcontent-app-root-c12=\"\" class=\"ng-star-inserted\"> 0.00 </td></tr><tr _ngcontent-app-root-c12=\"\" class=\"ng-star-inserted\"><!-- --><td _ngcontent-app-root-c12=\"\" class=\"ng-star-inserted\"> 0.00 </td></tr></table></td></tr></tbody></table>"
            ]
          },
          "metadata": {
            "tags": []
          },
          "execution_count": 385
        }
      ]
    },
    {
      "cell_type": "code",
      "metadata": {
        "id": "Z_SOZJAkmg72",
        "colab_type": "code",
        "outputId": "7fe581ec-df90-47f3-e3e5-30065f49932b",
        "colab": {
          "base_uri": "https://localhost:8080/",
          "height": 54
        }
      },
      "source": [
        "table_head = table.find('thead')\n",
        "table_head_rows = table_head.find_all('tr')\n",
        "table_head_rows"
      ],
      "execution_count": 0,
      "outputs": [
        {
          "output_type": "execute_result",
          "data": {
            "text/plain": [
              "[<tr _ngcontent-app-root-c12=\"\"><!-- --><td _ngcontent-app-root-c12=\"\" class=\"ng-star-inserted\">Time</td><td _ngcontent-app-root-c12=\"\" class=\"ng-star-inserted\">Temperature (° F)</td><td _ngcontent-app-root-c12=\"\" class=\"ng-star-inserted\">Dew Point (° F)</td><td _ngcontent-app-root-c12=\"\" class=\"ng-star-inserted\">Humidity (%)</td><td _ngcontent-app-root-c12=\"\" class=\"ng-star-inserted\">Wind Speed (mph)</td><td _ngcontent-app-root-c12=\"\" class=\"ng-star-inserted\">Pressure (Hg)</td><td _ngcontent-app-root-c12=\"\" class=\"ng-star-inserted\">Precipitation (in)</td></tr>]"
            ]
          },
          "metadata": {
            "tags": []
          },
          "execution_count": 386
        }
      ]
    },
    {
      "cell_type": "code",
      "metadata": {
        "id": "sS-MQzshnjOT",
        "colab_type": "code",
        "colab": {}
      },
      "source": [
        "def rowgetDataText(tr, coltag='td'):    \n",
        "  tds = tr.find_all('td')\n",
        "  return [td.get_text(strip=True) for td in tds]  "
      ],
      "execution_count": 0,
      "outputs": []
    },
    {
      "cell_type": "code",
      "metadata": {
        "id": "sDI3i9SGnmqb",
        "colab_type": "code",
        "colab": {}
      },
      "source": [
        "headerrow = rowgetDataText(table_head_rows[0])"
      ],
      "execution_count": 0,
      "outputs": []
    },
    {
      "cell_type": "code",
      "metadata": {
        "id": "X5s7KVtypQdS",
        "colab_type": "code",
        "outputId": "910eefa4-b9d5-4f92-ceac-dc2f5ed9dcd6",
        "colab": {
          "base_uri": "https://localhost:8080/",
          "height": 136
        }
      },
      "source": [
        "headerrow"
      ],
      "execution_count": 0,
      "outputs": [
        {
          "output_type": "execute_result",
          "data": {
            "text/plain": [
              "['Time',\n",
              " 'Temperature (° F)',\n",
              " 'Dew Point (° F)',\n",
              " 'Humidity (%)',\n",
              " 'Wind Speed (mph)',\n",
              " 'Pressure (Hg)',\n",
              " 'Precipitation (in)']"
            ]
          },
          "metadata": {
            "tags": []
          },
          "execution_count": 389
        }
      ]
    },
    {
      "cell_type": "code",
      "metadata": {
        "id": "Plt29tlgpfg7",
        "colab_type": "code",
        "outputId": "84f1039a-6c4d-44d4-cd50-91d4b817623e",
        "colab": {
          "base_uri": "https://localhost:8080/",
          "height": 54
        }
      },
      "source": [
        "table_body = table.find('tbody')\n",
        "table_body_row = table_body.find('tr')\n",
        "table_body_row"
      ],
      "execution_count": 0,
      "outputs": [
        {
          "output_type": "execute_result",
          "data": {
            "text/plain": [
              "<tr _ngcontent-app-root-c12=\"\"><!-- --><td _ngcontent-app-root-c12=\"\" class=\"ng-star-inserted\"><table _ngcontent-app-root-c12=\"\"><!-- --><tr _ngcontent-app-root-c12=\"\" class=\"ng-star-inserted\"><!-- --><td _ngcontent-app-root-c12=\"\" class=\"ng-star-inserted\"> Feb </td></tr><tr _ngcontent-app-root-c12=\"\" class=\"ng-star-inserted\"><!-- --><td _ngcontent-app-root-c12=\"\" class=\"ng-star-inserted\"> 1 </td></tr><tr _ngcontent-app-root-c12=\"\" class=\"ng-star-inserted\"><!-- --><td _ngcontent-app-root-c12=\"\" class=\"ng-star-inserted\"> 2 </td></tr><tr _ngcontent-app-root-c12=\"\" class=\"ng-star-inserted\"><!-- --><td _ngcontent-app-root-c12=\"\" class=\"ng-star-inserted\"> 3 </td></tr><tr _ngcontent-app-root-c12=\"\" class=\"ng-star-inserted\"><!-- --><td _ngcontent-app-root-c12=\"\" class=\"ng-star-inserted\"> 4 </td></tr><tr _ngcontent-app-root-c12=\"\" class=\"ng-star-inserted\"><!-- --><td _ngcontent-app-root-c12=\"\" class=\"ng-star-inserted\"> 5 </td></tr><tr _ngcontent-app-root-c12=\"\" class=\"ng-star-inserted\"><!-- --><td _ngcontent-app-root-c12=\"\" class=\"ng-star-inserted\"> 6 </td></tr><tr _ngcontent-app-root-c12=\"\" class=\"ng-star-inserted\"><!-- --><td _ngcontent-app-root-c12=\"\" class=\"ng-star-inserted\"> 7 </td></tr><tr _ngcontent-app-root-c12=\"\" class=\"ng-star-inserted\"><!-- --><td _ngcontent-app-root-c12=\"\" class=\"ng-star-inserted\"> 8 </td></tr><tr _ngcontent-app-root-c12=\"\" class=\"ng-star-inserted\"><!-- --><td _ngcontent-app-root-c12=\"\" class=\"ng-star-inserted\"> 9 </td></tr><tr _ngcontent-app-root-c12=\"\" class=\"ng-star-inserted\"><!-- --><td _ngcontent-app-root-c12=\"\" class=\"ng-star-inserted\"> 10 </td></tr><tr _ngcontent-app-root-c12=\"\" class=\"ng-star-inserted\"><!-- --><td _ngcontent-app-root-c12=\"\" class=\"ng-star-inserted\"> 11 </td></tr><tr _ngcontent-app-root-c12=\"\" class=\"ng-star-inserted\"><!-- --><td _ngcontent-app-root-c12=\"\" class=\"ng-star-inserted\"> 12 </td></tr><tr _ngcontent-app-root-c12=\"\" class=\"ng-star-inserted\"><!-- --><td _ngcontent-app-root-c12=\"\" class=\"ng-star-inserted\"> 13 </td></tr><tr _ngcontent-app-root-c12=\"\" class=\"ng-star-inserted\"><!-- --><td _ngcontent-app-root-c12=\"\" class=\"ng-star-inserted\"> 14 </td></tr><tr _ngcontent-app-root-c12=\"\" class=\"ng-star-inserted\"><!-- --><td _ngcontent-app-root-c12=\"\" class=\"ng-star-inserted\"> 15 </td></tr><tr _ngcontent-app-root-c12=\"\" class=\"ng-star-inserted\"><!-- --><td _ngcontent-app-root-c12=\"\" class=\"ng-star-inserted\"> 16 </td></tr><tr _ngcontent-app-root-c12=\"\" class=\"ng-star-inserted\"><!-- --><td _ngcontent-app-root-c12=\"\" class=\"ng-star-inserted\"> 17 </td></tr><tr _ngcontent-app-root-c12=\"\" class=\"ng-star-inserted\"><!-- --><td _ngcontent-app-root-c12=\"\" class=\"ng-star-inserted\"> 18 </td></tr><tr _ngcontent-app-root-c12=\"\" class=\"ng-star-inserted\"><!-- --><td _ngcontent-app-root-c12=\"\" class=\"ng-star-inserted\"> 19 </td></tr><tr _ngcontent-app-root-c12=\"\" class=\"ng-star-inserted\"><!-- --><td _ngcontent-app-root-c12=\"\" class=\"ng-star-inserted\"> 20 </td></tr><tr _ngcontent-app-root-c12=\"\" class=\"ng-star-inserted\"><!-- --><td _ngcontent-app-root-c12=\"\" class=\"ng-star-inserted\"> 21 </td></tr><tr _ngcontent-app-root-c12=\"\" class=\"ng-star-inserted\"><!-- --><td _ngcontent-app-root-c12=\"\" class=\"ng-star-inserted\"> 22 </td></tr><tr _ngcontent-app-root-c12=\"\" class=\"ng-star-inserted\"><!-- --><td _ngcontent-app-root-c12=\"\" class=\"ng-star-inserted\"> 23 </td></tr><tr _ngcontent-app-root-c12=\"\" class=\"ng-star-inserted\"><!-- --><td _ngcontent-app-root-c12=\"\" class=\"ng-star-inserted\"> 24 </td></tr><tr _ngcontent-app-root-c12=\"\" class=\"ng-star-inserted\"><!-- --><td _ngcontent-app-root-c12=\"\" class=\"ng-star-inserted\"> 25 </td></tr><tr _ngcontent-app-root-c12=\"\" class=\"ng-star-inserted\"><!-- --><td _ngcontent-app-root-c12=\"\" class=\"ng-star-inserted\"> 26 </td></tr><tr _ngcontent-app-root-c12=\"\" class=\"ng-star-inserted\"><!-- --><td _ngcontent-app-root-c12=\"\" class=\"ng-star-inserted\"> 27 </td></tr><tr _ngcontent-app-root-c12=\"\" class=\"ng-star-inserted\"><!-- --><td _ngcontent-app-root-c12=\"\" class=\"ng-star-inserted\"> 28 </td></tr><tr _ngcontent-app-root-c12=\"\" class=\"ng-star-inserted\"><!-- --><td _ngcontent-app-root-c12=\"\" class=\"ng-star-inserted\"> 29 </td></tr><tr _ngcontent-app-root-c12=\"\" class=\"ng-star-inserted\"><!-- --><td _ngcontent-app-root-c12=\"\" class=\"ng-star-inserted\"> 1 </td></tr></table></td><td _ngcontent-app-root-c12=\"\" class=\"ng-star-inserted\"><table _ngcontent-app-root-c12=\"\"><!-- --><tr _ngcontent-app-root-c12=\"\" class=\"ng-star-inserted\"><!-- --><td _ngcontent-app-root-c12=\"\" class=\"ng-star-inserted\"> Max </td><td _ngcontent-app-root-c12=\"\" class=\"ng-star-inserted\"> Avg </td><td _ngcontent-app-root-c12=\"\" class=\"ng-star-inserted\"> Min </td></tr><tr _ngcontent-app-root-c12=\"\" class=\"ng-star-inserted\"><!-- --><td _ngcontent-app-root-c12=\"\" class=\"ng-star-inserted\"> 40 </td><td _ngcontent-app-root-c12=\"\" class=\"ng-star-inserted\"> 38.1 </td><td _ngcontent-app-root-c12=\"\" class=\"ng-star-inserted\"> 35 </td></tr><tr _ngcontent-app-root-c12=\"\" class=\"ng-star-inserted\"><!-- --><td _ngcontent-app-root-c12=\"\" class=\"ng-star-inserted\"> 42 </td><td _ngcontent-app-root-c12=\"\" class=\"ng-star-inserted\"> 39.3 </td><td _ngcontent-app-root-c12=\"\" class=\"ng-star-inserted\"> 37 </td></tr><tr _ngcontent-app-root-c12=\"\" class=\"ng-star-inserted\"><!-- --><td _ngcontent-app-root-c12=\"\" class=\"ng-star-inserted\"> 49 </td><td _ngcontent-app-root-c12=\"\" class=\"ng-star-inserted\"> 42.2 </td><td _ngcontent-app-root-c12=\"\" class=\"ng-star-inserted\"> 35 </td></tr><tr _ngcontent-app-root-c12=\"\" class=\"ng-star-inserted\"><!-- --><td _ngcontent-app-root-c12=\"\" class=\"ng-star-inserted\"> 47 </td><td _ngcontent-app-root-c12=\"\" class=\"ng-star-inserted\"> 42.0 </td><td _ngcontent-app-root-c12=\"\" class=\"ng-star-inserted\"> 36 </td></tr><tr _ngcontent-app-root-c12=\"\" class=\"ng-star-inserted\"><!-- --><td _ngcontent-app-root-c12=\"\" class=\"ng-star-inserted\"> 43 </td><td _ngcontent-app-root-c12=\"\" class=\"ng-star-inserted\"> 39.8 </td><td _ngcontent-app-root-c12=\"\" class=\"ng-star-inserted\"> 34 </td></tr><tr _ngcontent-app-root-c12=\"\" class=\"ng-star-inserted\"><!-- --><td _ngcontent-app-root-c12=\"\" class=\"ng-star-inserted\"> 41 </td><td _ngcontent-app-root-c12=\"\" class=\"ng-star-inserted\"> 37.9 </td><td _ngcontent-app-root-c12=\"\" class=\"ng-star-inserted\"> 33 </td></tr><tr _ngcontent-app-root-c12=\"\" class=\"ng-star-inserted\"><!-- --><td _ngcontent-app-root-c12=\"\" class=\"ng-star-inserted\"> 56 </td><td _ngcontent-app-root-c12=\"\" class=\"ng-star-inserted\"> 39.9 </td><td _ngcontent-app-root-c12=\"\" class=\"ng-star-inserted\"> 31 </td></tr><tr _ngcontent-app-root-c12=\"\" class=\"ng-star-inserted\"><!-- --><td _ngcontent-app-root-c12=\"\" class=\"ng-star-inserted\"> 37 </td><td _ngcontent-app-root-c12=\"\" class=\"ng-star-inserted\"> 30.1 </td><td _ngcontent-app-root-c12=\"\" class=\"ng-star-inserted\"> 26 </td></tr><tr _ngcontent-app-root-c12=\"\" class=\"ng-star-inserted\"><!-- --><td _ngcontent-app-root-c12=\"\" class=\"ng-star-inserted\"> 38 </td><td _ngcontent-app-root-c12=\"\" class=\"ng-star-inserted\"> 29.4 </td><td _ngcontent-app-root-c12=\"\" class=\"ng-star-inserted\"> 20 </td></tr><tr _ngcontent-app-root-c12=\"\" class=\"ng-star-inserted\"><!-- --><td _ngcontent-app-root-c12=\"\" class=\"ng-star-inserted\"> 47 </td><td _ngcontent-app-root-c12=\"\" class=\"ng-star-inserted\"> 44.2 </td><td _ngcontent-app-root-c12=\"\" class=\"ng-star-inserted\"> 38 </td></tr><tr _ngcontent-app-root-c12=\"\" class=\"ng-star-inserted\"><!-- --><td _ngcontent-app-root-c12=\"\" class=\"ng-star-inserted\"> 45 </td><td _ngcontent-app-root-c12=\"\" class=\"ng-star-inserted\"> 41.8 </td><td _ngcontent-app-root-c12=\"\" class=\"ng-star-inserted\"> 40 </td></tr><tr _ngcontent-app-root-c12=\"\" class=\"ng-star-inserted\"><!-- --><td _ngcontent-app-root-c12=\"\" class=\"ng-star-inserted\"> 45 </td><td _ngcontent-app-root-c12=\"\" class=\"ng-star-inserted\"> 41.3 </td><td _ngcontent-app-root-c12=\"\" class=\"ng-star-inserted\"> 38 </td></tr><tr _ngcontent-app-root-c12=\"\" class=\"ng-star-inserted\"><!-- --><td _ngcontent-app-root-c12=\"\" class=\"ng-star-inserted\"> 41 </td><td _ngcontent-app-root-c12=\"\" class=\"ng-star-inserted\"> 38.5 </td><td _ngcontent-app-root-c12=\"\" class=\"ng-star-inserted\"> 35 </td></tr><tr _ngcontent-app-root-c12=\"\" class=\"ng-star-inserted\"><!-- --><td _ngcontent-app-root-c12=\"\" class=\"ng-star-inserted\"> 40 </td><td _ngcontent-app-root-c12=\"\" class=\"ng-star-inserted\"> 27.9 </td><td _ngcontent-app-root-c12=\"\" class=\"ng-star-inserted\"> 15 </td></tr><tr _ngcontent-app-root-c12=\"\" class=\"ng-star-inserted\"><!-- --><td _ngcontent-app-root-c12=\"\" class=\"ng-star-inserted\"> 31 </td><td _ngcontent-app-root-c12=\"\" class=\"ng-star-inserted\"> 21.4 </td><td _ngcontent-app-root-c12=\"\" class=\"ng-star-inserted\"> 12 </td></tr><tr _ngcontent-app-root-c12=\"\" class=\"ng-star-inserted\"><!-- --><td _ngcontent-app-root-c12=\"\" class=\"ng-star-inserted\"> 46 </td><td _ngcontent-app-root-c12=\"\" class=\"ng-star-inserted\"> 38.3 </td><td _ngcontent-app-root-c12=\"\" class=\"ng-star-inserted\"> 29 </td></tr><tr _ngcontent-app-root-c12=\"\" class=\"ng-star-inserted\"><!-- --><td _ngcontent-app-root-c12=\"\" class=\"ng-star-inserted\"> 48 </td><td _ngcontent-app-root-c12=\"\" class=\"ng-star-inserted\"> 40.8 </td><td _ngcontent-app-root-c12=\"\" class=\"ng-star-inserted\"> 33 </td></tr><tr _ngcontent-app-root-c12=\"\" class=\"ng-star-inserted\"><!-- --><td _ngcontent-app-root-c12=\"\" class=\"ng-star-inserted\"> 42 </td><td _ngcontent-app-root-c12=\"\" class=\"ng-star-inserted\"> 39.0 </td><td _ngcontent-app-root-c12=\"\" class=\"ng-star-inserted\"> 32 </td></tr><tr _ngcontent-app-root-c12=\"\" class=\"ng-star-inserted\"><!-- --><td _ngcontent-app-root-c12=\"\" class=\"ng-star-inserted\"> 46 </td><td _ngcontent-app-root-c12=\"\" class=\"ng-star-inserted\"> 41.6 </td><td _ngcontent-app-root-c12=\"\" class=\"ng-star-inserted\"> 34 </td></tr><tr _ngcontent-app-root-c12=\"\" class=\"ng-star-inserted\"><!-- --><td _ngcontent-app-root-c12=\"\" class=\"ng-star-inserted\"> 36 </td><td _ngcontent-app-root-c12=\"\" class=\"ng-star-inserted\"> 30.6 </td><td _ngcontent-app-root-c12=\"\" class=\"ng-star-inserted\"> 24 </td></tr><tr _ngcontent-app-root-c12=\"\" class=\"ng-star-inserted\"><!-- --><td _ngcontent-app-root-c12=\"\" class=\"ng-star-inserted\"> 33 </td><td _ngcontent-app-root-c12=\"\" class=\"ng-star-inserted\"> 25.7 </td><td _ngcontent-app-root-c12=\"\" class=\"ng-star-inserted\"> 17 </td></tr><tr _ngcontent-app-root-c12=\"\" class=\"ng-star-inserted\"><!-- --><td _ngcontent-app-root-c12=\"\" class=\"ng-star-inserted\"> 48 </td><td _ngcontent-app-root-c12=\"\" class=\"ng-star-inserted\"> 38.6 </td><td _ngcontent-app-root-c12=\"\" class=\"ng-star-inserted\"> 29 </td></tr><tr _ngcontent-app-root-c12=\"\" class=\"ng-star-inserted\"><!-- --><td _ngcontent-app-root-c12=\"\" class=\"ng-star-inserted\"> 57 </td><td _ngcontent-app-root-c12=\"\" class=\"ng-star-inserted\"> 44.7 </td><td _ngcontent-app-root-c12=\"\" class=\"ng-star-inserted\"> 35 </td></tr><tr _ngcontent-app-root-c12=\"\" class=\"ng-star-inserted\"><!-- --><td _ngcontent-app-root-c12=\"\" class=\"ng-star-inserted\"> 64 </td><td _ngcontent-app-root-c12=\"\" class=\"ng-star-inserted\"> 48.8 </td><td _ngcontent-app-root-c12=\"\" class=\"ng-star-inserted\"> 36 </td></tr><tr _ngcontent-app-root-c12=\"\" class=\"ng-star-inserted\"><!-- --><td _ngcontent-app-root-c12=\"\" class=\"ng-star-inserted\"> 51 </td><td _ngcontent-app-root-c12=\"\" class=\"ng-star-inserted\"> 46.6 </td><td _ngcontent-app-root-c12=\"\" class=\"ng-star-inserted\"> 44 </td></tr><tr _ngcontent-app-root-c12=\"\" class=\"ng-star-inserted\"><!-- --><td _ngcontent-app-root-c12=\"\" class=\"ng-star-inserted\"> 48 </td><td _ngcontent-app-root-c12=\"\" class=\"ng-star-inserted\"> 45.4 </td><td _ngcontent-app-root-c12=\"\" class=\"ng-star-inserted\"> 44 </td></tr><tr _ngcontent-app-root-c12=\"\" class=\"ng-star-inserted\"><!-- --><td _ngcontent-app-root-c12=\"\" class=\"ng-star-inserted\"> 55 </td><td _ngcontent-app-root-c12=\"\" class=\"ng-star-inserted\"> 44.8 </td><td _ngcontent-app-root-c12=\"\" class=\"ng-star-inserted\"> 34 </td></tr><tr _ngcontent-app-root-c12=\"\" class=\"ng-star-inserted\"><!-- --><td _ngcontent-app-root-c12=\"\" class=\"ng-star-inserted\"> 37 </td><td _ngcontent-app-root-c12=\"\" class=\"ng-star-inserted\"> 33.6 </td><td _ngcontent-app-root-c12=\"\" class=\"ng-star-inserted\"> 30 </td></tr><tr _ngcontent-app-root-c12=\"\" class=\"ng-star-inserted\"><!-- --><td _ngcontent-app-root-c12=\"\" class=\"ng-star-inserted\"> 34 </td><td _ngcontent-app-root-c12=\"\" class=\"ng-star-inserted\"> 29.0 </td><td _ngcontent-app-root-c12=\"\" class=\"ng-star-inserted\"> 22 </td></tr><tr _ngcontent-app-root-c12=\"\" class=\"ng-star-inserted\"><!-- --><td _ngcontent-app-root-c12=\"\" class=\"ng-star-inserted\"> 22 </td><td _ngcontent-app-root-c12=\"\" class=\"ng-star-inserted\"> 22.0 </td><td _ngcontent-app-root-c12=\"\" class=\"ng-star-inserted\"> 22 </td></tr></table></td><td _ngcontent-app-root-c12=\"\" class=\"ng-star-inserted\"><table _ngcontent-app-root-c12=\"\"><!-- --><tr _ngcontent-app-root-c12=\"\" class=\"ng-star-inserted\"><!-- --><td _ngcontent-app-root-c12=\"\" class=\"ng-star-inserted\"> Max </td><td _ngcontent-app-root-c12=\"\" class=\"ng-star-inserted\"> Avg </td><td _ngcontent-app-root-c12=\"\" class=\"ng-star-inserted\"> Min </td></tr><tr _ngcontent-app-root-c12=\"\" class=\"ng-star-inserted\"><!-- --><td _ngcontent-app-root-c12=\"\" class=\"ng-star-inserted\"> 34 </td><td _ngcontent-app-root-c12=\"\" class=\"ng-star-inserted\"> 31.7 </td><td _ngcontent-app-root-c12=\"\" class=\"ng-star-inserted\"> 28 </td></tr><tr _ngcontent-app-root-c12=\"\" class=\"ng-star-inserted\"><!-- --><td _ngcontent-app-root-c12=\"\" class=\"ng-star-inserted\"> 31 </td><td _ngcontent-app-root-c12=\"\" class=\"ng-star-inserted\"> 25.4 </td><td _ngcontent-app-root-c12=\"\" class=\"ng-star-inserted\"> 20 </td></tr><tr _ngcontent-app-root-c12=\"\" class=\"ng-star-inserted\"><!-- --><td _ngcontent-app-root-c12=\"\" class=\"ng-star-inserted\"> 29 </td><td _ngcontent-app-root-c12=\"\" class=\"ng-star-inserted\"> 26.3 </td><td _ngcontent-app-root-c12=\"\" class=\"ng-star-inserted\"> 22 </td></tr><tr _ngcontent-app-root-c12=\"\" class=\"ng-star-inserted\"><!-- --><td _ngcontent-app-root-c12=\"\" class=\"ng-star-inserted\"> 35 </td><td _ngcontent-app-root-c12=\"\" class=\"ng-star-inserted\"> 31.9 </td><td _ngcontent-app-root-c12=\"\" class=\"ng-star-inserted\"> 27 </td></tr><tr _ngcontent-app-root-c12=\"\" class=\"ng-star-inserted\"><!-- --><td _ngcontent-app-root-c12=\"\" class=\"ng-star-inserted\"> 36 </td><td _ngcontent-app-root-c12=\"\" class=\"ng-star-inserted\"> 24.6 </td><td _ngcontent-app-root-c12=\"\" class=\"ng-star-inserted\"> 11 </td></tr><tr _ngcontent-app-root-c12=\"\" class=\"ng-star-inserted\"><!-- --><td _ngcontent-app-root-c12=\"\" class=\"ng-star-inserted\"> 37 </td><td _ngcontent-app-root-c12=\"\" class=\"ng-star-inserted\"> 32.1 </td><td _ngcontent-app-root-c12=\"\" class=\"ng-star-inserted\"> 14 </td></tr><tr _ngcontent-app-root-c12=\"\" class=\"ng-star-inserted\"><!-- --><td _ngcontent-app-root-c12=\"\" class=\"ng-star-inserted\"> 47 </td><td _ngcontent-app-root-c12=\"\" class=\"ng-star-inserted\"> 33.4 </td><td _ngcontent-app-root-c12=\"\" class=\"ng-star-inserted\"> 14 </td></tr><tr _ngcontent-app-root-c12=\"\" class=\"ng-star-inserted\"><!-- --><td _ngcontent-app-root-c12=\"\" class=\"ng-star-inserted\"> 14 </td><td _ngcontent-app-root-c12=\"\" class=\"ng-star-inserted\"> 10.2 </td><td _ngcontent-app-root-c12=\"\" class=\"ng-star-inserted\"> 7 </td></tr><tr _ngcontent-app-root-c12=\"\" class=\"ng-star-inserted\"><!-- --><td _ngcontent-app-root-c12=\"\" class=\"ng-star-inserted\"> 29 </td><td _ngcontent-app-root-c12=\"\" class=\"ng-star-inserted\"> 16.0 </td><td _ngcontent-app-root-c12=\"\" class=\"ng-star-inserted\"> 7 </td></tr><tr _ngcontent-app-root-c12=\"\" class=\"ng-star-inserted\"><!-- --><td _ngcontent-app-root-c12=\"\" class=\"ng-star-inserted\"> 39 </td><td _ngcontent-app-root-c12=\"\" class=\"ng-star-inserted\"> 36.2 </td><td _ngcontent-app-root-c12=\"\" class=\"ng-star-inserted\"> 30 </td></tr><tr _ngcontent-app-root-c12=\"\" class=\"ng-star-inserted\"><!-- --><td _ngcontent-app-root-c12=\"\" class=\"ng-star-inserted\"> 40 </td><td _ngcontent-app-root-c12=\"\" class=\"ng-star-inserted\"> 37.1 </td><td _ngcontent-app-root-c12=\"\" class=\"ng-star-inserted\"> 35 </td></tr><tr _ngcontent-app-root-c12=\"\" class=\"ng-star-inserted\"><!-- --><td _ngcontent-app-root-c12=\"\" class=\"ng-star-inserted\"> 34 </td><td _ngcontent-app-root-c12=\"\" class=\"ng-star-inserted\"> 22.8 </td><td _ngcontent-app-root-c12=\"\" class=\"ng-star-inserted\"> 18 </td></tr><tr _ngcontent-app-root-c12=\"\" class=\"ng-star-inserted\"><!-- --><td _ngcontent-app-root-c12=\"\" class=\"ng-star-inserted\"> 36 </td><td _ngcontent-app-root-c12=\"\" class=\"ng-star-inserted\"> 32.9 </td><td _ngcontent-app-root-c12=\"\" class=\"ng-star-inserted\"> 26 </td></tr><tr _ngcontent-app-root-c12=\"\" class=\"ng-star-inserted\"><!-- --><td _ngcontent-app-root-c12=\"\" class=\"ng-star-inserted\"> 31 </td><td _ngcontent-app-root-c12=\"\" class=\"ng-star-inserted\"> 8.8 </td><td _ngcontent-app-root-c12=\"\" class=\"ng-star-inserted\"> -9 </td></tr><tr _ngcontent-app-root-c12=\"\" class=\"ng-star-inserted\"><!-- --><td _ngcontent-app-root-c12=\"\" class=\"ng-star-inserted\"> 14 </td><td _ngcontent-app-root-c12=\"\" class=\"ng-star-inserted\"> 0.0 </td><td _ngcontent-app-root-c12=\"\" class=\"ng-star-inserted\"> -9 </td></tr><tr _ngcontent-app-root-c12=\"\" class=\"ng-star-inserted\"><!-- --><td _ngcontent-app-root-c12=\"\" class=\"ng-star-inserted\"> 24 </td><td _ngcontent-app-root-c12=\"\" class=\"ng-star-inserted\"> 19.6 </td><td _ngcontent-app-root-c12=\"\" class=\"ng-star-inserted\"> 15 </td></tr><tr _ngcontent-app-root-c12=\"\" class=\"ng-star-inserted\"><!-- --><td _ngcontent-app-root-c12=\"\" class=\"ng-star-inserted\"> 24 </td><td _ngcontent-app-root-c12=\"\" class=\"ng-star-inserted\"> 18.8 </td><td _ngcontent-app-root-c12=\"\" class=\"ng-star-inserted\"> 11 </td></tr><tr _ngcontent-app-root-c12=\"\" class=\"ng-star-inserted\"><!-- --><td _ngcontent-app-root-c12=\"\" class=\"ng-star-inserted\"> 36 </td><td _ngcontent-app-root-c12=\"\" class=\"ng-star-inserted\"> 28.4 </td><td _ngcontent-app-root-c12=\"\" class=\"ng-star-inserted\"> 11 </td></tr><tr _ngcontent-app-root-c12=\"\" class=\"ng-star-inserted\"><!-- --><td _ngcontent-app-root-c12=\"\" class=\"ng-star-inserted\"> 35 </td><td _ngcontent-app-root-c12=\"\" class=\"ng-star-inserted\"> 20.1 </td><td _ngcontent-app-root-c12=\"\" class=\"ng-star-inserted\"> 7 </td></tr><tr _ngcontent-app-root-c12=\"\" class=\"ng-star-inserted\"><!-- --><td _ngcontent-app-root-c12=\"\" class=\"ng-star-inserted\"> 7 </td><td _ngcontent-app-root-c12=\"\" class=\"ng-star-inserted\"> 5.6 </td><td _ngcontent-app-root-c12=\"\" class=\"ng-star-inserted\"> 4 </td></tr><tr _ngcontent-app-root-c12=\"\" class=\"ng-star-inserted\"><!-- --><td _ngcontent-app-root-c12=\"\" class=\"ng-star-inserted\"> 9 </td><td _ngcontent-app-root-c12=\"\" class=\"ng-star-inserted\"> 1.0 </td><td _ngcontent-app-root-c12=\"\" class=\"ng-star-inserted\"> -4 </td></tr><tr _ngcontent-app-root-c12=\"\" class=\"ng-star-inserted\"><!-- --><td _ngcontent-app-root-c12=\"\" class=\"ng-star-inserted\"> 17 </td><td _ngcontent-app-root-c12=\"\" class=\"ng-star-inserted\"> 10.1 </td><td _ngcontent-app-root-c12=\"\" class=\"ng-star-inserted\"> 3 </td></tr><tr _ngcontent-app-root-c12=\"\" class=\"ng-star-inserted\"><!-- --><td _ngcontent-app-root-c12=\"\" class=\"ng-star-inserted\"> 23 </td><td _ngcontent-app-root-c12=\"\" class=\"ng-star-inserted\"> 18.9 </td><td _ngcontent-app-root-c12=\"\" class=\"ng-star-inserted\"> 16 </td></tr><tr _ngcontent-app-root-c12=\"\" class=\"ng-star-inserted\"><!-- --><td _ngcontent-app-root-c12=\"\" class=\"ng-star-inserted\"> 32 </td><td _ngcontent-app-root-c12=\"\" class=\"ng-star-inserted\"> 25.0 </td><td _ngcontent-app-root-c12=\"\" class=\"ng-star-inserted\"> 19 </td></tr><tr _ngcontent-app-root-c12=\"\" class=\"ng-star-inserted\"><!-- --><td _ngcontent-app-root-c12=\"\" class=\"ng-star-inserted\"> 42 </td><td _ngcontent-app-root-c12=\"\" class=\"ng-star-inserted\"> 39.0 </td><td _ngcontent-app-root-c12=\"\" class=\"ng-star-inserted\"> 32 </td></tr><tr _ngcontent-app-root-c12=\"\" class=\"ng-star-inserted\"><!-- --><td _ngcontent-app-root-c12=\"\" class=\"ng-star-inserted\"> 41 </td><td _ngcontent-app-root-c12=\"\" class=\"ng-star-inserted\"> 39.4 </td><td _ngcontent-app-root-c12=\"\" class=\"ng-star-inserted\"> 37 </td></tr><tr _ngcontent-app-root-c12=\"\" class=\"ng-star-inserted\"><!-- --><td _ngcontent-app-root-c12=\"\" class=\"ng-star-inserted\"> 47 </td><td _ngcontent-app-root-c12=\"\" class=\"ng-star-inserted\"> 34.4 </td><td _ngcontent-app-root-c12=\"\" class=\"ng-star-inserted\"> 7 </td></tr><tr _ngcontent-app-root-c12=\"\" class=\"ng-star-inserted\"><!-- --><td _ngcontent-app-root-c12=\"\" class=\"ng-star-inserted\"> 11 </td><td _ngcontent-app-root-c12=\"\" class=\"ng-star-inserted\"> 8.3 </td><td _ngcontent-app-root-c12=\"\" class=\"ng-star-inserted\"> 5 </td></tr><tr _ngcontent-app-root-c12=\"\" class=\"ng-star-inserted\"><!-- --><td _ngcontent-app-root-c12=\"\" class=\"ng-star-inserted\"> 11 </td><td _ngcontent-app-root-c12=\"\" class=\"ng-star-inserted\"> 8.0 </td><td _ngcontent-app-root-c12=\"\" class=\"ng-star-inserted\"> 4 </td></tr><tr _ngcontent-app-root-c12=\"\" class=\"ng-star-inserted\"><!-- --><td _ngcontent-app-root-c12=\"\" class=\"ng-star-inserted\"> 6 </td><td _ngcontent-app-root-c12=\"\" class=\"ng-star-inserted\"> 6.0 </td><td _ngcontent-app-root-c12=\"\" class=\"ng-star-inserted\"> 6 </td></tr></table></td><td _ngcontent-app-root-c12=\"\" class=\"ng-star-inserted\"><table _ngcontent-app-root-c12=\"\"><!-- --><tr _ngcontent-app-root-c12=\"\" class=\"ng-star-inserted\"><!-- --><td _ngcontent-app-root-c12=\"\" class=\"ng-star-inserted\"> Max </td><td _ngcontent-app-root-c12=\"\" class=\"ng-star-inserted\"> Avg </td><td _ngcontent-app-root-c12=\"\" class=\"ng-star-inserted\"> Min </td></tr><tr _ngcontent-app-root-c12=\"\" class=\"ng-star-inserted\"><!-- --><td _ngcontent-app-root-c12=\"\" class=\"ng-star-inserted\"> 86 </td><td _ngcontent-app-root-c12=\"\" class=\"ng-star-inserted\"> 78.0 </td><td _ngcontent-app-root-c12=\"\" class=\"ng-star-inserted\"> 68 </td></tr><tr _ngcontent-app-root-c12=\"\" class=\"ng-star-inserted\"><!-- --><td _ngcontent-app-root-c12=\"\" class=\"ng-star-inserted\"> 76 </td><td _ngcontent-app-root-c12=\"\" class=\"ng-star-inserted\"> 58.8 </td><td _ngcontent-app-root-c12=\"\" class=\"ng-star-inserted\"> 41 </td></tr><tr _ngcontent-app-root-c12=\"\" class=\"ng-star-inserted\"><!-- --><td _ngcontent-app-root-c12=\"\" class=\"ng-star-inserted\"> 64 </td><td _ngcontent-app-root-c12=\"\" class=\"ng-star-inserted\"> 53.9 </td><td _ngcontent-app-root-c12=\"\" class=\"ng-star-inserted\"> 41 </td></tr><tr _ngcontent-app-root-c12=\"\" class=\"ng-star-inserted\"><!-- --><td _ngcontent-app-root-c12=\"\" class=\"ng-star-inserted\"> 76 </td><td _ngcontent-app-root-c12=\"\" class=\"ng-star-inserted\"> 67.8 </td><td _ngcontent-app-root-c12=\"\" class=\"ng-star-inserted\"> 57 </td></tr><tr _ngcontent-app-root-c12=\"\" class=\"ng-star-inserted\"><!-- --><td _ngcontent-app-root-c12=\"\" class=\"ng-star-inserted\"> 76 </td><td _ngcontent-app-root-c12=\"\" class=\"ng-star-inserted\"> 56.5 </td><td _ngcontent-app-root-c12=\"\" class=\"ng-star-inserted\"> 37 </td></tr><tr _ngcontent-app-root-c12=\"\" class=\"ng-star-inserted\"><!-- --><td _ngcontent-app-root-c12=\"\" class=\"ng-star-inserted\"> 87 </td><td _ngcontent-app-root-c12=\"\" class=\"ng-star-inserted\"> 80.6 </td><td _ngcontent-app-root-c12=\"\" class=\"ng-star-inserted\"> 46 </td></tr><tr _ngcontent-app-root-c12=\"\" class=\"ng-star-inserted\"><!-- --><td _ngcontent-app-root-c12=\"\" class=\"ng-star-inserted\"> 90 </td><td _ngcontent-app-root-c12=\"\" class=\"ng-star-inserted\"> 78.5 </td><td _ngcontent-app-root-c12=\"\" class=\"ng-star-inserted\"> 50 </td></tr><tr _ngcontent-app-root-c12=\"\" class=\"ng-star-inserted\"><!-- --><td _ngcontent-app-root-c12=\"\" class=\"ng-star-inserted\"> 51 </td><td _ngcontent-app-root-c12=\"\" class=\"ng-star-inserted\"> 43.8 </td><td _ngcontent-app-root-c12=\"\" class=\"ng-star-inserted\"> 33 </td></tr><tr _ngcontent-app-root-c12=\"\" class=\"ng-star-inserted\"><!-- --><td _ngcontent-app-root-c12=\"\" class=\"ng-star-inserted\"> 70 </td><td _ngcontent-app-root-c12=\"\" class=\"ng-star-inserted\"> 57.6 </td><td _ngcontent-app-root-c12=\"\" class=\"ng-star-inserted\"> 47 </td></tr><tr _ngcontent-app-root-c12=\"\" class=\"ng-star-inserted\"><!-- --><td _ngcontent-app-root-c12=\"\" class=\"ng-star-inserted\"> 76 </td><td _ngcontent-app-root-c12=\"\" class=\"ng-star-inserted\"> 73.5 </td><td _ngcontent-app-root-c12=\"\" class=\"ng-star-inserted\"> 70 </td></tr><tr _ngcontent-app-root-c12=\"\" class=\"ng-star-inserted\"><!-- --><td _ngcontent-app-root-c12=\"\" class=\"ng-star-inserted\"> 89 </td><td _ngcontent-app-root-c12=\"\" class=\"ng-star-inserted\"> 83.5 </td><td _ngcontent-app-root-c12=\"\" class=\"ng-star-inserted\"> 74 </td></tr><tr _ngcontent-app-root-c12=\"\" class=\"ng-star-inserted\"><!-- --><td _ngcontent-app-root-c12=\"\" class=\"ng-star-inserted\"> 73 </td><td _ngcontent-app-root-c12=\"\" class=\"ng-star-inserted\"> 49.4 </td><td _ngcontent-app-root-c12=\"\" class=\"ng-star-inserted\"> 35 </td></tr><tr _ngcontent-app-root-c12=\"\" class=\"ng-star-inserted\"><!-- --><td _ngcontent-app-root-c12=\"\" class=\"ng-star-inserted\"> 89 </td><td _ngcontent-app-root-c12=\"\" class=\"ng-star-inserted\"> 80.8 </td><td _ngcontent-app-root-c12=\"\" class=\"ng-star-inserted\"> 55 </td></tr><tr _ngcontent-app-root-c12=\"\" class=\"ng-star-inserted\"><!-- --><td _ngcontent-app-root-c12=\"\" class=\"ng-star-inserted\"> 73 </td><td _ngcontent-app-root-c12=\"\" class=\"ng-star-inserted\"> 46.7 </td><td _ngcontent-app-root-c12=\"\" class=\"ng-star-inserted\"> 26 </td></tr><tr _ngcontent-app-root-c12=\"\" class=\"ng-star-inserted\"><!-- --><td _ngcontent-app-root-c12=\"\" class=\"ng-star-inserted\"> 56 </td><td _ngcontent-app-root-c12=\"\" class=\"ng-star-inserted\"> 40.0 </td><td _ngcontent-app-root-c12=\"\" class=\"ng-star-inserted\"> 29 </td></tr><tr _ngcontent-app-root-c12=\"\" class=\"ng-star-inserted\"><!-- --><td _ngcontent-app-root-c12=\"\" class=\"ng-star-inserted\"> 61 </td><td _ngcontent-app-root-c12=\"\" class=\"ng-star-inserted\"> 47.7 </td><td _ngcontent-app-root-c12=\"\" class=\"ng-star-inserted\"> 37 </td></tr><tr _ngcontent-app-root-c12=\"\" class=\"ng-star-inserted\"><!-- --><td _ngcontent-app-root-c12=\"\" class=\"ng-star-inserted\"> 67 </td><td _ngcontent-app-root-c12=\"\" class=\"ng-star-inserted\"> 43.0 </td><td _ngcontent-app-root-c12=\"\" class=\"ng-star-inserted\"> 27 </td></tr><tr _ngcontent-app-root-c12=\"\" class=\"ng-star-inserted\"><!-- --><td _ngcontent-app-root-c12=\"\" class=\"ng-star-inserted\"> 82 </td><td _ngcontent-app-root-c12=\"\" class=\"ng-star-inserted\"> 66.8 </td><td _ngcontent-app-root-c12=\"\" class=\"ng-star-inserted\"> 40 </td></tr><tr _ngcontent-app-root-c12=\"\" class=\"ng-star-inserted\"><!-- --><td _ngcontent-app-root-c12=\"\" class=\"ng-star-inserted\"> 83 </td><td _ngcontent-app-root-c12=\"\" class=\"ng-star-inserted\"> 45.7 </td><td _ngcontent-app-root-c12=\"\" class=\"ng-star-inserted\"> 25 </td></tr><tr _ngcontent-app-root-c12=\"\" class=\"ng-star-inserted\"><!-- --><td _ngcontent-app-root-c12=\"\" class=\"ng-star-inserted\"> 44 </td><td _ngcontent-app-root-c12=\"\" class=\"ng-star-inserted\"> 35.3 </td><td _ngcontent-app-root-c12=\"\" class=\"ng-star-inserted\"> 29 </td></tr><tr _ngcontent-app-root-c12=\"\" class=\"ng-star-inserted\"><!-- --><td _ngcontent-app-root-c12=\"\" class=\"ng-star-inserted\"> 45 </td><td _ngcontent-app-root-c12=\"\" class=\"ng-star-inserted\"> 35.3 </td><td _ngcontent-app-root-c12=\"\" class=\"ng-star-inserted\"> 20 </td></tr><tr _ngcontent-app-root-c12=\"\" class=\"ng-star-inserted\"><!-- --><td _ngcontent-app-root-c12=\"\" class=\"ng-star-inserted\"> 38 </td><td _ngcontent-app-root-c12=\"\" class=\"ng-star-inserted\"> 31.3 </td><td _ngcontent-app-root-c12=\"\" class=\"ng-star-inserted\"> 24 </td></tr><tr _ngcontent-app-root-c12=\"\" class=\"ng-star-inserted\"><!-- --><td _ngcontent-app-root-c12=\"\" class=\"ng-star-inserted\"> 48 </td><td _ngcontent-app-root-c12=\"\" class=\"ng-star-inserted\"> 37.1 </td><td _ngcontent-app-root-c12=\"\" class=\"ng-star-inserted\"> 22 </td></tr><tr _ngcontent-app-root-c12=\"\" class=\"ng-star-inserted\"><!-- --><td _ngcontent-app-root-c12=\"\" class=\"ng-star-inserted\"> 59 </td><td _ngcontent-app-root-c12=\"\" class=\"ng-star-inserted\"> 41.8 </td><td _ngcontent-app-root-c12=\"\" class=\"ng-star-inserted\"> 19 </td></tr><tr _ngcontent-app-root-c12=\"\" class=\"ng-star-inserted\"><!-- --><td _ngcontent-app-root-c12=\"\" class=\"ng-star-inserted\"> 86 </td><td _ngcontent-app-root-c12=\"\" class=\"ng-star-inserted\"> 74.9 </td><td _ngcontent-app-root-c12=\"\" class=\"ng-star-inserted\"> 60 </td></tr><tr _ngcontent-app-root-c12=\"\" class=\"ng-star-inserted\"><!-- --><td _ngcontent-app-root-c12=\"\" class=\"ng-star-inserted\"> 86 </td><td _ngcontent-app-root-c12=\"\" class=\"ng-star-inserted\"> 79.4 </td><td _ngcontent-app-root-c12=\"\" class=\"ng-star-inserted\"> 66 </td></tr><tr _ngcontent-app-root-c12=\"\" class=\"ng-star-inserted\"><!-- --><td _ngcontent-app-root-c12=\"\" class=\"ng-star-inserted\"> 89 </td><td _ngcontent-app-root-c12=\"\" class=\"ng-star-inserted\"> 69.6 </td><td _ngcontent-app-root-c12=\"\" class=\"ng-star-inserted\"> 32 </td></tr><tr _ngcontent-app-root-c12=\"\" class=\"ng-star-inserted\"><!-- --><td _ngcontent-app-root-c12=\"\" class=\"ng-star-inserted\"> 42 </td><td _ngcontent-app-root-c12=\"\" class=\"ng-star-inserted\"> 35.0 </td><td _ngcontent-app-root-c12=\"\" class=\"ng-star-inserted\"> 31 </td></tr><tr _ngcontent-app-root-c12=\"\" class=\"ng-star-inserted\"><!-- --><td _ngcontent-app-root-c12=\"\" class=\"ng-star-inserted\"> 53 </td><td _ngcontent-app-root-c12=\"\" class=\"ng-star-inserted\"> 41.8 </td><td _ngcontent-app-root-c12=\"\" class=\"ng-star-inserted\"> 31 </td></tr><tr _ngcontent-app-root-c12=\"\" class=\"ng-star-inserted\"><!-- --><td _ngcontent-app-root-c12=\"\" class=\"ng-star-inserted\"> 51 </td><td _ngcontent-app-root-c12=\"\" class=\"ng-star-inserted\"> 51.0 </td><td _ngcontent-app-root-c12=\"\" class=\"ng-star-inserted\"> 51 </td></tr></table></td><td _ngcontent-app-root-c12=\"\" class=\"ng-star-inserted\"><table _ngcontent-app-root-c12=\"\"><!-- --><tr _ngcontent-app-root-c12=\"\" class=\"ng-star-inserted\"><!-- --><td _ngcontent-app-root-c12=\"\" class=\"ng-star-inserted\"> Max </td><td _ngcontent-app-root-c12=\"\" class=\"ng-star-inserted\"> Avg </td><td _ngcontent-app-root-c12=\"\" class=\"ng-star-inserted\"> Min </td></tr><tr _ngcontent-app-root-c12=\"\" class=\"ng-star-inserted\"><!-- --><td _ngcontent-app-root-c12=\"\" class=\"ng-star-inserted\"> 8 </td><td _ngcontent-app-root-c12=\"\" class=\"ng-star-inserted\"> 4.3 </td><td _ngcontent-app-root-c12=\"\" class=\"ng-star-inserted\"> 0 </td></tr><tr _ngcontent-app-root-c12=\"\" class=\"ng-star-inserted\"><!-- --><td _ngcontent-app-root-c12=\"\" class=\"ng-star-inserted\"> 12 </td><td _ngcontent-app-root-c12=\"\" class=\"ng-star-inserted\"> 7.1 </td><td _ngcontent-app-root-c12=\"\" class=\"ng-star-inserted\"> 0 </td></tr><tr _ngcontent-app-root-c12=\"\" class=\"ng-star-inserted\"><!-- --><td _ngcontent-app-root-c12=\"\" class=\"ng-star-inserted\"> 15 </td><td _ngcontent-app-root-c12=\"\" class=\"ng-star-inserted\"> 9.6 </td><td _ngcontent-app-root-c12=\"\" class=\"ng-star-inserted\"> 5 </td></tr><tr _ngcontent-app-root-c12=\"\" class=\"ng-star-inserted\"><!-- --><td _ngcontent-app-root-c12=\"\" class=\"ng-star-inserted\"> 9 </td><td _ngcontent-app-root-c12=\"\" class=\"ng-star-inserted\"> 3.7 </td><td _ngcontent-app-root-c12=\"\" class=\"ng-star-inserted\"> 0 </td></tr><tr _ngcontent-app-root-c12=\"\" class=\"ng-star-inserted\"><!-- --><td _ngcontent-app-root-c12=\"\" class=\"ng-star-inserted\"> 13 </td><td _ngcontent-app-root-c12=\"\" class=\"ng-star-inserted\"> 6.0 </td><td _ngcontent-app-root-c12=\"\" class=\"ng-star-inserted\"> 0 </td></tr><tr _ngcontent-app-root-c12=\"\" class=\"ng-star-inserted\"><!-- --><td _ngcontent-app-root-c12=\"\" class=\"ng-star-inserted\"> 22 </td><td _ngcontent-app-root-c12=\"\" class=\"ng-star-inserted\"> 12.7 </td><td _ngcontent-app-root-c12=\"\" class=\"ng-star-inserted\"> 0 </td></tr><tr _ngcontent-app-root-c12=\"\" class=\"ng-star-inserted\"><!-- --><td _ngcontent-app-root-c12=\"\" class=\"ng-star-inserted\"> 41 </td><td _ngcontent-app-root-c12=\"\" class=\"ng-star-inserted\"> 14.6 </td><td _ngcontent-app-root-c12=\"\" class=\"ng-star-inserted\"> 3 </td></tr><tr _ngcontent-app-root-c12=\"\" class=\"ng-star-inserted\"><!-- --><td _ngcontent-app-root-c12=\"\" class=\"ng-star-inserted\"> 23 </td><td _ngcontent-app-root-c12=\"\" class=\"ng-star-inserted\"> 17.0 </td><td _ngcontent-app-root-c12=\"\" class=\"ng-star-inserted\"> 9 </td></tr><tr _ngcontent-app-root-c12=\"\" class=\"ng-star-inserted\"><!-- --><td _ngcontent-app-root-c12=\"\" class=\"ng-star-inserted\"> 15 </td><td _ngcontent-app-root-c12=\"\" class=\"ng-star-inserted\"> 7.5 </td><td _ngcontent-app-root-c12=\"\" class=\"ng-star-inserted\"> 0 </td></tr><tr _ngcontent-app-root-c12=\"\" class=\"ng-star-inserted\"><!-- --><td _ngcontent-app-root-c12=\"\" class=\"ng-star-inserted\"> 23 </td><td _ngcontent-app-root-c12=\"\" class=\"ng-star-inserted\"> 14.2 </td><td _ngcontent-app-root-c12=\"\" class=\"ng-star-inserted\"> 6 </td></tr><tr _ngcontent-app-root-c12=\"\" class=\"ng-star-inserted\"><!-- --><td _ngcontent-app-root-c12=\"\" class=\"ng-star-inserted\"> 12 </td><td _ngcontent-app-root-c12=\"\" class=\"ng-star-inserted\"> 6.5 </td><td _ngcontent-app-root-c12=\"\" class=\"ng-star-inserted\"> 0 </td></tr><tr _ngcontent-app-root-c12=\"\" class=\"ng-star-inserted\"><!-- --><td _ngcontent-app-root-c12=\"\" class=\"ng-star-inserted\"> 15 </td><td _ngcontent-app-root-c12=\"\" class=\"ng-star-inserted\"> 11.7 </td><td _ngcontent-app-root-c12=\"\" class=\"ng-star-inserted\"> 8 </td></tr><tr _ngcontent-app-root-c12=\"\" class=\"ng-star-inserted\"><!-- --><td _ngcontent-app-root-c12=\"\" class=\"ng-star-inserted\"> 25 </td><td _ngcontent-app-root-c12=\"\" class=\"ng-star-inserted\"> 6.3 </td><td _ngcontent-app-root-c12=\"\" class=\"ng-star-inserted\"> 0 </td></tr><tr _ngcontent-app-root-c12=\"\" class=\"ng-star-inserted\"><!-- --><td _ngcontent-app-root-c12=\"\" class=\"ng-star-inserted\"> 21 </td><td _ngcontent-app-root-c12=\"\" class=\"ng-star-inserted\"> 14.4 </td><td _ngcontent-app-root-c12=\"\" class=\"ng-star-inserted\"> 6 </td></tr><tr _ngcontent-app-root-c12=\"\" class=\"ng-star-inserted\"><!-- --><td _ngcontent-app-root-c12=\"\" class=\"ng-star-inserted\"> 16 </td><td _ngcontent-app-root-c12=\"\" class=\"ng-star-inserted\"> 10.3 </td><td _ngcontent-app-root-c12=\"\" class=\"ng-star-inserted\"> 5 </td></tr><tr _ngcontent-app-root-c12=\"\" class=\"ng-star-inserted\"><!-- --><td _ngcontent-app-root-c12=\"\" class=\"ng-star-inserted\"> 20 </td><td _ngcontent-app-root-c12=\"\" class=\"ng-star-inserted\"> 11.5 </td><td _ngcontent-app-root-c12=\"\" class=\"ng-star-inserted\"> 3 </td></tr><tr _ngcontent-app-root-c12=\"\" class=\"ng-star-inserted\"><!-- --><td _ngcontent-app-root-c12=\"\" class=\"ng-star-inserted\"> 14 </td><td _ngcontent-app-root-c12=\"\" class=\"ng-star-inserted\"> 9.1 </td><td _ngcontent-app-root-c12=\"\" class=\"ng-star-inserted\"> 0 </td></tr><tr _ngcontent-app-root-c12=\"\" class=\"ng-star-inserted\"><!-- --><td _ngcontent-app-root-c12=\"\" class=\"ng-star-inserted\"> 17 </td><td _ngcontent-app-root-c12=\"\" class=\"ng-star-inserted\"> 11.0 </td><td _ngcontent-app-root-c12=\"\" class=\"ng-star-inserted\"> 5 </td></tr><tr _ngcontent-app-root-c12=\"\" class=\"ng-star-inserted\"><!-- --><td _ngcontent-app-root-c12=\"\" class=\"ng-star-inserted\"> 26 </td><td _ngcontent-app-root-c12=\"\" class=\"ng-star-inserted\"> 14.9 </td><td _ngcontent-app-root-c12=\"\" class=\"ng-star-inserted\"> 6 </td></tr><tr _ngcontent-app-root-c12=\"\" class=\"ng-star-inserted\"><!-- --><td _ngcontent-app-root-c12=\"\" class=\"ng-star-inserted\"> 16 </td><td _ngcontent-app-root-c12=\"\" class=\"ng-star-inserted\"> 11.9 </td><td _ngcontent-app-root-c12=\"\" class=\"ng-star-inserted\"> 5 </td></tr><tr _ngcontent-app-root-c12=\"\" class=\"ng-star-inserted\"><!-- --><td _ngcontent-app-root-c12=\"\" class=\"ng-star-inserted\"> 17 </td><td _ngcontent-app-root-c12=\"\" class=\"ng-star-inserted\"> 10.1 </td><td _ngcontent-app-root-c12=\"\" class=\"ng-star-inserted\"> 5 </td></tr><tr _ngcontent-app-root-c12=\"\" class=\"ng-star-inserted\"><!-- --><td _ngcontent-app-root-c12=\"\" class=\"ng-star-inserted\"> 15 </td><td _ngcontent-app-root-c12=\"\" class=\"ng-star-inserted\"> 12.1 </td><td _ngcontent-app-root-c12=\"\" class=\"ng-star-inserted\"> 8 </td></tr><tr _ngcontent-app-root-c12=\"\" class=\"ng-star-inserted\"><!-- --><td _ngcontent-app-root-c12=\"\" class=\"ng-star-inserted\"> 15 </td><td _ngcontent-app-root-c12=\"\" class=\"ng-star-inserted\"> 8.8 </td><td _ngcontent-app-root-c12=\"\" class=\"ng-star-inserted\"> 6 </td></tr><tr _ngcontent-app-root-c12=\"\" class=\"ng-star-inserted\"><!-- --><td _ngcontent-app-root-c12=\"\" class=\"ng-star-inserted\"> 17 </td><td _ngcontent-app-root-c12=\"\" class=\"ng-star-inserted\"> 9.4 </td><td _ngcontent-app-root-c12=\"\" class=\"ng-star-inserted\"> 0 </td></tr><tr _ngcontent-app-root-c12=\"\" class=\"ng-star-inserted\"><!-- --><td _ngcontent-app-root-c12=\"\" class=\"ng-star-inserted\"> 8 </td><td _ngcontent-app-root-c12=\"\" class=\"ng-star-inserted\"> 5.4 </td><td _ngcontent-app-root-c12=\"\" class=\"ng-star-inserted\"> 0 </td></tr><tr _ngcontent-app-root-c12=\"\" class=\"ng-star-inserted\"><!-- --><td _ngcontent-app-root-c12=\"\" class=\"ng-star-inserted\"> 14 </td><td _ngcontent-app-root-c12=\"\" class=\"ng-star-inserted\"> 9.1 </td><td _ngcontent-app-root-c12=\"\" class=\"ng-star-inserted\"> 3 </td></tr><tr _ngcontent-app-root-c12=\"\" class=\"ng-star-inserted\"><!-- --><td _ngcontent-app-root-c12=\"\" class=\"ng-star-inserted\"> 33 </td><td _ngcontent-app-root-c12=\"\" class=\"ng-star-inserted\"> 20.4 </td><td _ngcontent-app-root-c12=\"\" class=\"ng-star-inserted\"> 9 </td></tr><tr _ngcontent-app-root-c12=\"\" class=\"ng-star-inserted\"><!-- --><td _ngcontent-app-root-c12=\"\" class=\"ng-star-inserted\"> 21 </td><td _ngcontent-app-root-c12=\"\" class=\"ng-star-inserted\"> 15.8 </td><td _ngcontent-app-root-c12=\"\" class=\"ng-star-inserted\"> 8 </td></tr><tr _ngcontent-app-root-c12=\"\" class=\"ng-star-inserted\"><!-- --><td _ngcontent-app-root-c12=\"\" class=\"ng-star-inserted\"> 18 </td><td _ngcontent-app-root-c12=\"\" class=\"ng-star-inserted\"> 12.3 </td><td _ngcontent-app-root-c12=\"\" class=\"ng-star-inserted\"> 7 </td></tr><tr _ngcontent-app-root-c12=\"\" class=\"ng-star-inserted\"><!-- --><td _ngcontent-app-root-c12=\"\" class=\"ng-star-inserted\"> 10 </td><td _ngcontent-app-root-c12=\"\" class=\"ng-star-inserted\"> 10.0 </td><td _ngcontent-app-root-c12=\"\" class=\"ng-star-inserted\"> 10 </td></tr></table></td><td _ngcontent-app-root-c12=\"\" class=\"ng-star-inserted\"><table _ngcontent-app-root-c12=\"\"><!-- --><tr _ngcontent-app-root-c12=\"\" class=\"ng-star-inserted\"><!-- --><td _ngcontent-app-root-c12=\"\" class=\"ng-star-inserted\"> Max </td><td _ngcontent-app-root-c12=\"\" class=\"ng-star-inserted\"> Avg </td><td _ngcontent-app-root-c12=\"\" class=\"ng-star-inserted\"> Min </td></tr><tr _ngcontent-app-root-c12=\"\" class=\"ng-star-inserted\"><!-- --><td _ngcontent-app-root-c12=\"\" class=\"ng-star-inserted\"> 30.2 </td><td _ngcontent-app-root-c12=\"\" class=\"ng-star-inserted\"> 29.9 </td><td _ngcontent-app-root-c12=\"\" class=\"ng-star-inserted\"> 29.6 </td></tr><tr _ngcontent-app-root-c12=\"\" class=\"ng-star-inserted\"><!-- --><td _ngcontent-app-root-c12=\"\" class=\"ng-star-inserted\"> 29.6 </td><td _ngcontent-app-root-c12=\"\" class=\"ng-star-inserted\"> 29.5 </td><td _ngcontent-app-root-c12=\"\" class=\"ng-star-inserted\"> 29.4 </td></tr><tr _ngcontent-app-root-c12=\"\" class=\"ng-star-inserted\"><!-- --><td _ngcontent-app-root-c12=\"\" class=\"ng-star-inserted\"> 29.9 </td><td _ngcontent-app-root-c12=\"\" class=\"ng-star-inserted\"> 29.7 </td><td _ngcontent-app-root-c12=\"\" class=\"ng-star-inserted\"> 29.5 </td></tr><tr _ngcontent-app-root-c12=\"\" class=\"ng-star-inserted\"><!-- --><td _ngcontent-app-root-c12=\"\" class=\"ng-star-inserted\"> 29.9 </td><td _ngcontent-app-root-c12=\"\" class=\"ng-star-inserted\"> 29.8 </td><td _ngcontent-app-root-c12=\"\" class=\"ng-star-inserted\"> 29.7 </td></tr><tr _ngcontent-app-root-c12=\"\" class=\"ng-star-inserted\"><!-- --><td _ngcontent-app-root-c12=\"\" class=\"ng-star-inserted\"> 30.1 </td><td _ngcontent-app-root-c12=\"\" class=\"ng-star-inserted\"> 29.9 </td><td _ngcontent-app-root-c12=\"\" class=\"ng-star-inserted\"> 29.8 </td></tr><tr _ngcontent-app-root-c12=\"\" class=\"ng-star-inserted\"><!-- --><td _ngcontent-app-root-c12=\"\" class=\"ng-star-inserted\"> 30.0 </td><td _ngcontent-app-root-c12=\"\" class=\"ng-star-inserted\"> 29.8 </td><td _ngcontent-app-root-c12=\"\" class=\"ng-star-inserted\"> 29.4 </td></tr><tr _ngcontent-app-root-c12=\"\" class=\"ng-star-inserted\"><!-- --><td _ngcontent-app-root-c12=\"\" class=\"ng-star-inserted\"> 29.5 </td><td _ngcontent-app-root-c12=\"\" class=\"ng-star-inserted\"> 29.1 </td><td _ngcontent-app-root-c12=\"\" class=\"ng-star-inserted\"> 28.6 </td></tr><tr _ngcontent-app-root-c12=\"\" class=\"ng-star-inserted\"><!-- --><td _ngcontent-app-root-c12=\"\" class=\"ng-star-inserted\"> 30.4 </td><td _ngcontent-app-root-c12=\"\" class=\"ng-star-inserted\"> 30.0 </td><td _ngcontent-app-root-c12=\"\" class=\"ng-star-inserted\"> 29.6 </td></tr><tr _ngcontent-app-root-c12=\"\" class=\"ng-star-inserted\"><!-- --><td _ngcontent-app-root-c12=\"\" class=\"ng-star-inserted\"> 30.6 </td><td _ngcontent-app-root-c12=\"\" class=\"ng-star-inserted\"> 30.5 </td><td _ngcontent-app-root-c12=\"\" class=\"ng-star-inserted\"> 30.4 </td></tr><tr _ngcontent-app-root-c12=\"\" class=\"ng-star-inserted\"><!-- --><td _ngcontent-app-root-c12=\"\" class=\"ng-star-inserted\"> 30.4 </td><td _ngcontent-app-root-c12=\"\" class=\"ng-star-inserted\"> 30.1 </td><td _ngcontent-app-root-c12=\"\" class=\"ng-star-inserted\"> 30.0 </td></tr><tr _ngcontent-app-root-c12=\"\" class=\"ng-star-inserted\"><!-- --><td _ngcontent-app-root-c12=\"\" class=\"ng-star-inserted\"> 30.1 </td><td _ngcontent-app-root-c12=\"\" class=\"ng-star-inserted\"> 29.9 </td><td _ngcontent-app-root-c12=\"\" class=\"ng-star-inserted\"> 29.7 </td></tr><tr _ngcontent-app-root-c12=\"\" class=\"ng-star-inserted\"><!-- --><td _ngcontent-app-root-c12=\"\" class=\"ng-star-inserted\"> 30.1 </td><td _ngcontent-app-root-c12=\"\" class=\"ng-star-inserted\"> 30.0 </td><td _ngcontent-app-root-c12=\"\" class=\"ng-star-inserted\"> 29.8 </td></tr><tr _ngcontent-app-root-c12=\"\" class=\"ng-star-inserted\"><!-- --><td _ngcontent-app-root-c12=\"\" class=\"ng-star-inserted\"> 30.0 </td><td _ngcontent-app-root-c12=\"\" class=\"ng-star-inserted\"> 29.7 </td><td _ngcontent-app-root-c12=\"\" class=\"ng-star-inserted\"> 29.6 </td></tr><tr _ngcontent-app-root-c12=\"\" class=\"ng-star-inserted\"><!-- --><td _ngcontent-app-root-c12=\"\" class=\"ng-star-inserted\"> 30.5 </td><td _ngcontent-app-root-c12=\"\" class=\"ng-star-inserted\"> 30.2 </td><td _ngcontent-app-root-c12=\"\" class=\"ng-star-inserted\"> 29.8 </td></tr><tr _ngcontent-app-root-c12=\"\" class=\"ng-star-inserted\"><!-- --><td _ngcontent-app-root-c12=\"\" class=\"ng-star-inserted\"> 30.6 </td><td _ngcontent-app-root-c12=\"\" class=\"ng-star-inserted\"> 30.5 </td><td _ngcontent-app-root-c12=\"\" class=\"ng-star-inserted\"> 30.3 </td></tr><tr _ngcontent-app-root-c12=\"\" class=\"ng-star-inserted\"><!-- --><td _ngcontent-app-root-c12=\"\" class=\"ng-star-inserted\"> 30.3 </td><td _ngcontent-app-root-c12=\"\" class=\"ng-star-inserted\"> 30.1 </td><td _ngcontent-app-root-c12=\"\" class=\"ng-star-inserted\"> 30.0 </td></tr><tr _ngcontent-app-root-c12=\"\" class=\"ng-star-inserted\"><!-- --><td _ngcontent-app-root-c12=\"\" class=\"ng-star-inserted\"> 30.4 </td><td _ngcontent-app-root-c12=\"\" class=\"ng-star-inserted\"> 30.2 </td><td _ngcontent-app-root-c12=\"\" class=\"ng-star-inserted\"> 30.1 </td></tr><tr _ngcontent-app-root-c12=\"\" class=\"ng-star-inserted\"><!-- --><td _ngcontent-app-root-c12=\"\" class=\"ng-star-inserted\"> 30.5 </td><td _ngcontent-app-root-c12=\"\" class=\"ng-star-inserted\"> 30.2 </td><td _ngcontent-app-root-c12=\"\" class=\"ng-star-inserted\"> 29.9 </td></tr><tr _ngcontent-app-root-c12=\"\" class=\"ng-star-inserted\"><!-- --><td _ngcontent-app-root-c12=\"\" class=\"ng-star-inserted\"> 30.3 </td><td _ngcontent-app-root-c12=\"\" class=\"ng-star-inserted\"> 30.1 </td><td _ngcontent-app-root-c12=\"\" class=\"ng-star-inserted\"> 29.9 </td></tr><tr _ngcontent-app-root-c12=\"\" class=\"ng-star-inserted\"><!-- --><td _ngcontent-app-root-c12=\"\" class=\"ng-star-inserted\"> 30.4 </td><td _ngcontent-app-root-c12=\"\" class=\"ng-star-inserted\"> 30.4 </td><td _ngcontent-app-root-c12=\"\" class=\"ng-star-inserted\"> 30.3 </td></tr><tr _ngcontent-app-root-c12=\"\" class=\"ng-star-inserted\"><!-- --><td _ngcontent-app-root-c12=\"\" class=\"ng-star-inserted\"> 30.5 </td><td _ngcontent-app-root-c12=\"\" class=\"ng-star-inserted\"> 30.4 </td><td _ngcontent-app-root-c12=\"\" class=\"ng-star-inserted\"> 30.3 </td></tr><tr _ngcontent-app-root-c12=\"\" class=\"ng-star-inserted\"><!-- --><td _ngcontent-app-root-c12=\"\" class=\"ng-star-inserted\"> 30.2 </td><td _ngcontent-app-root-c12=\"\" class=\"ng-star-inserted\"> 30.1 </td><td _ngcontent-app-root-c12=\"\" class=\"ng-star-inserted\"> 30.1 </td></tr><tr _ngcontent-app-root-c12=\"\" class=\"ng-star-inserted\"><!-- --><td _ngcontent-app-root-c12=\"\" class=\"ng-star-inserted\"> 30.1 </td><td _ngcontent-app-root-c12=\"\" class=\"ng-star-inserted\"> 30.1 </td><td _ngcontent-app-root-c12=\"\" class=\"ng-star-inserted\"> 30.0 </td></tr><tr _ngcontent-app-root-c12=\"\" class=\"ng-star-inserted\"><!-- --><td _ngcontent-app-root-c12=\"\" class=\"ng-star-inserted\"> 30.1 </td><td _ngcontent-app-root-c12=\"\" class=\"ng-star-inserted\"> 30.0 </td><td _ngcontent-app-root-c12=\"\" class=\"ng-star-inserted\"> 29.9 </td></tr><tr _ngcontent-app-root-c12=\"\" class=\"ng-star-inserted\"><!-- --><td _ngcontent-app-root-c12=\"\" class=\"ng-star-inserted\"> 29.9 </td><td _ngcontent-app-root-c12=\"\" class=\"ng-star-inserted\"> 29.9 </td><td _ngcontent-app-root-c12=\"\" class=\"ng-star-inserted\"> 29.9 </td></tr><tr _ngcontent-app-root-c12=\"\" class=\"ng-star-inserted\"><!-- --><td _ngcontent-app-root-c12=\"\" class=\"ng-star-inserted\"> 30.0 </td><td _ngcontent-app-root-c12=\"\" class=\"ng-star-inserted\"> 29.9 </td><td _ngcontent-app-root-c12=\"\" class=\"ng-star-inserted\"> 29.9 </td></tr><tr _ngcontent-app-root-c12=\"\" class=\"ng-star-inserted\"><!-- --><td _ngcontent-app-root-c12=\"\" class=\"ng-star-inserted\"> 29.9 </td><td _ngcontent-app-root-c12=\"\" class=\"ng-star-inserted\"> 29.4 </td><td _ngcontent-app-root-c12=\"\" class=\"ng-star-inserted\"> 29.1 </td></tr><tr _ngcontent-app-root-c12=\"\" class=\"ng-star-inserted\"><!-- --><td _ngcontent-app-root-c12=\"\" class=\"ng-star-inserted\"> 29.8 </td><td _ngcontent-app-root-c12=\"\" class=\"ng-star-inserted\"> 29.7 </td><td _ngcontent-app-root-c12=\"\" class=\"ng-star-inserted\"> 29.6 </td></tr><tr _ngcontent-app-root-c12=\"\" class=\"ng-star-inserted\"><!-- --><td _ngcontent-app-root-c12=\"\" class=\"ng-star-inserted\"> 29.9 </td><td _ngcontent-app-root-c12=\"\" class=\"ng-star-inserted\"> 29.8 </td><td _ngcontent-app-root-c12=\"\" class=\"ng-star-inserted\"> 29.7 </td></tr><tr _ngcontent-app-root-c12=\"\" class=\"ng-star-inserted\"><!-- --><td _ngcontent-app-root-c12=\"\" class=\"ng-star-inserted\"> 29.9 </td><td _ngcontent-app-root-c12=\"\" class=\"ng-star-inserted\"> 29.9 </td><td _ngcontent-app-root-c12=\"\" class=\"ng-star-inserted\"> 29.9 </td></tr></table></td><td _ngcontent-app-root-c12=\"\" class=\"ng-star-inserted\"><table _ngcontent-app-root-c12=\"\"><!-- --><tr _ngcontent-app-root-c12=\"\" class=\"ng-star-inserted\"><!-- --><td _ngcontent-app-root-c12=\"\" class=\"ng-star-inserted\"> Total </td></tr><tr _ngcontent-app-root-c12=\"\" class=\"ng-star-inserted\"><!-- --><td _ngcontent-app-root-c12=\"\" class=\"ng-star-inserted\"> 0.02 </td></tr><tr _ngcontent-app-root-c12=\"\" class=\"ng-star-inserted\"><!-- --><td _ngcontent-app-root-c12=\"\" class=\"ng-star-inserted\"> 0.00 </td></tr><tr _ngcontent-app-root-c12=\"\" class=\"ng-star-inserted\"><!-- --><td _ngcontent-app-root-c12=\"\" class=\"ng-star-inserted\"> 0.00 </td></tr><tr _ngcontent-app-root-c12=\"\" class=\"ng-star-inserted\"><!-- --><td _ngcontent-app-root-c12=\"\" class=\"ng-star-inserted\"> 0.00 </td></tr><tr _ngcontent-app-root-c12=\"\" class=\"ng-star-inserted\"><!-- --><td _ngcontent-app-root-c12=\"\" class=\"ng-star-inserted\"> 0.05 </td></tr><tr _ngcontent-app-root-c12=\"\" class=\"ng-star-inserted\"><!-- --><td _ngcontent-app-root-c12=\"\" class=\"ng-star-inserted\"> 0.29 </td></tr><tr _ngcontent-app-root-c12=\"\" class=\"ng-star-inserted\"><!-- --><td _ngcontent-app-root-c12=\"\" class=\"ng-star-inserted\"> 0.21 </td></tr><tr _ngcontent-app-root-c12=\"\" class=\"ng-star-inserted\"><!-- --><td _ngcontent-app-root-c12=\"\" class=\"ng-star-inserted\"> 0.26 </td></tr><tr _ngcontent-app-root-c12=\"\" class=\"ng-star-inserted\"><!-- --><td _ngcontent-app-root-c12=\"\" class=\"ng-star-inserted\"> 0.00 </td></tr><tr _ngcontent-app-root-c12=\"\" class=\"ng-star-inserted\"><!-- --><td _ngcontent-app-root-c12=\"\" class=\"ng-star-inserted\"> 0.03 </td></tr><tr _ngcontent-app-root-c12=\"\" class=\"ng-star-inserted\"><!-- --><td _ngcontent-app-root-c12=\"\" class=\"ng-star-inserted\"> 0.14 </td></tr><tr _ngcontent-app-root-c12=\"\" class=\"ng-star-inserted\"><!-- --><td _ngcontent-app-root-c12=\"\" class=\"ng-star-inserted\"> 0.16 </td></tr><tr _ngcontent-app-root-c12=\"\" class=\"ng-star-inserted\"><!-- --><td _ngcontent-app-root-c12=\"\" class=\"ng-star-inserted\"> 0.42 </td></tr><tr _ngcontent-app-root-c12=\"\" class=\"ng-star-inserted\"><!-- --><td _ngcontent-app-root-c12=\"\" class=\"ng-star-inserted\"> 0.11 </td></tr><tr _ngcontent-app-root-c12=\"\" class=\"ng-star-inserted\"><!-- --><td _ngcontent-app-root-c12=\"\" class=\"ng-star-inserted\"> 0.00 </td></tr><tr _ngcontent-app-root-c12=\"\" class=\"ng-star-inserted\"><!-- --><td _ngcontent-app-root-c12=\"\" class=\"ng-star-inserted\"> 0.00 </td></tr><tr _ngcontent-app-root-c12=\"\" class=\"ng-star-inserted\"><!-- --><td _ngcontent-app-root-c12=\"\" class=\"ng-star-inserted\"> 0.00 </td></tr><tr _ngcontent-app-root-c12=\"\" class=\"ng-star-inserted\"><!-- --><td _ngcontent-app-root-c12=\"\" class=\"ng-star-inserted\"> 0.00 </td></tr><tr _ngcontent-app-root-c12=\"\" class=\"ng-star-inserted\"><!-- --><td _ngcontent-app-root-c12=\"\" class=\"ng-star-inserted\"> 0.45 </td></tr><tr _ngcontent-app-root-c12=\"\" class=\"ng-star-inserted\"><!-- --><td _ngcontent-app-root-c12=\"\" class=\"ng-star-inserted\"> 0.00 </td></tr><tr _ngcontent-app-root-c12=\"\" class=\"ng-star-inserted\"><!-- --><td _ngcontent-app-root-c12=\"\" class=\"ng-star-inserted\"> 0.00 </td></tr><tr _ngcontent-app-root-c12=\"\" class=\"ng-star-inserted\"><!-- --><td _ngcontent-app-root-c12=\"\" class=\"ng-star-inserted\"> 0.00 </td></tr><tr _ngcontent-app-root-c12=\"\" class=\"ng-star-inserted\"><!-- --><td _ngcontent-app-root-c12=\"\" class=\"ng-star-inserted\"> 0.00 </td></tr><tr _ngcontent-app-root-c12=\"\" class=\"ng-star-inserted\"><!-- --><td _ngcontent-app-root-c12=\"\" class=\"ng-star-inserted\"> 0.00 </td></tr><tr _ngcontent-app-root-c12=\"\" class=\"ng-star-inserted\"><!-- --><td _ngcontent-app-root-c12=\"\" class=\"ng-star-inserted\"> 0.00 </td></tr><tr _ngcontent-app-root-c12=\"\" class=\"ng-star-inserted\"><!-- --><td _ngcontent-app-root-c12=\"\" class=\"ng-star-inserted\"> 0.41 </td></tr><tr _ngcontent-app-root-c12=\"\" class=\"ng-star-inserted\"><!-- --><td _ngcontent-app-root-c12=\"\" class=\"ng-star-inserted\"> 0.62 </td></tr><tr _ngcontent-app-root-c12=\"\" class=\"ng-star-inserted\"><!-- --><td _ngcontent-app-root-c12=\"\" class=\"ng-star-inserted\"> 0.13 </td></tr><tr _ngcontent-app-root-c12=\"\" class=\"ng-star-inserted\"><!-- --><td _ngcontent-app-root-c12=\"\" class=\"ng-star-inserted\"> 0.00 </td></tr><tr _ngcontent-app-root-c12=\"\" class=\"ng-star-inserted\"><!-- --><td _ngcontent-app-root-c12=\"\" class=\"ng-star-inserted\"> 0.00 </td></tr></table></td></tr>"
            ]
          },
          "metadata": {
            "tags": []
          },
          "execution_count": 390
        }
      ]
    },
    {
      "cell_type": "code",
      "metadata": {
        "id": "YEcWqmNtsYG2",
        "colab_type": "code",
        "outputId": "f8078a52-86a8-4663-cffa-2bbfadc952bb",
        "colab": {
          "base_uri": "https://localhost:8080/",
          "height": 156
        }
      },
      "source": [
        "tds = table_body_row.find_all('td', recursive=False)\n",
        "tds"
      ],
      "execution_count": 0,
      "outputs": [
        {
          "output_type": "execute_result",
          "data": {
            "text/plain": [
              "[<td _ngcontent-app-root-c12=\"\" class=\"ng-star-inserted\"><table _ngcontent-app-root-c12=\"\"><!-- --><tr _ngcontent-app-root-c12=\"\" class=\"ng-star-inserted\"><!-- --><td _ngcontent-app-root-c12=\"\" class=\"ng-star-inserted\"> Feb </td></tr><tr _ngcontent-app-root-c12=\"\" class=\"ng-star-inserted\"><!-- --><td _ngcontent-app-root-c12=\"\" class=\"ng-star-inserted\"> 1 </td></tr><tr _ngcontent-app-root-c12=\"\" class=\"ng-star-inserted\"><!-- --><td _ngcontent-app-root-c12=\"\" class=\"ng-star-inserted\"> 2 </td></tr><tr _ngcontent-app-root-c12=\"\" class=\"ng-star-inserted\"><!-- --><td _ngcontent-app-root-c12=\"\" class=\"ng-star-inserted\"> 3 </td></tr><tr _ngcontent-app-root-c12=\"\" class=\"ng-star-inserted\"><!-- --><td _ngcontent-app-root-c12=\"\" class=\"ng-star-inserted\"> 4 </td></tr><tr _ngcontent-app-root-c12=\"\" class=\"ng-star-inserted\"><!-- --><td _ngcontent-app-root-c12=\"\" class=\"ng-star-inserted\"> 5 </td></tr><tr _ngcontent-app-root-c12=\"\" class=\"ng-star-inserted\"><!-- --><td _ngcontent-app-root-c12=\"\" class=\"ng-star-inserted\"> 6 </td></tr><tr _ngcontent-app-root-c12=\"\" class=\"ng-star-inserted\"><!-- --><td _ngcontent-app-root-c12=\"\" class=\"ng-star-inserted\"> 7 </td></tr><tr _ngcontent-app-root-c12=\"\" class=\"ng-star-inserted\"><!-- --><td _ngcontent-app-root-c12=\"\" class=\"ng-star-inserted\"> 8 </td></tr><tr _ngcontent-app-root-c12=\"\" class=\"ng-star-inserted\"><!-- --><td _ngcontent-app-root-c12=\"\" class=\"ng-star-inserted\"> 9 </td></tr><tr _ngcontent-app-root-c12=\"\" class=\"ng-star-inserted\"><!-- --><td _ngcontent-app-root-c12=\"\" class=\"ng-star-inserted\"> 10 </td></tr><tr _ngcontent-app-root-c12=\"\" class=\"ng-star-inserted\"><!-- --><td _ngcontent-app-root-c12=\"\" class=\"ng-star-inserted\"> 11 </td></tr><tr _ngcontent-app-root-c12=\"\" class=\"ng-star-inserted\"><!-- --><td _ngcontent-app-root-c12=\"\" class=\"ng-star-inserted\"> 12 </td></tr><tr _ngcontent-app-root-c12=\"\" class=\"ng-star-inserted\"><!-- --><td _ngcontent-app-root-c12=\"\" class=\"ng-star-inserted\"> 13 </td></tr><tr _ngcontent-app-root-c12=\"\" class=\"ng-star-inserted\"><!-- --><td _ngcontent-app-root-c12=\"\" class=\"ng-star-inserted\"> 14 </td></tr><tr _ngcontent-app-root-c12=\"\" class=\"ng-star-inserted\"><!-- --><td _ngcontent-app-root-c12=\"\" class=\"ng-star-inserted\"> 15 </td></tr><tr _ngcontent-app-root-c12=\"\" class=\"ng-star-inserted\"><!-- --><td _ngcontent-app-root-c12=\"\" class=\"ng-star-inserted\"> 16 </td></tr><tr _ngcontent-app-root-c12=\"\" class=\"ng-star-inserted\"><!-- --><td _ngcontent-app-root-c12=\"\" class=\"ng-star-inserted\"> 17 </td></tr><tr _ngcontent-app-root-c12=\"\" class=\"ng-star-inserted\"><!-- --><td _ngcontent-app-root-c12=\"\" class=\"ng-star-inserted\"> 18 </td></tr><tr _ngcontent-app-root-c12=\"\" class=\"ng-star-inserted\"><!-- --><td _ngcontent-app-root-c12=\"\" class=\"ng-star-inserted\"> 19 </td></tr><tr _ngcontent-app-root-c12=\"\" class=\"ng-star-inserted\"><!-- --><td _ngcontent-app-root-c12=\"\" class=\"ng-star-inserted\"> 20 </td></tr><tr _ngcontent-app-root-c12=\"\" class=\"ng-star-inserted\"><!-- --><td _ngcontent-app-root-c12=\"\" class=\"ng-star-inserted\"> 21 </td></tr><tr _ngcontent-app-root-c12=\"\" class=\"ng-star-inserted\"><!-- --><td _ngcontent-app-root-c12=\"\" class=\"ng-star-inserted\"> 22 </td></tr><tr _ngcontent-app-root-c12=\"\" class=\"ng-star-inserted\"><!-- --><td _ngcontent-app-root-c12=\"\" class=\"ng-star-inserted\"> 23 </td></tr><tr _ngcontent-app-root-c12=\"\" class=\"ng-star-inserted\"><!-- --><td _ngcontent-app-root-c12=\"\" class=\"ng-star-inserted\"> 24 </td></tr><tr _ngcontent-app-root-c12=\"\" class=\"ng-star-inserted\"><!-- --><td _ngcontent-app-root-c12=\"\" class=\"ng-star-inserted\"> 25 </td></tr><tr _ngcontent-app-root-c12=\"\" class=\"ng-star-inserted\"><!-- --><td _ngcontent-app-root-c12=\"\" class=\"ng-star-inserted\"> 26 </td></tr><tr _ngcontent-app-root-c12=\"\" class=\"ng-star-inserted\"><!-- --><td _ngcontent-app-root-c12=\"\" class=\"ng-star-inserted\"> 27 </td></tr><tr _ngcontent-app-root-c12=\"\" class=\"ng-star-inserted\"><!-- --><td _ngcontent-app-root-c12=\"\" class=\"ng-star-inserted\"> 28 </td></tr><tr _ngcontent-app-root-c12=\"\" class=\"ng-star-inserted\"><!-- --><td _ngcontent-app-root-c12=\"\" class=\"ng-star-inserted\"> 29 </td></tr><tr _ngcontent-app-root-c12=\"\" class=\"ng-star-inserted\"><!-- --><td _ngcontent-app-root-c12=\"\" class=\"ng-star-inserted\"> 1 </td></tr></table></td>,\n",
              " <td _ngcontent-app-root-c12=\"\" class=\"ng-star-inserted\"><table _ngcontent-app-root-c12=\"\"><!-- --><tr _ngcontent-app-root-c12=\"\" class=\"ng-star-inserted\"><!-- --><td _ngcontent-app-root-c12=\"\" class=\"ng-star-inserted\"> Max </td><td _ngcontent-app-root-c12=\"\" class=\"ng-star-inserted\"> Avg </td><td _ngcontent-app-root-c12=\"\" class=\"ng-star-inserted\"> Min </td></tr><tr _ngcontent-app-root-c12=\"\" class=\"ng-star-inserted\"><!-- --><td _ngcontent-app-root-c12=\"\" class=\"ng-star-inserted\"> 40 </td><td _ngcontent-app-root-c12=\"\" class=\"ng-star-inserted\"> 38.1 </td><td _ngcontent-app-root-c12=\"\" class=\"ng-star-inserted\"> 35 </td></tr><tr _ngcontent-app-root-c12=\"\" class=\"ng-star-inserted\"><!-- --><td _ngcontent-app-root-c12=\"\" class=\"ng-star-inserted\"> 42 </td><td _ngcontent-app-root-c12=\"\" class=\"ng-star-inserted\"> 39.3 </td><td _ngcontent-app-root-c12=\"\" class=\"ng-star-inserted\"> 37 </td></tr><tr _ngcontent-app-root-c12=\"\" class=\"ng-star-inserted\"><!-- --><td _ngcontent-app-root-c12=\"\" class=\"ng-star-inserted\"> 49 </td><td _ngcontent-app-root-c12=\"\" class=\"ng-star-inserted\"> 42.2 </td><td _ngcontent-app-root-c12=\"\" class=\"ng-star-inserted\"> 35 </td></tr><tr _ngcontent-app-root-c12=\"\" class=\"ng-star-inserted\"><!-- --><td _ngcontent-app-root-c12=\"\" class=\"ng-star-inserted\"> 47 </td><td _ngcontent-app-root-c12=\"\" class=\"ng-star-inserted\"> 42.0 </td><td _ngcontent-app-root-c12=\"\" class=\"ng-star-inserted\"> 36 </td></tr><tr _ngcontent-app-root-c12=\"\" class=\"ng-star-inserted\"><!-- --><td _ngcontent-app-root-c12=\"\" class=\"ng-star-inserted\"> 43 </td><td _ngcontent-app-root-c12=\"\" class=\"ng-star-inserted\"> 39.8 </td><td _ngcontent-app-root-c12=\"\" class=\"ng-star-inserted\"> 34 </td></tr><tr _ngcontent-app-root-c12=\"\" class=\"ng-star-inserted\"><!-- --><td _ngcontent-app-root-c12=\"\" class=\"ng-star-inserted\"> 41 </td><td _ngcontent-app-root-c12=\"\" class=\"ng-star-inserted\"> 37.9 </td><td _ngcontent-app-root-c12=\"\" class=\"ng-star-inserted\"> 33 </td></tr><tr _ngcontent-app-root-c12=\"\" class=\"ng-star-inserted\"><!-- --><td _ngcontent-app-root-c12=\"\" class=\"ng-star-inserted\"> 56 </td><td _ngcontent-app-root-c12=\"\" class=\"ng-star-inserted\"> 39.9 </td><td _ngcontent-app-root-c12=\"\" class=\"ng-star-inserted\"> 31 </td></tr><tr _ngcontent-app-root-c12=\"\" class=\"ng-star-inserted\"><!-- --><td _ngcontent-app-root-c12=\"\" class=\"ng-star-inserted\"> 37 </td><td _ngcontent-app-root-c12=\"\" class=\"ng-star-inserted\"> 30.1 </td><td _ngcontent-app-root-c12=\"\" class=\"ng-star-inserted\"> 26 </td></tr><tr _ngcontent-app-root-c12=\"\" class=\"ng-star-inserted\"><!-- --><td _ngcontent-app-root-c12=\"\" class=\"ng-star-inserted\"> 38 </td><td _ngcontent-app-root-c12=\"\" class=\"ng-star-inserted\"> 29.4 </td><td _ngcontent-app-root-c12=\"\" class=\"ng-star-inserted\"> 20 </td></tr><tr _ngcontent-app-root-c12=\"\" class=\"ng-star-inserted\"><!-- --><td _ngcontent-app-root-c12=\"\" class=\"ng-star-inserted\"> 47 </td><td _ngcontent-app-root-c12=\"\" class=\"ng-star-inserted\"> 44.2 </td><td _ngcontent-app-root-c12=\"\" class=\"ng-star-inserted\"> 38 </td></tr><tr _ngcontent-app-root-c12=\"\" class=\"ng-star-inserted\"><!-- --><td _ngcontent-app-root-c12=\"\" class=\"ng-star-inserted\"> 45 </td><td _ngcontent-app-root-c12=\"\" class=\"ng-star-inserted\"> 41.8 </td><td _ngcontent-app-root-c12=\"\" class=\"ng-star-inserted\"> 40 </td></tr><tr _ngcontent-app-root-c12=\"\" class=\"ng-star-inserted\"><!-- --><td _ngcontent-app-root-c12=\"\" class=\"ng-star-inserted\"> 45 </td><td _ngcontent-app-root-c12=\"\" class=\"ng-star-inserted\"> 41.3 </td><td _ngcontent-app-root-c12=\"\" class=\"ng-star-inserted\"> 38 </td></tr><tr _ngcontent-app-root-c12=\"\" class=\"ng-star-inserted\"><!-- --><td _ngcontent-app-root-c12=\"\" class=\"ng-star-inserted\"> 41 </td><td _ngcontent-app-root-c12=\"\" class=\"ng-star-inserted\"> 38.5 </td><td _ngcontent-app-root-c12=\"\" class=\"ng-star-inserted\"> 35 </td></tr><tr _ngcontent-app-root-c12=\"\" class=\"ng-star-inserted\"><!-- --><td _ngcontent-app-root-c12=\"\" class=\"ng-star-inserted\"> 40 </td><td _ngcontent-app-root-c12=\"\" class=\"ng-star-inserted\"> 27.9 </td><td _ngcontent-app-root-c12=\"\" class=\"ng-star-inserted\"> 15 </td></tr><tr _ngcontent-app-root-c12=\"\" class=\"ng-star-inserted\"><!-- --><td _ngcontent-app-root-c12=\"\" class=\"ng-star-inserted\"> 31 </td><td _ngcontent-app-root-c12=\"\" class=\"ng-star-inserted\"> 21.4 </td><td _ngcontent-app-root-c12=\"\" class=\"ng-star-inserted\"> 12 </td></tr><tr _ngcontent-app-root-c12=\"\" class=\"ng-star-inserted\"><!-- --><td _ngcontent-app-root-c12=\"\" class=\"ng-star-inserted\"> 46 </td><td _ngcontent-app-root-c12=\"\" class=\"ng-star-inserted\"> 38.3 </td><td _ngcontent-app-root-c12=\"\" class=\"ng-star-inserted\"> 29 </td></tr><tr _ngcontent-app-root-c12=\"\" class=\"ng-star-inserted\"><!-- --><td _ngcontent-app-root-c12=\"\" class=\"ng-star-inserted\"> 48 </td><td _ngcontent-app-root-c12=\"\" class=\"ng-star-inserted\"> 40.8 </td><td _ngcontent-app-root-c12=\"\" class=\"ng-star-inserted\"> 33 </td></tr><tr _ngcontent-app-root-c12=\"\" class=\"ng-star-inserted\"><!-- --><td _ngcontent-app-root-c12=\"\" class=\"ng-star-inserted\"> 42 </td><td _ngcontent-app-root-c12=\"\" class=\"ng-star-inserted\"> 39.0 </td><td _ngcontent-app-root-c12=\"\" class=\"ng-star-inserted\"> 32 </td></tr><tr _ngcontent-app-root-c12=\"\" class=\"ng-star-inserted\"><!-- --><td _ngcontent-app-root-c12=\"\" class=\"ng-star-inserted\"> 46 </td><td _ngcontent-app-root-c12=\"\" class=\"ng-star-inserted\"> 41.6 </td><td _ngcontent-app-root-c12=\"\" class=\"ng-star-inserted\"> 34 </td></tr><tr _ngcontent-app-root-c12=\"\" class=\"ng-star-inserted\"><!-- --><td _ngcontent-app-root-c12=\"\" class=\"ng-star-inserted\"> 36 </td><td _ngcontent-app-root-c12=\"\" class=\"ng-star-inserted\"> 30.6 </td><td _ngcontent-app-root-c12=\"\" class=\"ng-star-inserted\"> 24 </td></tr><tr _ngcontent-app-root-c12=\"\" class=\"ng-star-inserted\"><!-- --><td _ngcontent-app-root-c12=\"\" class=\"ng-star-inserted\"> 33 </td><td _ngcontent-app-root-c12=\"\" class=\"ng-star-inserted\"> 25.7 </td><td _ngcontent-app-root-c12=\"\" class=\"ng-star-inserted\"> 17 </td></tr><tr _ngcontent-app-root-c12=\"\" class=\"ng-star-inserted\"><!-- --><td _ngcontent-app-root-c12=\"\" class=\"ng-star-inserted\"> 48 </td><td _ngcontent-app-root-c12=\"\" class=\"ng-star-inserted\"> 38.6 </td><td _ngcontent-app-root-c12=\"\" class=\"ng-star-inserted\"> 29 </td></tr><tr _ngcontent-app-root-c12=\"\" class=\"ng-star-inserted\"><!-- --><td _ngcontent-app-root-c12=\"\" class=\"ng-star-inserted\"> 57 </td><td _ngcontent-app-root-c12=\"\" class=\"ng-star-inserted\"> 44.7 </td><td _ngcontent-app-root-c12=\"\" class=\"ng-star-inserted\"> 35 </td></tr><tr _ngcontent-app-root-c12=\"\" class=\"ng-star-inserted\"><!-- --><td _ngcontent-app-root-c12=\"\" class=\"ng-star-inserted\"> 64 </td><td _ngcontent-app-root-c12=\"\" class=\"ng-star-inserted\"> 48.8 </td><td _ngcontent-app-root-c12=\"\" class=\"ng-star-inserted\"> 36 </td></tr><tr _ngcontent-app-root-c12=\"\" class=\"ng-star-inserted\"><!-- --><td _ngcontent-app-root-c12=\"\" class=\"ng-star-inserted\"> 51 </td><td _ngcontent-app-root-c12=\"\" class=\"ng-star-inserted\"> 46.6 </td><td _ngcontent-app-root-c12=\"\" class=\"ng-star-inserted\"> 44 </td></tr><tr _ngcontent-app-root-c12=\"\" class=\"ng-star-inserted\"><!-- --><td _ngcontent-app-root-c12=\"\" class=\"ng-star-inserted\"> 48 </td><td _ngcontent-app-root-c12=\"\" class=\"ng-star-inserted\"> 45.4 </td><td _ngcontent-app-root-c12=\"\" class=\"ng-star-inserted\"> 44 </td></tr><tr _ngcontent-app-root-c12=\"\" class=\"ng-star-inserted\"><!-- --><td _ngcontent-app-root-c12=\"\" class=\"ng-star-inserted\"> 55 </td><td _ngcontent-app-root-c12=\"\" class=\"ng-star-inserted\"> 44.8 </td><td _ngcontent-app-root-c12=\"\" class=\"ng-star-inserted\"> 34 </td></tr><tr _ngcontent-app-root-c12=\"\" class=\"ng-star-inserted\"><!-- --><td _ngcontent-app-root-c12=\"\" class=\"ng-star-inserted\"> 37 </td><td _ngcontent-app-root-c12=\"\" class=\"ng-star-inserted\"> 33.6 </td><td _ngcontent-app-root-c12=\"\" class=\"ng-star-inserted\"> 30 </td></tr><tr _ngcontent-app-root-c12=\"\" class=\"ng-star-inserted\"><!-- --><td _ngcontent-app-root-c12=\"\" class=\"ng-star-inserted\"> 34 </td><td _ngcontent-app-root-c12=\"\" class=\"ng-star-inserted\"> 29.0 </td><td _ngcontent-app-root-c12=\"\" class=\"ng-star-inserted\"> 22 </td></tr><tr _ngcontent-app-root-c12=\"\" class=\"ng-star-inserted\"><!-- --><td _ngcontent-app-root-c12=\"\" class=\"ng-star-inserted\"> 22 </td><td _ngcontent-app-root-c12=\"\" class=\"ng-star-inserted\"> 22.0 </td><td _ngcontent-app-root-c12=\"\" class=\"ng-star-inserted\"> 22 </td></tr></table></td>,\n",
              " <td _ngcontent-app-root-c12=\"\" class=\"ng-star-inserted\"><table _ngcontent-app-root-c12=\"\"><!-- --><tr _ngcontent-app-root-c12=\"\" class=\"ng-star-inserted\"><!-- --><td _ngcontent-app-root-c12=\"\" class=\"ng-star-inserted\"> Max </td><td _ngcontent-app-root-c12=\"\" class=\"ng-star-inserted\"> Avg </td><td _ngcontent-app-root-c12=\"\" class=\"ng-star-inserted\"> Min </td></tr><tr _ngcontent-app-root-c12=\"\" class=\"ng-star-inserted\"><!-- --><td _ngcontent-app-root-c12=\"\" class=\"ng-star-inserted\"> 34 </td><td _ngcontent-app-root-c12=\"\" class=\"ng-star-inserted\"> 31.7 </td><td _ngcontent-app-root-c12=\"\" class=\"ng-star-inserted\"> 28 </td></tr><tr _ngcontent-app-root-c12=\"\" class=\"ng-star-inserted\"><!-- --><td _ngcontent-app-root-c12=\"\" class=\"ng-star-inserted\"> 31 </td><td _ngcontent-app-root-c12=\"\" class=\"ng-star-inserted\"> 25.4 </td><td _ngcontent-app-root-c12=\"\" class=\"ng-star-inserted\"> 20 </td></tr><tr _ngcontent-app-root-c12=\"\" class=\"ng-star-inserted\"><!-- --><td _ngcontent-app-root-c12=\"\" class=\"ng-star-inserted\"> 29 </td><td _ngcontent-app-root-c12=\"\" class=\"ng-star-inserted\"> 26.3 </td><td _ngcontent-app-root-c12=\"\" class=\"ng-star-inserted\"> 22 </td></tr><tr _ngcontent-app-root-c12=\"\" class=\"ng-star-inserted\"><!-- --><td _ngcontent-app-root-c12=\"\" class=\"ng-star-inserted\"> 35 </td><td _ngcontent-app-root-c12=\"\" class=\"ng-star-inserted\"> 31.9 </td><td _ngcontent-app-root-c12=\"\" class=\"ng-star-inserted\"> 27 </td></tr><tr _ngcontent-app-root-c12=\"\" class=\"ng-star-inserted\"><!-- --><td _ngcontent-app-root-c12=\"\" class=\"ng-star-inserted\"> 36 </td><td _ngcontent-app-root-c12=\"\" class=\"ng-star-inserted\"> 24.6 </td><td _ngcontent-app-root-c12=\"\" class=\"ng-star-inserted\"> 11 </td></tr><tr _ngcontent-app-root-c12=\"\" class=\"ng-star-inserted\"><!-- --><td _ngcontent-app-root-c12=\"\" class=\"ng-star-inserted\"> 37 </td><td _ngcontent-app-root-c12=\"\" class=\"ng-star-inserted\"> 32.1 </td><td _ngcontent-app-root-c12=\"\" class=\"ng-star-inserted\"> 14 </td></tr><tr _ngcontent-app-root-c12=\"\" class=\"ng-star-inserted\"><!-- --><td _ngcontent-app-root-c12=\"\" class=\"ng-star-inserted\"> 47 </td><td _ngcontent-app-root-c12=\"\" class=\"ng-star-inserted\"> 33.4 </td><td _ngcontent-app-root-c12=\"\" class=\"ng-star-inserted\"> 14 </td></tr><tr _ngcontent-app-root-c12=\"\" class=\"ng-star-inserted\"><!-- --><td _ngcontent-app-root-c12=\"\" class=\"ng-star-inserted\"> 14 </td><td _ngcontent-app-root-c12=\"\" class=\"ng-star-inserted\"> 10.2 </td><td _ngcontent-app-root-c12=\"\" class=\"ng-star-inserted\"> 7 </td></tr><tr _ngcontent-app-root-c12=\"\" class=\"ng-star-inserted\"><!-- --><td _ngcontent-app-root-c12=\"\" class=\"ng-star-inserted\"> 29 </td><td _ngcontent-app-root-c12=\"\" class=\"ng-star-inserted\"> 16.0 </td><td _ngcontent-app-root-c12=\"\" class=\"ng-star-inserted\"> 7 </td></tr><tr _ngcontent-app-root-c12=\"\" class=\"ng-star-inserted\"><!-- --><td _ngcontent-app-root-c12=\"\" class=\"ng-star-inserted\"> 39 </td><td _ngcontent-app-root-c12=\"\" class=\"ng-star-inserted\"> 36.2 </td><td _ngcontent-app-root-c12=\"\" class=\"ng-star-inserted\"> 30 </td></tr><tr _ngcontent-app-root-c12=\"\" class=\"ng-star-inserted\"><!-- --><td _ngcontent-app-root-c12=\"\" class=\"ng-star-inserted\"> 40 </td><td _ngcontent-app-root-c12=\"\" class=\"ng-star-inserted\"> 37.1 </td><td _ngcontent-app-root-c12=\"\" class=\"ng-star-inserted\"> 35 </td></tr><tr _ngcontent-app-root-c12=\"\" class=\"ng-star-inserted\"><!-- --><td _ngcontent-app-root-c12=\"\" class=\"ng-star-inserted\"> 34 </td><td _ngcontent-app-root-c12=\"\" class=\"ng-star-inserted\"> 22.8 </td><td _ngcontent-app-root-c12=\"\" class=\"ng-star-inserted\"> 18 </td></tr><tr _ngcontent-app-root-c12=\"\" class=\"ng-star-inserted\"><!-- --><td _ngcontent-app-root-c12=\"\" class=\"ng-star-inserted\"> 36 </td><td _ngcontent-app-root-c12=\"\" class=\"ng-star-inserted\"> 32.9 </td><td _ngcontent-app-root-c12=\"\" class=\"ng-star-inserted\"> 26 </td></tr><tr _ngcontent-app-root-c12=\"\" class=\"ng-star-inserted\"><!-- --><td _ngcontent-app-root-c12=\"\" class=\"ng-star-inserted\"> 31 </td><td _ngcontent-app-root-c12=\"\" class=\"ng-star-inserted\"> 8.8 </td><td _ngcontent-app-root-c12=\"\" class=\"ng-star-inserted\"> -9 </td></tr><tr _ngcontent-app-root-c12=\"\" class=\"ng-star-inserted\"><!-- --><td _ngcontent-app-root-c12=\"\" class=\"ng-star-inserted\"> 14 </td><td _ngcontent-app-root-c12=\"\" class=\"ng-star-inserted\"> 0.0 </td><td _ngcontent-app-root-c12=\"\" class=\"ng-star-inserted\"> -9 </td></tr><tr _ngcontent-app-root-c12=\"\" class=\"ng-star-inserted\"><!-- --><td _ngcontent-app-root-c12=\"\" class=\"ng-star-inserted\"> 24 </td><td _ngcontent-app-root-c12=\"\" class=\"ng-star-inserted\"> 19.6 </td><td _ngcontent-app-root-c12=\"\" class=\"ng-star-inserted\"> 15 </td></tr><tr _ngcontent-app-root-c12=\"\" class=\"ng-star-inserted\"><!-- --><td _ngcontent-app-root-c12=\"\" class=\"ng-star-inserted\"> 24 </td><td _ngcontent-app-root-c12=\"\" class=\"ng-star-inserted\"> 18.8 </td><td _ngcontent-app-root-c12=\"\" class=\"ng-star-inserted\"> 11 </td></tr><tr _ngcontent-app-root-c12=\"\" class=\"ng-star-inserted\"><!-- --><td _ngcontent-app-root-c12=\"\" class=\"ng-star-inserted\"> 36 </td><td _ngcontent-app-root-c12=\"\" class=\"ng-star-inserted\"> 28.4 </td><td _ngcontent-app-root-c12=\"\" class=\"ng-star-inserted\"> 11 </td></tr><tr _ngcontent-app-root-c12=\"\" class=\"ng-star-inserted\"><!-- --><td _ngcontent-app-root-c12=\"\" class=\"ng-star-inserted\"> 35 </td><td _ngcontent-app-root-c12=\"\" class=\"ng-star-inserted\"> 20.1 </td><td _ngcontent-app-root-c12=\"\" class=\"ng-star-inserted\"> 7 </td></tr><tr _ngcontent-app-root-c12=\"\" class=\"ng-star-inserted\"><!-- --><td _ngcontent-app-root-c12=\"\" class=\"ng-star-inserted\"> 7 </td><td _ngcontent-app-root-c12=\"\" class=\"ng-star-inserted\"> 5.6 </td><td _ngcontent-app-root-c12=\"\" class=\"ng-star-inserted\"> 4 </td></tr><tr _ngcontent-app-root-c12=\"\" class=\"ng-star-inserted\"><!-- --><td _ngcontent-app-root-c12=\"\" class=\"ng-star-inserted\"> 9 </td><td _ngcontent-app-root-c12=\"\" class=\"ng-star-inserted\"> 1.0 </td><td _ngcontent-app-root-c12=\"\" class=\"ng-star-inserted\"> -4 </td></tr><tr _ngcontent-app-root-c12=\"\" class=\"ng-star-inserted\"><!-- --><td _ngcontent-app-root-c12=\"\" class=\"ng-star-inserted\"> 17 </td><td _ngcontent-app-root-c12=\"\" class=\"ng-star-inserted\"> 10.1 </td><td _ngcontent-app-root-c12=\"\" class=\"ng-star-inserted\"> 3 </td></tr><tr _ngcontent-app-root-c12=\"\" class=\"ng-star-inserted\"><!-- --><td _ngcontent-app-root-c12=\"\" class=\"ng-star-inserted\"> 23 </td><td _ngcontent-app-root-c12=\"\" class=\"ng-star-inserted\"> 18.9 </td><td _ngcontent-app-root-c12=\"\" class=\"ng-star-inserted\"> 16 </td></tr><tr _ngcontent-app-root-c12=\"\" class=\"ng-star-inserted\"><!-- --><td _ngcontent-app-root-c12=\"\" class=\"ng-star-inserted\"> 32 </td><td _ngcontent-app-root-c12=\"\" class=\"ng-star-inserted\"> 25.0 </td><td _ngcontent-app-root-c12=\"\" class=\"ng-star-inserted\"> 19 </td></tr><tr _ngcontent-app-root-c12=\"\" class=\"ng-star-inserted\"><!-- --><td _ngcontent-app-root-c12=\"\" class=\"ng-star-inserted\"> 42 </td><td _ngcontent-app-root-c12=\"\" class=\"ng-star-inserted\"> 39.0 </td><td _ngcontent-app-root-c12=\"\" class=\"ng-star-inserted\"> 32 </td></tr><tr _ngcontent-app-root-c12=\"\" class=\"ng-star-inserted\"><!-- --><td _ngcontent-app-root-c12=\"\" class=\"ng-star-inserted\"> 41 </td><td _ngcontent-app-root-c12=\"\" class=\"ng-star-inserted\"> 39.4 </td><td _ngcontent-app-root-c12=\"\" class=\"ng-star-inserted\"> 37 </td></tr><tr _ngcontent-app-root-c12=\"\" class=\"ng-star-inserted\"><!-- --><td _ngcontent-app-root-c12=\"\" class=\"ng-star-inserted\"> 47 </td><td _ngcontent-app-root-c12=\"\" class=\"ng-star-inserted\"> 34.4 </td><td _ngcontent-app-root-c12=\"\" class=\"ng-star-inserted\"> 7 </td></tr><tr _ngcontent-app-root-c12=\"\" class=\"ng-star-inserted\"><!-- --><td _ngcontent-app-root-c12=\"\" class=\"ng-star-inserted\"> 11 </td><td _ngcontent-app-root-c12=\"\" class=\"ng-star-inserted\"> 8.3 </td><td _ngcontent-app-root-c12=\"\" class=\"ng-star-inserted\"> 5 </td></tr><tr _ngcontent-app-root-c12=\"\" class=\"ng-star-inserted\"><!-- --><td _ngcontent-app-root-c12=\"\" class=\"ng-star-inserted\"> 11 </td><td _ngcontent-app-root-c12=\"\" class=\"ng-star-inserted\"> 8.0 </td><td _ngcontent-app-root-c12=\"\" class=\"ng-star-inserted\"> 4 </td></tr><tr _ngcontent-app-root-c12=\"\" class=\"ng-star-inserted\"><!-- --><td _ngcontent-app-root-c12=\"\" class=\"ng-star-inserted\"> 6 </td><td _ngcontent-app-root-c12=\"\" class=\"ng-star-inserted\"> 6.0 </td><td _ngcontent-app-root-c12=\"\" class=\"ng-star-inserted\"> 6 </td></tr></table></td>,\n",
              " <td _ngcontent-app-root-c12=\"\" class=\"ng-star-inserted\"><table _ngcontent-app-root-c12=\"\"><!-- --><tr _ngcontent-app-root-c12=\"\" class=\"ng-star-inserted\"><!-- --><td _ngcontent-app-root-c12=\"\" class=\"ng-star-inserted\"> Max </td><td _ngcontent-app-root-c12=\"\" class=\"ng-star-inserted\"> Avg </td><td _ngcontent-app-root-c12=\"\" class=\"ng-star-inserted\"> Min </td></tr><tr _ngcontent-app-root-c12=\"\" class=\"ng-star-inserted\"><!-- --><td _ngcontent-app-root-c12=\"\" class=\"ng-star-inserted\"> 86 </td><td _ngcontent-app-root-c12=\"\" class=\"ng-star-inserted\"> 78.0 </td><td _ngcontent-app-root-c12=\"\" class=\"ng-star-inserted\"> 68 </td></tr><tr _ngcontent-app-root-c12=\"\" class=\"ng-star-inserted\"><!-- --><td _ngcontent-app-root-c12=\"\" class=\"ng-star-inserted\"> 76 </td><td _ngcontent-app-root-c12=\"\" class=\"ng-star-inserted\"> 58.8 </td><td _ngcontent-app-root-c12=\"\" class=\"ng-star-inserted\"> 41 </td></tr><tr _ngcontent-app-root-c12=\"\" class=\"ng-star-inserted\"><!-- --><td _ngcontent-app-root-c12=\"\" class=\"ng-star-inserted\"> 64 </td><td _ngcontent-app-root-c12=\"\" class=\"ng-star-inserted\"> 53.9 </td><td _ngcontent-app-root-c12=\"\" class=\"ng-star-inserted\"> 41 </td></tr><tr _ngcontent-app-root-c12=\"\" class=\"ng-star-inserted\"><!-- --><td _ngcontent-app-root-c12=\"\" class=\"ng-star-inserted\"> 76 </td><td _ngcontent-app-root-c12=\"\" class=\"ng-star-inserted\"> 67.8 </td><td _ngcontent-app-root-c12=\"\" class=\"ng-star-inserted\"> 57 </td></tr><tr _ngcontent-app-root-c12=\"\" class=\"ng-star-inserted\"><!-- --><td _ngcontent-app-root-c12=\"\" class=\"ng-star-inserted\"> 76 </td><td _ngcontent-app-root-c12=\"\" class=\"ng-star-inserted\"> 56.5 </td><td _ngcontent-app-root-c12=\"\" class=\"ng-star-inserted\"> 37 </td></tr><tr _ngcontent-app-root-c12=\"\" class=\"ng-star-inserted\"><!-- --><td _ngcontent-app-root-c12=\"\" class=\"ng-star-inserted\"> 87 </td><td _ngcontent-app-root-c12=\"\" class=\"ng-star-inserted\"> 80.6 </td><td _ngcontent-app-root-c12=\"\" class=\"ng-star-inserted\"> 46 </td></tr><tr _ngcontent-app-root-c12=\"\" class=\"ng-star-inserted\"><!-- --><td _ngcontent-app-root-c12=\"\" class=\"ng-star-inserted\"> 90 </td><td _ngcontent-app-root-c12=\"\" class=\"ng-star-inserted\"> 78.5 </td><td _ngcontent-app-root-c12=\"\" class=\"ng-star-inserted\"> 50 </td></tr><tr _ngcontent-app-root-c12=\"\" class=\"ng-star-inserted\"><!-- --><td _ngcontent-app-root-c12=\"\" class=\"ng-star-inserted\"> 51 </td><td _ngcontent-app-root-c12=\"\" class=\"ng-star-inserted\"> 43.8 </td><td _ngcontent-app-root-c12=\"\" class=\"ng-star-inserted\"> 33 </td></tr><tr _ngcontent-app-root-c12=\"\" class=\"ng-star-inserted\"><!-- --><td _ngcontent-app-root-c12=\"\" class=\"ng-star-inserted\"> 70 </td><td _ngcontent-app-root-c12=\"\" class=\"ng-star-inserted\"> 57.6 </td><td _ngcontent-app-root-c12=\"\" class=\"ng-star-inserted\"> 47 </td></tr><tr _ngcontent-app-root-c12=\"\" class=\"ng-star-inserted\"><!-- --><td _ngcontent-app-root-c12=\"\" class=\"ng-star-inserted\"> 76 </td><td _ngcontent-app-root-c12=\"\" class=\"ng-star-inserted\"> 73.5 </td><td _ngcontent-app-root-c12=\"\" class=\"ng-star-inserted\"> 70 </td></tr><tr _ngcontent-app-root-c12=\"\" class=\"ng-star-inserted\"><!-- --><td _ngcontent-app-root-c12=\"\" class=\"ng-star-inserted\"> 89 </td><td _ngcontent-app-root-c12=\"\" class=\"ng-star-inserted\"> 83.5 </td><td _ngcontent-app-root-c12=\"\" class=\"ng-star-inserted\"> 74 </td></tr><tr _ngcontent-app-root-c12=\"\" class=\"ng-star-inserted\"><!-- --><td _ngcontent-app-root-c12=\"\" class=\"ng-star-inserted\"> 73 </td><td _ngcontent-app-root-c12=\"\" class=\"ng-star-inserted\"> 49.4 </td><td _ngcontent-app-root-c12=\"\" class=\"ng-star-inserted\"> 35 </td></tr><tr _ngcontent-app-root-c12=\"\" class=\"ng-star-inserted\"><!-- --><td _ngcontent-app-root-c12=\"\" class=\"ng-star-inserted\"> 89 </td><td _ngcontent-app-root-c12=\"\" class=\"ng-star-inserted\"> 80.8 </td><td _ngcontent-app-root-c12=\"\" class=\"ng-star-inserted\"> 55 </td></tr><tr _ngcontent-app-root-c12=\"\" class=\"ng-star-inserted\"><!-- --><td _ngcontent-app-root-c12=\"\" class=\"ng-star-inserted\"> 73 </td><td _ngcontent-app-root-c12=\"\" class=\"ng-star-inserted\"> 46.7 </td><td _ngcontent-app-root-c12=\"\" class=\"ng-star-inserted\"> 26 </td></tr><tr _ngcontent-app-root-c12=\"\" class=\"ng-star-inserted\"><!-- --><td _ngcontent-app-root-c12=\"\" class=\"ng-star-inserted\"> 56 </td><td _ngcontent-app-root-c12=\"\" class=\"ng-star-inserted\"> 40.0 </td><td _ngcontent-app-root-c12=\"\" class=\"ng-star-inserted\"> 29 </td></tr><tr _ngcontent-app-root-c12=\"\" class=\"ng-star-inserted\"><!-- --><td _ngcontent-app-root-c12=\"\" class=\"ng-star-inserted\"> 61 </td><td _ngcontent-app-root-c12=\"\" class=\"ng-star-inserted\"> 47.7 </td><td _ngcontent-app-root-c12=\"\" class=\"ng-star-inserted\"> 37 </td></tr><tr _ngcontent-app-root-c12=\"\" class=\"ng-star-inserted\"><!-- --><td _ngcontent-app-root-c12=\"\" class=\"ng-star-inserted\"> 67 </td><td _ngcontent-app-root-c12=\"\" class=\"ng-star-inserted\"> 43.0 </td><td _ngcontent-app-root-c12=\"\" class=\"ng-star-inserted\"> 27 </td></tr><tr _ngcontent-app-root-c12=\"\" class=\"ng-star-inserted\"><!-- --><td _ngcontent-app-root-c12=\"\" class=\"ng-star-inserted\"> 82 </td><td _ngcontent-app-root-c12=\"\" class=\"ng-star-inserted\"> 66.8 </td><td _ngcontent-app-root-c12=\"\" class=\"ng-star-inserted\"> 40 </td></tr><tr _ngcontent-app-root-c12=\"\" class=\"ng-star-inserted\"><!-- --><td _ngcontent-app-root-c12=\"\" class=\"ng-star-inserted\"> 83 </td><td _ngcontent-app-root-c12=\"\" class=\"ng-star-inserted\"> 45.7 </td><td _ngcontent-app-root-c12=\"\" class=\"ng-star-inserted\"> 25 </td></tr><tr _ngcontent-app-root-c12=\"\" class=\"ng-star-inserted\"><!-- --><td _ngcontent-app-root-c12=\"\" class=\"ng-star-inserted\"> 44 </td><td _ngcontent-app-root-c12=\"\" class=\"ng-star-inserted\"> 35.3 </td><td _ngcontent-app-root-c12=\"\" class=\"ng-star-inserted\"> 29 </td></tr><tr _ngcontent-app-root-c12=\"\" class=\"ng-star-inserted\"><!-- --><td _ngcontent-app-root-c12=\"\" class=\"ng-star-inserted\"> 45 </td><td _ngcontent-app-root-c12=\"\" class=\"ng-star-inserted\"> 35.3 </td><td _ngcontent-app-root-c12=\"\" class=\"ng-star-inserted\"> 20 </td></tr><tr _ngcontent-app-root-c12=\"\" class=\"ng-star-inserted\"><!-- --><td _ngcontent-app-root-c12=\"\" class=\"ng-star-inserted\"> 38 </td><td _ngcontent-app-root-c12=\"\" class=\"ng-star-inserted\"> 31.3 </td><td _ngcontent-app-root-c12=\"\" class=\"ng-star-inserted\"> 24 </td></tr><tr _ngcontent-app-root-c12=\"\" class=\"ng-star-inserted\"><!-- --><td _ngcontent-app-root-c12=\"\" class=\"ng-star-inserted\"> 48 </td><td _ngcontent-app-root-c12=\"\" class=\"ng-star-inserted\"> 37.1 </td><td _ngcontent-app-root-c12=\"\" class=\"ng-star-inserted\"> 22 </td></tr><tr _ngcontent-app-root-c12=\"\" class=\"ng-star-inserted\"><!-- --><td _ngcontent-app-root-c12=\"\" class=\"ng-star-inserted\"> 59 </td><td _ngcontent-app-root-c12=\"\" class=\"ng-star-inserted\"> 41.8 </td><td _ngcontent-app-root-c12=\"\" class=\"ng-star-inserted\"> 19 </td></tr><tr _ngcontent-app-root-c12=\"\" class=\"ng-star-inserted\"><!-- --><td _ngcontent-app-root-c12=\"\" class=\"ng-star-inserted\"> 86 </td><td _ngcontent-app-root-c12=\"\" class=\"ng-star-inserted\"> 74.9 </td><td _ngcontent-app-root-c12=\"\" class=\"ng-star-inserted\"> 60 </td></tr><tr _ngcontent-app-root-c12=\"\" class=\"ng-star-inserted\"><!-- --><td _ngcontent-app-root-c12=\"\" class=\"ng-star-inserted\"> 86 </td><td _ngcontent-app-root-c12=\"\" class=\"ng-star-inserted\"> 79.4 </td><td _ngcontent-app-root-c12=\"\" class=\"ng-star-inserted\"> 66 </td></tr><tr _ngcontent-app-root-c12=\"\" class=\"ng-star-inserted\"><!-- --><td _ngcontent-app-root-c12=\"\" class=\"ng-star-inserted\"> 89 </td><td _ngcontent-app-root-c12=\"\" class=\"ng-star-inserted\"> 69.6 </td><td _ngcontent-app-root-c12=\"\" class=\"ng-star-inserted\"> 32 </td></tr><tr _ngcontent-app-root-c12=\"\" class=\"ng-star-inserted\"><!-- --><td _ngcontent-app-root-c12=\"\" class=\"ng-star-inserted\"> 42 </td><td _ngcontent-app-root-c12=\"\" class=\"ng-star-inserted\"> 35.0 </td><td _ngcontent-app-root-c12=\"\" class=\"ng-star-inserted\"> 31 </td></tr><tr _ngcontent-app-root-c12=\"\" class=\"ng-star-inserted\"><!-- --><td _ngcontent-app-root-c12=\"\" class=\"ng-star-inserted\"> 53 </td><td _ngcontent-app-root-c12=\"\" class=\"ng-star-inserted\"> 41.8 </td><td _ngcontent-app-root-c12=\"\" class=\"ng-star-inserted\"> 31 </td></tr><tr _ngcontent-app-root-c12=\"\" class=\"ng-star-inserted\"><!-- --><td _ngcontent-app-root-c12=\"\" class=\"ng-star-inserted\"> 51 </td><td _ngcontent-app-root-c12=\"\" class=\"ng-star-inserted\"> 51.0 </td><td _ngcontent-app-root-c12=\"\" class=\"ng-star-inserted\"> 51 </td></tr></table></td>,\n",
              " <td _ngcontent-app-root-c12=\"\" class=\"ng-star-inserted\"><table _ngcontent-app-root-c12=\"\"><!-- --><tr _ngcontent-app-root-c12=\"\" class=\"ng-star-inserted\"><!-- --><td _ngcontent-app-root-c12=\"\" class=\"ng-star-inserted\"> Max </td><td _ngcontent-app-root-c12=\"\" class=\"ng-star-inserted\"> Avg </td><td _ngcontent-app-root-c12=\"\" class=\"ng-star-inserted\"> Min </td></tr><tr _ngcontent-app-root-c12=\"\" class=\"ng-star-inserted\"><!-- --><td _ngcontent-app-root-c12=\"\" class=\"ng-star-inserted\"> 8 </td><td _ngcontent-app-root-c12=\"\" class=\"ng-star-inserted\"> 4.3 </td><td _ngcontent-app-root-c12=\"\" class=\"ng-star-inserted\"> 0 </td></tr><tr _ngcontent-app-root-c12=\"\" class=\"ng-star-inserted\"><!-- --><td _ngcontent-app-root-c12=\"\" class=\"ng-star-inserted\"> 12 </td><td _ngcontent-app-root-c12=\"\" class=\"ng-star-inserted\"> 7.1 </td><td _ngcontent-app-root-c12=\"\" class=\"ng-star-inserted\"> 0 </td></tr><tr _ngcontent-app-root-c12=\"\" class=\"ng-star-inserted\"><!-- --><td _ngcontent-app-root-c12=\"\" class=\"ng-star-inserted\"> 15 </td><td _ngcontent-app-root-c12=\"\" class=\"ng-star-inserted\"> 9.6 </td><td _ngcontent-app-root-c12=\"\" class=\"ng-star-inserted\"> 5 </td></tr><tr _ngcontent-app-root-c12=\"\" class=\"ng-star-inserted\"><!-- --><td _ngcontent-app-root-c12=\"\" class=\"ng-star-inserted\"> 9 </td><td _ngcontent-app-root-c12=\"\" class=\"ng-star-inserted\"> 3.7 </td><td _ngcontent-app-root-c12=\"\" class=\"ng-star-inserted\"> 0 </td></tr><tr _ngcontent-app-root-c12=\"\" class=\"ng-star-inserted\"><!-- --><td _ngcontent-app-root-c12=\"\" class=\"ng-star-inserted\"> 13 </td><td _ngcontent-app-root-c12=\"\" class=\"ng-star-inserted\"> 6.0 </td><td _ngcontent-app-root-c12=\"\" class=\"ng-star-inserted\"> 0 </td></tr><tr _ngcontent-app-root-c12=\"\" class=\"ng-star-inserted\"><!-- --><td _ngcontent-app-root-c12=\"\" class=\"ng-star-inserted\"> 22 </td><td _ngcontent-app-root-c12=\"\" class=\"ng-star-inserted\"> 12.7 </td><td _ngcontent-app-root-c12=\"\" class=\"ng-star-inserted\"> 0 </td></tr><tr _ngcontent-app-root-c12=\"\" class=\"ng-star-inserted\"><!-- --><td _ngcontent-app-root-c12=\"\" class=\"ng-star-inserted\"> 41 </td><td _ngcontent-app-root-c12=\"\" class=\"ng-star-inserted\"> 14.6 </td><td _ngcontent-app-root-c12=\"\" class=\"ng-star-inserted\"> 3 </td></tr><tr _ngcontent-app-root-c12=\"\" class=\"ng-star-inserted\"><!-- --><td _ngcontent-app-root-c12=\"\" class=\"ng-star-inserted\"> 23 </td><td _ngcontent-app-root-c12=\"\" class=\"ng-star-inserted\"> 17.0 </td><td _ngcontent-app-root-c12=\"\" class=\"ng-star-inserted\"> 9 </td></tr><tr _ngcontent-app-root-c12=\"\" class=\"ng-star-inserted\"><!-- --><td _ngcontent-app-root-c12=\"\" class=\"ng-star-inserted\"> 15 </td><td _ngcontent-app-root-c12=\"\" class=\"ng-star-inserted\"> 7.5 </td><td _ngcontent-app-root-c12=\"\" class=\"ng-star-inserted\"> 0 </td></tr><tr _ngcontent-app-root-c12=\"\" class=\"ng-star-inserted\"><!-- --><td _ngcontent-app-root-c12=\"\" class=\"ng-star-inserted\"> 23 </td><td _ngcontent-app-root-c12=\"\" class=\"ng-star-inserted\"> 14.2 </td><td _ngcontent-app-root-c12=\"\" class=\"ng-star-inserted\"> 6 </td></tr><tr _ngcontent-app-root-c12=\"\" class=\"ng-star-inserted\"><!-- --><td _ngcontent-app-root-c12=\"\" class=\"ng-star-inserted\"> 12 </td><td _ngcontent-app-root-c12=\"\" class=\"ng-star-inserted\"> 6.5 </td><td _ngcontent-app-root-c12=\"\" class=\"ng-star-inserted\"> 0 </td></tr><tr _ngcontent-app-root-c12=\"\" class=\"ng-star-inserted\"><!-- --><td _ngcontent-app-root-c12=\"\" class=\"ng-star-inserted\"> 15 </td><td _ngcontent-app-root-c12=\"\" class=\"ng-star-inserted\"> 11.7 </td><td _ngcontent-app-root-c12=\"\" class=\"ng-star-inserted\"> 8 </td></tr><tr _ngcontent-app-root-c12=\"\" class=\"ng-star-inserted\"><!-- --><td _ngcontent-app-root-c12=\"\" class=\"ng-star-inserted\"> 25 </td><td _ngcontent-app-root-c12=\"\" class=\"ng-star-inserted\"> 6.3 </td><td _ngcontent-app-root-c12=\"\" class=\"ng-star-inserted\"> 0 </td></tr><tr _ngcontent-app-root-c12=\"\" class=\"ng-star-inserted\"><!-- --><td _ngcontent-app-root-c12=\"\" class=\"ng-star-inserted\"> 21 </td><td _ngcontent-app-root-c12=\"\" class=\"ng-star-inserted\"> 14.4 </td><td _ngcontent-app-root-c12=\"\" class=\"ng-star-inserted\"> 6 </td></tr><tr _ngcontent-app-root-c12=\"\" class=\"ng-star-inserted\"><!-- --><td _ngcontent-app-root-c12=\"\" class=\"ng-star-inserted\"> 16 </td><td _ngcontent-app-root-c12=\"\" class=\"ng-star-inserted\"> 10.3 </td><td _ngcontent-app-root-c12=\"\" class=\"ng-star-inserted\"> 5 </td></tr><tr _ngcontent-app-root-c12=\"\" class=\"ng-star-inserted\"><!-- --><td _ngcontent-app-root-c12=\"\" class=\"ng-star-inserted\"> 20 </td><td _ngcontent-app-root-c12=\"\" class=\"ng-star-inserted\"> 11.5 </td><td _ngcontent-app-root-c12=\"\" class=\"ng-star-inserted\"> 3 </td></tr><tr _ngcontent-app-root-c12=\"\" class=\"ng-star-inserted\"><!-- --><td _ngcontent-app-root-c12=\"\" class=\"ng-star-inserted\"> 14 </td><td _ngcontent-app-root-c12=\"\" class=\"ng-star-inserted\"> 9.1 </td><td _ngcontent-app-root-c12=\"\" class=\"ng-star-inserted\"> 0 </td></tr><tr _ngcontent-app-root-c12=\"\" class=\"ng-star-inserted\"><!-- --><td _ngcontent-app-root-c12=\"\" class=\"ng-star-inserted\"> 17 </td><td _ngcontent-app-root-c12=\"\" class=\"ng-star-inserted\"> 11.0 </td><td _ngcontent-app-root-c12=\"\" class=\"ng-star-inserted\"> 5 </td></tr><tr _ngcontent-app-root-c12=\"\" class=\"ng-star-inserted\"><!-- --><td _ngcontent-app-root-c12=\"\" class=\"ng-star-inserted\"> 26 </td><td _ngcontent-app-root-c12=\"\" class=\"ng-star-inserted\"> 14.9 </td><td _ngcontent-app-root-c12=\"\" class=\"ng-star-inserted\"> 6 </td></tr><tr _ngcontent-app-root-c12=\"\" class=\"ng-star-inserted\"><!-- --><td _ngcontent-app-root-c12=\"\" class=\"ng-star-inserted\"> 16 </td><td _ngcontent-app-root-c12=\"\" class=\"ng-star-inserted\"> 11.9 </td><td _ngcontent-app-root-c12=\"\" class=\"ng-star-inserted\"> 5 </td></tr><tr _ngcontent-app-root-c12=\"\" class=\"ng-star-inserted\"><!-- --><td _ngcontent-app-root-c12=\"\" class=\"ng-star-inserted\"> 17 </td><td _ngcontent-app-root-c12=\"\" class=\"ng-star-inserted\"> 10.1 </td><td _ngcontent-app-root-c12=\"\" class=\"ng-star-inserted\"> 5 </td></tr><tr _ngcontent-app-root-c12=\"\" class=\"ng-star-inserted\"><!-- --><td _ngcontent-app-root-c12=\"\" class=\"ng-star-inserted\"> 15 </td><td _ngcontent-app-root-c12=\"\" class=\"ng-star-inserted\"> 12.1 </td><td _ngcontent-app-root-c12=\"\" class=\"ng-star-inserted\"> 8 </td></tr><tr _ngcontent-app-root-c12=\"\" class=\"ng-star-inserted\"><!-- --><td _ngcontent-app-root-c12=\"\" class=\"ng-star-inserted\"> 15 </td><td _ngcontent-app-root-c12=\"\" class=\"ng-star-inserted\"> 8.8 </td><td _ngcontent-app-root-c12=\"\" class=\"ng-star-inserted\"> 6 </td></tr><tr _ngcontent-app-root-c12=\"\" class=\"ng-star-inserted\"><!-- --><td _ngcontent-app-root-c12=\"\" class=\"ng-star-inserted\"> 17 </td><td _ngcontent-app-root-c12=\"\" class=\"ng-star-inserted\"> 9.4 </td><td _ngcontent-app-root-c12=\"\" class=\"ng-star-inserted\"> 0 </td></tr><tr _ngcontent-app-root-c12=\"\" class=\"ng-star-inserted\"><!-- --><td _ngcontent-app-root-c12=\"\" class=\"ng-star-inserted\"> 8 </td><td _ngcontent-app-root-c12=\"\" class=\"ng-star-inserted\"> 5.4 </td><td _ngcontent-app-root-c12=\"\" class=\"ng-star-inserted\"> 0 </td></tr><tr _ngcontent-app-root-c12=\"\" class=\"ng-star-inserted\"><!-- --><td _ngcontent-app-root-c12=\"\" class=\"ng-star-inserted\"> 14 </td><td _ngcontent-app-root-c12=\"\" class=\"ng-star-inserted\"> 9.1 </td><td _ngcontent-app-root-c12=\"\" class=\"ng-star-inserted\"> 3 </td></tr><tr _ngcontent-app-root-c12=\"\" class=\"ng-star-inserted\"><!-- --><td _ngcontent-app-root-c12=\"\" class=\"ng-star-inserted\"> 33 </td><td _ngcontent-app-root-c12=\"\" class=\"ng-star-inserted\"> 20.4 </td><td _ngcontent-app-root-c12=\"\" class=\"ng-star-inserted\"> 9 </td></tr><tr _ngcontent-app-root-c12=\"\" class=\"ng-star-inserted\"><!-- --><td _ngcontent-app-root-c12=\"\" class=\"ng-star-inserted\"> 21 </td><td _ngcontent-app-root-c12=\"\" class=\"ng-star-inserted\"> 15.8 </td><td _ngcontent-app-root-c12=\"\" class=\"ng-star-inserted\"> 8 </td></tr><tr _ngcontent-app-root-c12=\"\" class=\"ng-star-inserted\"><!-- --><td _ngcontent-app-root-c12=\"\" class=\"ng-star-inserted\"> 18 </td><td _ngcontent-app-root-c12=\"\" class=\"ng-star-inserted\"> 12.3 </td><td _ngcontent-app-root-c12=\"\" class=\"ng-star-inserted\"> 7 </td></tr><tr _ngcontent-app-root-c12=\"\" class=\"ng-star-inserted\"><!-- --><td _ngcontent-app-root-c12=\"\" class=\"ng-star-inserted\"> 10 </td><td _ngcontent-app-root-c12=\"\" class=\"ng-star-inserted\"> 10.0 </td><td _ngcontent-app-root-c12=\"\" class=\"ng-star-inserted\"> 10 </td></tr></table></td>,\n",
              " <td _ngcontent-app-root-c12=\"\" class=\"ng-star-inserted\"><table _ngcontent-app-root-c12=\"\"><!-- --><tr _ngcontent-app-root-c12=\"\" class=\"ng-star-inserted\"><!-- --><td _ngcontent-app-root-c12=\"\" class=\"ng-star-inserted\"> Max </td><td _ngcontent-app-root-c12=\"\" class=\"ng-star-inserted\"> Avg </td><td _ngcontent-app-root-c12=\"\" class=\"ng-star-inserted\"> Min </td></tr><tr _ngcontent-app-root-c12=\"\" class=\"ng-star-inserted\"><!-- --><td _ngcontent-app-root-c12=\"\" class=\"ng-star-inserted\"> 30.2 </td><td _ngcontent-app-root-c12=\"\" class=\"ng-star-inserted\"> 29.9 </td><td _ngcontent-app-root-c12=\"\" class=\"ng-star-inserted\"> 29.6 </td></tr><tr _ngcontent-app-root-c12=\"\" class=\"ng-star-inserted\"><!-- --><td _ngcontent-app-root-c12=\"\" class=\"ng-star-inserted\"> 29.6 </td><td _ngcontent-app-root-c12=\"\" class=\"ng-star-inserted\"> 29.5 </td><td _ngcontent-app-root-c12=\"\" class=\"ng-star-inserted\"> 29.4 </td></tr><tr _ngcontent-app-root-c12=\"\" class=\"ng-star-inserted\"><!-- --><td _ngcontent-app-root-c12=\"\" class=\"ng-star-inserted\"> 29.9 </td><td _ngcontent-app-root-c12=\"\" class=\"ng-star-inserted\"> 29.7 </td><td _ngcontent-app-root-c12=\"\" class=\"ng-star-inserted\"> 29.5 </td></tr><tr _ngcontent-app-root-c12=\"\" class=\"ng-star-inserted\"><!-- --><td _ngcontent-app-root-c12=\"\" class=\"ng-star-inserted\"> 29.9 </td><td _ngcontent-app-root-c12=\"\" class=\"ng-star-inserted\"> 29.8 </td><td _ngcontent-app-root-c12=\"\" class=\"ng-star-inserted\"> 29.7 </td></tr><tr _ngcontent-app-root-c12=\"\" class=\"ng-star-inserted\"><!-- --><td _ngcontent-app-root-c12=\"\" class=\"ng-star-inserted\"> 30.1 </td><td _ngcontent-app-root-c12=\"\" class=\"ng-star-inserted\"> 29.9 </td><td _ngcontent-app-root-c12=\"\" class=\"ng-star-inserted\"> 29.8 </td></tr><tr _ngcontent-app-root-c12=\"\" class=\"ng-star-inserted\"><!-- --><td _ngcontent-app-root-c12=\"\" class=\"ng-star-inserted\"> 30.0 </td><td _ngcontent-app-root-c12=\"\" class=\"ng-star-inserted\"> 29.8 </td><td _ngcontent-app-root-c12=\"\" class=\"ng-star-inserted\"> 29.4 </td></tr><tr _ngcontent-app-root-c12=\"\" class=\"ng-star-inserted\"><!-- --><td _ngcontent-app-root-c12=\"\" class=\"ng-star-inserted\"> 29.5 </td><td _ngcontent-app-root-c12=\"\" class=\"ng-star-inserted\"> 29.1 </td><td _ngcontent-app-root-c12=\"\" class=\"ng-star-inserted\"> 28.6 </td></tr><tr _ngcontent-app-root-c12=\"\" class=\"ng-star-inserted\"><!-- --><td _ngcontent-app-root-c12=\"\" class=\"ng-star-inserted\"> 30.4 </td><td _ngcontent-app-root-c12=\"\" class=\"ng-star-inserted\"> 30.0 </td><td _ngcontent-app-root-c12=\"\" class=\"ng-star-inserted\"> 29.6 </td></tr><tr _ngcontent-app-root-c12=\"\" class=\"ng-star-inserted\"><!-- --><td _ngcontent-app-root-c12=\"\" class=\"ng-star-inserted\"> 30.6 </td><td _ngcontent-app-root-c12=\"\" class=\"ng-star-inserted\"> 30.5 </td><td _ngcontent-app-root-c12=\"\" class=\"ng-star-inserted\"> 30.4 </td></tr><tr _ngcontent-app-root-c12=\"\" class=\"ng-star-inserted\"><!-- --><td _ngcontent-app-root-c12=\"\" class=\"ng-star-inserted\"> 30.4 </td><td _ngcontent-app-root-c12=\"\" class=\"ng-star-inserted\"> 30.1 </td><td _ngcontent-app-root-c12=\"\" class=\"ng-star-inserted\"> 30.0 </td></tr><tr _ngcontent-app-root-c12=\"\" class=\"ng-star-inserted\"><!-- --><td _ngcontent-app-root-c12=\"\" class=\"ng-star-inserted\"> 30.1 </td><td _ngcontent-app-root-c12=\"\" class=\"ng-star-inserted\"> 29.9 </td><td _ngcontent-app-root-c12=\"\" class=\"ng-star-inserted\"> 29.7 </td></tr><tr _ngcontent-app-root-c12=\"\" class=\"ng-star-inserted\"><!-- --><td _ngcontent-app-root-c12=\"\" class=\"ng-star-inserted\"> 30.1 </td><td _ngcontent-app-root-c12=\"\" class=\"ng-star-inserted\"> 30.0 </td><td _ngcontent-app-root-c12=\"\" class=\"ng-star-inserted\"> 29.8 </td></tr><tr _ngcontent-app-root-c12=\"\" class=\"ng-star-inserted\"><!-- --><td _ngcontent-app-root-c12=\"\" class=\"ng-star-inserted\"> 30.0 </td><td _ngcontent-app-root-c12=\"\" class=\"ng-star-inserted\"> 29.7 </td><td _ngcontent-app-root-c12=\"\" class=\"ng-star-inserted\"> 29.6 </td></tr><tr _ngcontent-app-root-c12=\"\" class=\"ng-star-inserted\"><!-- --><td _ngcontent-app-root-c12=\"\" class=\"ng-star-inserted\"> 30.5 </td><td _ngcontent-app-root-c12=\"\" class=\"ng-star-inserted\"> 30.2 </td><td _ngcontent-app-root-c12=\"\" class=\"ng-star-inserted\"> 29.8 </td></tr><tr _ngcontent-app-root-c12=\"\" class=\"ng-star-inserted\"><!-- --><td _ngcontent-app-root-c12=\"\" class=\"ng-star-inserted\"> 30.6 </td><td _ngcontent-app-root-c12=\"\" class=\"ng-star-inserted\"> 30.5 </td><td _ngcontent-app-root-c12=\"\" class=\"ng-star-inserted\"> 30.3 </td></tr><tr _ngcontent-app-root-c12=\"\" class=\"ng-star-inserted\"><!-- --><td _ngcontent-app-root-c12=\"\" class=\"ng-star-inserted\"> 30.3 </td><td _ngcontent-app-root-c12=\"\" class=\"ng-star-inserted\"> 30.1 </td><td _ngcontent-app-root-c12=\"\" class=\"ng-star-inserted\"> 30.0 </td></tr><tr _ngcontent-app-root-c12=\"\" class=\"ng-star-inserted\"><!-- --><td _ngcontent-app-root-c12=\"\" class=\"ng-star-inserted\"> 30.4 </td><td _ngcontent-app-root-c12=\"\" class=\"ng-star-inserted\"> 30.2 </td><td _ngcontent-app-root-c12=\"\" class=\"ng-star-inserted\"> 30.1 </td></tr><tr _ngcontent-app-root-c12=\"\" class=\"ng-star-inserted\"><!-- --><td _ngcontent-app-root-c12=\"\" class=\"ng-star-inserted\"> 30.5 </td><td _ngcontent-app-root-c12=\"\" class=\"ng-star-inserted\"> 30.2 </td><td _ngcontent-app-root-c12=\"\" class=\"ng-star-inserted\"> 29.9 </td></tr><tr _ngcontent-app-root-c12=\"\" class=\"ng-star-inserted\"><!-- --><td _ngcontent-app-root-c12=\"\" class=\"ng-star-inserted\"> 30.3 </td><td _ngcontent-app-root-c12=\"\" class=\"ng-star-inserted\"> 30.1 </td><td _ngcontent-app-root-c12=\"\" class=\"ng-star-inserted\"> 29.9 </td></tr><tr _ngcontent-app-root-c12=\"\" class=\"ng-star-inserted\"><!-- --><td _ngcontent-app-root-c12=\"\" class=\"ng-star-inserted\"> 30.4 </td><td _ngcontent-app-root-c12=\"\" class=\"ng-star-inserted\"> 30.4 </td><td _ngcontent-app-root-c12=\"\" class=\"ng-star-inserted\"> 30.3 </td></tr><tr _ngcontent-app-root-c12=\"\" class=\"ng-star-inserted\"><!-- --><td _ngcontent-app-root-c12=\"\" class=\"ng-star-inserted\"> 30.5 </td><td _ngcontent-app-root-c12=\"\" class=\"ng-star-inserted\"> 30.4 </td><td _ngcontent-app-root-c12=\"\" class=\"ng-star-inserted\"> 30.3 </td></tr><tr _ngcontent-app-root-c12=\"\" class=\"ng-star-inserted\"><!-- --><td _ngcontent-app-root-c12=\"\" class=\"ng-star-inserted\"> 30.2 </td><td _ngcontent-app-root-c12=\"\" class=\"ng-star-inserted\"> 30.1 </td><td _ngcontent-app-root-c12=\"\" class=\"ng-star-inserted\"> 30.1 </td></tr><tr _ngcontent-app-root-c12=\"\" class=\"ng-star-inserted\"><!-- --><td _ngcontent-app-root-c12=\"\" class=\"ng-star-inserted\"> 30.1 </td><td _ngcontent-app-root-c12=\"\" class=\"ng-star-inserted\"> 30.1 </td><td _ngcontent-app-root-c12=\"\" class=\"ng-star-inserted\"> 30.0 </td></tr><tr _ngcontent-app-root-c12=\"\" class=\"ng-star-inserted\"><!-- --><td _ngcontent-app-root-c12=\"\" class=\"ng-star-inserted\"> 30.1 </td><td _ngcontent-app-root-c12=\"\" class=\"ng-star-inserted\"> 30.0 </td><td _ngcontent-app-root-c12=\"\" class=\"ng-star-inserted\"> 29.9 </td></tr><tr _ngcontent-app-root-c12=\"\" class=\"ng-star-inserted\"><!-- --><td _ngcontent-app-root-c12=\"\" class=\"ng-star-inserted\"> 29.9 </td><td _ngcontent-app-root-c12=\"\" class=\"ng-star-inserted\"> 29.9 </td><td _ngcontent-app-root-c12=\"\" class=\"ng-star-inserted\"> 29.9 </td></tr><tr _ngcontent-app-root-c12=\"\" class=\"ng-star-inserted\"><!-- --><td _ngcontent-app-root-c12=\"\" class=\"ng-star-inserted\"> 30.0 </td><td _ngcontent-app-root-c12=\"\" class=\"ng-star-inserted\"> 29.9 </td><td _ngcontent-app-root-c12=\"\" class=\"ng-star-inserted\"> 29.9 </td></tr><tr _ngcontent-app-root-c12=\"\" class=\"ng-star-inserted\"><!-- --><td _ngcontent-app-root-c12=\"\" class=\"ng-star-inserted\"> 29.9 </td><td _ngcontent-app-root-c12=\"\" class=\"ng-star-inserted\"> 29.4 </td><td _ngcontent-app-root-c12=\"\" class=\"ng-star-inserted\"> 29.1 </td></tr><tr _ngcontent-app-root-c12=\"\" class=\"ng-star-inserted\"><!-- --><td _ngcontent-app-root-c12=\"\" class=\"ng-star-inserted\"> 29.8 </td><td _ngcontent-app-root-c12=\"\" class=\"ng-star-inserted\"> 29.7 </td><td _ngcontent-app-root-c12=\"\" class=\"ng-star-inserted\"> 29.6 </td></tr><tr _ngcontent-app-root-c12=\"\" class=\"ng-star-inserted\"><!-- --><td _ngcontent-app-root-c12=\"\" class=\"ng-star-inserted\"> 29.9 </td><td _ngcontent-app-root-c12=\"\" class=\"ng-star-inserted\"> 29.8 </td><td _ngcontent-app-root-c12=\"\" class=\"ng-star-inserted\"> 29.7 </td></tr><tr _ngcontent-app-root-c12=\"\" class=\"ng-star-inserted\"><!-- --><td _ngcontent-app-root-c12=\"\" class=\"ng-star-inserted\"> 29.9 </td><td _ngcontent-app-root-c12=\"\" class=\"ng-star-inserted\"> 29.9 </td><td _ngcontent-app-root-c12=\"\" class=\"ng-star-inserted\"> 29.9 </td></tr></table></td>,\n",
              " <td _ngcontent-app-root-c12=\"\" class=\"ng-star-inserted\"><table _ngcontent-app-root-c12=\"\"><!-- --><tr _ngcontent-app-root-c12=\"\" class=\"ng-star-inserted\"><!-- --><td _ngcontent-app-root-c12=\"\" class=\"ng-star-inserted\"> Total </td></tr><tr _ngcontent-app-root-c12=\"\" class=\"ng-star-inserted\"><!-- --><td _ngcontent-app-root-c12=\"\" class=\"ng-star-inserted\"> 0.02 </td></tr><tr _ngcontent-app-root-c12=\"\" class=\"ng-star-inserted\"><!-- --><td _ngcontent-app-root-c12=\"\" class=\"ng-star-inserted\"> 0.00 </td></tr><tr _ngcontent-app-root-c12=\"\" class=\"ng-star-inserted\"><!-- --><td _ngcontent-app-root-c12=\"\" class=\"ng-star-inserted\"> 0.00 </td></tr><tr _ngcontent-app-root-c12=\"\" class=\"ng-star-inserted\"><!-- --><td _ngcontent-app-root-c12=\"\" class=\"ng-star-inserted\"> 0.00 </td></tr><tr _ngcontent-app-root-c12=\"\" class=\"ng-star-inserted\"><!-- --><td _ngcontent-app-root-c12=\"\" class=\"ng-star-inserted\"> 0.05 </td></tr><tr _ngcontent-app-root-c12=\"\" class=\"ng-star-inserted\"><!-- --><td _ngcontent-app-root-c12=\"\" class=\"ng-star-inserted\"> 0.29 </td></tr><tr _ngcontent-app-root-c12=\"\" class=\"ng-star-inserted\"><!-- --><td _ngcontent-app-root-c12=\"\" class=\"ng-star-inserted\"> 0.21 </td></tr><tr _ngcontent-app-root-c12=\"\" class=\"ng-star-inserted\"><!-- --><td _ngcontent-app-root-c12=\"\" class=\"ng-star-inserted\"> 0.26 </td></tr><tr _ngcontent-app-root-c12=\"\" class=\"ng-star-inserted\"><!-- --><td _ngcontent-app-root-c12=\"\" class=\"ng-star-inserted\"> 0.00 </td></tr><tr _ngcontent-app-root-c12=\"\" class=\"ng-star-inserted\"><!-- --><td _ngcontent-app-root-c12=\"\" class=\"ng-star-inserted\"> 0.03 </td></tr><tr _ngcontent-app-root-c12=\"\" class=\"ng-star-inserted\"><!-- --><td _ngcontent-app-root-c12=\"\" class=\"ng-star-inserted\"> 0.14 </td></tr><tr _ngcontent-app-root-c12=\"\" class=\"ng-star-inserted\"><!-- --><td _ngcontent-app-root-c12=\"\" class=\"ng-star-inserted\"> 0.16 </td></tr><tr _ngcontent-app-root-c12=\"\" class=\"ng-star-inserted\"><!-- --><td _ngcontent-app-root-c12=\"\" class=\"ng-star-inserted\"> 0.42 </td></tr><tr _ngcontent-app-root-c12=\"\" class=\"ng-star-inserted\"><!-- --><td _ngcontent-app-root-c12=\"\" class=\"ng-star-inserted\"> 0.11 </td></tr><tr _ngcontent-app-root-c12=\"\" class=\"ng-star-inserted\"><!-- --><td _ngcontent-app-root-c12=\"\" class=\"ng-star-inserted\"> 0.00 </td></tr><tr _ngcontent-app-root-c12=\"\" class=\"ng-star-inserted\"><!-- --><td _ngcontent-app-root-c12=\"\" class=\"ng-star-inserted\"> 0.00 </td></tr><tr _ngcontent-app-root-c12=\"\" class=\"ng-star-inserted\"><!-- --><td _ngcontent-app-root-c12=\"\" class=\"ng-star-inserted\"> 0.00 </td></tr><tr _ngcontent-app-root-c12=\"\" class=\"ng-star-inserted\"><!-- --><td _ngcontent-app-root-c12=\"\" class=\"ng-star-inserted\"> 0.00 </td></tr><tr _ngcontent-app-root-c12=\"\" class=\"ng-star-inserted\"><!-- --><td _ngcontent-app-root-c12=\"\" class=\"ng-star-inserted\"> 0.45 </td></tr><tr _ngcontent-app-root-c12=\"\" class=\"ng-star-inserted\"><!-- --><td _ngcontent-app-root-c12=\"\" class=\"ng-star-inserted\"> 0.00 </td></tr><tr _ngcontent-app-root-c12=\"\" class=\"ng-star-inserted\"><!-- --><td _ngcontent-app-root-c12=\"\" class=\"ng-star-inserted\"> 0.00 </td></tr><tr _ngcontent-app-root-c12=\"\" class=\"ng-star-inserted\"><!-- --><td _ngcontent-app-root-c12=\"\" class=\"ng-star-inserted\"> 0.00 </td></tr><tr _ngcontent-app-root-c12=\"\" class=\"ng-star-inserted\"><!-- --><td _ngcontent-app-root-c12=\"\" class=\"ng-star-inserted\"> 0.00 </td></tr><tr _ngcontent-app-root-c12=\"\" class=\"ng-star-inserted\"><!-- --><td _ngcontent-app-root-c12=\"\" class=\"ng-star-inserted\"> 0.00 </td></tr><tr _ngcontent-app-root-c12=\"\" class=\"ng-star-inserted\"><!-- --><td _ngcontent-app-root-c12=\"\" class=\"ng-star-inserted\"> 0.00 </td></tr><tr _ngcontent-app-root-c12=\"\" class=\"ng-star-inserted\"><!-- --><td _ngcontent-app-root-c12=\"\" class=\"ng-star-inserted\"> 0.41 </td></tr><tr _ngcontent-app-root-c12=\"\" class=\"ng-star-inserted\"><!-- --><td _ngcontent-app-root-c12=\"\" class=\"ng-star-inserted\"> 0.62 </td></tr><tr _ngcontent-app-root-c12=\"\" class=\"ng-star-inserted\"><!-- --><td _ngcontent-app-root-c12=\"\" class=\"ng-star-inserted\"> 0.13 </td></tr><tr _ngcontent-app-root-c12=\"\" class=\"ng-star-inserted\"><!-- --><td _ngcontent-app-root-c12=\"\" class=\"ng-star-inserted\"> 0.00 </td></tr><tr _ngcontent-app-root-c12=\"\" class=\"ng-star-inserted\"><!-- --><td _ngcontent-app-root-c12=\"\" class=\"ng-star-inserted\"> 0.00 </td></tr></table></td>]"
            ]
          },
          "metadata": {
            "tags": []
          },
          "execution_count": 391
        }
      ]
    },
    {
      "cell_type": "code",
      "metadata": {
        "id": "O7MteNjotAAt",
        "colab_type": "code",
        "outputId": "09f4d7c4-2da6-4ec5-b310-32d8d50ff109",
        "colab": {
          "base_uri": "https://localhost:8080/",
          "height": 54
        }
      },
      "source": [
        "tds[0]"
      ],
      "execution_count": 0,
      "outputs": [
        {
          "output_type": "execute_result",
          "data": {
            "text/plain": [
              "<td _ngcontent-app-root-c12=\"\" class=\"ng-star-inserted\"><table _ngcontent-app-root-c12=\"\"><!-- --><tr _ngcontent-app-root-c12=\"\" class=\"ng-star-inserted\"><!-- --><td _ngcontent-app-root-c12=\"\" class=\"ng-star-inserted\"> Feb </td></tr><tr _ngcontent-app-root-c12=\"\" class=\"ng-star-inserted\"><!-- --><td _ngcontent-app-root-c12=\"\" class=\"ng-star-inserted\"> 1 </td></tr><tr _ngcontent-app-root-c12=\"\" class=\"ng-star-inserted\"><!-- --><td _ngcontent-app-root-c12=\"\" class=\"ng-star-inserted\"> 2 </td></tr><tr _ngcontent-app-root-c12=\"\" class=\"ng-star-inserted\"><!-- --><td _ngcontent-app-root-c12=\"\" class=\"ng-star-inserted\"> 3 </td></tr><tr _ngcontent-app-root-c12=\"\" class=\"ng-star-inserted\"><!-- --><td _ngcontent-app-root-c12=\"\" class=\"ng-star-inserted\"> 4 </td></tr><tr _ngcontent-app-root-c12=\"\" class=\"ng-star-inserted\"><!-- --><td _ngcontent-app-root-c12=\"\" class=\"ng-star-inserted\"> 5 </td></tr><tr _ngcontent-app-root-c12=\"\" class=\"ng-star-inserted\"><!-- --><td _ngcontent-app-root-c12=\"\" class=\"ng-star-inserted\"> 6 </td></tr><tr _ngcontent-app-root-c12=\"\" class=\"ng-star-inserted\"><!-- --><td _ngcontent-app-root-c12=\"\" class=\"ng-star-inserted\"> 7 </td></tr><tr _ngcontent-app-root-c12=\"\" class=\"ng-star-inserted\"><!-- --><td _ngcontent-app-root-c12=\"\" class=\"ng-star-inserted\"> 8 </td></tr><tr _ngcontent-app-root-c12=\"\" class=\"ng-star-inserted\"><!-- --><td _ngcontent-app-root-c12=\"\" class=\"ng-star-inserted\"> 9 </td></tr><tr _ngcontent-app-root-c12=\"\" class=\"ng-star-inserted\"><!-- --><td _ngcontent-app-root-c12=\"\" class=\"ng-star-inserted\"> 10 </td></tr><tr _ngcontent-app-root-c12=\"\" class=\"ng-star-inserted\"><!-- --><td _ngcontent-app-root-c12=\"\" class=\"ng-star-inserted\"> 11 </td></tr><tr _ngcontent-app-root-c12=\"\" class=\"ng-star-inserted\"><!-- --><td _ngcontent-app-root-c12=\"\" class=\"ng-star-inserted\"> 12 </td></tr><tr _ngcontent-app-root-c12=\"\" class=\"ng-star-inserted\"><!-- --><td _ngcontent-app-root-c12=\"\" class=\"ng-star-inserted\"> 13 </td></tr><tr _ngcontent-app-root-c12=\"\" class=\"ng-star-inserted\"><!-- --><td _ngcontent-app-root-c12=\"\" class=\"ng-star-inserted\"> 14 </td></tr><tr _ngcontent-app-root-c12=\"\" class=\"ng-star-inserted\"><!-- --><td _ngcontent-app-root-c12=\"\" class=\"ng-star-inserted\"> 15 </td></tr><tr _ngcontent-app-root-c12=\"\" class=\"ng-star-inserted\"><!-- --><td _ngcontent-app-root-c12=\"\" class=\"ng-star-inserted\"> 16 </td></tr><tr _ngcontent-app-root-c12=\"\" class=\"ng-star-inserted\"><!-- --><td _ngcontent-app-root-c12=\"\" class=\"ng-star-inserted\"> 17 </td></tr><tr _ngcontent-app-root-c12=\"\" class=\"ng-star-inserted\"><!-- --><td _ngcontent-app-root-c12=\"\" class=\"ng-star-inserted\"> 18 </td></tr><tr _ngcontent-app-root-c12=\"\" class=\"ng-star-inserted\"><!-- --><td _ngcontent-app-root-c12=\"\" class=\"ng-star-inserted\"> 19 </td></tr><tr _ngcontent-app-root-c12=\"\" class=\"ng-star-inserted\"><!-- --><td _ngcontent-app-root-c12=\"\" class=\"ng-star-inserted\"> 20 </td></tr><tr _ngcontent-app-root-c12=\"\" class=\"ng-star-inserted\"><!-- --><td _ngcontent-app-root-c12=\"\" class=\"ng-star-inserted\"> 21 </td></tr><tr _ngcontent-app-root-c12=\"\" class=\"ng-star-inserted\"><!-- --><td _ngcontent-app-root-c12=\"\" class=\"ng-star-inserted\"> 22 </td></tr><tr _ngcontent-app-root-c12=\"\" class=\"ng-star-inserted\"><!-- --><td _ngcontent-app-root-c12=\"\" class=\"ng-star-inserted\"> 23 </td></tr><tr _ngcontent-app-root-c12=\"\" class=\"ng-star-inserted\"><!-- --><td _ngcontent-app-root-c12=\"\" class=\"ng-star-inserted\"> 24 </td></tr><tr _ngcontent-app-root-c12=\"\" class=\"ng-star-inserted\"><!-- --><td _ngcontent-app-root-c12=\"\" class=\"ng-star-inserted\"> 25 </td></tr><tr _ngcontent-app-root-c12=\"\" class=\"ng-star-inserted\"><!-- --><td _ngcontent-app-root-c12=\"\" class=\"ng-star-inserted\"> 26 </td></tr><tr _ngcontent-app-root-c12=\"\" class=\"ng-star-inserted\"><!-- --><td _ngcontent-app-root-c12=\"\" class=\"ng-star-inserted\"> 27 </td></tr><tr _ngcontent-app-root-c12=\"\" class=\"ng-star-inserted\"><!-- --><td _ngcontent-app-root-c12=\"\" class=\"ng-star-inserted\"> 28 </td></tr><tr _ngcontent-app-root-c12=\"\" class=\"ng-star-inserted\"><!-- --><td _ngcontent-app-root-c12=\"\" class=\"ng-star-inserted\"> 29 </td></tr><tr _ngcontent-app-root-c12=\"\" class=\"ng-star-inserted\"><!-- --><td _ngcontent-app-root-c12=\"\" class=\"ng-star-inserted\"> 1 </td></tr></table></td>"
            ]
          },
          "metadata": {
            "tags": []
          },
          "execution_count": 392
        }
      ]
    },
    {
      "cell_type": "code",
      "metadata": {
        "id": "cXLnSXZotbSm",
        "colab_type": "code",
        "colab": {}
      },
      "source": [
        "firstTable = tds[0].find('table')\n",
        "firstCol = rowgetDataText(firstTable)\n",
        "#firstCol"
      ],
      "execution_count": 0,
      "outputs": []
    },
    {
      "cell_type": "code",
      "metadata": {
        "id": "2Pd2EbvNupwD",
        "colab_type": "code",
        "colab": {}
      },
      "source": [
        "precipitationTable = tds[6].find('table')\n",
        "precipitationCol = rowgetDataText(precipitationTable)\n",
        "#totalCol"
      ],
      "execution_count": 0,
      "outputs": []
    },
    {
      "cell_type": "code",
      "metadata": {
        "id": "TQdRVoKbvKK4",
        "colab_type": "code",
        "colab": {}
      },
      "source": [
        "tempTable = tds[1].find('table')\n",
        "tempCol = rowgetDataText(tempTable)\n",
        "#tempCol"
      ],
      "execution_count": 0,
      "outputs": []
    },
    {
      "cell_type": "code",
      "metadata": {
        "id": "XOjs7Y80veQK",
        "colab_type": "code",
        "colab": {}
      },
      "source": [
        "tempMin = []\n",
        "tempMax = []\n",
        "tempAvg = []\n",
        "for i in tempCol[0::3]:\n",
        "  tempMax.append(i)\n",
        "for i in tempCol[1::3]:\n",
        "  tempAvg.append(i)  \n",
        "for i in tempCol[2::3]:\n",
        "  tempMin.append(i) "
      ],
      "execution_count": 0,
      "outputs": []
    },
    {
      "cell_type": "code",
      "metadata": {
        "id": "0RTg68fRwxsw",
        "colab_type": "code",
        "colab": {}
      },
      "source": [
        "dewPointTable = tds[2].find('table')\n",
        "dewPointCol = rowgetDataText(dewPointTable)"
      ],
      "execution_count": 0,
      "outputs": []
    },
    {
      "cell_type": "code",
      "metadata": {
        "id": "hvTFRqDWxRMJ",
        "colab_type": "code",
        "colab": {}
      },
      "source": [
        "dewMin = []\n",
        "dewMax = []\n",
        "dewAvg = []\n",
        "for i in dewPointCol[0::3]:\n",
        "  dewMax.append(i)\n",
        "for i in dewPointCol[1::3]:\n",
        "  dewAvg.append(i)  \n",
        "for i in dewPointCol[2::3]:\n",
        "  dewMin.append(i) "
      ],
      "execution_count": 0,
      "outputs": []
    },
    {
      "cell_type": "code",
      "metadata": {
        "id": "ISpBhwpWxcx5",
        "colab_type": "code",
        "colab": {}
      },
      "source": [
        "humidityTable = tds[3].find('table')\n",
        "humidityCol = rowgetDataText(humidityTable)\n",
        "humidityMin = []\n",
        "humidityMax = []\n",
        "humidityAvg = []\n",
        "for i in humidityCol[0::3]:\n",
        "  humidityMax.append(i)\n",
        "for i in humidityCol[1::3]:\n",
        "  humidityAvg.append(i)  \n",
        "for i in humidityCol[2::3]:\n",
        "  humidityMin.append(i) "
      ],
      "execution_count": 0,
      "outputs": []
    },
    {
      "cell_type": "code",
      "metadata": {
        "id": "kdJexJ-Jxx9Y",
        "colab_type": "code",
        "colab": {}
      },
      "source": [
        "windSpeedTable = tds[4].find('table')\n",
        "windSpeedCol = rowgetDataText(windSpeedTable)\n",
        "windSpeedMin = []\n",
        "windSpeedMax = []\n",
        "windSpeedAvg = []\n",
        "for i in windSpeedCol[0::3]:\n",
        "  windSpeedMax.append(i)\n",
        "for i in windSpeedCol[1::3]:\n",
        "  windSpeedAvg.append(i)  \n",
        "for i in windSpeedCol[2::3]:\n",
        "  windSpeedMin.append(i) "
      ],
      "execution_count": 0,
      "outputs": []
    },
    {
      "cell_type": "code",
      "metadata": {
        "id": "CcwUetDFx_Sf",
        "colab_type": "code",
        "colab": {}
      },
      "source": [
        "pressureTable = tds[5].find('table')\n",
        "pressureCol = rowgetDataText(pressureTable)\n",
        "pressureMin = []\n",
        "pressureMax = []\n",
        "pressureAvg = []\n",
        "for i in pressureCol[0::3]:\n",
        "  pressureMax.append(i)\n",
        "for i in pressureCol[1::3]:\n",
        "  pressureAvg.append(i)  \n",
        "for i in pressureCol[2::3]:\n",
        "  pressureMin.append(i) "
      ],
      "execution_count": 0,
      "outputs": []
    },
    {
      "cell_type": "code",
      "metadata": {
        "id": "ghWRdh4p0uEO",
        "colab_type": "code",
        "outputId": "bdabebd2-2a54-499a-aff1-2a26393790b2",
        "colab": {
          "base_uri": "https://localhost:8080/",
          "height": 1000
        }
      },
      "source": [
        "list_of_tuples = list(zip(firstCol, tempMin, tempAvg, tempMax, dewMin, dewAvg, dewMax, humidityMin, humidityAvg, humidityMax, windSpeedMin, windSpeedAvg, windSpeedMax,pressureMin, pressureAvg, pressureMax, precipitationCol))  \n",
        "df = pd.DataFrame(list_of_tuples, columns = ['firstCol', 'tempMin', 'tempAvg', 'tempMax', 'dewMin', 'dewAvg', 'dewMax', 'humidityMin', 'humidityAvg', 'humidityMax', 'windSpeedMin', 'windSpeedAvg', 'windSpeedMax', 'pressureMin', 'pressureAvg', 'pressureMax', 'precipitationCol'])  \n",
        "\n",
        "df  "
      ],
      "execution_count": 0,
      "outputs": [
        {
          "output_type": "execute_result",
          "data": {
            "text/html": [
              "<div>\n",
              "<style scoped>\n",
              "    .dataframe tbody tr th:only-of-type {\n",
              "        vertical-align: middle;\n",
              "    }\n",
              "\n",
              "    .dataframe tbody tr th {\n",
              "        vertical-align: top;\n",
              "    }\n",
              "\n",
              "    .dataframe thead th {\n",
              "        text-align: right;\n",
              "    }\n",
              "</style>\n",
              "<table border=\"1\" class=\"dataframe\">\n",
              "  <thead>\n",
              "    <tr style=\"text-align: right;\">\n",
              "      <th></th>\n",
              "      <th>firstCol</th>\n",
              "      <th>tempMin</th>\n",
              "      <th>tempAvg</th>\n",
              "      <th>tempMax</th>\n",
              "      <th>dewMin</th>\n",
              "      <th>dewAvg</th>\n",
              "      <th>dewMax</th>\n",
              "      <th>humidityMin</th>\n",
              "      <th>humidityAvg</th>\n",
              "      <th>humidityMax</th>\n",
              "      <th>windSpeedMin</th>\n",
              "      <th>windSpeedAvg</th>\n",
              "      <th>windSpeedMax</th>\n",
              "      <th>pressureMin</th>\n",
              "      <th>pressureAvg</th>\n",
              "      <th>pressureMax</th>\n",
              "      <th>precipitationCol</th>\n",
              "    </tr>\n",
              "  </thead>\n",
              "  <tbody>\n",
              "    <tr>\n",
              "      <th>0</th>\n",
              "      <td>Feb</td>\n",
              "      <td>Min</td>\n",
              "      <td>Avg</td>\n",
              "      <td>Max</td>\n",
              "      <td>Min</td>\n",
              "      <td>Avg</td>\n",
              "      <td>Max</td>\n",
              "      <td>Min</td>\n",
              "      <td>Avg</td>\n",
              "      <td>Max</td>\n",
              "      <td>Min</td>\n",
              "      <td>Avg</td>\n",
              "      <td>Max</td>\n",
              "      <td>Min</td>\n",
              "      <td>Avg</td>\n",
              "      <td>Max</td>\n",
              "      <td>Total</td>\n",
              "    </tr>\n",
              "    <tr>\n",
              "      <th>1</th>\n",
              "      <td>1</td>\n",
              "      <td>35</td>\n",
              "      <td>38.1</td>\n",
              "      <td>40</td>\n",
              "      <td>28</td>\n",
              "      <td>31.7</td>\n",
              "      <td>34</td>\n",
              "      <td>68</td>\n",
              "      <td>78.0</td>\n",
              "      <td>86</td>\n",
              "      <td>0</td>\n",
              "      <td>4.3</td>\n",
              "      <td>8</td>\n",
              "      <td>29.6</td>\n",
              "      <td>29.9</td>\n",
              "      <td>30.2</td>\n",
              "      <td>0.02</td>\n",
              "    </tr>\n",
              "    <tr>\n",
              "      <th>2</th>\n",
              "      <td>2</td>\n",
              "      <td>37</td>\n",
              "      <td>39.3</td>\n",
              "      <td>42</td>\n",
              "      <td>20</td>\n",
              "      <td>25.4</td>\n",
              "      <td>31</td>\n",
              "      <td>41</td>\n",
              "      <td>58.8</td>\n",
              "      <td>76</td>\n",
              "      <td>0</td>\n",
              "      <td>7.1</td>\n",
              "      <td>12</td>\n",
              "      <td>29.4</td>\n",
              "      <td>29.5</td>\n",
              "      <td>29.6</td>\n",
              "      <td>0.00</td>\n",
              "    </tr>\n",
              "    <tr>\n",
              "      <th>3</th>\n",
              "      <td>3</td>\n",
              "      <td>35</td>\n",
              "      <td>42.2</td>\n",
              "      <td>49</td>\n",
              "      <td>22</td>\n",
              "      <td>26.3</td>\n",
              "      <td>29</td>\n",
              "      <td>41</td>\n",
              "      <td>53.9</td>\n",
              "      <td>64</td>\n",
              "      <td>5</td>\n",
              "      <td>9.6</td>\n",
              "      <td>15</td>\n",
              "      <td>29.5</td>\n",
              "      <td>29.7</td>\n",
              "      <td>29.9</td>\n",
              "      <td>0.00</td>\n",
              "    </tr>\n",
              "    <tr>\n",
              "      <th>4</th>\n",
              "      <td>4</td>\n",
              "      <td>36</td>\n",
              "      <td>42.0</td>\n",
              "      <td>47</td>\n",
              "      <td>27</td>\n",
              "      <td>31.9</td>\n",
              "      <td>35</td>\n",
              "      <td>57</td>\n",
              "      <td>67.8</td>\n",
              "      <td>76</td>\n",
              "      <td>0</td>\n",
              "      <td>3.7</td>\n",
              "      <td>9</td>\n",
              "      <td>29.7</td>\n",
              "      <td>29.8</td>\n",
              "      <td>29.9</td>\n",
              "      <td>0.00</td>\n",
              "    </tr>\n",
              "    <tr>\n",
              "      <th>5</th>\n",
              "      <td>5</td>\n",
              "      <td>34</td>\n",
              "      <td>39.8</td>\n",
              "      <td>43</td>\n",
              "      <td>11</td>\n",
              "      <td>24.6</td>\n",
              "      <td>36</td>\n",
              "      <td>37</td>\n",
              "      <td>56.5</td>\n",
              "      <td>76</td>\n",
              "      <td>0</td>\n",
              "      <td>6.0</td>\n",
              "      <td>13</td>\n",
              "      <td>29.8</td>\n",
              "      <td>29.9</td>\n",
              "      <td>30.1</td>\n",
              "      <td>0.05</td>\n",
              "    </tr>\n",
              "    <tr>\n",
              "      <th>6</th>\n",
              "      <td>6</td>\n",
              "      <td>33</td>\n",
              "      <td>37.9</td>\n",
              "      <td>41</td>\n",
              "      <td>14</td>\n",
              "      <td>32.1</td>\n",
              "      <td>37</td>\n",
              "      <td>46</td>\n",
              "      <td>80.6</td>\n",
              "      <td>87</td>\n",
              "      <td>0</td>\n",
              "      <td>12.7</td>\n",
              "      <td>22</td>\n",
              "      <td>29.4</td>\n",
              "      <td>29.8</td>\n",
              "      <td>30.0</td>\n",
              "      <td>0.29</td>\n",
              "    </tr>\n",
              "    <tr>\n",
              "      <th>7</th>\n",
              "      <td>7</td>\n",
              "      <td>31</td>\n",
              "      <td>39.9</td>\n",
              "      <td>56</td>\n",
              "      <td>14</td>\n",
              "      <td>33.4</td>\n",
              "      <td>47</td>\n",
              "      <td>50</td>\n",
              "      <td>78.5</td>\n",
              "      <td>90</td>\n",
              "      <td>3</td>\n",
              "      <td>14.6</td>\n",
              "      <td>41</td>\n",
              "      <td>28.6</td>\n",
              "      <td>29.1</td>\n",
              "      <td>29.5</td>\n",
              "      <td>0.21</td>\n",
              "    </tr>\n",
              "    <tr>\n",
              "      <th>8</th>\n",
              "      <td>8</td>\n",
              "      <td>26</td>\n",
              "      <td>30.1</td>\n",
              "      <td>37</td>\n",
              "      <td>7</td>\n",
              "      <td>10.2</td>\n",
              "      <td>14</td>\n",
              "      <td>33</td>\n",
              "      <td>43.8</td>\n",
              "      <td>51</td>\n",
              "      <td>9</td>\n",
              "      <td>17.0</td>\n",
              "      <td>23</td>\n",
              "      <td>29.6</td>\n",
              "      <td>30.0</td>\n",
              "      <td>30.4</td>\n",
              "      <td>0.26</td>\n",
              "    </tr>\n",
              "    <tr>\n",
              "      <th>9</th>\n",
              "      <td>9</td>\n",
              "      <td>20</td>\n",
              "      <td>29.4</td>\n",
              "      <td>38</td>\n",
              "      <td>7</td>\n",
              "      <td>16.0</td>\n",
              "      <td>29</td>\n",
              "      <td>47</td>\n",
              "      <td>57.6</td>\n",
              "      <td>70</td>\n",
              "      <td>0</td>\n",
              "      <td>7.5</td>\n",
              "      <td>15</td>\n",
              "      <td>30.4</td>\n",
              "      <td>30.5</td>\n",
              "      <td>30.6</td>\n",
              "      <td>0.00</td>\n",
              "    </tr>\n",
              "    <tr>\n",
              "      <th>10</th>\n",
              "      <td>10</td>\n",
              "      <td>38</td>\n",
              "      <td>44.2</td>\n",
              "      <td>47</td>\n",
              "      <td>30</td>\n",
              "      <td>36.2</td>\n",
              "      <td>39</td>\n",
              "      <td>70</td>\n",
              "      <td>73.5</td>\n",
              "      <td>76</td>\n",
              "      <td>6</td>\n",
              "      <td>14.2</td>\n",
              "      <td>23</td>\n",
              "      <td>30.0</td>\n",
              "      <td>30.1</td>\n",
              "      <td>30.4</td>\n",
              "      <td>0.03</td>\n",
              "    </tr>\n",
              "    <tr>\n",
              "      <th>11</th>\n",
              "      <td>11</td>\n",
              "      <td>40</td>\n",
              "      <td>41.8</td>\n",
              "      <td>45</td>\n",
              "      <td>35</td>\n",
              "      <td>37.1</td>\n",
              "      <td>40</td>\n",
              "      <td>74</td>\n",
              "      <td>83.5</td>\n",
              "      <td>89</td>\n",
              "      <td>0</td>\n",
              "      <td>6.5</td>\n",
              "      <td>12</td>\n",
              "      <td>29.7</td>\n",
              "      <td>29.9</td>\n",
              "      <td>30.1</td>\n",
              "      <td>0.14</td>\n",
              "    </tr>\n",
              "    <tr>\n",
              "      <th>12</th>\n",
              "      <td>12</td>\n",
              "      <td>38</td>\n",
              "      <td>41.3</td>\n",
              "      <td>45</td>\n",
              "      <td>18</td>\n",
              "      <td>22.8</td>\n",
              "      <td>34</td>\n",
              "      <td>35</td>\n",
              "      <td>49.4</td>\n",
              "      <td>73</td>\n",
              "      <td>8</td>\n",
              "      <td>11.7</td>\n",
              "      <td>15</td>\n",
              "      <td>29.8</td>\n",
              "      <td>30.0</td>\n",
              "      <td>30.1</td>\n",
              "      <td>0.16</td>\n",
              "    </tr>\n",
              "    <tr>\n",
              "      <th>13</th>\n",
              "      <td>13</td>\n",
              "      <td>35</td>\n",
              "      <td>38.5</td>\n",
              "      <td>41</td>\n",
              "      <td>26</td>\n",
              "      <td>32.9</td>\n",
              "      <td>36</td>\n",
              "      <td>55</td>\n",
              "      <td>80.8</td>\n",
              "      <td>89</td>\n",
              "      <td>0</td>\n",
              "      <td>6.3</td>\n",
              "      <td>25</td>\n",
              "      <td>29.6</td>\n",
              "      <td>29.7</td>\n",
              "      <td>30.0</td>\n",
              "      <td>0.42</td>\n",
              "    </tr>\n",
              "    <tr>\n",
              "      <th>14</th>\n",
              "      <td>14</td>\n",
              "      <td>15</td>\n",
              "      <td>27.9</td>\n",
              "      <td>40</td>\n",
              "      <td>-9</td>\n",
              "      <td>8.8</td>\n",
              "      <td>31</td>\n",
              "      <td>26</td>\n",
              "      <td>46.7</td>\n",
              "      <td>73</td>\n",
              "      <td>6</td>\n",
              "      <td>14.4</td>\n",
              "      <td>21</td>\n",
              "      <td>29.8</td>\n",
              "      <td>30.2</td>\n",
              "      <td>30.5</td>\n",
              "      <td>0.11</td>\n",
              "    </tr>\n",
              "    <tr>\n",
              "      <th>15</th>\n",
              "      <td>15</td>\n",
              "      <td>12</td>\n",
              "      <td>21.4</td>\n",
              "      <td>31</td>\n",
              "      <td>-9</td>\n",
              "      <td>0.0</td>\n",
              "      <td>14</td>\n",
              "      <td>29</td>\n",
              "      <td>40.0</td>\n",
              "      <td>56</td>\n",
              "      <td>5</td>\n",
              "      <td>10.3</td>\n",
              "      <td>16</td>\n",
              "      <td>30.3</td>\n",
              "      <td>30.5</td>\n",
              "      <td>30.6</td>\n",
              "      <td>0.00</td>\n",
              "    </tr>\n",
              "    <tr>\n",
              "      <th>16</th>\n",
              "      <td>16</td>\n",
              "      <td>29</td>\n",
              "      <td>38.3</td>\n",
              "      <td>46</td>\n",
              "      <td>15</td>\n",
              "      <td>19.6</td>\n",
              "      <td>24</td>\n",
              "      <td>37</td>\n",
              "      <td>47.7</td>\n",
              "      <td>61</td>\n",
              "      <td>3</td>\n",
              "      <td>11.5</td>\n",
              "      <td>20</td>\n",
              "      <td>30.0</td>\n",
              "      <td>30.1</td>\n",
              "      <td>30.3</td>\n",
              "      <td>0.00</td>\n",
              "    </tr>\n",
              "    <tr>\n",
              "      <th>17</th>\n",
              "      <td>17</td>\n",
              "      <td>33</td>\n",
              "      <td>40.8</td>\n",
              "      <td>48</td>\n",
              "      <td>11</td>\n",
              "      <td>18.8</td>\n",
              "      <td>24</td>\n",
              "      <td>27</td>\n",
              "      <td>43.0</td>\n",
              "      <td>67</td>\n",
              "      <td>0</td>\n",
              "      <td>9.1</td>\n",
              "      <td>14</td>\n",
              "      <td>30.1</td>\n",
              "      <td>30.2</td>\n",
              "      <td>30.4</td>\n",
              "      <td>0.00</td>\n",
              "    </tr>\n",
              "    <tr>\n",
              "      <th>18</th>\n",
              "      <td>18</td>\n",
              "      <td>32</td>\n",
              "      <td>39.0</td>\n",
              "      <td>42</td>\n",
              "      <td>11</td>\n",
              "      <td>28.4</td>\n",
              "      <td>36</td>\n",
              "      <td>40</td>\n",
              "      <td>66.8</td>\n",
              "      <td>82</td>\n",
              "      <td>5</td>\n",
              "      <td>11.0</td>\n",
              "      <td>17</td>\n",
              "      <td>29.9</td>\n",
              "      <td>30.2</td>\n",
              "      <td>30.5</td>\n",
              "      <td>0.00</td>\n",
              "    </tr>\n",
              "    <tr>\n",
              "      <th>19</th>\n",
              "      <td>19</td>\n",
              "      <td>34</td>\n",
              "      <td>41.6</td>\n",
              "      <td>46</td>\n",
              "      <td>7</td>\n",
              "      <td>20.1</td>\n",
              "      <td>35</td>\n",
              "      <td>25</td>\n",
              "      <td>45.7</td>\n",
              "      <td>83</td>\n",
              "      <td>6</td>\n",
              "      <td>14.9</td>\n",
              "      <td>26</td>\n",
              "      <td>29.9</td>\n",
              "      <td>30.1</td>\n",
              "      <td>30.3</td>\n",
              "      <td>0.45</td>\n",
              "    </tr>\n",
              "    <tr>\n",
              "      <th>20</th>\n",
              "      <td>20</td>\n",
              "      <td>24</td>\n",
              "      <td>30.6</td>\n",
              "      <td>36</td>\n",
              "      <td>4</td>\n",
              "      <td>5.6</td>\n",
              "      <td>7</td>\n",
              "      <td>29</td>\n",
              "      <td>35.3</td>\n",
              "      <td>44</td>\n",
              "      <td>5</td>\n",
              "      <td>11.9</td>\n",
              "      <td>16</td>\n",
              "      <td>30.3</td>\n",
              "      <td>30.4</td>\n",
              "      <td>30.4</td>\n",
              "      <td>0.00</td>\n",
              "    </tr>\n",
              "    <tr>\n",
              "      <th>21</th>\n",
              "      <td>21</td>\n",
              "      <td>17</td>\n",
              "      <td>25.7</td>\n",
              "      <td>33</td>\n",
              "      <td>-4</td>\n",
              "      <td>1.0</td>\n",
              "      <td>9</td>\n",
              "      <td>20</td>\n",
              "      <td>35.3</td>\n",
              "      <td>45</td>\n",
              "      <td>5</td>\n",
              "      <td>10.1</td>\n",
              "      <td>17</td>\n",
              "      <td>30.3</td>\n",
              "      <td>30.4</td>\n",
              "      <td>30.5</td>\n",
              "      <td>0.00</td>\n",
              "    </tr>\n",
              "    <tr>\n",
              "      <th>22</th>\n",
              "      <td>22</td>\n",
              "      <td>29</td>\n",
              "      <td>38.6</td>\n",
              "      <td>48</td>\n",
              "      <td>3</td>\n",
              "      <td>10.1</td>\n",
              "      <td>17</td>\n",
              "      <td>24</td>\n",
              "      <td>31.3</td>\n",
              "      <td>38</td>\n",
              "      <td>8</td>\n",
              "      <td>12.1</td>\n",
              "      <td>15</td>\n",
              "      <td>30.1</td>\n",
              "      <td>30.1</td>\n",
              "      <td>30.2</td>\n",
              "      <td>0.00</td>\n",
              "    </tr>\n",
              "    <tr>\n",
              "      <th>23</th>\n",
              "      <td>23</td>\n",
              "      <td>35</td>\n",
              "      <td>44.7</td>\n",
              "      <td>57</td>\n",
              "      <td>16</td>\n",
              "      <td>18.9</td>\n",
              "      <td>23</td>\n",
              "      <td>22</td>\n",
              "      <td>37.1</td>\n",
              "      <td>48</td>\n",
              "      <td>6</td>\n",
              "      <td>8.8</td>\n",
              "      <td>15</td>\n",
              "      <td>30.0</td>\n",
              "      <td>30.1</td>\n",
              "      <td>30.1</td>\n",
              "      <td>0.00</td>\n",
              "    </tr>\n",
              "    <tr>\n",
              "      <th>24</th>\n",
              "      <td>24</td>\n",
              "      <td>36</td>\n",
              "      <td>48.8</td>\n",
              "      <td>64</td>\n",
              "      <td>19</td>\n",
              "      <td>25.0</td>\n",
              "      <td>32</td>\n",
              "      <td>19</td>\n",
              "      <td>41.8</td>\n",
              "      <td>59</td>\n",
              "      <td>0</td>\n",
              "      <td>9.4</td>\n",
              "      <td>17</td>\n",
              "      <td>29.9</td>\n",
              "      <td>30.0</td>\n",
              "      <td>30.1</td>\n",
              "      <td>0.00</td>\n",
              "    </tr>\n",
              "    <tr>\n",
              "      <th>25</th>\n",
              "      <td>25</td>\n",
              "      <td>44</td>\n",
              "      <td>46.6</td>\n",
              "      <td>51</td>\n",
              "      <td>32</td>\n",
              "      <td>39.0</td>\n",
              "      <td>42</td>\n",
              "      <td>60</td>\n",
              "      <td>74.9</td>\n",
              "      <td>86</td>\n",
              "      <td>0</td>\n",
              "      <td>5.4</td>\n",
              "      <td>8</td>\n",
              "      <td>29.9</td>\n",
              "      <td>29.9</td>\n",
              "      <td>29.9</td>\n",
              "      <td>0.00</td>\n",
              "    </tr>\n",
              "    <tr>\n",
              "      <th>26</th>\n",
              "      <td>26</td>\n",
              "      <td>44</td>\n",
              "      <td>45.4</td>\n",
              "      <td>48</td>\n",
              "      <td>37</td>\n",
              "      <td>39.4</td>\n",
              "      <td>41</td>\n",
              "      <td>66</td>\n",
              "      <td>79.4</td>\n",
              "      <td>86</td>\n",
              "      <td>3</td>\n",
              "      <td>9.1</td>\n",
              "      <td>14</td>\n",
              "      <td>29.9</td>\n",
              "      <td>29.9</td>\n",
              "      <td>30.0</td>\n",
              "      <td>0.41</td>\n",
              "    </tr>\n",
              "    <tr>\n",
              "      <th>27</th>\n",
              "      <td>27</td>\n",
              "      <td>34</td>\n",
              "      <td>44.8</td>\n",
              "      <td>55</td>\n",
              "      <td>7</td>\n",
              "      <td>34.4</td>\n",
              "      <td>47</td>\n",
              "      <td>32</td>\n",
              "      <td>69.6</td>\n",
              "      <td>89</td>\n",
              "      <td>9</td>\n",
              "      <td>20.4</td>\n",
              "      <td>33</td>\n",
              "      <td>29.1</td>\n",
              "      <td>29.4</td>\n",
              "      <td>29.9</td>\n",
              "      <td>0.62</td>\n",
              "    </tr>\n",
              "    <tr>\n",
              "      <th>28</th>\n",
              "      <td>28</td>\n",
              "      <td>30</td>\n",
              "      <td>33.6</td>\n",
              "      <td>37</td>\n",
              "      <td>5</td>\n",
              "      <td>8.3</td>\n",
              "      <td>11</td>\n",
              "      <td>31</td>\n",
              "      <td>35.0</td>\n",
              "      <td>42</td>\n",
              "      <td>8</td>\n",
              "      <td>15.8</td>\n",
              "      <td>21</td>\n",
              "      <td>29.6</td>\n",
              "      <td>29.7</td>\n",
              "      <td>29.8</td>\n",
              "      <td>0.13</td>\n",
              "    </tr>\n",
              "    <tr>\n",
              "      <th>29</th>\n",
              "      <td>29</td>\n",
              "      <td>22</td>\n",
              "      <td>29.0</td>\n",
              "      <td>34</td>\n",
              "      <td>4</td>\n",
              "      <td>8.0</td>\n",
              "      <td>11</td>\n",
              "      <td>31</td>\n",
              "      <td>41.8</td>\n",
              "      <td>53</td>\n",
              "      <td>7</td>\n",
              "      <td>12.3</td>\n",
              "      <td>18</td>\n",
              "      <td>29.7</td>\n",
              "      <td>29.8</td>\n",
              "      <td>29.9</td>\n",
              "      <td>0.00</td>\n",
              "    </tr>\n",
              "    <tr>\n",
              "      <th>30</th>\n",
              "      <td>1</td>\n",
              "      <td>22</td>\n",
              "      <td>22.0</td>\n",
              "      <td>22</td>\n",
              "      <td>6</td>\n",
              "      <td>6.0</td>\n",
              "      <td>6</td>\n",
              "      <td>51</td>\n",
              "      <td>51.0</td>\n",
              "      <td>51</td>\n",
              "      <td>10</td>\n",
              "      <td>10.0</td>\n",
              "      <td>10</td>\n",
              "      <td>29.9</td>\n",
              "      <td>29.9</td>\n",
              "      <td>29.9</td>\n",
              "      <td>0.00</td>\n",
              "    </tr>\n",
              "  </tbody>\n",
              "</table>\n",
              "</div>"
            ],
            "text/plain": [
              "   firstCol tempMin tempAvg  ... pressureAvg pressureMax precipitationCol\n",
              "0       Feb     Min     Avg  ...         Avg         Max            Total\n",
              "1         1      35    38.1  ...        29.9        30.2             0.02\n",
              "2         2      37    39.3  ...        29.5        29.6             0.00\n",
              "3         3      35    42.2  ...        29.7        29.9             0.00\n",
              "4         4      36    42.0  ...        29.8        29.9             0.00\n",
              "5         5      34    39.8  ...        29.9        30.1             0.05\n",
              "6         6      33    37.9  ...        29.8        30.0             0.29\n",
              "7         7      31    39.9  ...        29.1        29.5             0.21\n",
              "8         8      26    30.1  ...        30.0        30.4             0.26\n",
              "9         9      20    29.4  ...        30.5        30.6             0.00\n",
              "10       10      38    44.2  ...        30.1        30.4             0.03\n",
              "11       11      40    41.8  ...        29.9        30.1             0.14\n",
              "12       12      38    41.3  ...        30.0        30.1             0.16\n",
              "13       13      35    38.5  ...        29.7        30.0             0.42\n",
              "14       14      15    27.9  ...        30.2        30.5             0.11\n",
              "15       15      12    21.4  ...        30.5        30.6             0.00\n",
              "16       16      29    38.3  ...        30.1        30.3             0.00\n",
              "17       17      33    40.8  ...        30.2        30.4             0.00\n",
              "18       18      32    39.0  ...        30.2        30.5             0.00\n",
              "19       19      34    41.6  ...        30.1        30.3             0.45\n",
              "20       20      24    30.6  ...        30.4        30.4             0.00\n",
              "21       21      17    25.7  ...        30.4        30.5             0.00\n",
              "22       22      29    38.6  ...        30.1        30.2             0.00\n",
              "23       23      35    44.7  ...        30.1        30.1             0.00\n",
              "24       24      36    48.8  ...        30.0        30.1             0.00\n",
              "25       25      44    46.6  ...        29.9        29.9             0.00\n",
              "26       26      44    45.4  ...        29.9        30.0             0.41\n",
              "27       27      34    44.8  ...        29.4        29.9             0.62\n",
              "28       28      30    33.6  ...        29.7        29.8             0.13\n",
              "29       29      22    29.0  ...        29.8        29.9             0.00\n",
              "30        1      22    22.0  ...        29.9        29.9             0.00\n",
              "\n",
              "[31 rows x 17 columns]"
            ]
          },
          "metadata": {
            "tags": []
          },
          "execution_count": 403
        }
      ]
    }
  ]
}