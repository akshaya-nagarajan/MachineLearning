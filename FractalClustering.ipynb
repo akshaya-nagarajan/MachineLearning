{
  "nbformat": 4,
  "nbformat_minor": 0,
  "metadata": {
    "colab": {
      "name": "FractalClustering.ipynb",
      "provenance": [],
      "collapsed_sections": [
        "DoBspyhd1YTA",
        "awXzqTar13sB",
        "6bBbIVZTkHDO",
        "-s2_sqm3jc3D"
      ],
      "include_colab_link": true
    },
    "kernelspec": {
      "name": "python3",
      "display_name": "Python 3"
    }
  },
  "cells": [
    {
      "cell_type": "markdown",
      "metadata": {
        "id": "view-in-github",
        "colab_type": "text"
      },
      "source": [
        "<a href=\"https://colab.research.google.com/github/akshaya-nagarajan/MachineLearning/blob/master/FractalClustering.ipynb\" target=\"_parent\"><img src=\"https://colab.research.google.com/assets/colab-badge.svg\" alt=\"Open In Colab\"/></a>"
      ]
    },
    {
      "cell_type": "markdown",
      "metadata": {
        "id": "DoBspyhd1YTA",
        "colab_type": "text"
      },
      "source": [
        "# Data collection, Cleaning, Amalgamation"
      ]
    },
    {
      "cell_type": "markdown",
      "metadata": {
        "id": "bQBH9nsrmnoA",
        "colab_type": "text"
      },
      "source": [
        "### Mounting drive"
      ]
    },
    {
      "cell_type": "code",
      "metadata": {
        "id": "LmhQCgyy3y4a",
        "colab_type": "code",
        "outputId": "e3900ee6-13c6-4fa9-aa3b-7f40d4b1bd22",
        "colab": {
          "base_uri": "https://localhost:8080/"
        }
      },
      "source": [
        "from google.colab import drive\n",
        "drive.mount('/content/gdrive', force_remount=True)\n",
        "root_dir = \"/content/gdrive/My Drive/MLSpring2020/\"\n",
        "base_dir = root_dir + 'the_expendables_AirQuality_Traffic'"
      ],
      "execution_count": 0,
      "outputs": [
        {
          "output_type": "stream",
          "text": [
            "Mounted at /content/gdrive\n"
          ],
          "name": "stdout"
        }
      ]
    },
    {
      "cell_type": "markdown",
      "metadata": {
        "id": "k2BeaZyfmtGe",
        "colab_type": "text"
      },
      "source": [
        "### File path and data frames\n"
      ]
    },
    {
      "cell_type": "code",
      "metadata": {
        "id": "9EM4rDhW39dd",
        "colab_type": "code",
        "colab": {}
      },
      "source": [
        "aqiFilePath = base_dir + '/aqidaily_2016_to_2019.csv'\n",
        "weatherFilePath = base_dir + '/bakersfield_weather_2016_to_2019.csv'"
      ],
      "execution_count": 0,
      "outputs": []
    },
    {
      "cell_type": "code",
      "metadata": {
        "id": "u_blyOBW473u",
        "colab_type": "code",
        "colab": {}
      },
      "source": [
        "import pandas as pd\n",
        "import numpy as np"
      ],
      "execution_count": 0,
      "outputs": []
    },
    {
      "cell_type": "code",
      "metadata": {
        "id": "xmcGlwql4-1g",
        "colab_type": "code",
        "colab": {}
      },
      "source": [
        "aqiDataFrame = pd.read_csv(aqiFilePath)\n",
        "weatherDataFrame = pd.read_csv(weatherFilePath)"
      ],
      "execution_count": 0,
      "outputs": []
    },
    {
      "cell_type": "code",
      "metadata": {
        "id": "ll5TFwfO5IXh",
        "colab_type": "code",
        "outputId": "0fa37f71-0557-491d-bc29-ad4885c4074e",
        "colab": {
          "base_uri": "https://localhost:8080/"
        }
      },
      "source": [
        "aqiDataFrame.head(2)"
      ],
      "execution_count": 0,
      "outputs": [
        {
          "output_type": "execute_result",
          "data": {
            "text/html": [
              "<div>\n",
              "<style scoped>\n",
              "    .dataframe tbody tr th:only-of-type {\n",
              "        vertical-align: middle;\n",
              "    }\n",
              "\n",
              "    .dataframe tbody tr th {\n",
              "        vertical-align: top;\n",
              "    }\n",
              "\n",
              "    .dataframe thead th {\n",
              "        text-align: right;\n",
              "    }\n",
              "</style>\n",
              "<table border=\"1\" class=\"dataframe\">\n",
              "  <thead>\n",
              "    <tr style=\"text-align: right;\">\n",
              "      <th></th>\n",
              "      <th>Date</th>\n",
              "      <th>Overall AQI Value</th>\n",
              "      <th>Main Pollutant</th>\n",
              "      <th>Site Name (of Overall AQI)</th>\n",
              "      <th>Site ID (of Overall AQI)</th>\n",
              "      <th>Source (of Overall AQI)</th>\n",
              "      <th>CO</th>\n",
              "      <th>Ozone</th>\n",
              "      <th>PM10</th>\n",
              "      <th>PM25</th>\n",
              "      <th>NO2</th>\n",
              "    </tr>\n",
              "  </thead>\n",
              "  <tbody>\n",
              "    <tr>\n",
              "      <th>0</th>\n",
              "      <td>1/1/16</td>\n",
              "      <td>148</td>\n",
              "      <td>PM2.5</td>\n",
              "      <td>Bakersfield-California</td>\n",
              "      <td>06-029-0014</td>\n",
              "      <td>AQS</td>\n",
              "      <td>8</td>\n",
              "      <td>37</td>\n",
              "      <td>52</td>\n",
              "      <td>148</td>\n",
              "      <td>23</td>\n",
              "    </tr>\n",
              "    <tr>\n",
              "      <th>1</th>\n",
              "      <td>1/2/16</td>\n",
              "      <td>113</td>\n",
              "      <td>PM2.5</td>\n",
              "      <td>Bakersfield-California</td>\n",
              "      <td>06-029-0014</td>\n",
              "      <td>AQS</td>\n",
              "      <td>7</td>\n",
              "      <td>37</td>\n",
              "      <td>14</td>\n",
              "      <td>113</td>\n",
              "      <td>25</td>\n",
              "    </tr>\n",
              "  </tbody>\n",
              "</table>\n",
              "</div>"
            ],
            "text/plain": [
              "     Date  Overall AQI Value Main Pollutant  ... PM10 PM25 NO2\n",
              "0  1/1/16                148          PM2.5  ...   52  148  23\n",
              "1  1/2/16                113          PM2.5  ...   14  113  25\n",
              "\n",
              "[2 rows x 11 columns]"
            ]
          },
          "metadata": {
            "tags": []
          },
          "execution_count": 141
        }
      ]
    },
    {
      "cell_type": "code",
      "metadata": {
        "id": "6gtNr8VK5p8x",
        "colab_type": "code",
        "outputId": "047a0464-c08c-41f9-91e6-c263e68e11ce",
        "colab": {
          "base_uri": "https://localhost:8080/"
        }
      },
      "source": [
        "weatherDataFrame.head(2)"
      ],
      "execution_count": 0,
      "outputs": [
        {
          "output_type": "execute_result",
          "data": {
            "text/html": [
              "<div>\n",
              "<style scoped>\n",
              "    .dataframe tbody tr th:only-of-type {\n",
              "        vertical-align: middle;\n",
              "    }\n",
              "\n",
              "    .dataframe tbody tr th {\n",
              "        vertical-align: top;\n",
              "    }\n",
              "\n",
              "    .dataframe thead th {\n",
              "        text-align: right;\n",
              "    }\n",
              "</style>\n",
              "<table border=\"1\" class=\"dataframe\">\n",
              "  <thead>\n",
              "    <tr style=\"text-align: right;\">\n",
              "      <th></th>\n",
              "      <th>date</th>\n",
              "      <th>temperature</th>\n",
              "      <th>temperature_min</th>\n",
              "      <th>temperature_max</th>\n",
              "      <th>precipitation</th>\n",
              "      <th>snowfall</th>\n",
              "      <th>snowdepth</th>\n",
              "      <th>winddirection</th>\n",
              "      <th>windspeed</th>\n",
              "      <th>peakgust</th>\n",
              "      <th>sunshine</th>\n",
              "      <th>pressure</th>\n",
              "    </tr>\n",
              "  </thead>\n",
              "  <tbody>\n",
              "    <tr>\n",
              "      <th>0</th>\n",
              "      <td>2016-01-01</td>\n",
              "      <td>4.4</td>\n",
              "      <td>-2.7</td>\n",
              "      <td>12.8</td>\n",
              "      <td>0.0</td>\n",
              "      <td>NaN</td>\n",
              "      <td>NaN</td>\n",
              "      <td>NaN</td>\n",
              "      <td>6.5</td>\n",
              "      <td>NaN</td>\n",
              "      <td>NaN</td>\n",
              "      <td>1020.3</td>\n",
              "    </tr>\n",
              "    <tr>\n",
              "      <th>1</th>\n",
              "      <td>2016-01-02</td>\n",
              "      <td>7.1</td>\n",
              "      <td>1.1</td>\n",
              "      <td>13.9</td>\n",
              "      <td>0.0</td>\n",
              "      <td>NaN</td>\n",
              "      <td>NaN</td>\n",
              "      <td>NaN</td>\n",
              "      <td>3.6</td>\n",
              "      <td>NaN</td>\n",
              "      <td>NaN</td>\n",
              "      <td>1017.9</td>\n",
              "    </tr>\n",
              "  </tbody>\n",
              "</table>\n",
              "</div>"
            ],
            "text/plain": [
              "         date  temperature  temperature_min  ...  peakgust  sunshine  pressure\n",
              "0  2016-01-01          4.4             -2.7  ...       NaN       NaN    1020.3\n",
              "1  2016-01-02          7.1              1.1  ...       NaN       NaN    1017.9\n",
              "\n",
              "[2 rows x 12 columns]"
            ]
          },
          "metadata": {
            "tags": []
          },
          "execution_count": 142
        }
      ]
    },
    {
      "cell_type": "markdown",
      "metadata": {
        "id": "PNCmej8sm3e3",
        "colab_type": "text"
      },
      "source": [
        "### Column names to lower case"
      ]
    },
    {
      "cell_type": "code",
      "metadata": {
        "id": "I2Jf20hX53-F",
        "colab_type": "code",
        "outputId": "55907425-1738-4f3c-9c18-e9a94a85fd01",
        "colab": {
          "base_uri": "https://localhost:8080/"
        }
      },
      "source": [
        "aqiDataFrame.columns = map(str.lower, aqiDataFrame.columns)\n",
        "aqiDataFrame.columns"
      ],
      "execution_count": 0,
      "outputs": [
        {
          "output_type": "execute_result",
          "data": {
            "text/plain": [
              "Index(['date', 'overall aqi value', 'main pollutant',\n",
              "       'site name (of overall aqi)', 'site id (of overall aqi)',\n",
              "       'source (of overall aqi)', 'co', 'ozone', 'pm10', 'pm25', 'no2'],\n",
              "      dtype='object')"
            ]
          },
          "metadata": {
            "tags": []
          },
          "execution_count": 143
        }
      ]
    },
    {
      "cell_type": "markdown",
      "metadata": {
        "id": "2oDXk75Qm8Sj",
        "colab_type": "text"
      },
      "source": [
        "### Common date format"
      ]
    },
    {
      "cell_type": "code",
      "metadata": {
        "id": "WWjR1ThQ7yRl",
        "colab_type": "code",
        "colab": {}
      },
      "source": [
        "aqiDataFrame['date'] = pd.to_datetime(aqiDataFrame['date']).dt.strftime('%m/%d/%Y')\n",
        "weatherDataFrame['date'] = pd.to_datetime(weatherDataFrame['date']).dt.strftime('%m/%d/%Y')"
      ],
      "execution_count": 0,
      "outputs": []
    },
    {
      "cell_type": "code",
      "metadata": {
        "id": "5c2KbHPK8HVU",
        "colab_type": "code",
        "outputId": "6da6eefe-7ccc-487f-b73f-f3bfb97efeea",
        "colab": {
          "base_uri": "https://localhost:8080/"
        }
      },
      "source": [
        "aqiDataFrame.head(2)"
      ],
      "execution_count": 0,
      "outputs": [
        {
          "output_type": "execute_result",
          "data": {
            "text/html": [
              "<div>\n",
              "<style scoped>\n",
              "    .dataframe tbody tr th:only-of-type {\n",
              "        vertical-align: middle;\n",
              "    }\n",
              "\n",
              "    .dataframe tbody tr th {\n",
              "        vertical-align: top;\n",
              "    }\n",
              "\n",
              "    .dataframe thead th {\n",
              "        text-align: right;\n",
              "    }\n",
              "</style>\n",
              "<table border=\"1\" class=\"dataframe\">\n",
              "  <thead>\n",
              "    <tr style=\"text-align: right;\">\n",
              "      <th></th>\n",
              "      <th>date</th>\n",
              "      <th>overall aqi value</th>\n",
              "      <th>main pollutant</th>\n",
              "      <th>site name (of overall aqi)</th>\n",
              "      <th>site id (of overall aqi)</th>\n",
              "      <th>source (of overall aqi)</th>\n",
              "      <th>co</th>\n",
              "      <th>ozone</th>\n",
              "      <th>pm10</th>\n",
              "      <th>pm25</th>\n",
              "      <th>no2</th>\n",
              "    </tr>\n",
              "  </thead>\n",
              "  <tbody>\n",
              "    <tr>\n",
              "      <th>0</th>\n",
              "      <td>01/01/2016</td>\n",
              "      <td>148</td>\n",
              "      <td>PM2.5</td>\n",
              "      <td>Bakersfield-California</td>\n",
              "      <td>06-029-0014</td>\n",
              "      <td>AQS</td>\n",
              "      <td>8</td>\n",
              "      <td>37</td>\n",
              "      <td>52</td>\n",
              "      <td>148</td>\n",
              "      <td>23</td>\n",
              "    </tr>\n",
              "    <tr>\n",
              "      <th>1</th>\n",
              "      <td>01/02/2016</td>\n",
              "      <td>113</td>\n",
              "      <td>PM2.5</td>\n",
              "      <td>Bakersfield-California</td>\n",
              "      <td>06-029-0014</td>\n",
              "      <td>AQS</td>\n",
              "      <td>7</td>\n",
              "      <td>37</td>\n",
              "      <td>14</td>\n",
              "      <td>113</td>\n",
              "      <td>25</td>\n",
              "    </tr>\n",
              "  </tbody>\n",
              "</table>\n",
              "</div>"
            ],
            "text/plain": [
              "         date  overall aqi value main pollutant  ... pm10 pm25 no2\n",
              "0  01/01/2016                148          PM2.5  ...   52  148  23\n",
              "1  01/02/2016                113          PM2.5  ...   14  113  25\n",
              "\n",
              "[2 rows x 11 columns]"
            ]
          },
          "metadata": {
            "tags": []
          },
          "execution_count": 145
        }
      ]
    },
    {
      "cell_type": "code",
      "metadata": {
        "id": "Z6J0fC7F8Ppd",
        "colab_type": "code",
        "outputId": "09321daa-705a-4097-ad9f-72609d02f2f4",
        "colab": {
          "base_uri": "https://localhost:8080/"
        }
      },
      "source": [
        "weatherDataFrame.head(2)"
      ],
      "execution_count": 0,
      "outputs": [
        {
          "output_type": "execute_result",
          "data": {
            "text/html": [
              "<div>\n",
              "<style scoped>\n",
              "    .dataframe tbody tr th:only-of-type {\n",
              "        vertical-align: middle;\n",
              "    }\n",
              "\n",
              "    .dataframe tbody tr th {\n",
              "        vertical-align: top;\n",
              "    }\n",
              "\n",
              "    .dataframe thead th {\n",
              "        text-align: right;\n",
              "    }\n",
              "</style>\n",
              "<table border=\"1\" class=\"dataframe\">\n",
              "  <thead>\n",
              "    <tr style=\"text-align: right;\">\n",
              "      <th></th>\n",
              "      <th>date</th>\n",
              "      <th>temperature</th>\n",
              "      <th>temperature_min</th>\n",
              "      <th>temperature_max</th>\n",
              "      <th>precipitation</th>\n",
              "      <th>snowfall</th>\n",
              "      <th>snowdepth</th>\n",
              "      <th>winddirection</th>\n",
              "      <th>windspeed</th>\n",
              "      <th>peakgust</th>\n",
              "      <th>sunshine</th>\n",
              "      <th>pressure</th>\n",
              "    </tr>\n",
              "  </thead>\n",
              "  <tbody>\n",
              "    <tr>\n",
              "      <th>0</th>\n",
              "      <td>01/01/2016</td>\n",
              "      <td>4.4</td>\n",
              "      <td>-2.7</td>\n",
              "      <td>12.8</td>\n",
              "      <td>0.0</td>\n",
              "      <td>NaN</td>\n",
              "      <td>NaN</td>\n",
              "      <td>NaN</td>\n",
              "      <td>6.5</td>\n",
              "      <td>NaN</td>\n",
              "      <td>NaN</td>\n",
              "      <td>1020.3</td>\n",
              "    </tr>\n",
              "    <tr>\n",
              "      <th>1</th>\n",
              "      <td>01/02/2016</td>\n",
              "      <td>7.1</td>\n",
              "      <td>1.1</td>\n",
              "      <td>13.9</td>\n",
              "      <td>0.0</td>\n",
              "      <td>NaN</td>\n",
              "      <td>NaN</td>\n",
              "      <td>NaN</td>\n",
              "      <td>3.6</td>\n",
              "      <td>NaN</td>\n",
              "      <td>NaN</td>\n",
              "      <td>1017.9</td>\n",
              "    </tr>\n",
              "  </tbody>\n",
              "</table>\n",
              "</div>"
            ],
            "text/plain": [
              "         date  temperature  temperature_min  ...  peakgust  sunshine  pressure\n",
              "0  01/01/2016          4.4             -2.7  ...       NaN       NaN    1020.3\n",
              "1  01/02/2016          7.1              1.1  ...       NaN       NaN    1017.9\n",
              "\n",
              "[2 rows x 12 columns]"
            ]
          },
          "metadata": {
            "tags": []
          },
          "execution_count": 146
        }
      ]
    },
    {
      "cell_type": "markdown",
      "metadata": {
        "id": "YjQLkPNVm_Uk",
        "colab_type": "text"
      },
      "source": [
        "### Merging the datasets"
      ]
    },
    {
      "cell_type": "code",
      "metadata": {
        "id": "aGPk72o15MjA",
        "colab_type": "code",
        "colab": {}
      },
      "source": [
        "df = pd.merge(aqiDataFrame, weatherDataFrame, on='date', how='inner')"
      ],
      "execution_count": 0,
      "outputs": []
    },
    {
      "cell_type": "code",
      "metadata": {
        "id": "SJfJ6tCI6Aax",
        "colab_type": "code",
        "outputId": "4b443ed7-c701-4829-eb09-db84482704a3",
        "colab": {
          "base_uri": "https://localhost:8080/"
        }
      },
      "source": [
        "df.head(2)"
      ],
      "execution_count": 0,
      "outputs": [
        {
          "output_type": "execute_result",
          "data": {
            "text/html": [
              "<div>\n",
              "<style scoped>\n",
              "    .dataframe tbody tr th:only-of-type {\n",
              "        vertical-align: middle;\n",
              "    }\n",
              "\n",
              "    .dataframe tbody tr th {\n",
              "        vertical-align: top;\n",
              "    }\n",
              "\n",
              "    .dataframe thead th {\n",
              "        text-align: right;\n",
              "    }\n",
              "</style>\n",
              "<table border=\"1\" class=\"dataframe\">\n",
              "  <thead>\n",
              "    <tr style=\"text-align: right;\">\n",
              "      <th></th>\n",
              "      <th>date</th>\n",
              "      <th>overall aqi value</th>\n",
              "      <th>main pollutant</th>\n",
              "      <th>site name (of overall aqi)</th>\n",
              "      <th>site id (of overall aqi)</th>\n",
              "      <th>source (of overall aqi)</th>\n",
              "      <th>co</th>\n",
              "      <th>ozone</th>\n",
              "      <th>pm10</th>\n",
              "      <th>pm25</th>\n",
              "      <th>no2</th>\n",
              "      <th>temperature</th>\n",
              "      <th>temperature_min</th>\n",
              "      <th>temperature_max</th>\n",
              "      <th>precipitation</th>\n",
              "      <th>snowfall</th>\n",
              "      <th>snowdepth</th>\n",
              "      <th>winddirection</th>\n",
              "      <th>windspeed</th>\n",
              "      <th>peakgust</th>\n",
              "      <th>sunshine</th>\n",
              "      <th>pressure</th>\n",
              "    </tr>\n",
              "  </thead>\n",
              "  <tbody>\n",
              "    <tr>\n",
              "      <th>0</th>\n",
              "      <td>01/01/2016</td>\n",
              "      <td>148</td>\n",
              "      <td>PM2.5</td>\n",
              "      <td>Bakersfield-California</td>\n",
              "      <td>06-029-0014</td>\n",
              "      <td>AQS</td>\n",
              "      <td>8</td>\n",
              "      <td>37</td>\n",
              "      <td>52</td>\n",
              "      <td>148</td>\n",
              "      <td>23</td>\n",
              "      <td>4.4</td>\n",
              "      <td>-2.7</td>\n",
              "      <td>12.8</td>\n",
              "      <td>0.0</td>\n",
              "      <td>NaN</td>\n",
              "      <td>NaN</td>\n",
              "      <td>NaN</td>\n",
              "      <td>6.5</td>\n",
              "      <td>NaN</td>\n",
              "      <td>NaN</td>\n",
              "      <td>1020.3</td>\n",
              "    </tr>\n",
              "    <tr>\n",
              "      <th>1</th>\n",
              "      <td>01/02/2016</td>\n",
              "      <td>113</td>\n",
              "      <td>PM2.5</td>\n",
              "      <td>Bakersfield-California</td>\n",
              "      <td>06-029-0014</td>\n",
              "      <td>AQS</td>\n",
              "      <td>7</td>\n",
              "      <td>37</td>\n",
              "      <td>14</td>\n",
              "      <td>113</td>\n",
              "      <td>25</td>\n",
              "      <td>7.1</td>\n",
              "      <td>1.1</td>\n",
              "      <td>13.9</td>\n",
              "      <td>0.0</td>\n",
              "      <td>NaN</td>\n",
              "      <td>NaN</td>\n",
              "      <td>NaN</td>\n",
              "      <td>3.6</td>\n",
              "      <td>NaN</td>\n",
              "      <td>NaN</td>\n",
              "      <td>1017.9</td>\n",
              "    </tr>\n",
              "  </tbody>\n",
              "</table>\n",
              "</div>"
            ],
            "text/plain": [
              "         date  overall aqi value main pollutant  ... peakgust sunshine pressure\n",
              "0  01/01/2016                148          PM2.5  ...      NaN      NaN   1020.3\n",
              "1  01/02/2016                113          PM2.5  ...      NaN      NaN   1017.9\n",
              "\n",
              "[2 rows x 22 columns]"
            ]
          },
          "metadata": {
            "tags": []
          },
          "execution_count": 148
        }
      ]
    },
    {
      "cell_type": "markdown",
      "metadata": {
        "id": "RpIhReNUnEHI",
        "colab_type": "text"
      },
      "source": [
        "### Renaming column names"
      ]
    },
    {
      "cell_type": "code",
      "metadata": {
        "id": "oT7ly1A96FW9",
        "colab_type": "code",
        "colab": {}
      },
      "source": [
        "df.rename(columns = {'overall aqi value':'aqi', 'site name (of overall aqi)':'location', 'site id (of overall aqi)':'location id',\n",
        "                     'source (of overall aqi)' : 'aqi source'}, inplace = True) "
      ],
      "execution_count": 0,
      "outputs": []
    },
    {
      "cell_type": "code",
      "metadata": {
        "id": "5bUg9TWD9bZ7",
        "colab_type": "code",
        "outputId": "4f0fb8d6-9f37-4137-b78b-7faf0feecf6d",
        "colab": {
          "base_uri": "https://localhost:8080/"
        }
      },
      "source": [
        "df.head(2)"
      ],
      "execution_count": 0,
      "outputs": [
        {
          "output_type": "execute_result",
          "data": {
            "text/html": [
              "<div>\n",
              "<style scoped>\n",
              "    .dataframe tbody tr th:only-of-type {\n",
              "        vertical-align: middle;\n",
              "    }\n",
              "\n",
              "    .dataframe tbody tr th {\n",
              "        vertical-align: top;\n",
              "    }\n",
              "\n",
              "    .dataframe thead th {\n",
              "        text-align: right;\n",
              "    }\n",
              "</style>\n",
              "<table border=\"1\" class=\"dataframe\">\n",
              "  <thead>\n",
              "    <tr style=\"text-align: right;\">\n",
              "      <th></th>\n",
              "      <th>date</th>\n",
              "      <th>aqi</th>\n",
              "      <th>main pollutant</th>\n",
              "      <th>location</th>\n",
              "      <th>location id</th>\n",
              "      <th>aqi source</th>\n",
              "      <th>co</th>\n",
              "      <th>ozone</th>\n",
              "      <th>pm10</th>\n",
              "      <th>pm25</th>\n",
              "      <th>no2</th>\n",
              "      <th>temperature</th>\n",
              "      <th>temperature_min</th>\n",
              "      <th>temperature_max</th>\n",
              "      <th>precipitation</th>\n",
              "      <th>snowfall</th>\n",
              "      <th>snowdepth</th>\n",
              "      <th>winddirection</th>\n",
              "      <th>windspeed</th>\n",
              "      <th>peakgust</th>\n",
              "      <th>sunshine</th>\n",
              "      <th>pressure</th>\n",
              "    </tr>\n",
              "  </thead>\n",
              "  <tbody>\n",
              "    <tr>\n",
              "      <th>0</th>\n",
              "      <td>01/01/2016</td>\n",
              "      <td>148</td>\n",
              "      <td>PM2.5</td>\n",
              "      <td>Bakersfield-California</td>\n",
              "      <td>06-029-0014</td>\n",
              "      <td>AQS</td>\n",
              "      <td>8</td>\n",
              "      <td>37</td>\n",
              "      <td>52</td>\n",
              "      <td>148</td>\n",
              "      <td>23</td>\n",
              "      <td>4.4</td>\n",
              "      <td>-2.7</td>\n",
              "      <td>12.8</td>\n",
              "      <td>0.0</td>\n",
              "      <td>NaN</td>\n",
              "      <td>NaN</td>\n",
              "      <td>NaN</td>\n",
              "      <td>6.5</td>\n",
              "      <td>NaN</td>\n",
              "      <td>NaN</td>\n",
              "      <td>1020.3</td>\n",
              "    </tr>\n",
              "    <tr>\n",
              "      <th>1</th>\n",
              "      <td>01/02/2016</td>\n",
              "      <td>113</td>\n",
              "      <td>PM2.5</td>\n",
              "      <td>Bakersfield-California</td>\n",
              "      <td>06-029-0014</td>\n",
              "      <td>AQS</td>\n",
              "      <td>7</td>\n",
              "      <td>37</td>\n",
              "      <td>14</td>\n",
              "      <td>113</td>\n",
              "      <td>25</td>\n",
              "      <td>7.1</td>\n",
              "      <td>1.1</td>\n",
              "      <td>13.9</td>\n",
              "      <td>0.0</td>\n",
              "      <td>NaN</td>\n",
              "      <td>NaN</td>\n",
              "      <td>NaN</td>\n",
              "      <td>3.6</td>\n",
              "      <td>NaN</td>\n",
              "      <td>NaN</td>\n",
              "      <td>1017.9</td>\n",
              "    </tr>\n",
              "  </tbody>\n",
              "</table>\n",
              "</div>"
            ],
            "text/plain": [
              "         date  aqi main pollutant  ... peakgust sunshine pressure\n",
              "0  01/01/2016  148          PM2.5  ...      NaN      NaN   1020.3\n",
              "1  01/02/2016  113          PM2.5  ...      NaN      NaN   1017.9\n",
              "\n",
              "[2 rows x 22 columns]"
            ]
          },
          "metadata": {
            "tags": []
          },
          "execution_count": 150
        }
      ]
    },
    {
      "cell_type": "code",
      "metadata": {
        "id": "rGcE2veM2y_9",
        "colab_type": "code",
        "colab": {}
      },
      "source": [
        "df.drop(df.columns[[15,16,17,19,20]], axis=1, inplace=True)"
      ],
      "execution_count": 0,
      "outputs": []
    },
    {
      "cell_type": "markdown",
      "metadata": {
        "id": "M8Wv-dnqnH0B",
        "colab_type": "text"
      },
      "source": [
        "### Shape of DF"
      ]
    },
    {
      "cell_type": "code",
      "metadata": {
        "id": "jpbxwks69dN9",
        "colab_type": "code",
        "outputId": "db46814c-d1ae-4440-db5b-37ff598c52fc",
        "colab": {
          "base_uri": "https://localhost:8080/"
        }
      },
      "source": [
        "df.shape"
      ],
      "execution_count": 0,
      "outputs": [
        {
          "output_type": "execute_result",
          "data": {
            "text/plain": [
              "(1461, 17)"
            ]
          },
          "metadata": {
            "tags": []
          },
          "execution_count": 152
        }
      ]
    },
    {
      "cell_type": "markdown",
      "metadata": {
        "id": "14flQ1bVnKzm",
        "colab_type": "text"
      },
      "source": [
        "### Columns with NaN "
      ]
    },
    {
      "cell_type": "code",
      "metadata": {
        "id": "S3ALhcQL-frL",
        "colab_type": "code",
        "outputId": "2c1c7ff5-0891-46d7-9250-6f02bf207df2",
        "colab": {
          "base_uri": "https://localhost:8080/"
        }
      },
      "source": [
        "df.columns[df.isna().any()].tolist()"
      ],
      "execution_count": 0,
      "outputs": [
        {
          "output_type": "execute_result",
          "data": {
            "text/plain": [
              "['precipitation', 'pressure']"
            ]
          },
          "metadata": {
            "tags": []
          },
          "execution_count": 153
        }
      ]
    },
    {
      "cell_type": "markdown",
      "metadata": {
        "id": "q8Ai9SySnPgx",
        "colab_type": "text"
      },
      "source": [
        "### Replacing invalid data with 0"
      ]
    },
    {
      "cell_type": "code",
      "metadata": {
        "id": "8gWpl6X49qni",
        "colab_type": "code",
        "outputId": "3f9a32dc-df20-4a50-a047-2957e314c4ba",
        "colab": {
          "base_uri": "https://localhost:8080/"
        }
      },
      "source": [
        "df = df.fillna(0)\n",
        "df['co'].replace('.','0',inplace=True)\n",
        "df['no2'].replace('.','0',inplace=True)\n",
        "df['pm10'].replace('.','0',inplace=True)\n",
        "df"
      ],
      "execution_count": 0,
      "outputs": [
        {
          "output_type": "execute_result",
          "data": {
            "text/html": [
              "<div>\n",
              "<style scoped>\n",
              "    .dataframe tbody tr th:only-of-type {\n",
              "        vertical-align: middle;\n",
              "    }\n",
              "\n",
              "    .dataframe tbody tr th {\n",
              "        vertical-align: top;\n",
              "    }\n",
              "\n",
              "    .dataframe thead th {\n",
              "        text-align: right;\n",
              "    }\n",
              "</style>\n",
              "<table border=\"1\" class=\"dataframe\">\n",
              "  <thead>\n",
              "    <tr style=\"text-align: right;\">\n",
              "      <th></th>\n",
              "      <th>date</th>\n",
              "      <th>aqi</th>\n",
              "      <th>main pollutant</th>\n",
              "      <th>location</th>\n",
              "      <th>location id</th>\n",
              "      <th>aqi source</th>\n",
              "      <th>co</th>\n",
              "      <th>ozone</th>\n",
              "      <th>pm10</th>\n",
              "      <th>pm25</th>\n",
              "      <th>no2</th>\n",
              "      <th>temperature</th>\n",
              "      <th>temperature_min</th>\n",
              "      <th>temperature_max</th>\n",
              "      <th>precipitation</th>\n",
              "      <th>windspeed</th>\n",
              "      <th>pressure</th>\n",
              "    </tr>\n",
              "  </thead>\n",
              "  <tbody>\n",
              "    <tr>\n",
              "      <th>0</th>\n",
              "      <td>01/01/2016</td>\n",
              "      <td>148</td>\n",
              "      <td>PM2.5</td>\n",
              "      <td>Bakersfield-California</td>\n",
              "      <td>06-029-0014</td>\n",
              "      <td>AQS</td>\n",
              "      <td>8</td>\n",
              "      <td>37</td>\n",
              "      <td>52</td>\n",
              "      <td>148</td>\n",
              "      <td>23</td>\n",
              "      <td>4.4</td>\n",
              "      <td>-2.7</td>\n",
              "      <td>12.8</td>\n",
              "      <td>0.0</td>\n",
              "      <td>6.5</td>\n",
              "      <td>1020.3</td>\n",
              "    </tr>\n",
              "    <tr>\n",
              "      <th>1</th>\n",
              "      <td>01/02/2016</td>\n",
              "      <td>113</td>\n",
              "      <td>PM2.5</td>\n",
              "      <td>Bakersfield-California</td>\n",
              "      <td>06-029-0014</td>\n",
              "      <td>AQS</td>\n",
              "      <td>7</td>\n",
              "      <td>37</td>\n",
              "      <td>14</td>\n",
              "      <td>113</td>\n",
              "      <td>25</td>\n",
              "      <td>7.1</td>\n",
              "      <td>1.1</td>\n",
              "      <td>13.9</td>\n",
              "      <td>0.0</td>\n",
              "      <td>3.6</td>\n",
              "      <td>1017.9</td>\n",
              "    </tr>\n",
              "    <tr>\n",
              "      <th>2</th>\n",
              "      <td>01/03/2016</td>\n",
              "      <td>80</td>\n",
              "      <td>PM2.5</td>\n",
              "      <td>Bakersfield-California</td>\n",
              "      <td>06-029-0014</td>\n",
              "      <td>AQS</td>\n",
              "      <td>7</td>\n",
              "      <td>36</td>\n",
              "      <td>9</td>\n",
              "      <td>80</td>\n",
              "      <td>28</td>\n",
              "      <td>9.6</td>\n",
              "      <td>3.9</td>\n",
              "      <td>20.0</td>\n",
              "      <td>0.0</td>\n",
              "      <td>11.5</td>\n",
              "      <td>1011.5</td>\n",
              "    </tr>\n",
              "    <tr>\n",
              "      <th>3</th>\n",
              "      <td>01/04/2016</td>\n",
              "      <td>87</td>\n",
              "      <td>PM2.5</td>\n",
              "      <td>Bakersfield-Airport (Planz)</td>\n",
              "      <td>06-029-0016</td>\n",
              "      <td>AQS</td>\n",
              "      <td>5</td>\n",
              "      <td>37</td>\n",
              "      <td>8</td>\n",
              "      <td>87</td>\n",
              "      <td>28</td>\n",
              "      <td>10.6</td>\n",
              "      <td>5.6</td>\n",
              "      <td>18.3</td>\n",
              "      <td>0.0</td>\n",
              "      <td>7.2</td>\n",
              "      <td>1008.8</td>\n",
              "    </tr>\n",
              "    <tr>\n",
              "      <th>4</th>\n",
              "      <td>01/05/2016</td>\n",
              "      <td>54</td>\n",
              "      <td>PM2.5</td>\n",
              "      <td>Bakersfield-California</td>\n",
              "      <td>06-029-0014</td>\n",
              "      <td>AQS</td>\n",
              "      <td>5</td>\n",
              "      <td>41</td>\n",
              "      <td>6</td>\n",
              "      <td>54</td>\n",
              "      <td>30</td>\n",
              "      <td>12.5</td>\n",
              "      <td>8.3</td>\n",
              "      <td>14.4</td>\n",
              "      <td>12.2</td>\n",
              "      <td>7.6</td>\n",
              "      <td>1008.2</td>\n",
              "    </tr>\n",
              "    <tr>\n",
              "      <th>...</th>\n",
              "      <td>...</td>\n",
              "      <td>...</td>\n",
              "      <td>...</td>\n",
              "      <td>...</td>\n",
              "      <td>...</td>\n",
              "      <td>...</td>\n",
              "      <td>...</td>\n",
              "      <td>...</td>\n",
              "      <td>...</td>\n",
              "      <td>...</td>\n",
              "      <td>...</td>\n",
              "      <td>...</td>\n",
              "      <td>...</td>\n",
              "      <td>...</td>\n",
              "      <td>...</td>\n",
              "      <td>...</td>\n",
              "      <td>...</td>\n",
              "    </tr>\n",
              "    <tr>\n",
              "      <th>1456</th>\n",
              "      <td>12/27/2019</td>\n",
              "      <td>36</td>\n",
              "      <td>PM2.5</td>\n",
              "      <td>Bakersfield-California</td>\n",
              "      <td>06-029-0014</td>\n",
              "      <td>AirNow</td>\n",
              "      <td>0</td>\n",
              "      <td>33</td>\n",
              "      <td>0</td>\n",
              "      <td>36</td>\n",
              "      <td>0</td>\n",
              "      <td>7.9</td>\n",
              "      <td>3.9</td>\n",
              "      <td>11.7</td>\n",
              "      <td>0.0</td>\n",
              "      <td>4.0</td>\n",
              "      <td>1017.3</td>\n",
              "    </tr>\n",
              "    <tr>\n",
              "      <th>1457</th>\n",
              "      <td>12/28/2019</td>\n",
              "      <td>58</td>\n",
              "      <td>PM2.5</td>\n",
              "      <td>Bakersfield-California</td>\n",
              "      <td>06-029-0014</td>\n",
              "      <td>AQS</td>\n",
              "      <td>0</td>\n",
              "      <td>32</td>\n",
              "      <td>2</td>\n",
              "      <td>58</td>\n",
              "      <td>0</td>\n",
              "      <td>7.1</td>\n",
              "      <td>1.7</td>\n",
              "      <td>13.3</td>\n",
              "      <td>0.0</td>\n",
              "      <td>3.2</td>\n",
              "      <td>1020.8</td>\n",
              "    </tr>\n",
              "    <tr>\n",
              "      <th>1458</th>\n",
              "      <td>12/29/2019</td>\n",
              "      <td>60</td>\n",
              "      <td>PM2.5</td>\n",
              "      <td>Bakersfield-Golden/M St</td>\n",
              "      <td>06-029-0010</td>\n",
              "      <td>AQS</td>\n",
              "      <td>0</td>\n",
              "      <td>31</td>\n",
              "      <td>3</td>\n",
              "      <td>60</td>\n",
              "      <td>0</td>\n",
              "      <td>7.6</td>\n",
              "      <td>2.8</td>\n",
              "      <td>15.6</td>\n",
              "      <td>0.0</td>\n",
              "      <td>2.9</td>\n",
              "      <td>1019.5</td>\n",
              "    </tr>\n",
              "    <tr>\n",
              "      <th>1459</th>\n",
              "      <td>12/30/2019</td>\n",
              "      <td>62</td>\n",
              "      <td>PM2.5</td>\n",
              "      <td>Bakersfield-California</td>\n",
              "      <td>06-029-0014</td>\n",
              "      <td>AQS</td>\n",
              "      <td>0</td>\n",
              "      <td>34</td>\n",
              "      <td>4</td>\n",
              "      <td>62</td>\n",
              "      <td>0</td>\n",
              "      <td>10.4</td>\n",
              "      <td>5.6</td>\n",
              "      <td>13.9</td>\n",
              "      <td>0.0</td>\n",
              "      <td>7.9</td>\n",
              "      <td>1018.4</td>\n",
              "    </tr>\n",
              "    <tr>\n",
              "      <th>1460</th>\n",
              "      <td>12/31/2019</td>\n",
              "      <td>85</td>\n",
              "      <td>PM2.5</td>\n",
              "      <td>Bakersfield-California</td>\n",
              "      <td>06-029-0014</td>\n",
              "      <td>AQS</td>\n",
              "      <td>0</td>\n",
              "      <td>35</td>\n",
              "      <td>3</td>\n",
              "      <td>85</td>\n",
              "      <td>0</td>\n",
              "      <td>8.3</td>\n",
              "      <td>2.8</td>\n",
              "      <td>14.4</td>\n",
              "      <td>0.0</td>\n",
              "      <td>6.8</td>\n",
              "      <td>0.0</td>\n",
              "    </tr>\n",
              "  </tbody>\n",
              "</table>\n",
              "<p>1461 rows × 17 columns</p>\n",
              "</div>"
            ],
            "text/plain": [
              "            date  aqi main pollutant  ... precipitation windspeed pressure\n",
              "0     01/01/2016  148          PM2.5  ...           0.0       6.5   1020.3\n",
              "1     01/02/2016  113          PM2.5  ...           0.0       3.6   1017.9\n",
              "2     01/03/2016   80          PM2.5  ...           0.0      11.5   1011.5\n",
              "3     01/04/2016   87          PM2.5  ...           0.0       7.2   1008.8\n",
              "4     01/05/2016   54          PM2.5  ...          12.2       7.6   1008.2\n",
              "...          ...  ...            ...  ...           ...       ...      ...\n",
              "1456  12/27/2019   36          PM2.5  ...           0.0       4.0   1017.3\n",
              "1457  12/28/2019   58          PM2.5  ...           0.0       3.2   1020.8\n",
              "1458  12/29/2019   60          PM2.5  ...           0.0       2.9   1019.5\n",
              "1459  12/30/2019   62          PM2.5  ...           0.0       7.9   1018.4\n",
              "1460  12/31/2019   85          PM2.5  ...           0.0       6.8      0.0\n",
              "\n",
              "[1461 rows x 17 columns]"
            ]
          },
          "metadata": {
            "tags": []
          },
          "execution_count": 154
        }
      ]
    },
    {
      "cell_type": "code",
      "metadata": {
        "id": "fEqkPNQfXAIX",
        "colab_type": "code",
        "colab": {}
      },
      "source": [
        "# c = df['temperature_min'] < 0\n",
        "# df['temperature_min'] =  df['temperature_min'].astype(float)\n",
        "# newdf = df[c]\n",
        "# newdf"
      ],
      "execution_count": 0,
      "outputs": []
    },
    {
      "cell_type": "code",
      "metadata": {
        "id": "6_ypaORzCTep",
        "colab_type": "code",
        "outputId": "b7838f3b-7d78-4f87-b495-4909a65b555f",
        "colab": {
          "base_uri": "https://localhost:8080/"
        }
      },
      "source": [
        "df.dtypes"
      ],
      "execution_count": 0,
      "outputs": [
        {
          "output_type": "execute_result",
          "data": {
            "text/plain": [
              "date                object\n",
              "aqi                  int64\n",
              "main pollutant      object\n",
              "location            object\n",
              "location id         object\n",
              "aqi source          object\n",
              "co                  object\n",
              "ozone                int64\n",
              "pm10                object\n",
              "pm25                 int64\n",
              "no2                 object\n",
              "temperature        float64\n",
              "temperature_min    float64\n",
              "temperature_max    float64\n",
              "precipitation      float64\n",
              "windspeed          float64\n",
              "pressure           float64\n",
              "dtype: object"
            ]
          },
          "metadata": {
            "tags": []
          },
          "execution_count": 156
        }
      ]
    },
    {
      "cell_type": "markdown",
      "metadata": {
        "id": "HbkYpwqJnWzo",
        "colab_type": "text"
      },
      "source": [
        "### Object to Float"
      ]
    },
    {
      "cell_type": "code",
      "metadata": {
        "id": "l9pCOkV8Cfo4",
        "colab_type": "code",
        "colab": {}
      },
      "source": [
        "def covert_to_float(param):\n",
        "    df[param] =  df[param].astype(float)\n",
        "\n",
        "arr = ['aqi','co','no2','pm10']\n",
        "for i in arr:\n",
        "    covert_to_float(i)"
      ],
      "execution_count": 0,
      "outputs": []
    },
    {
      "cell_type": "code",
      "metadata": {
        "id": "O07vThByls0O",
        "colab_type": "code",
        "outputId": "8d67b38b-720d-4a77-d53e-489adcdb9c82",
        "colab": {
          "base_uri": "https://localhost:8080/"
        }
      },
      "source": [
        "df.dtypes"
      ],
      "execution_count": 0,
      "outputs": [
        {
          "output_type": "execute_result",
          "data": {
            "text/plain": [
              "date                object\n",
              "aqi                float64\n",
              "main pollutant      object\n",
              "location            object\n",
              "location id         object\n",
              "aqi source          object\n",
              "co                 float64\n",
              "ozone                int64\n",
              "pm10               float64\n",
              "pm25                 int64\n",
              "no2                float64\n",
              "temperature        float64\n",
              "temperature_min    float64\n",
              "temperature_max    float64\n",
              "precipitation      float64\n",
              "windspeed          float64\n",
              "pressure           float64\n",
              "dtype: object"
            ]
          },
          "metadata": {
            "tags": []
          },
          "execution_count": 158
        }
      ]
    },
    {
      "cell_type": "code",
      "metadata": {
        "id": "mKqfqjy1EK0c",
        "colab_type": "code",
        "outputId": "74f0abd8-153a-41a6-fcbd-abbb444f7a3e",
        "colab": {
          "base_uri": "https://localhost:8080/"
        }
      },
      "source": [
        "df.columns[df.isna().any()].tolist()"
      ],
      "execution_count": 0,
      "outputs": [
        {
          "output_type": "execute_result",
          "data": {
            "text/plain": [
              "[]"
            ]
          },
          "metadata": {
            "tags": []
          },
          "execution_count": 159
        }
      ]
    },
    {
      "cell_type": "code",
      "metadata": {
        "id": "NVYZ9AMaFtv2",
        "colab_type": "code",
        "outputId": "c6cca1a0-ca5d-4941-da30-f1510f9665b0",
        "colab": {
          "base_uri": "https://localhost:8080/"
        }
      },
      "source": [
        "df.columns"
      ],
      "execution_count": 0,
      "outputs": [
        {
          "output_type": "execute_result",
          "data": {
            "text/plain": [
              "Index(['date', 'aqi', 'main pollutant', 'location', 'location id',\n",
              "       'aqi source', 'co', 'ozone', 'pm10', 'pm25', 'no2', 'temperature',\n",
              "       'temperature_min', 'temperature_max', 'precipitation', 'windspeed',\n",
              "       'pressure'],\n",
              "      dtype='object')"
            ]
          },
          "metadata": {
            "tags": []
          },
          "execution_count": 160
        }
      ]
    },
    {
      "cell_type": "markdown",
      "metadata": {
        "id": "awXzqTar13sB",
        "colab_type": "text"
      },
      "source": [
        "# Heatmap: Correlation"
      ]
    },
    {
      "cell_type": "code",
      "metadata": {
        "id": "LqaWm-Hv1rGa",
        "colab_type": "code",
        "outputId": "9c8c1ffb-e859-4350-ab21-e81380a6caa4",
        "colab": {
          "base_uri": "https://localhost:8080/"
        }
      },
      "source": [
        "import seaborn as sns\n",
        "corrMatrix = df.corr()\n",
        "sns.set(rc={'figure.figsize':(11.7,8.27)})\n",
        "sns.heatmap(corrMatrix, annot=True)"
      ],
      "execution_count": 0,
      "outputs": [
        {
          "output_type": "execute_result",
          "data": {
            "text/plain": [
              "<matplotlib.axes._subplots.AxesSubplot at 0x7fdf03431390>"
            ]
          },
          "metadata": {
            "tags": []
          },
          "execution_count": 161
        },
        {
          "output_type": "display_data",
          "data": {
            "image/png": "[encoded data removed]",
            "text/plain": [
              "<Figure size 842.4x595.44 with 2 Axes>"
            ]
          },
          "metadata": {
            "tags": []
          }
        }
      ]
    },
    {
      "cell_type": "markdown",
      "metadata": {
        "id": "CV4MGx3AhlF5",
        "colab_type": "text"
      },
      "source": [
        "# Fractal Clustering"
      ]
    },
    {
      "cell_type": "code",
      "metadata": {
        "id": "wrKxFLqxpPcI",
        "colab_type": "code",
        "colab": {}
      },
      "source": [
        "from sklearn.cluster import KMeans\n",
        "from sklearn.mixture import GaussianMixture\n",
        "from sklearn.metrics import silhouette_score\n",
        "%matplotlib inline\n",
        "import matplotlib\n",
        "import matplotlib.pyplot as plt"
      ],
      "execution_count": 0,
      "outputs": []
    },
    {
      "cell_type": "markdown",
      "metadata": {
        "id": "6bBbIVZTkHDO",
        "colab_type": "text"
      },
      "source": [
        "## Elbow Method"
      ]
    },
    {
      "cell_type": "code",
      "metadata": {
        "id": "lEQnYCFaoh0p",
        "colab_type": "code",
        "colab": {}
      },
      "source": [
        "def elbow_method():\n",
        "    Error =[]\n",
        "    x = df.iloc[:, [1,6,7,8,9,10,11,12,13,14,15,16]].values\n",
        "    for i in range(1, 11):\n",
        "        kmeans = KMeans(n_clusters = i).fit(x)\n",
        "        kmeans.fit(x)\n",
        "        Error.append(kmeans.inertia_)\n",
        "    plt.figure(figsize=(5,5))\n",
        "    plt.plot(range(1, 11), Error)\n",
        "    plt.title('Elbow method')\n",
        "    plt.xlabel('No of clusters')\n",
        "    plt.ylabel('Error')\n",
        "    plt.show()\n",
        "    "
      ],
      "execution_count": 0,
      "outputs": []
    },
    {
      "cell_type": "code",
      "metadata": {
        "id": "bIFaIkVPkF_8",
        "colab_type": "code",
        "outputId": "9aeb5377-c167-4119-de4d-57182091a710",
        "colab": {
          "base_uri": "https://localhost:8080/"
        }
      },
      "source": [
        "elbow_method()"
      ],
      "execution_count": 0,
      "outputs": [
        {
          "output_type": "display_data",
          "data": {
            "image/png": "[encoded data removed]",
            "text/plain": [
              "<Figure size 360x360 with 1 Axes>"
            ]
          },
          "metadata": {
            "tags": []
          }
        }
      ]
    },
    {
      "cell_type": "markdown",
      "metadata": {
        "id": "-s2_sqm3jc3D",
        "colab_type": "text"
      },
      "source": [
        "## Silhouette score"
      ]
    },
    {
      "cell_type": "code",
      "metadata": {
        "id": "B-AZmgD0kN7U",
        "colab_type": "code",
        "outputId": "36fbd0c3-9f49-40cb-b7a9-fa69a1058022",
        "colab": {
          "base_uri": "https://localhost:8080/"
        }
      },
      "source": [
        "range_n_clusters = list (range(2,10))\n",
        "for n_clusters in range_n_clusters:\n",
        "    clusterer = KMeans(n_clusters=n_clusters)\n",
        "    preds = clusterer.fit_predict(df.iloc[:, [1,6,7,8,9,10,11,12,13,14,15,16]].values)\n",
        "    centers = clusterer.cluster_centers_\n",
        "    score = silhouette_score(df.iloc[:, [1,6,7,8,9,10,11,12,13,14,15,16]].values, preds)\n",
        "    print(\"For n_clusters = {}, silhouette score is {})\".format(n_clusters, score))"
      ],
      "execution_count": 0,
      "outputs": [
        {
          "output_type": "stream",
          "text": [
            "For n_clusters = 2, silhouette score is 0.9186307855556037)\n",
            "For n_clusters = 3, silhouette score is 0.44992007778317883)\n",
            "For n_clusters = 4, silhouette score is 0.48107366158947495)\n",
            "For n_clusters = 5, silhouette score is 0.3883478935409914)\n",
            "For n_clusters = 6, silhouette score is 0.3832946242038697)\n",
            "For n_clusters = 7, silhouette score is 0.3799355160735736)\n",
            "For n_clusters = 8, silhouette score is 0.3208147329541496)\n",
            "For n_clusters = 9, silhouette score is 0.31841265029319027)\n"
          ],
          "name": "stdout"
        }
      ]
    },
    {
      "cell_type": "markdown",
      "metadata": {
        "id": "gDyDZ1LFjGZD",
        "colab_type": "text"
      },
      "source": [
        "## GMM"
      ]
    },
    {
      "cell_type": "code",
      "metadata": {
        "id": "Qt5o4sqshpQw",
        "colab_type": "code",
        "outputId": "d72ef35e-692d-4463-a79f-0f2a3c08a73e",
        "colab": {
          "base_uri": "https://localhost:8080/",
          "height": 306
        }
      },
      "source": [
        "gmm = GaussianMixture(n_components = 2 , covariance_type='spherical').fit(df.iloc[:,[1,6,7,8,9,10,11,12,13,14,15,16]].values)\n",
        "y_gmm = gmm.predict(df.iloc[:,[1,6,7,8,9,10,11,12,13,14,15,16]].values)\n",
        "df['clusterGMM'] = y_gmm\n",
        "df.tail()"
      ],
      "execution_count": 0,
      "outputs": [
        {
          "output_type": "execute_result",
          "data": {
            "text/html": [
              "<div>\n",
              "<style scoped>\n",
              "    .dataframe tbody tr th:only-of-type {\n",
              "        vertical-align: middle;\n",
              "    }\n",
              "\n",
              "    .dataframe tbody tr th {\n",
              "        vertical-align: top;\n",
              "    }\n",
              "\n",
              "    .dataframe thead th {\n",
              "        text-align: right;\n",
              "    }\n",
              "</style>\n",
              "<table border=\"1\" class=\"dataframe\">\n",
              "  <thead>\n",
              "    <tr style=\"text-align: right;\">\n",
              "      <th></th>\n",
              "      <th>date</th>\n",
              "      <th>aqi</th>\n",
              "      <th>main pollutant</th>\n",
              "      <th>location</th>\n",
              "      <th>location id</th>\n",
              "      <th>aqi source</th>\n",
              "      <th>co</th>\n",
              "      <th>ozone</th>\n",
              "      <th>pm10</th>\n",
              "      <th>pm25</th>\n",
              "      <th>no2</th>\n",
              "      <th>temperature</th>\n",
              "      <th>temperature_min</th>\n",
              "      <th>temperature_max</th>\n",
              "      <th>precipitation</th>\n",
              "      <th>windspeed</th>\n",
              "      <th>pressure</th>\n",
              "      <th>clusterGMM</th>\n",
              "    </tr>\n",
              "  </thead>\n",
              "  <tbody>\n",
              "    <tr>\n",
              "      <th>1456</th>\n",
              "      <td>12/27/2019</td>\n",
              "      <td>36.0</td>\n",
              "      <td>PM2.5</td>\n",
              "      <td>Bakersfield-California</td>\n",
              "      <td>06-029-0014</td>\n",
              "      <td>AirNow</td>\n",
              "      <td>0.0</td>\n",
              "      <td>33</td>\n",
              "      <td>0.0</td>\n",
              "      <td>36</td>\n",
              "      <td>0.0</td>\n",
              "      <td>7.9</td>\n",
              "      <td>3.9</td>\n",
              "      <td>11.7</td>\n",
              "      <td>0.0</td>\n",
              "      <td>4.0</td>\n",
              "      <td>1017.3</td>\n",
              "      <td>0</td>\n",
              "    </tr>\n",
              "    <tr>\n",
              "      <th>1457</th>\n",
              "      <td>12/28/2019</td>\n",
              "      <td>58.0</td>\n",
              "      <td>PM2.5</td>\n",
              "      <td>Bakersfield-California</td>\n",
              "      <td>06-029-0014</td>\n",
              "      <td>AQS</td>\n",
              "      <td>0.0</td>\n",
              "      <td>32</td>\n",
              "      <td>2.0</td>\n",
              "      <td>58</td>\n",
              "      <td>0.0</td>\n",
              "      <td>7.1</td>\n",
              "      <td>1.7</td>\n",
              "      <td>13.3</td>\n",
              "      <td>0.0</td>\n",
              "      <td>3.2</td>\n",
              "      <td>1020.8</td>\n",
              "      <td>0</td>\n",
              "    </tr>\n",
              "    <tr>\n",
              "      <th>1458</th>\n",
              "      <td>12/29/2019</td>\n",
              "      <td>60.0</td>\n",
              "      <td>PM2.5</td>\n",
              "      <td>Bakersfield-Golden/M St</td>\n",
              "      <td>06-029-0010</td>\n",
              "      <td>AQS</td>\n",
              "      <td>0.0</td>\n",
              "      <td>31</td>\n",
              "      <td>3.0</td>\n",
              "      <td>60</td>\n",
              "      <td>0.0</td>\n",
              "      <td>7.6</td>\n",
              "      <td>2.8</td>\n",
              "      <td>15.6</td>\n",
              "      <td>0.0</td>\n",
              "      <td>2.9</td>\n",
              "      <td>1019.5</td>\n",
              "      <td>0</td>\n",
              "    </tr>\n",
              "    <tr>\n",
              "      <th>1459</th>\n",
              "      <td>12/30/2019</td>\n",
              "      <td>62.0</td>\n",
              "      <td>PM2.5</td>\n",
              "      <td>Bakersfield-California</td>\n",
              "      <td>06-029-0014</td>\n",
              "      <td>AQS</td>\n",
              "      <td>0.0</td>\n",
              "      <td>34</td>\n",
              "      <td>4.0</td>\n",
              "      <td>62</td>\n",
              "      <td>0.0</td>\n",
              "      <td>10.4</td>\n",
              "      <td>5.6</td>\n",
              "      <td>13.9</td>\n",
              "      <td>0.0</td>\n",
              "      <td>7.9</td>\n",
              "      <td>1018.4</td>\n",
              "      <td>0</td>\n",
              "    </tr>\n",
              "    <tr>\n",
              "      <th>1460</th>\n",
              "      <td>12/31/2019</td>\n",
              "      <td>85.0</td>\n",
              "      <td>PM2.5</td>\n",
              "      <td>Bakersfield-California</td>\n",
              "      <td>06-029-0014</td>\n",
              "      <td>AQS</td>\n",
              "      <td>0.0</td>\n",
              "      <td>35</td>\n",
              "      <td>3.0</td>\n",
              "      <td>85</td>\n",
              "      <td>0.0</td>\n",
              "      <td>8.3</td>\n",
              "      <td>2.8</td>\n",
              "      <td>14.4</td>\n",
              "      <td>0.0</td>\n",
              "      <td>6.8</td>\n",
              "      <td>0.0</td>\n",
              "      <td>1</td>\n",
              "    </tr>\n",
              "  </tbody>\n",
              "</table>\n",
              "</div>"
            ],
            "text/plain": [
              "            date   aqi main pollutant  ... windspeed pressure clusterGMM\n",
              "1456  12/27/2019  36.0          PM2.5  ...       4.0   1017.3          0\n",
              "1457  12/28/2019  58.0          PM2.5  ...       3.2   1020.8          0\n",
              "1458  12/29/2019  60.0          PM2.5  ...       2.9   1019.5          0\n",
              "1459  12/30/2019  62.0          PM2.5  ...       7.9   1018.4          0\n",
              "1460  12/31/2019  85.0          PM2.5  ...       6.8      0.0          1\n",
              "\n",
              "[5 rows x 18 columns]"
            ]
          },
          "metadata": {
            "tags": []
          },
          "execution_count": 166
        }
      ]
    },
    {
      "cell_type": "markdown",
      "metadata": {
        "id": "OlD-Vd9k1EJa",
        "colab_type": "text"
      },
      "source": [
        "## K-Means"
      ]
    },
    {
      "cell_type": "code",
      "metadata": {
        "id": "97au7w3mAhcw",
        "colab_type": "code",
        "outputId": "dacf41cb-e414-4d57-a87e-4310dcfa0f42",
        "colab": {
          "base_uri": "https://localhost:8080/",
          "height": 408
        }
      },
      "source": [
        "# x = df.iloc[:, [1,6,7,8,9,10,11,12,13,14,15,16,17]].values\n",
        "gmm = df.iloc[: , [1,6,7,8,9,10,11,12,13,14,15,16,17]].copy()\n",
        "gmm_cluster_1 = gmm.loc[(gmm['clusterGMM'] == 0)]\n",
        "gmm_cluster_2 = gmm.loc[(gmm['clusterGMM'] == 1)]\n",
        "\n",
        "kmeans = KMeans(n_clusters=2)\n",
        "\n",
        "y_cluster_1 = kmeans.fit_predict(gmm_cluster_1.values)\n",
        "gmm_cluster_1['clusterKmeans'] = y_cluster_1\n",
        "\n",
        "y_cluster_2 = kmeans.fit_predict(gmm_cluster_2.values)\n",
        "gmm_cluster_2['clusterKmeans'] = y_cluster_2\n",
        "gmm_cluster_2.tail()"
      ],
      "execution_count": 0,
      "outputs": [
        {
          "output_type": "stream",
          "text": [
            "/usr/local/lib/python3.6/dist-packages/ipykernel_launcher.py:8: SettingWithCopyWarning: \n",
            "A value is trying to be set on a copy of a slice from a DataFrame.\n",
            "Try using .loc[row_indexer,col_indexer] = value instead\n",
            "\n",
            "See the caveats in the documentation: https://pandas.pydata.org/pandas-docs/stable/user_guide/indexing.html#returning-a-view-versus-a-copy\n",
            "  \n",
            "/usr/local/lib/python3.6/dist-packages/ipykernel_launcher.py:11: SettingWithCopyWarning: \n",
            "A value is trying to be set on a copy of a slice from a DataFrame.\n",
            "Try using .loc[row_indexer,col_indexer] = value instead\n",
            "\n",
            "See the caveats in the documentation: https://pandas.pydata.org/pandas-docs/stable/user_guide/indexing.html#returning-a-view-versus-a-copy\n",
            "  # This is added back by InteractiveShellApp.init_path()\n"
          ],
          "name": "stderr"
        },
        {
          "output_type": "execute_result",
          "data": {
            "text/html": [
              "<div>\n",
              "<style scoped>\n",
              "    .dataframe tbody tr th:only-of-type {\n",
              "        vertical-align: middle;\n",
              "    }\n",
              "\n",
              "    .dataframe tbody tr th {\n",
              "        vertical-align: top;\n",
              "    }\n",
              "\n",
              "    .dataframe thead th {\n",
              "        text-align: right;\n",
              "    }\n",
              "</style>\n",
              "<table border=\"1\" class=\"dataframe\">\n",
              "  <thead>\n",
              "    <tr style=\"text-align: right;\">\n",
              "      <th></th>\n",
              "      <th>aqi</th>\n",
              "      <th>co</th>\n",
              "      <th>ozone</th>\n",
              "      <th>pm10</th>\n",
              "      <th>pm25</th>\n",
              "      <th>no2</th>\n",
              "      <th>temperature</th>\n",
              "      <th>temperature_min</th>\n",
              "      <th>temperature_max</th>\n",
              "      <th>precipitation</th>\n",
              "      <th>windspeed</th>\n",
              "      <th>pressure</th>\n",
              "      <th>clusterGMM</th>\n",
              "      <th>clusterKmeans</th>\n",
              "    </tr>\n",
              "  </thead>\n",
              "  <tbody>\n",
              "    <tr>\n",
              "      <th>1393</th>\n",
              "      <td>74.0</td>\n",
              "      <td>0.0</td>\n",
              "      <td>74</td>\n",
              "      <td>14.0</td>\n",
              "      <td>59</td>\n",
              "      <td>0.0</td>\n",
              "      <td>21.8</td>\n",
              "      <td>11.7</td>\n",
              "      <td>31.1</td>\n",
              "      <td>0.0</td>\n",
              "      <td>8.6</td>\n",
              "      <td>0.0</td>\n",
              "      <td>1</td>\n",
              "      <td>1</td>\n",
              "    </tr>\n",
              "    <tr>\n",
              "      <th>1437</th>\n",
              "      <td>37.0</td>\n",
              "      <td>0.0</td>\n",
              "      <td>37</td>\n",
              "      <td>2.0</td>\n",
              "      <td>35</td>\n",
              "      <td>0.0</td>\n",
              "      <td>14.9</td>\n",
              "      <td>8.3</td>\n",
              "      <td>17.8</td>\n",
              "      <td>7.6</td>\n",
              "      <td>6.8</td>\n",
              "      <td>0.0</td>\n",
              "      <td>1</td>\n",
              "      <td>1</td>\n",
              "    </tr>\n",
              "    <tr>\n",
              "      <th>1438</th>\n",
              "      <td>51.0</td>\n",
              "      <td>0.0</td>\n",
              "      <td>35</td>\n",
              "      <td>1.0</td>\n",
              "      <td>51</td>\n",
              "      <td>0.0</td>\n",
              "      <td>11.1</td>\n",
              "      <td>8.3</td>\n",
              "      <td>15.0</td>\n",
              "      <td>0.0</td>\n",
              "      <td>5.4</td>\n",
              "      <td>0.0</td>\n",
              "      <td>1</td>\n",
              "      <td>1</td>\n",
              "    </tr>\n",
              "    <tr>\n",
              "      <th>1440</th>\n",
              "      <td>78.0</td>\n",
              "      <td>0.0</td>\n",
              "      <td>37</td>\n",
              "      <td>1.0</td>\n",
              "      <td>78</td>\n",
              "      <td>0.0</td>\n",
              "      <td>9.2</td>\n",
              "      <td>6.7</td>\n",
              "      <td>15.0</td>\n",
              "      <td>0.0</td>\n",
              "      <td>4.7</td>\n",
              "      <td>0.0</td>\n",
              "      <td>1</td>\n",
              "      <td>1</td>\n",
              "    </tr>\n",
              "    <tr>\n",
              "      <th>1460</th>\n",
              "      <td>85.0</td>\n",
              "      <td>0.0</td>\n",
              "      <td>35</td>\n",
              "      <td>3.0</td>\n",
              "      <td>85</td>\n",
              "      <td>0.0</td>\n",
              "      <td>8.3</td>\n",
              "      <td>2.8</td>\n",
              "      <td>14.4</td>\n",
              "      <td>0.0</td>\n",
              "      <td>6.8</td>\n",
              "      <td>0.0</td>\n",
              "      <td>1</td>\n",
              "      <td>1</td>\n",
              "    </tr>\n",
              "  </tbody>\n",
              "</table>\n",
              "</div>"
            ],
            "text/plain": [
              "       aqi   co  ozone  pm10  ...  windspeed  pressure  clusterGMM  clusterKmeans\n",
              "1393  74.0  0.0     74  14.0  ...        8.6       0.0           1              1\n",
              "1437  37.0  0.0     37   2.0  ...        6.8       0.0           1              1\n",
              "1438  51.0  0.0     35   1.0  ...        5.4       0.0           1              1\n",
              "1440  78.0  0.0     37   1.0  ...        4.7       0.0           1              1\n",
              "1460  85.0  0.0     35   3.0  ...        6.8       0.0           1              1\n",
              "\n",
              "[5 rows x 14 columns]"
            ]
          },
          "metadata": {
            "tags": []
          },
          "execution_count": 167
        }
      ]
    },
    {
      "cell_type": "code",
      "metadata": {
        "id": "TtpfyquzqWu5",
        "colab_type": "code",
        "outputId": "6f80c1a5-5255-4015-8022-5f36d690c26c",
        "colab": {
          "base_uri": "https://localhost:8080/",
          "height": 204
        }
      },
      "source": [
        "frames = [gmm_cluster_1, gmm_cluster_2]\n",
        "clusteredResult = pd.concat(frames)\n",
        "clusteredResult.head()"
      ],
      "execution_count": 0,
      "outputs": [
        {
          "output_type": "execute_result",
          "data": {
            "text/html": [
              "<div>\n",
              "<style scoped>\n",
              "    .dataframe tbody tr th:only-of-type {\n",
              "        vertical-align: middle;\n",
              "    }\n",
              "\n",
              "    .dataframe tbody tr th {\n",
              "        vertical-align: top;\n",
              "    }\n",
              "\n",
              "    .dataframe thead th {\n",
              "        text-align: right;\n",
              "    }\n",
              "</style>\n",
              "<table border=\"1\" class=\"dataframe\">\n",
              "  <thead>\n",
              "    <tr style=\"text-align: right;\">\n",
              "      <th></th>\n",
              "      <th>aqi</th>\n",
              "      <th>co</th>\n",
              "      <th>ozone</th>\n",
              "      <th>pm10</th>\n",
              "      <th>pm25</th>\n",
              "      <th>no2</th>\n",
              "      <th>temperature</th>\n",
              "      <th>temperature_min</th>\n",
              "      <th>temperature_max</th>\n",
              "      <th>precipitation</th>\n",
              "      <th>windspeed</th>\n",
              "      <th>pressure</th>\n",
              "      <th>clusterGMM</th>\n",
              "      <th>clusterKmeans</th>\n",
              "    </tr>\n",
              "  </thead>\n",
              "  <tbody>\n",
              "    <tr>\n",
              "      <th>0</th>\n",
              "      <td>148.0</td>\n",
              "      <td>8.0</td>\n",
              "      <td>37</td>\n",
              "      <td>52.0</td>\n",
              "      <td>148</td>\n",
              "      <td>23.0</td>\n",
              "      <td>4.4</td>\n",
              "      <td>-2.7</td>\n",
              "      <td>12.8</td>\n",
              "      <td>0.0</td>\n",
              "      <td>6.5</td>\n",
              "      <td>1020.3</td>\n",
              "      <td>0</td>\n",
              "      <td>0</td>\n",
              "    </tr>\n",
              "    <tr>\n",
              "      <th>1</th>\n",
              "      <td>113.0</td>\n",
              "      <td>7.0</td>\n",
              "      <td>37</td>\n",
              "      <td>14.0</td>\n",
              "      <td>113</td>\n",
              "      <td>25.0</td>\n",
              "      <td>7.1</td>\n",
              "      <td>1.1</td>\n",
              "      <td>13.9</td>\n",
              "      <td>0.0</td>\n",
              "      <td>3.6</td>\n",
              "      <td>1017.9</td>\n",
              "      <td>0</td>\n",
              "      <td>1</td>\n",
              "    </tr>\n",
              "    <tr>\n",
              "      <th>2</th>\n",
              "      <td>80.0</td>\n",
              "      <td>7.0</td>\n",
              "      <td>36</td>\n",
              "      <td>9.0</td>\n",
              "      <td>80</td>\n",
              "      <td>28.0</td>\n",
              "      <td>9.6</td>\n",
              "      <td>3.9</td>\n",
              "      <td>20.0</td>\n",
              "      <td>0.0</td>\n",
              "      <td>11.5</td>\n",
              "      <td>1011.5</td>\n",
              "      <td>0</td>\n",
              "      <td>1</td>\n",
              "    </tr>\n",
              "    <tr>\n",
              "      <th>3</th>\n",
              "      <td>87.0</td>\n",
              "      <td>5.0</td>\n",
              "      <td>37</td>\n",
              "      <td>8.0</td>\n",
              "      <td>87</td>\n",
              "      <td>28.0</td>\n",
              "      <td>10.6</td>\n",
              "      <td>5.6</td>\n",
              "      <td>18.3</td>\n",
              "      <td>0.0</td>\n",
              "      <td>7.2</td>\n",
              "      <td>1008.8</td>\n",
              "      <td>0</td>\n",
              "      <td>1</td>\n",
              "    </tr>\n",
              "    <tr>\n",
              "      <th>4</th>\n",
              "      <td>54.0</td>\n",
              "      <td>5.0</td>\n",
              "      <td>41</td>\n",
              "      <td>6.0</td>\n",
              "      <td>54</td>\n",
              "      <td>30.0</td>\n",
              "      <td>12.5</td>\n",
              "      <td>8.3</td>\n",
              "      <td>14.4</td>\n",
              "      <td>12.2</td>\n",
              "      <td>7.6</td>\n",
              "      <td>1008.2</td>\n",
              "      <td>0</td>\n",
              "      <td>1</td>\n",
              "    </tr>\n",
              "  </tbody>\n",
              "</table>\n",
              "</div>"
            ],
            "text/plain": [
              "     aqi   co  ozone  pm10  ...  windspeed  pressure  clusterGMM  clusterKmeans\n",
              "0  148.0  8.0     37  52.0  ...        6.5    1020.3           0              0\n",
              "1  113.0  7.0     37  14.0  ...        3.6    1017.9           0              1\n",
              "2   80.0  7.0     36   9.0  ...       11.5    1011.5           0              1\n",
              "3   87.0  5.0     37   8.0  ...        7.2    1008.8           0              1\n",
              "4   54.0  5.0     41   6.0  ...        7.6    1008.2           0              1\n",
              "\n",
              "[5 rows x 14 columns]"
            ]
          },
          "metadata": {
            "tags": []
          },
          "execution_count": 168
        }
      ]
    },
    {
      "cell_type": "code",
      "metadata": {
        "id": "TAzEk6F2rTmR",
        "colab_type": "code",
        "outputId": "941e3269-a675-4d88-b37e-9cd703c12310",
        "colab": {
          "base_uri": "https://localhost:8080/",
          "height": 318
        }
      },
      "source": [
        "fig = plt.figure()\n",
        "ax = fig.add_subplot(111)\n",
        "\n",
        "for i in range(0, clusteredResult.shape[0]):\n",
        "  if clusteredResult['clusterGMM'][i] == 0 and clusteredResult['clusterKmeans'][i] == 0:\n",
        "    scatter1 = ax.scatter(clusteredResult['ozone'][i], clusteredResult['temperature'][i], c='red',s=25)\n",
        "  if clusteredResult['clusterGMM'][i] == 0 and clusteredResult['clusterKmeans'][i] == 1:\n",
        "    scatter2 = ax.scatter(clusteredResult['ozone'][i], clusteredResult['temperature'][i], c='yellowgreen',s=25)\n",
        "  if clusteredResult['clusterGMM'][i] == 1 and clusteredResult['clusterKmeans'][i] == 0:\n",
        "    scatter3 = ax.scatter(clusteredResult['ozone'][i], clusteredResult['temperature'][i], c='black',s=75)\n",
        "  if clusteredResult['clusterGMM'][i] == 1 and clusteredResult['clusterKmeans'][i] == 1:\n",
        "    scatter4 = ax.scatter(clusteredResult['ozone'][i], clusteredResult['temperature'][i], c='aqua',s=75)\n",
        "\n",
        "ax.set_title('Clustering')\n",
        "ax.set_xlabel('Ozone')\n",
        "ax.set_ylabel('Temperature')  "
      ],
      "execution_count": 0,
      "outputs": [
        {
          "output_type": "execute_result",
          "data": {
            "text/plain": [
              "Text(0, 0.5, 'Temperature')"
            ]
          },
          "metadata": {
            "tags": []
          },
          "execution_count": 189
        },
        {
          "output_type": "display_data",
          "data": {
            "image/png": "[encoded data removed]",
            "text/plain": [
              "<Figure size 432x288 with 1 Axes>"
            ]
          },
          "metadata": {
            "tags": []
          }
        }
      ]
    }
  ]
}