{
  "nbformat": 4,
  "nbformat_minor": 0,
  "metadata": {
    "colab": {
      "name": "MLFindingNewsArticleSource.ipynb",
      "provenance": [],
      "collapsed_sections": [],
      "authorship_tag": "ABX9TyN1+ElVIEpLRLlmBp1EUp2/",
      "include_colab_link": true
    },
    "kernelspec": {
      "name": "python3",
      "display_name": "Python 3"
    }
  },
  "cells": [
    {
      "cell_type": "markdown",
      "metadata": {
        "id": "view-in-github",
        "colab_type": "text"
      },
      "source": [
        "<a href=\"https://colab.research.google.com/github/akshaya-nagarajan/MachineLearning/blob/master/MLFindingNewsArticleSource.ipynb\" target=\"_parent\"><img src=\"https://colab.research.google.com/assets/colab-badge.svg\" alt=\"Open In Colab\"/></a>"
      ]
    },
    {
      "cell_type": "code",
      "metadata": {
        "id": "D7rkteBd6vhC",
        "colab_type": "code",
        "colab": {}
      },
      "source": [
        "import urllib.request as urllib2\n",
        "from lxml import html\n",
        "import requests\n",
        "\n",
        "def get_page_tree(url):\n",
        "    page = requests.get(url=url, verify=False)\n",
        "    return html.fromstring(page.text)\n",
        "\n",
        "def get_title(url):\n",
        "    tree = get_page_tree(url)\n",
        "    return tree.xpath('//title//text()')[0].strip().split(' -')[0]\n",
        "\n",
        "def find_other_news_sources(url, title):\n",
        "    forwarding_identifier = '/url?q='\n",
        "    if not title:\n",
        "        title = get_title(url=url)\n",
        "    google_news_search_url = 'http://www.google.com/search?q=' + urllib2.quote(title) + '&tbm=nws'\n",
        "    google_news_search_tree = get_page_tree(url=google_news_search_url)\n",
        "    other_news_sources_links = [a_link.replace(forwarding_identifier, '').split('&')[0] for a_link in\n",
        "                            google_news_search_tree.xpath('//a//@href') if forwarding_identifier in a_link]\n",
        "    print(other_news_sources_links)\n",
        "    return other_news_sources_links"
      ],
      "execution_count": 0,
      "outputs": []
    },
    {
      "cell_type": "code",
      "metadata": {
        "id": "9SgQcwKm6zfo",
        "colab_type": "code",
        "colab": {
          "base_uri": "https://localhost:8080/",
          "height": 394
        },
        "outputId": "766fb78b-4a09-4972-bcd3-80620ba5448e"
      },
      "source": [
        "find_other_news_sources(\"Red State : \\nFox News Sunday reported this mo\", \"BREAKING: Weiner Cooperating With FBI On Hilla\")"
      ],
      "execution_count": 13,
      "outputs": [
        {
          "output_type": "stream",
          "text": [
            "['https://www.insider.com/lone-fbi-agent-reopened-hillary-clinton-investigation-2019-10', 'https://www.insider.com/lone-fbi-agent-reopened-hillary-clinton-investigation-2019-10', 'https://www.washingtonpost.com/national-security/mueller-testimony-congress-live/2019/07/24/d51a82d6-aca1-11e9-bc5c-e73b603e7f38_story.html', 'https://www.washingtonpost.com/national-security/mueller-testimony-congress-live/2019/07/24/d51a82d6-aca1-11e9-bc5c-e73b603e7f38_story.html', 'https://www.washingtonpost.com/local/legal-issues/us-attorney-timothy-sheas-role-in-roger-stone-sentencing-storm-remains-in-question/2020/02/14/947c6c30-4dc8-11ea-9b5c-eac5b16dafaa_story.html', 'https://www.washingtonpost.com/local/legal-issues/us-attorney-timothy-sheas-role-in-roger-stone-sentencing-storm-remains-in-question/2020/02/14/947c6c30-4dc8-11ea-9b5c-eac5b16dafaa_story.html', 'https://www.foxnews.com/transcript/rep-jordan-you-do-302s-because-youre-out-to-get-someone-they-were-out-to-get-trump', 'https://www.foxnews.com/transcript/rep-jordan-you-do-302s-because-youre-out-to-get-someone-they-were-out-to-get-trump', 'https://www.politico.com/newsletters/playbook/2020/03/09/coronavirus-hits-washington-as-markets-swoon-488513', 'https://www.politico.com/newsletters/playbook/2020/03/09/coronavirus-hits-washington-as-markets-swoon-488513', 'https://thehill.com/homenews/campaign/477458-bernie-hillary-echoes-seen-in-biden-sanders-primary-fight', 'https://thehill.com/homenews/campaign/477458-bernie-hillary-echoes-seen-in-biden-sanders-primary-fight', 'https://www.nbcnews.com/news/us-news/fbi-working-winnow-through-emails-weiner-s-laptop-n675741', 'https://www.nbcnews.com/news/us-news/fbi-working-winnow-through-emails-weiner-s-laptop-n675741', 'https://fortune.com/longform/can-san-francisco-be-saved/', 'https://fortune.com/longform/can-san-francisco-be-saved/', 'https://floridianpress.com/2019/11/juice-floridas-juicy-political-read-11-18-19-breaking-massive-explosion-on-capitol-hill-desantis-new-budget-week-2-of-impeachment-inquiry-rick-scott-hates-china-really/', 'https://www.realclearpolitics.com/video/2019/06/12/tom_fitton_obama_state_department_was_all_hands_on_deck_for_targeting_trump.html', 'https://www.realclearpolitics.com/video/2019/06/12/tom_fitton_obama_state_department_was_all_hands_on_deck_for_targeting_trump.html', 'https://accounts.google.com/ServiceLogin%3Fcontinue%3Dhttp://www.google.com/search%253Fq%253DBREAKING:%252BWeiner%252BCooperating%252BWith%252BFBI%252BOn%252BHilla%2526tbm%253Dnws%26hl%3Den']\n"
          ],
          "name": "stdout"
        },
        {
          "output_type": "execute_result",
          "data": {
            "text/plain": [
              "['https://www.insider.com/lone-fbi-agent-reopened-hillary-clinton-investigation-2019-10',\n",
              " 'https://www.insider.com/lone-fbi-agent-reopened-hillary-clinton-investigation-2019-10',\n",
              " 'https://www.washingtonpost.com/national-security/mueller-testimony-congress-live/2019/07/24/d51a82d6-aca1-11e9-bc5c-e73b603e7f38_story.html',\n",
              " 'https://www.washingtonpost.com/national-security/mueller-testimony-congress-live/2019/07/24/d51a82d6-aca1-11e9-bc5c-e73b603e7f38_story.html',\n",
              " 'https://www.washingtonpost.com/local/legal-issues/us-attorney-timothy-sheas-role-in-roger-stone-sentencing-storm-remains-in-question/2020/02/14/947c6c30-4dc8-11ea-9b5c-eac5b16dafaa_story.html',\n",
              " 'https://www.washingtonpost.com/local/legal-issues/us-attorney-timothy-sheas-role-in-roger-stone-sentencing-storm-remains-in-question/2020/02/14/947c6c30-4dc8-11ea-9b5c-eac5b16dafaa_story.html',\n",
              " 'https://www.foxnews.com/transcript/rep-jordan-you-do-302s-because-youre-out-to-get-someone-they-were-out-to-get-trump',\n",
              " 'https://www.foxnews.com/transcript/rep-jordan-you-do-302s-because-youre-out-to-get-someone-they-were-out-to-get-trump',\n",
              " 'https://www.politico.com/newsletters/playbook/2020/03/09/coronavirus-hits-washington-as-markets-swoon-488513',\n",
              " 'https://www.politico.com/newsletters/playbook/2020/03/09/coronavirus-hits-washington-as-markets-swoon-488513',\n",
              " 'https://thehill.com/homenews/campaign/477458-bernie-hillary-echoes-seen-in-biden-sanders-primary-fight',\n",
              " 'https://thehill.com/homenews/campaign/477458-bernie-hillary-echoes-seen-in-biden-sanders-primary-fight',\n",
              " 'https://www.nbcnews.com/news/us-news/fbi-working-winnow-through-emails-weiner-s-laptop-n675741',\n",
              " 'https://www.nbcnews.com/news/us-news/fbi-working-winnow-through-emails-weiner-s-laptop-n675741',\n",
              " 'https://fortune.com/longform/can-san-francisco-be-saved/',\n",
              " 'https://fortune.com/longform/can-san-francisco-be-saved/',\n",
              " 'https://floridianpress.com/2019/11/juice-floridas-juicy-political-read-11-18-19-breaking-massive-explosion-on-capitol-hill-desantis-new-budget-week-2-of-impeachment-inquiry-rick-scott-hates-china-really/',\n",
              " 'https://www.realclearpolitics.com/video/2019/06/12/tom_fitton_obama_state_department_was_all_hands_on_deck_for_targeting_trump.html',\n",
              " 'https://www.realclearpolitics.com/video/2019/06/12/tom_fitton_obama_state_department_was_all_hands_on_deck_for_targeting_trump.html',\n",
              " 'https://accounts.google.com/ServiceLogin%3Fcontinue%3Dhttp://www.google.com/search%253Fq%253DBREAKING:%252BWeiner%252BCooperating%252BWith%252BFBI%252BOn%252BHilla%2526tbm%253Dnws%26hl%3Den']"
            ]
          },
          "metadata": {
            "tags": []
          },
          "execution_count": 13
        }
      ]
    }
  ]
}