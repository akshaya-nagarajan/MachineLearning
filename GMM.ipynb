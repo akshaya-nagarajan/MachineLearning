{
  "nbformat": 4,
  "nbformat_minor": 0,
  "metadata": {
    "colab": {
      "name": "GMM.ipynb",
      "provenance": [],
      "collapsed_sections": [],
      "authorship_tag": "ABX9TyOdTC5u3rQ94g3VLJH+8EY6",
      "include_colab_link": true
    },
    "kernelspec": {
      "name": "python3",
      "display_name": "Python 3"
    }
  },
  "cells": [
    {
      "cell_type": "markdown",
      "metadata": {
        "id": "view-in-github",
        "colab_type": "text"
      },
      "source": [
        "<a href=\"https://colab.research.google.com/github/akshaya-nagarajan/MachineLearning/blob/master/GMM.ipynb\" target=\"_parent\"><img src=\"https://colab.research.google.com/assets/colab-badge.svg\" alt=\"Open In Colab\"/></a>"
      ]
    },
    {
      "cell_type": "markdown",
      "metadata": {
        "id": "yXgNu92o8MkG",
        "colab_type": "text"
      },
      "source": [
        "### Loading Libraries"
      ]
    },
    {
      "cell_type": "code",
      "metadata": {
        "id": "SEE9FUQx7sYR",
        "colab_type": "code",
        "colab": {}
      },
      "source": [
        "import pandas as pd\n",
        "import numpy as np\n",
        "from sklearn.cluster import KMeans\n",
        "import matplotlib.pyplot as plt"
      ],
      "execution_count": 0,
      "outputs": []
    },
    {
      "cell_type": "markdown",
      "metadata": {
        "id": "L7O0tn368VyH",
        "colab_type": "text"
      },
      "source": [
        "### Loading the CSV file from GitHub"
      ]
    },
    {
      "cell_type": "code",
      "metadata": {
        "id": "xeDPhf1S6M7r",
        "colab_type": "code",
        "colab": {
          "base_uri": "https://localhost:8080/",
          "height": 374
        },
        "outputId": "71b8484c-def0-4b18-cd04-b82964c09215"
      },
      "source": [
        "url = 'https://raw.githubusercontent.com/akshaya-nagarajan/MachineLearning/master/AQ_Boston_Cam-Quincy.csv'\n",
        "df = pd.read_csv(url)\n",
        "df.head(5)"
      ],
      "execution_count": 412,
      "outputs": [
        {
          "output_type": "execute_result",
          "data": {
            "text/html": [
              "<div>\n",
              "<style scoped>\n",
              "    .dataframe tbody tr th:only-of-type {\n",
              "        vertical-align: middle;\n",
              "    }\n",
              "\n",
              "    .dataframe tbody tr th {\n",
              "        vertical-align: top;\n",
              "    }\n",
              "\n",
              "    .dataframe thead th {\n",
              "        text-align: right;\n",
              "    }\n",
              "</style>\n",
              "<table border=\"1\" class=\"dataframe\">\n",
              "  <thead>\n",
              "    <tr style=\"text-align: right;\">\n",
              "      <th></th>\n",
              "      <th>['location'</th>\n",
              "      <th>'city'</th>\n",
              "      <th>'country'</th>\n",
              "      <th>'utc'</th>\n",
              "      <th>'local'</th>\n",
              "      <th>'parameter'</th>\n",
              "      <th>'value'</th>\n",
              "      <th>'unit'</th>\n",
              "      <th>'latitude'</th>\n",
              "      <th>'longitude'</th>\n",
              "      <th>'attribution']</th>\n",
              "      <th>Unnamed: 11</th>\n",
              "      <th>Unnamed: 12</th>\n",
              "    </tr>\n",
              "  </thead>\n",
              "  <tbody>\n",
              "    <tr>\n",
              "      <th>0</th>\n",
              "      <td>['Portsmouth'</td>\n",
              "      <td>'Boston-Cambridge-Quincy'</td>\n",
              "      <td>'US'</td>\n",
              "      <td>'2020-02-09T18:00:00.000Z'</td>\n",
              "      <td>'2020-02-09T13:00:00-05:00'</td>\n",
              "      <td>'o3'</td>\n",
              "      <td>'0.035'</td>\n",
              "      <td>'ppm'</td>\n",
              "      <td>'43.075371'</td>\n",
              "      <td>'-70.748017'</td>\n",
              "      <td>'[{\"name\":\"US EPA AirNow\"</td>\n",
              "      <td>url:\"http://www.airnow.gov/\"}</td>\n",
              "      <td>{\"name\":\"New Hampshire Dept. of Environmental ...</td>\n",
              "    </tr>\n",
              "    <tr>\n",
              "      <th>1</th>\n",
              "      <td>['Odiorne State Park'</td>\n",
              "      <td>'Boston-Cambridge-Quincy'</td>\n",
              "      <td>'US'</td>\n",
              "      <td>'2020-02-09T18:00:00.000Z'</td>\n",
              "      <td>'2020-02-09T13:00:00-05:00'</td>\n",
              "      <td>'o3'</td>\n",
              "      <td>'0.038'</td>\n",
              "      <td>'ppm'</td>\n",
              "      <td>'43.045269'</td>\n",
              "      <td>'-70.713958'</td>\n",
              "      <td>'[{\"name\":\"US EPA AirNow\"</td>\n",
              "      <td>url:\"http://www.airnow.gov/\"}</td>\n",
              "      <td>{\"name\":\"New Hampshire Dept. of Environmental ...</td>\n",
              "    </tr>\n",
              "    <tr>\n",
              "      <th>2</th>\n",
              "      <td>['Portsmouth'</td>\n",
              "      <td>'Boston-Cambridge-Quincy'</td>\n",
              "      <td>'US'</td>\n",
              "      <td>'2020-02-09T18:00:00.000Z'</td>\n",
              "      <td>'2020-02-09T13:00:00-05:00'</td>\n",
              "      <td>'pm10'</td>\n",
              "      <td>'10'</td>\n",
              "      <td>'µg/m³'</td>\n",
              "      <td>'43.075371'</td>\n",
              "      <td>'-70.748017'</td>\n",
              "      <td>'[{\"name\":\"US EPA AirNow\"</td>\n",
              "      <td>url:\"http://www.airnow.gov/\"}</td>\n",
              "      <td>{\"name\":\"New Hampshire Dept. of Environmental ...</td>\n",
              "    </tr>\n",
              "    <tr>\n",
              "      <th>3</th>\n",
              "      <td>['Portsmouth'</td>\n",
              "      <td>'Boston-Cambridge-Quincy'</td>\n",
              "      <td>'US'</td>\n",
              "      <td>'2020-02-09T18:00:00.000Z'</td>\n",
              "      <td>'2020-02-09T13:00:00-05:00'</td>\n",
              "      <td>'pm25'</td>\n",
              "      <td>'4.8'</td>\n",
              "      <td>'µg/m³'</td>\n",
              "      <td>'43.075371'</td>\n",
              "      <td>'-70.748017'</td>\n",
              "      <td>'[{\"name\":\"US EPA AirNow\"</td>\n",
              "      <td>url:\"http://www.airnow.gov/\"}</td>\n",
              "      <td>{\"name\":\"New Hampshire Dept. of Environmental ...</td>\n",
              "    </tr>\n",
              "    <tr>\n",
              "      <th>4</th>\n",
              "      <td>['LYNN'</td>\n",
              "      <td>'Boston-Cambridge-Quincy'</td>\n",
              "      <td>'US'</td>\n",
              "      <td>'2020-02-09T17:00:00.000Z'</td>\n",
              "      <td>'2020-02-09T12:00:00-05:00'</td>\n",
              "      <td>'no2'</td>\n",
              "      <td>'0.008'</td>\n",
              "      <td>'ppm'</td>\n",
              "      <td>'42.474701'</td>\n",
              "      <td>'-70.971901'</td>\n",
              "      <td>'[{\"name\":\"US EPA AirNow\"</td>\n",
              "      <td>url:\"http://www.airnow.gov/\"}</td>\n",
              "      <td>{\"name\":\"Massachusetts Dept. of Environmental ...</td>\n",
              "    </tr>\n",
              "  </tbody>\n",
              "</table>\n",
              "</div>"
            ],
            "text/plain": [
              "             ['location'  ...                                        Unnamed: 12\n",
              "0          ['Portsmouth'  ...  {\"name\":\"New Hampshire Dept. of Environmental ...\n",
              "1  ['Odiorne State Park'  ...  {\"name\":\"New Hampshire Dept. of Environmental ...\n",
              "2          ['Portsmouth'  ...  {\"name\":\"New Hampshire Dept. of Environmental ...\n",
              "3          ['Portsmouth'  ...  {\"name\":\"New Hampshire Dept. of Environmental ...\n",
              "4                ['LYNN'  ...  {\"name\":\"Massachusetts Dept. of Environmental ...\n",
              "\n",
              "[5 rows x 13 columns]"
            ]
          },
          "metadata": {
            "tags": []
          },
          "execution_count": 412
        }
      ]
    },
    {
      "cell_type": "markdown",
      "metadata": {
        "id": "2Dv5jIpM8iaY",
        "colab_type": "text"
      },
      "source": [
        "### Cleaning the dataset"
      ]
    },
    {
      "cell_type": "code",
      "metadata": {
        "id": "GnrOfVtZPOml",
        "colab_type": "code",
        "colab": {}
      },
      "source": [
        "df = df.apply(lambda s:s.str.replace('\\'', \"\").str.replace('[', \"\"))\n",
        "df.columns = df.columns.str.strip().str.replace('[', '').str.replace(']', '').str.replace('\\'','')\n",
        "df.drop(df.columns[[10,11,12]], axis=1, inplace=True)\n",
        "\n",
        "c = df['location'].astype('category')\n",
        "d = dict(enumerate(c.cat.categories))\n",
        "df['location'] = c.cat.codes"
      ],
      "execution_count": 0,
      "outputs": []
    },
    {
      "cell_type": "markdown",
      "metadata": {
        "id": "MT_uxcyCEuX8",
        "colab_type": "text"
      },
      "source": [
        "### Covert local column in date format"
      ]
    },
    {
      "cell_type": "code",
      "metadata": {
        "id": "zeuSWvsrP7MO",
        "colab_type": "code",
        "colab": {}
      },
      "source": [
        "import datetime\n",
        "df['date'] = pd.DatetimeIndex(df['local']).date\n",
        "df['date'] = df['date'].apply(lambda x: x.strftime('%Y-%m-%d'))"
      ],
      "execution_count": 0,
      "outputs": []
    },
    {
      "cell_type": "markdown",
      "metadata": {
        "id": "ym5ToKynE8Ls",
        "colab_type": "text"
      },
      "source": [
        "### Taking only one location into consideration"
      ]
    },
    {
      "cell_type": "code",
      "metadata": {
        "id": "eIAYRhJrSrL7",
        "colab_type": "code",
        "colab": {}
      },
      "source": [
        "#df3 = df[(df['location'] == 7) & (df['date'] == \"2020-02-09\")]\n",
        "df3 = df[(df['location'] == 7)]"
      ],
      "execution_count": 0,
      "outputs": []
    },
    {
      "cell_type": "markdown",
      "metadata": {
        "id": "qjrTVvIsE_eq",
        "colab_type": "text"
      },
      "source": [
        "### Pivot table to get additional columns"
      ]
    },
    {
      "cell_type": "code",
      "metadata": {
        "id": "6_phGLyc7oAn",
        "colab_type": "code",
        "colab": {
          "base_uri": "https://localhost:8080/",
          "height": 204
        },
        "outputId": "65888bdb-2183-4c15-c25e-d72dffcedaa0"
      },
      "source": [
        "table = pd.pivot_table(df3, values='value', index=['location', 'local', 'date'], columns=['parameter'], aggfunc=np.sum, fill_value=0)\n",
        "table.reset_index(inplace=True)\n",
        "table.columns = table.columns.str.strip()\n",
        "\n",
        "def covert_to_float(param):\n",
        "  try:\n",
        "      table[param] =  table[param].astype(float)\n",
        "  except (KeyError):\n",
        "      pass\n",
        "    \n",
        "arr = ['co','no2','o3','so2','pm10','pm25']\n",
        "for i in arr:\n",
        "    covert_to_float(i)\n",
        "table.tail(5)"
      ],
      "execution_count": 524,
      "outputs": [
        {
          "output_type": "execute_result",
          "data": {
            "text/html": [
              "<div>\n",
              "<style scoped>\n",
              "    .dataframe tbody tr th:only-of-type {\n",
              "        vertical-align: middle;\n",
              "    }\n",
              "\n",
              "    .dataframe tbody tr th {\n",
              "        vertical-align: top;\n",
              "    }\n",
              "\n",
              "    .dataframe thead th {\n",
              "        text-align: right;\n",
              "    }\n",
              "</style>\n",
              "<table border=\"1\" class=\"dataframe\">\n",
              "  <thead>\n",
              "    <tr style=\"text-align: right;\">\n",
              "      <th>parameter</th>\n",
              "      <th>location</th>\n",
              "      <th>local</th>\n",
              "      <th>date</th>\n",
              "      <th>o3</th>\n",
              "      <th>pm10</th>\n",
              "      <th>pm25</th>\n",
              "      <th>so2</th>\n",
              "    </tr>\n",
              "  </thead>\n",
              "  <tbody>\n",
              "    <tr>\n",
              "      <th>536</th>\n",
              "      <td>7</td>\n",
              "      <td>2020-02-09T09:00:00-05:00</td>\n",
              "      <td>2020-02-09</td>\n",
              "      <td>0.000</td>\n",
              "      <td>71.0</td>\n",
              "      <td>13.8</td>\n",
              "      <td>0.006</td>\n",
              "    </tr>\n",
              "    <tr>\n",
              "      <th>537</th>\n",
              "      <td>7</td>\n",
              "      <td>2020-02-09T10:00:00-05:00</td>\n",
              "      <td>2020-02-09</td>\n",
              "      <td>0.034</td>\n",
              "      <td>66.0</td>\n",
              "      <td>13.0</td>\n",
              "      <td>0.004</td>\n",
              "    </tr>\n",
              "    <tr>\n",
              "      <th>538</th>\n",
              "      <td>7</td>\n",
              "      <td>2020-02-09T11:00:00-05:00</td>\n",
              "      <td>2020-02-09</td>\n",
              "      <td>0.036</td>\n",
              "      <td>30.0</td>\n",
              "      <td>6.8</td>\n",
              "      <td>0.004</td>\n",
              "    </tr>\n",
              "    <tr>\n",
              "      <th>539</th>\n",
              "      <td>7</td>\n",
              "      <td>2020-02-09T12:00:00-05:00</td>\n",
              "      <td>2020-02-09</td>\n",
              "      <td>0.035</td>\n",
              "      <td>16.0</td>\n",
              "      <td>5.3</td>\n",
              "      <td>0.003</td>\n",
              "    </tr>\n",
              "    <tr>\n",
              "      <th>540</th>\n",
              "      <td>7</td>\n",
              "      <td>2020-02-09T13:00:00-05:00</td>\n",
              "      <td>2020-02-09</td>\n",
              "      <td>0.035</td>\n",
              "      <td>10.0</td>\n",
              "      <td>4.8</td>\n",
              "      <td>0.000</td>\n",
              "    </tr>\n",
              "  </tbody>\n",
              "</table>\n",
              "</div>"
            ],
            "text/plain": [
              "parameter  location                       local        date  ...  pm10  pm25    so2\n",
              "536               7   2020-02-09T09:00:00-05:00  2020-02-09  ...  71.0  13.8  0.006\n",
              "537               7   2020-02-09T10:00:00-05:00  2020-02-09  ...  66.0  13.0  0.004\n",
              "538               7   2020-02-09T11:00:00-05:00  2020-02-09  ...  30.0   6.8  0.004\n",
              "539               7   2020-02-09T12:00:00-05:00  2020-02-09  ...  16.0   5.3  0.003\n",
              "540               7   2020-02-09T13:00:00-05:00  2020-02-09  ...  10.0   4.8  0.000\n",
              "\n",
              "[5 rows x 7 columns]"
            ]
          },
          "metadata": {
            "tags": []
          },
          "execution_count": 524
        }
      ]
    },
    {
      "cell_type": "markdown",
      "metadata": {
        "id": "9WblhV8rFHdS",
        "colab_type": "text"
      },
      "source": [
        "### Get 24hrs value for all the columns"
      ]
    },
    {
      "cell_type": "code",
      "metadata": {
        "id": "5_uyAmxttMfL",
        "colab_type": "code",
        "colab": {
          "base_uri": "https://localhost:8080/",
          "height": 204
        },
        "outputId": "b58b0e09-f856-4922-e31d-230799aafe24"
      },
      "source": [
        "#pd.to_datetime(table['date']).apply(lambda x: x.date())\n",
        "mean_table = table.groupby(table['date']).mean()\n",
        "mean_table.reset_index(inplace=True)\n",
        "mean_table.head(5)"
      ],
      "execution_count": 525,
      "outputs": [
        {
          "output_type": "execute_result",
          "data": {
            "text/html": [
              "<div>\n",
              "<style scoped>\n",
              "    .dataframe tbody tr th:only-of-type {\n",
              "        vertical-align: middle;\n",
              "    }\n",
              "\n",
              "    .dataframe tbody tr th {\n",
              "        vertical-align: top;\n",
              "    }\n",
              "\n",
              "    .dataframe thead th {\n",
              "        text-align: right;\n",
              "    }\n",
              "</style>\n",
              "<table border=\"1\" class=\"dataframe\">\n",
              "  <thead>\n",
              "    <tr style=\"text-align: right;\">\n",
              "      <th>parameter</th>\n",
              "      <th>date</th>\n",
              "      <th>location</th>\n",
              "      <th>o3</th>\n",
              "      <th>pm10</th>\n",
              "      <th>pm25</th>\n",
              "      <th>so2</th>\n",
              "    </tr>\n",
              "  </thead>\n",
              "  <tbody>\n",
              "    <tr>\n",
              "      <th>0</th>\n",
              "      <td>2020-01-17</td>\n",
              "      <td>7</td>\n",
              "      <td>0.032000</td>\n",
              "      <td>0.000000</td>\n",
              "      <td>4.600000</td>\n",
              "      <td>0.002000</td>\n",
              "    </tr>\n",
              "    <tr>\n",
              "      <th>1</th>\n",
              "      <td>2020-01-18</td>\n",
              "      <td>7</td>\n",
              "      <td>0.031208</td>\n",
              "      <td>11.416667</td>\n",
              "      <td>5.783333</td>\n",
              "      <td>0.002083</td>\n",
              "    </tr>\n",
              "    <tr>\n",
              "      <th>2</th>\n",
              "      <td>2020-01-19</td>\n",
              "      <td>7</td>\n",
              "      <td>0.024375</td>\n",
              "      <td>12.958333</td>\n",
              "      <td>6.500000</td>\n",
              "      <td>0.002125</td>\n",
              "    </tr>\n",
              "    <tr>\n",
              "      <th>3</th>\n",
              "      <td>2020-01-20</td>\n",
              "      <td>7</td>\n",
              "      <td>0.030208</td>\n",
              "      <td>14.916667</td>\n",
              "      <td>4.750000</td>\n",
              "      <td>0.001958</td>\n",
              "    </tr>\n",
              "    <tr>\n",
              "      <th>4</th>\n",
              "      <td>2020-01-21</td>\n",
              "      <td>7</td>\n",
              "      <td>0.028000</td>\n",
              "      <td>17.250000</td>\n",
              "      <td>6.166667</td>\n",
              "      <td>0.002417</td>\n",
              "    </tr>\n",
              "  </tbody>\n",
              "</table>\n",
              "</div>"
            ],
            "text/plain": [
              "parameter        date  location        o3       pm10      pm25       so2\n",
              "0          2020-01-17         7  0.032000   0.000000  4.600000  0.002000\n",
              "1          2020-01-18         7  0.031208  11.416667  5.783333  0.002083\n",
              "2          2020-01-19         7  0.024375  12.958333  6.500000  0.002125\n",
              "3          2020-01-20         7  0.030208  14.916667  4.750000  0.001958\n",
              "4          2020-01-21         7  0.028000  17.250000  6.166667  0.002417"
            ]
          },
          "metadata": {
            "tags": []
          },
          "execution_count": 525
        }
      ]
    },
    {
      "cell_type": "markdown",
      "metadata": {
        "id": "POYwfvtMFRZp",
        "colab_type": "text"
      },
      "source": [
        "### For calculating AQI based on 24 hrs - PM2.5 value"
      ]
    },
    {
      "cell_type": "code",
      "metadata": {
        "id": "gx6EbH_VmxAb",
        "colab_type": "code",
        "colab": {}
      },
      "source": [
        "import aqi\n",
        "def calculate_pm25(value):\n",
        "  aqi_2_5 = aqi.to_iaqi(aqi.POLLUTANT_PM25, str(value))\n",
        "  return aqi_2_5"
      ],
      "execution_count": 0,
      "outputs": []
    },
    {
      "cell_type": "markdown",
      "metadata": {
        "id": "LlbgplKTFaqb",
        "colab_type": "text"
      },
      "source": [
        "### For calculating AQI based on 24 hrs - PM10 value"
      ]
    },
    {
      "cell_type": "code",
      "metadata": {
        "id": "z7SC6WoIn-_F",
        "colab_type": "code",
        "colab": {}
      },
      "source": [
        "def calculate_pm10(value):\n",
        "  aqi_1_0 = aqi.to_iaqi(aqi.POLLUTANT_PM10, str(value))\n",
        "  return aqi_1_0"
      ],
      "execution_count": 0,
      "outputs": []
    },
    {
      "cell_type": "markdown",
      "metadata": {
        "id": "J1Pn-o2HFgPE",
        "colab_type": "text"
      },
      "source": [
        "### Adding columns AQI 25 and AQI 10"
      ]
    },
    {
      "cell_type": "code",
      "metadata": {
        "id": "Y88knufpxFtE",
        "colab_type": "code",
        "colab": {}
      },
      "source": [
        "mean_table['aqi25'] = mean_table.apply(lambda x: calculate_pm25(x['pm25']), axis=1)\n",
        "mean_table['aqi10'] = mean_table.apply(lambda x: calculate_pm10(x['pm10']), axis=1)\n",
        "alt_mean_table = mean_table\n"
      ],
      "execution_count": 0,
      "outputs": []
    },
    {
      "cell_type": "markdown",
      "metadata": {
        "id": "b8oE-M01Flhk",
        "colab_type": "text"
      },
      "source": [
        "### Applying KMeans clustering - 3 clusters based on elbow method(previous assignment)"
      ]
    },
    {
      "cell_type": "code",
      "metadata": {
        "id": "04CK3_t98A9h",
        "colab_type": "code",
        "colab": {
          "base_uri": "https://localhost:8080/",
          "height": 204
        },
        "outputId": "f7547247-6eaa-420e-f35c-b26143eb0e0f"
      },
      "source": [
        "kmeans = KMeans(n_clusters=3)\n",
        "#y = kmeans.fit_predict(alt_mean_table[['aqi25', 'pm25','pm10','aqi10','o3']])\n",
        "y = kmeans.fit_predict(alt_mean_table.iloc[:,1:].values)\n",
        "alt_mean_table['cluster'] = y\n",
        "alt_mean_table.tail()"
      ],
      "execution_count": 556,
      "outputs": [
        {
          "output_type": "execute_result",
          "data": {
            "text/html": [
              "<div>\n",
              "<style scoped>\n",
              "    .dataframe tbody tr th:only-of-type {\n",
              "        vertical-align: middle;\n",
              "    }\n",
              "\n",
              "    .dataframe tbody tr th {\n",
              "        vertical-align: top;\n",
              "    }\n",
              "\n",
              "    .dataframe thead th {\n",
              "        text-align: right;\n",
              "    }\n",
              "</style>\n",
              "<table border=\"1\" class=\"dataframe\">\n",
              "  <thead>\n",
              "    <tr style=\"text-align: right;\">\n",
              "      <th>parameter</th>\n",
              "      <th>date</th>\n",
              "      <th>location</th>\n",
              "      <th>o3</th>\n",
              "      <th>pm10</th>\n",
              "      <th>pm25</th>\n",
              "      <th>so2</th>\n",
              "      <th>aqi25</th>\n",
              "      <th>aqi10</th>\n",
              "      <th>cluster</th>\n",
              "      <th>clusterGMM</th>\n",
              "    </tr>\n",
              "  </thead>\n",
              "  <tbody>\n",
              "    <tr>\n",
              "      <th>19</th>\n",
              "      <td>2020-02-05</td>\n",
              "      <td>7</td>\n",
              "      <td>0.027667</td>\n",
              "      <td>19.250000</td>\n",
              "      <td>5.920833</td>\n",
              "      <td>0.002250</td>\n",
              "      <td>25</td>\n",
              "      <td>18</td>\n",
              "      <td>0</td>\n",
              "      <td>1</td>\n",
              "    </tr>\n",
              "    <tr>\n",
              "      <th>20</th>\n",
              "      <td>2020-02-06</td>\n",
              "      <td>7</td>\n",
              "      <td>0.027208</td>\n",
              "      <td>7.333333</td>\n",
              "      <td>4.220833</td>\n",
              "      <td>0.001958</td>\n",
              "      <td>18</td>\n",
              "      <td>6</td>\n",
              "      <td>2</td>\n",
              "      <td>2</td>\n",
              "    </tr>\n",
              "    <tr>\n",
              "      <th>21</th>\n",
              "      <td>2020-02-07</td>\n",
              "      <td>7</td>\n",
              "      <td>0.025958</td>\n",
              "      <td>2.708333</td>\n",
              "      <td>1.737500</td>\n",
              "      <td>0.001917</td>\n",
              "      <td>7</td>\n",
              "      <td>2</td>\n",
              "      <td>2</td>\n",
              "      <td>2</td>\n",
              "    </tr>\n",
              "    <tr>\n",
              "      <th>22</th>\n",
              "      <td>2020-02-08</td>\n",
              "      <td>7</td>\n",
              "      <td>0.034000</td>\n",
              "      <td>9.375000</td>\n",
              "      <td>3.575000</td>\n",
              "      <td>0.002000</td>\n",
              "      <td>15</td>\n",
              "      <td>8</td>\n",
              "      <td>2</td>\n",
              "      <td>2</td>\n",
              "    </tr>\n",
              "    <tr>\n",
              "      <th>23</th>\n",
              "      <td>2020-02-09</td>\n",
              "      <td>7</td>\n",
              "      <td>0.026429</td>\n",
              "      <td>22.571429</td>\n",
              "      <td>6.871429</td>\n",
              "      <td>0.002429</td>\n",
              "      <td>28</td>\n",
              "      <td>20</td>\n",
              "      <td>0</td>\n",
              "      <td>1</td>\n",
              "    </tr>\n",
              "  </tbody>\n",
              "</table>\n",
              "</div>"
            ],
            "text/plain": [
              "parameter        date  location        o3  ...  aqi10  cluster  clusterGMM\n",
              "19         2020-02-05         7  0.027667  ...     18        0           1\n",
              "20         2020-02-06         7  0.027208  ...      6        2           2\n",
              "21         2020-02-07         7  0.025958  ...      2        2           2\n",
              "22         2020-02-08         7  0.034000  ...      8        2           2\n",
              "23         2020-02-09         7  0.026429  ...     20        0           1\n",
              "\n",
              "[5 rows x 10 columns]"
            ]
          },
          "metadata": {
            "tags": []
          },
          "execution_count": 556
        }
      ]
    },
    {
      "cell_type": "markdown",
      "metadata": {
        "id": "3BqmkOqSJPjV",
        "colab_type": "text"
      },
      "source": [
        "### Plotting AQI index and O3 values"
      ]
    },
    {
      "cell_type": "code",
      "metadata": {
        "id": "lO5qFJzr_rtS",
        "colab_type": "code",
        "colab": {
          "base_uri": "https://localhost:8080/",
          "height": 334
        },
        "outputId": "3dd2fa5f-0e21-4fed-dd55-debb66f2bd7e"
      },
      "source": [
        "plt.figure(figsize=(5,5))\n",
        "plt.scatter(alt_mean_table['aqi25'], alt_mean_table['o3'], s=70, c=y, cmap='rainbow')\n",
        "plt.xlabel('AQI25')\n",
        "plt.ylabel('O3')\n",
        "plt.show()"
      ],
      "execution_count": 557,
      "outputs": [
        {
          "output_type": "display_data",
          "data": {
            "image/png": "[encoded data removed]",
            "text/plain": [
              "<Figure size 360x360 with 1 Axes>"
            ]
          },
          "metadata": {
            "tags": []
          }
        }
      ]
    },
    {
      "cell_type": "code",
      "metadata": {
        "id": "8nAYzfKW4wbH",
        "colab_type": "code",
        "colab": {
          "base_uri": "https://localhost:8080/",
          "height": 279
        },
        "outputId": "1fa43344-1d3d-4c66-d898-06d8975ae4d0"
      },
      "source": [
        "plt.scatter(alt_mean_table['aqi10'], alt_mean_table['o3'], s=70, c=y, cmap='rainbow')\n",
        "plt.xlabel('AQI10')\n",
        "plt.ylabel('O3')\n",
        "plt.show()"
      ],
      "execution_count": 558,
      "outputs": [
        {
          "output_type": "display_data",
          "data": {
            "image/png": "[encoded data removed]",
            "text/plain": [
              "<Figure size 432x288 with 1 Axes>"
            ]
          },
          "metadata": {
            "tags": []
          }
        }
      ]
    },
    {
      "cell_type": "markdown",
      "metadata": {
        "id": "1Wiojum2JY6G",
        "colab_type": "text"
      },
      "source": [
        "### GMM Clustering - 3 clusters"
      ]
    },
    {
      "cell_type": "code",
      "metadata": {
        "id": "emU_2annArdW",
        "colab_type": "code",
        "colab": {
          "base_uri": "https://localhost:8080/",
          "height": 204
        },
        "outputId": "b6b6b585-1f6d-4058-dbf3-1049ffa01534"
      },
      "source": [
        "from sklearn.mixture import GaussianMixture\n",
        "gmm = GaussianMixture(n_components=3).fit(alt_mean_table.iloc[:,1:].values)\n",
        "y_gmm = gmm.predict(alt_mean_table.iloc[:,1:].values)\n",
        "alt_mean_table['clusterGMM'] = y_gmm\n",
        "alt_mean_table.tail()"
      ],
      "execution_count": 559,
      "outputs": [
        {
          "output_type": "execute_result",
          "data": {
            "text/html": [
              "<div>\n",
              "<style scoped>\n",
              "    .dataframe tbody tr th:only-of-type {\n",
              "        vertical-align: middle;\n",
              "    }\n",
              "\n",
              "    .dataframe tbody tr th {\n",
              "        vertical-align: top;\n",
              "    }\n",
              "\n",
              "    .dataframe thead th {\n",
              "        text-align: right;\n",
              "    }\n",
              "</style>\n",
              "<table border=\"1\" class=\"dataframe\">\n",
              "  <thead>\n",
              "    <tr style=\"text-align: right;\">\n",
              "      <th>parameter</th>\n",
              "      <th>date</th>\n",
              "      <th>location</th>\n",
              "      <th>o3</th>\n",
              "      <th>pm10</th>\n",
              "      <th>pm25</th>\n",
              "      <th>so2</th>\n",
              "      <th>aqi25</th>\n",
              "      <th>aqi10</th>\n",
              "      <th>cluster</th>\n",
              "      <th>clusterGMM</th>\n",
              "    </tr>\n",
              "  </thead>\n",
              "  <tbody>\n",
              "    <tr>\n",
              "      <th>19</th>\n",
              "      <td>2020-02-05</td>\n",
              "      <td>7</td>\n",
              "      <td>0.027667</td>\n",
              "      <td>19.250000</td>\n",
              "      <td>5.920833</td>\n",
              "      <td>0.002250</td>\n",
              "      <td>25</td>\n",
              "      <td>18</td>\n",
              "      <td>0</td>\n",
              "      <td>2</td>\n",
              "    </tr>\n",
              "    <tr>\n",
              "      <th>20</th>\n",
              "      <td>2020-02-06</td>\n",
              "      <td>7</td>\n",
              "      <td>0.027208</td>\n",
              "      <td>7.333333</td>\n",
              "      <td>4.220833</td>\n",
              "      <td>0.001958</td>\n",
              "      <td>18</td>\n",
              "      <td>6</td>\n",
              "      <td>2</td>\n",
              "      <td>0</td>\n",
              "    </tr>\n",
              "    <tr>\n",
              "      <th>21</th>\n",
              "      <td>2020-02-07</td>\n",
              "      <td>7</td>\n",
              "      <td>0.025958</td>\n",
              "      <td>2.708333</td>\n",
              "      <td>1.737500</td>\n",
              "      <td>0.001917</td>\n",
              "      <td>7</td>\n",
              "      <td>2</td>\n",
              "      <td>2</td>\n",
              "      <td>0</td>\n",
              "    </tr>\n",
              "    <tr>\n",
              "      <th>22</th>\n",
              "      <td>2020-02-08</td>\n",
              "      <td>7</td>\n",
              "      <td>0.034000</td>\n",
              "      <td>9.375000</td>\n",
              "      <td>3.575000</td>\n",
              "      <td>0.002000</td>\n",
              "      <td>15</td>\n",
              "      <td>8</td>\n",
              "      <td>2</td>\n",
              "      <td>0</td>\n",
              "    </tr>\n",
              "    <tr>\n",
              "      <th>23</th>\n",
              "      <td>2020-02-09</td>\n",
              "      <td>7</td>\n",
              "      <td>0.026429</td>\n",
              "      <td>22.571429</td>\n",
              "      <td>6.871429</td>\n",
              "      <td>0.002429</td>\n",
              "      <td>28</td>\n",
              "      <td>20</td>\n",
              "      <td>0</td>\n",
              "      <td>2</td>\n",
              "    </tr>\n",
              "  </tbody>\n",
              "</table>\n",
              "</div>"
            ],
            "text/plain": [
              "parameter        date  location        o3  ...  aqi10  cluster  clusterGMM\n",
              "19         2020-02-05         7  0.027667  ...     18        0           2\n",
              "20         2020-02-06         7  0.027208  ...      6        2           0\n",
              "21         2020-02-07         7  0.025958  ...      2        2           0\n",
              "22         2020-02-08         7  0.034000  ...      8        2           0\n",
              "23         2020-02-09         7  0.026429  ...     20        0           2\n",
              "\n",
              "[5 rows x 10 columns]"
            ]
          },
          "metadata": {
            "tags": []
          },
          "execution_count": 559
        }
      ]
    },
    {
      "cell_type": "markdown",
      "metadata": {
        "id": "6MHVYalxJdMm",
        "colab_type": "text"
      },
      "source": [
        "### Plotting AQI index and O3 values"
      ]
    },
    {
      "cell_type": "code",
      "metadata": {
        "id": "EXOEsa7xJAwC",
        "colab_type": "code",
        "colab": {
          "base_uri": "https://localhost:8080/",
          "height": 279
        },
        "outputId": "e7da563d-8932-4d63-fbbe-36d33afcdb95"
      },
      "source": [
        "plt.scatter(alt_mean_table['aqi10'], alt_mean_table['o3'], s=70, c=y_gmm, cmap='rainbow');\n",
        "plt.xlabel('AQI10')\n",
        "plt.ylabel('O3')\n",
        "plt.show()"
      ],
      "execution_count": 560,
      "outputs": [
        {
          "output_type": "display_data",
          "data": {
            "image/png": "[encoded data removed]",
            "text/plain": [
              "<Figure size 432x288 with 1 Axes>"
            ]
          },
          "metadata": {
            "tags": []
          }
        }
      ]
    },
    {
      "cell_type": "code",
      "metadata": {
        "id": "UjZoV4kBJEl2",
        "colab_type": "code",
        "colab": {
          "base_uri": "https://localhost:8080/",
          "height": 279
        },
        "outputId": "205033f4-529f-402e-e81d-443e58a85e93"
      },
      "source": [
        "plt.scatter(alt_mean_table['aqi25'], alt_mean_table['o3'], s=70,c=y_gmm, cmap='rainbow');\n",
        "plt.xlabel('AQI25')\n",
        "plt.ylabel('O3')\n",
        "plt.show()"
      ],
      "execution_count": 561,
      "outputs": [
        {
          "output_type": "display_data",
          "data": {
            "image/png": "[encoded data removed]",
            "text/plain": [
              "<Figure size 432x288 with 1 Axes>"
            ]
          },
          "metadata": {
            "tags": []
          }
        }
      ]
    }
  ]
}