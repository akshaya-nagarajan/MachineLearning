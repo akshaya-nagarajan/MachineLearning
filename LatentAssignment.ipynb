{
  "nbformat": 4,
  "nbformat_minor": 0,
  "metadata": {
    "colab": {
      "name": "LatentAssignment.ipynb",
      "provenance": [],
      "collapsed_sections": [],
      "include_colab_link": true
    },
    "kernelspec": {
      "name": "python3",
      "display_name": "Python 3"
    }
  },
  "cells": [
    {
      "cell_type": "markdown",
      "metadata": {
        "id": "view-in-github",
        "colab_type": "text"
      },
      "source": [
        "<a href=\"https://colab.research.google.com/github/akshaya-nagarajan/MachineLearning/blob/master/LatentAssignment.ipynb\" target=\"_parent\"><img src=\"https://colab.research.google.com/assets/colab-badge.svg\" alt=\"Open In Colab\"/></a>"
      ]
    },
    {
      "cell_type": "markdown",
      "metadata": {
        "id": "v9B2C4MXJWIg",
        "colab_type": "text"
      },
      "source": [
        ""
      ]
    },
    {
      "cell_type": "code",
      "metadata": {
        "id": "LUzovG__-YW9",
        "colab_type": "code",
        "outputId": "bdac93ee-d0c4-41fc-b168-e8400b26f0f3",
        "colab": {
          "base_uri": "https://localhost:8080/",
          "height": 34
        }
      },
      "source": [
        "from google.colab import drive\n",
        "drive.mount('/content/gdrive', force_remount=True)\n",
        "root_dir = \"/content/gdrive/My Drive/MLSpring2020/\"\n",
        "base_dir = root_dir + 'the_expendables_AirQuality_Traffic'"
      ],
      "execution_count": 0,
      "outputs": [
        {
          "output_type": "stream",
          "text": [
            "Mounted at /content/gdrive\n"
          ],
          "name": "stdout"
        }
      ]
    },
    {
      "cell_type": "code",
      "metadata": {
        "id": "az75Fyu3Ci2W",
        "colab_type": "code",
        "colab": {}
      },
      "source": [
        "airQualityFilePath = base_dir + '/AQ_Boston_Cam-Quincy_2017_Jan_to_Dec_New.csv'\n",
        "chronicDiseaseFilePath = base_dir + '/U.S_Chronic_Disease_Indicators_CDI.csv'"
      ],
      "execution_count": 0,
      "outputs": []
    },
    {
      "cell_type": "code",
      "metadata": {
        "id": "nu2AfAcXDesJ",
        "colab_type": "code",
        "colab": {}
      },
      "source": [
        "import pandas as pd\n",
        "import numpy as np"
      ],
      "execution_count": 0,
      "outputs": []
    },
    {
      "cell_type": "markdown",
      "metadata": {
        "id": "Wqp_5Vs2IUE1",
        "colab_type": "text"
      },
      "source": [
        "Loading the datasets"
      ]
    },
    {
      "cell_type": "code",
      "metadata": {
        "id": "-anAjtGzBd-s",
        "colab_type": "code",
        "outputId": "1905ec1f-644c-490f-d04f-9fc030ff0249",
        "colab": {
          "base_uri": "https://localhost:8080/",
          "height": 51
        }
      },
      "source": [
        "df_air_quality = pd.read_csv(airQualityFilePath, engine='python')\n",
        "df_chronic_disease = pd.read_csv(chronicDiseaseFilePath)"
      ],
      "execution_count": 0,
      "outputs": [
        {
          "output_type": "stream",
          "text": [
            "/usr/local/lib/python3.6/dist-packages/IPython/core/interactiveshell.py:2718: DtypeWarning: Columns (10) have mixed types. Specify dtype option on import or set low_memory=False.\n",
            "  interactivity=interactivity, compiler=compiler, result=result)\n"
          ],
          "name": "stderr"
        }
      ]
    },
    {
      "cell_type": "markdown",
      "metadata": {
        "id": "tBoLZuWtIYA9",
        "colab_type": "text"
      },
      "source": [
        "Drop unwanted columns"
      ]
    },
    {
      "cell_type": "code",
      "metadata": {
        "id": "iwcBsw3_61Ud",
        "colab_type": "code",
        "colab": {}
      },
      "source": [
        "df_air_quality.drop(df_air_quality.columns[[6, 7 ,10, 11, 12]], axis=1, inplace=True)"
      ],
      "execution_count": 0,
      "outputs": []
    },
    {
      "cell_type": "markdown",
      "metadata": {
        "id": "-Pru_YwvIb9w",
        "colab_type": "text"
      },
      "source": [
        "Assigning column names"
      ]
    },
    {
      "cell_type": "code",
      "metadata": {
        "id": "pT2U6Pzs45zI",
        "colab_type": "code",
        "colab": {}
      },
      "source": [
        "df_air_quality.columns = ['timestamp', 'parameter', 'location', 'value','unit','city', 'latitudelongitude', 'country']"
      ],
      "execution_count": 0,
      "outputs": []
    },
    {
      "cell_type": "code",
      "metadata": {
        "id": "Y2dmAt7C6Bbf",
        "colab_type": "code",
        "outputId": "a6988c6e-15a1-4782-f8a5-7253dff7b29a",
        "colab": {
          "base_uri": "https://localhost:8080/",
          "height": 204
        }
      },
      "source": [
        "df_air_quality.head(5)"
      ],
      "execution_count": 0,
      "outputs": [
        {
          "output_type": "execute_result",
          "data": {
            "text/html": [
              "<div>\n",
              "<style scoped>\n",
              "    .dataframe tbody tr th:only-of-type {\n",
              "        vertical-align: middle;\n",
              "    }\n",
              "\n",
              "    .dataframe tbody tr th {\n",
              "        vertical-align: top;\n",
              "    }\n",
              "\n",
              "    .dataframe thead th {\n",
              "        text-align: right;\n",
              "    }\n",
              "</style>\n",
              "<table border=\"1\" class=\"dataframe\">\n",
              "  <thead>\n",
              "    <tr style=\"text-align: right;\">\n",
              "      <th></th>\n",
              "      <th>timestamp</th>\n",
              "      <th>parameter</th>\n",
              "      <th>location</th>\n",
              "      <th>value</th>\n",
              "      <th>unit</th>\n",
              "      <th>city</th>\n",
              "      <th>latitudelongitude</th>\n",
              "      <th>country</th>\n",
              "    </tr>\n",
              "  </thead>\n",
              "  <tbody>\n",
              "    <tr>\n",
              "      <th>0</th>\n",
              "      <td>2017-01-01T00:00:00.000Z\u00022016-12-31T19:00:00-0...</td>\n",
              "      <td>so2</td>\n",
              "      <td>Portsmouth</td>\n",
              "      <td>0.002</td>\n",
              "      <td>ppm</td>\n",
              "      <td>Boston-Cambridge-Quincy</td>\n",
              "      <td>43.075367\u0002-70.74802</td>\n",
              "      <td>US</td>\n",
              "    </tr>\n",
              "    <tr>\n",
              "      <th>1</th>\n",
              "      <td>2017-01-01T01:00:00.000Z\u00022016-12-31T20:00:00-0...</td>\n",
              "      <td>o3</td>\n",
              "      <td>Portsmouth</td>\n",
              "      <td>0.031</td>\n",
              "      <td>ppm</td>\n",
              "      <td>Boston-Cambridge-Quincy</td>\n",
              "      <td>43.075367\u0002-70.74802</td>\n",
              "      <td>US</td>\n",
              "    </tr>\n",
              "    <tr>\n",
              "      <th>2</th>\n",
              "      <td>2017-01-01T01:00:00.000Z\u00022016-12-31T20:00:00-0...</td>\n",
              "      <td>so2</td>\n",
              "      <td>Portsmouth</td>\n",
              "      <td>0.002</td>\n",
              "      <td>ppm</td>\n",
              "      <td>Boston-Cambridge-Quincy</td>\n",
              "      <td>43.075367\u0002-70.74802</td>\n",
              "      <td>US</td>\n",
              "    </tr>\n",
              "    <tr>\n",
              "      <th>3</th>\n",
              "      <td>2017-01-01T02:00:00.000Z\u00022016-12-31T21:00:00-0...</td>\n",
              "      <td>o3</td>\n",
              "      <td>Portsmouth</td>\n",
              "      <td>0.033</td>\n",
              "      <td>ppm</td>\n",
              "      <td>Boston-Cambridge-Quincy</td>\n",
              "      <td>43.075367\u0002-70.74802</td>\n",
              "      <td>US</td>\n",
              "    </tr>\n",
              "    <tr>\n",
              "      <th>4</th>\n",
              "      <td>2017-01-01T02:00:00.000Z\u00022016-12-31T21:00:00-0...</td>\n",
              "      <td>so2</td>\n",
              "      <td>Portsmouth</td>\n",
              "      <td>0.002</td>\n",
              "      <td>ppm</td>\n",
              "      <td>Boston-Cambridge-Quincy</td>\n",
              "      <td>43.075367\u0002-70.74802</td>\n",
              "      <td>US</td>\n",
              "    </tr>\n",
              "  </tbody>\n",
              "</table>\n",
              "</div>"
            ],
            "text/plain": [
              "                                           timestamp  ... country\n",
              "0  2017-01-01T00:00:00.000Z\u00022016-12-31T19:00:00-0...  ...      US\n",
              "1  2017-01-01T01:00:00.000Z\u00022016-12-31T20:00:00-0...  ...      US\n",
              "2  2017-01-01T01:00:00.000Z\u00022016-12-31T20:00:00-0...  ...      US\n",
              "3  2017-01-01T02:00:00.000Z\u00022016-12-31T21:00:00-0...  ...      US\n",
              "4  2017-01-01T02:00:00.000Z\u00022016-12-31T21:00:00-0...  ...      US\n",
              "\n",
              "[5 rows x 8 columns]"
            ]
          },
          "metadata": {
            "tags": []
          },
          "execution_count": 7
        }
      ]
    },
    {
      "cell_type": "markdown",
      "metadata": {
        "id": "LSdb1-PUIfrK",
        "colab_type": "text"
      },
      "source": [
        "Removing Hex values"
      ]
    },
    {
      "cell_type": "code",
      "metadata": {
        "id": "LRWUj9cPANqd",
        "colab_type": "code",
        "colab": {}
      },
      "source": [
        "df_air_quality['latitudelongitude'] = df_air_quality['latitudelongitude'].replace({'\\x02':' '}, regex=True)"
      ],
      "execution_count": 0,
      "outputs": []
    },
    {
      "cell_type": "markdown",
      "metadata": {
        "id": "Tz85UVkLIjHu",
        "colab_type": "text"
      },
      "source": [
        "Splitting Latitude Longitude values"
      ]
    },
    {
      "cell_type": "code",
      "metadata": {
        "id": "CeTcyoX97PQC",
        "colab_type": "code",
        "colab": {}
      },
      "source": [
        "df_air_quality[['latitude', 'longitude']] = df_air_quality['latitudelongitude'].str.split(n=1, expand=True)"
      ],
      "execution_count": 0,
      "outputs": []
    },
    {
      "cell_type": "code",
      "metadata": {
        "id": "8NycJzflB7R8",
        "colab_type": "code",
        "outputId": "14e1de13-6e0d-4e0a-8a3c-40ff722ae9a2",
        "colab": {
          "base_uri": "https://localhost:8080/",
          "height": 34
        }
      },
      "source": [
        "df_air_quality['timestamp'][0]"
      ],
      "execution_count": 0,
      "outputs": [
        {
          "output_type": "execute_result",
          "data": {
            "text/plain": [
              "'2017-01-01T00:00:00.000Z\\x022016-12-31T19:00:00-05:00'"
            ]
          },
          "metadata": {
            "tags": []
          },
          "execution_count": 10
        }
      ]
    },
    {
      "cell_type": "markdown",
      "metadata": {
        "id": "lcLISBjKInkz",
        "colab_type": "text"
      },
      "source": [
        "Removing Hex values from timestamp"
      ]
    },
    {
      "cell_type": "code",
      "metadata": {
        "id": "eSv-UKQ4BgLd",
        "colab_type": "code",
        "colab": {}
      },
      "source": [
        "df_air_quality['timestamp'] = df_air_quality['timestamp'].replace({'\\x02':' '}, regex=True)\n",
        "df_air_quality[['utc', 'local']] = df_air_quality['timestamp'].str.split(n=1, expand=True)"
      ],
      "execution_count": 0,
      "outputs": []
    },
    {
      "cell_type": "code",
      "metadata": {
        "id": "EV2WMuJ-7Y2W",
        "colab_type": "code",
        "outputId": "bd5b9122-5d7e-42de-8172-70cea53e8591",
        "colab": {
          "base_uri": "https://localhost:8080/",
          "height": 34
        }
      },
      "source": [
        "df_air_quality['timestamp'][0]"
      ],
      "execution_count": 0,
      "outputs": [
        {
          "output_type": "execute_result",
          "data": {
            "text/plain": [
              "'2017-01-01T00:00:00.000Z 2016-12-31T19:00:00-05:00'"
            ]
          },
          "metadata": {
            "tags": []
          },
          "execution_count": 12
        }
      ]
    },
    {
      "cell_type": "markdown",
      "metadata": {
        "id": "79cEkpwGIsmb",
        "colab_type": "text"
      },
      "source": [
        "Removing unwanted columns"
      ]
    },
    {
      "cell_type": "code",
      "metadata": {
        "id": "7crO-tADDpqG",
        "colab_type": "code",
        "colab": {}
      },
      "source": [
        "df_air_quality.drop(df_air_quality.columns[[0, 6]], axis=1, inplace=True)"
      ],
      "execution_count": 0,
      "outputs": []
    },
    {
      "cell_type": "code",
      "metadata": {
        "id": "ActfopPC7X3x",
        "colab_type": "code",
        "outputId": "1d6d4a7a-eb31-4cf0-9a0b-8325f151bd2b",
        "colab": {
          "base_uri": "https://localhost:8080/",
          "height": 204
        }
      },
      "source": [
        "df_air_quality.head(5)"
      ],
      "execution_count": 0,
      "outputs": [
        {
          "output_type": "execute_result",
          "data": {
            "text/html": [
              "<div>\n",
              "<style scoped>\n",
              "    .dataframe tbody tr th:only-of-type {\n",
              "        vertical-align: middle;\n",
              "    }\n",
              "\n",
              "    .dataframe tbody tr th {\n",
              "        vertical-align: top;\n",
              "    }\n",
              "\n",
              "    .dataframe thead th {\n",
              "        text-align: right;\n",
              "    }\n",
              "</style>\n",
              "<table border=\"1\" class=\"dataframe\">\n",
              "  <thead>\n",
              "    <tr style=\"text-align: right;\">\n",
              "      <th></th>\n",
              "      <th>parameter</th>\n",
              "      <th>location</th>\n",
              "      <th>value</th>\n",
              "      <th>unit</th>\n",
              "      <th>city</th>\n",
              "      <th>country</th>\n",
              "      <th>latitude</th>\n",
              "      <th>longitude</th>\n",
              "      <th>utc</th>\n",
              "      <th>local</th>\n",
              "    </tr>\n",
              "  </thead>\n",
              "  <tbody>\n",
              "    <tr>\n",
              "      <th>0</th>\n",
              "      <td>so2</td>\n",
              "      <td>Portsmouth</td>\n",
              "      <td>0.002</td>\n",
              "      <td>ppm</td>\n",
              "      <td>Boston-Cambridge-Quincy</td>\n",
              "      <td>US</td>\n",
              "      <td>43.075367</td>\n",
              "      <td>-70.74802</td>\n",
              "      <td>2017-01-01T00:00:00.000Z</td>\n",
              "      <td>2016-12-31T19:00:00-05:00</td>\n",
              "    </tr>\n",
              "    <tr>\n",
              "      <th>1</th>\n",
              "      <td>o3</td>\n",
              "      <td>Portsmouth</td>\n",
              "      <td>0.031</td>\n",
              "      <td>ppm</td>\n",
              "      <td>Boston-Cambridge-Quincy</td>\n",
              "      <td>US</td>\n",
              "      <td>43.075367</td>\n",
              "      <td>-70.74802</td>\n",
              "      <td>2017-01-01T01:00:00.000Z</td>\n",
              "      <td>2016-12-31T20:00:00-05:00</td>\n",
              "    </tr>\n",
              "    <tr>\n",
              "      <th>2</th>\n",
              "      <td>so2</td>\n",
              "      <td>Portsmouth</td>\n",
              "      <td>0.002</td>\n",
              "      <td>ppm</td>\n",
              "      <td>Boston-Cambridge-Quincy</td>\n",
              "      <td>US</td>\n",
              "      <td>43.075367</td>\n",
              "      <td>-70.74802</td>\n",
              "      <td>2017-01-01T01:00:00.000Z</td>\n",
              "      <td>2016-12-31T20:00:00-05:00</td>\n",
              "    </tr>\n",
              "    <tr>\n",
              "      <th>3</th>\n",
              "      <td>o3</td>\n",
              "      <td>Portsmouth</td>\n",
              "      <td>0.033</td>\n",
              "      <td>ppm</td>\n",
              "      <td>Boston-Cambridge-Quincy</td>\n",
              "      <td>US</td>\n",
              "      <td>43.075367</td>\n",
              "      <td>-70.74802</td>\n",
              "      <td>2017-01-01T02:00:00.000Z</td>\n",
              "      <td>2016-12-31T21:00:00-05:00</td>\n",
              "    </tr>\n",
              "    <tr>\n",
              "      <th>4</th>\n",
              "      <td>so2</td>\n",
              "      <td>Portsmouth</td>\n",
              "      <td>0.002</td>\n",
              "      <td>ppm</td>\n",
              "      <td>Boston-Cambridge-Quincy</td>\n",
              "      <td>US</td>\n",
              "      <td>43.075367</td>\n",
              "      <td>-70.74802</td>\n",
              "      <td>2017-01-01T02:00:00.000Z</td>\n",
              "      <td>2016-12-31T21:00:00-05:00</td>\n",
              "    </tr>\n",
              "  </tbody>\n",
              "</table>\n",
              "</div>"
            ],
            "text/plain": [
              "  parameter    location  ...                       utc                      local\n",
              "0       so2  Portsmouth  ...  2017-01-01T00:00:00.000Z  2016-12-31T19:00:00-05:00\n",
              "1        o3  Portsmouth  ...  2017-01-01T01:00:00.000Z  2016-12-31T20:00:00-05:00\n",
              "2       so2  Portsmouth  ...  2017-01-01T01:00:00.000Z  2016-12-31T20:00:00-05:00\n",
              "3        o3  Portsmouth  ...  2017-01-01T02:00:00.000Z  2016-12-31T21:00:00-05:00\n",
              "4       so2  Portsmouth  ...  2017-01-01T02:00:00.000Z  2016-12-31T21:00:00-05:00\n",
              "\n",
              "[5 rows x 10 columns]"
            ]
          },
          "metadata": {
            "tags": []
          },
          "execution_count": 14
        }
      ]
    },
    {
      "cell_type": "markdown",
      "metadata": {
        "id": "Kqq-cyfcIxb-",
        "colab_type": "text"
      },
      "source": [
        "Removing NaN rows and Getting unique locations"
      ]
    },
    {
      "cell_type": "code",
      "metadata": {
        "id": "WMNhr-X7CKyI",
        "colab_type": "code",
        "outputId": "519753e7-d8ff-48fd-9136-1658438dfd1c",
        "colab": {
          "base_uri": "https://localhost:8080/",
          "height": 68
        }
      },
      "source": [
        "df_air_quality.dropna(inplace=True)\n",
        "df_air_quality.location.unique()"
      ],
      "execution_count": 0,
      "outputs": [
        {
          "output_type": "execute_result",
          "data": {
            "text/plain": [
              "array(['Portsmouth', 'Boston - Roxbury', 'BOSTON-KENMORE', 'LYNN',\n",
              "       'Haverhill', 'USEPA Region 1 Lab', 'E. Milton - Blue Hil',\n",
              "       'Boston - North End', 'Odiorne State Park'], dtype=object)"
            ]
          },
          "metadata": {
            "tags": []
          },
          "execution_count": 16
        }
      ]
    },
    {
      "cell_type": "markdown",
      "metadata": {
        "id": "BRtbOzIzI2Y3",
        "colab_type": "text"
      },
      "source": [
        "Converting Location to categorical value"
      ]
    },
    {
      "cell_type": "code",
      "metadata": {
        "id": "yhKoaoAmF-h_",
        "colab_type": "code",
        "colab": {}
      },
      "source": [
        "c = df_air_quality['location'].astype('category')\n",
        "d = dict(enumerate(c.cat.categories))\n",
        "df_air_quality['location'] = c.cat.codes"
      ],
      "execution_count": 0,
      "outputs": []
    },
    {
      "cell_type": "code",
      "metadata": {
        "id": "fQF-sfLfwLyx",
        "colab_type": "code",
        "outputId": "6437d293-3992-444f-af95-aa1a694d7446",
        "colab": {
          "base_uri": "https://localhost:8080/",
          "height": 204
        }
      },
      "source": [
        "df_air_quality.head(5)"
      ],
      "execution_count": 0,
      "outputs": [
        {
          "output_type": "execute_result",
          "data": {
            "text/html": [
              "<div>\n",
              "<style scoped>\n",
              "    .dataframe tbody tr th:only-of-type {\n",
              "        vertical-align: middle;\n",
              "    }\n",
              "\n",
              "    .dataframe tbody tr th {\n",
              "        vertical-align: top;\n",
              "    }\n",
              "\n",
              "    .dataframe thead th {\n",
              "        text-align: right;\n",
              "    }\n",
              "</style>\n",
              "<table border=\"1\" class=\"dataframe\">\n",
              "  <thead>\n",
              "    <tr style=\"text-align: right;\">\n",
              "      <th></th>\n",
              "      <th>parameter</th>\n",
              "      <th>location</th>\n",
              "      <th>value</th>\n",
              "      <th>unit</th>\n",
              "      <th>city</th>\n",
              "      <th>country</th>\n",
              "      <th>latitude</th>\n",
              "      <th>longitude</th>\n",
              "      <th>utc</th>\n",
              "      <th>local</th>\n",
              "    </tr>\n",
              "  </thead>\n",
              "  <tbody>\n",
              "    <tr>\n",
              "      <th>0</th>\n",
              "      <td>so2</td>\n",
              "      <td>7</td>\n",
              "      <td>0.002</td>\n",
              "      <td>ppm</td>\n",
              "      <td>Boston-Cambridge-Quincy</td>\n",
              "      <td>US</td>\n",
              "      <td>43.075367</td>\n",
              "      <td>-70.74802</td>\n",
              "      <td>2017-01-01T00:00:00.000Z</td>\n",
              "      <td>2016-12-31T19:00:00-05:00</td>\n",
              "    </tr>\n",
              "    <tr>\n",
              "      <th>1</th>\n",
              "      <td>o3</td>\n",
              "      <td>7</td>\n",
              "      <td>0.031</td>\n",
              "      <td>ppm</td>\n",
              "      <td>Boston-Cambridge-Quincy</td>\n",
              "      <td>US</td>\n",
              "      <td>43.075367</td>\n",
              "      <td>-70.74802</td>\n",
              "      <td>2017-01-01T01:00:00.000Z</td>\n",
              "      <td>2016-12-31T20:00:00-05:00</td>\n",
              "    </tr>\n",
              "    <tr>\n",
              "      <th>2</th>\n",
              "      <td>so2</td>\n",
              "      <td>7</td>\n",
              "      <td>0.002</td>\n",
              "      <td>ppm</td>\n",
              "      <td>Boston-Cambridge-Quincy</td>\n",
              "      <td>US</td>\n",
              "      <td>43.075367</td>\n",
              "      <td>-70.74802</td>\n",
              "      <td>2017-01-01T01:00:00.000Z</td>\n",
              "      <td>2016-12-31T20:00:00-05:00</td>\n",
              "    </tr>\n",
              "    <tr>\n",
              "      <th>3</th>\n",
              "      <td>o3</td>\n",
              "      <td>7</td>\n",
              "      <td>0.033</td>\n",
              "      <td>ppm</td>\n",
              "      <td>Boston-Cambridge-Quincy</td>\n",
              "      <td>US</td>\n",
              "      <td>43.075367</td>\n",
              "      <td>-70.74802</td>\n",
              "      <td>2017-01-01T02:00:00.000Z</td>\n",
              "      <td>2016-12-31T21:00:00-05:00</td>\n",
              "    </tr>\n",
              "    <tr>\n",
              "      <th>4</th>\n",
              "      <td>so2</td>\n",
              "      <td>7</td>\n",
              "      <td>0.002</td>\n",
              "      <td>ppm</td>\n",
              "      <td>Boston-Cambridge-Quincy</td>\n",
              "      <td>US</td>\n",
              "      <td>43.075367</td>\n",
              "      <td>-70.74802</td>\n",
              "      <td>2017-01-01T02:00:00.000Z</td>\n",
              "      <td>2016-12-31T21:00:00-05:00</td>\n",
              "    </tr>\n",
              "  </tbody>\n",
              "</table>\n",
              "</div>"
            ],
            "text/plain": [
              "  parameter  location  ...                       utc                      local\n",
              "0       so2         7  ...  2017-01-01T00:00:00.000Z  2016-12-31T19:00:00-05:00\n",
              "1        o3         7  ...  2017-01-01T01:00:00.000Z  2016-12-31T20:00:00-05:00\n",
              "2       so2         7  ...  2017-01-01T01:00:00.000Z  2016-12-31T20:00:00-05:00\n",
              "3        o3         7  ...  2017-01-01T02:00:00.000Z  2016-12-31T21:00:00-05:00\n",
              "4       so2         7  ...  2017-01-01T02:00:00.000Z  2016-12-31T21:00:00-05:00\n",
              "\n",
              "[5 rows x 10 columns]"
            ]
          },
          "metadata": {
            "tags": []
          },
          "execution_count": 18
        }
      ]
    },
    {
      "cell_type": "markdown",
      "metadata": {
        "id": "nNUU2qAkI62J",
        "colab_type": "text"
      },
      "source": [
        "Convert timestamp to date"
      ]
    },
    {
      "cell_type": "code",
      "metadata": {
        "id": "PncIO9-Y0w0F",
        "colab_type": "code",
        "colab": {}
      },
      "source": [
        "df_air_quality['date'] = pd.to_datetime(df_air_quality['local'], errors='coerce')\n",
        "df_air_quality['date']  = df_air_quality['date'].dt.date"
      ],
      "execution_count": 0,
      "outputs": []
    },
    {
      "cell_type": "code",
      "metadata": {
        "id": "1W9Yv7T06hkz",
        "colab_type": "code",
        "outputId": "4922f421-6e38-442e-fe28-1368df7f7f46",
        "colab": {
          "base_uri": "https://localhost:8080/",
          "height": 204
        }
      },
      "source": [
        "df_air_quality.head(5)"
      ],
      "execution_count": 0,
      "outputs": [
        {
          "output_type": "execute_result",
          "data": {
            "text/html": [
              "<div>\n",
              "<style scoped>\n",
              "    .dataframe tbody tr th:only-of-type {\n",
              "        vertical-align: middle;\n",
              "    }\n",
              "\n",
              "    .dataframe tbody tr th {\n",
              "        vertical-align: top;\n",
              "    }\n",
              "\n",
              "    .dataframe thead th {\n",
              "        text-align: right;\n",
              "    }\n",
              "</style>\n",
              "<table border=\"1\" class=\"dataframe\">\n",
              "  <thead>\n",
              "    <tr style=\"text-align: right;\">\n",
              "      <th></th>\n",
              "      <th>parameter</th>\n",
              "      <th>location</th>\n",
              "      <th>value</th>\n",
              "      <th>unit</th>\n",
              "      <th>city</th>\n",
              "      <th>country</th>\n",
              "      <th>latitude</th>\n",
              "      <th>longitude</th>\n",
              "      <th>utc</th>\n",
              "      <th>local</th>\n",
              "      <th>date</th>\n",
              "    </tr>\n",
              "  </thead>\n",
              "  <tbody>\n",
              "    <tr>\n",
              "      <th>0</th>\n",
              "      <td>so2</td>\n",
              "      <td>7</td>\n",
              "      <td>0.002</td>\n",
              "      <td>ppm</td>\n",
              "      <td>Boston-Cambridge-Quincy</td>\n",
              "      <td>US</td>\n",
              "      <td>43.075367</td>\n",
              "      <td>-70.74802</td>\n",
              "      <td>2017-01-01T00:00:00.000Z</td>\n",
              "      <td>2016-12-31T19:00:00-05:00</td>\n",
              "      <td>2016-12-31</td>\n",
              "    </tr>\n",
              "    <tr>\n",
              "      <th>1</th>\n",
              "      <td>o3</td>\n",
              "      <td>7</td>\n",
              "      <td>0.031</td>\n",
              "      <td>ppm</td>\n",
              "      <td>Boston-Cambridge-Quincy</td>\n",
              "      <td>US</td>\n",
              "      <td>43.075367</td>\n",
              "      <td>-70.74802</td>\n",
              "      <td>2017-01-01T01:00:00.000Z</td>\n",
              "      <td>2016-12-31T20:00:00-05:00</td>\n",
              "      <td>2016-12-31</td>\n",
              "    </tr>\n",
              "    <tr>\n",
              "      <th>2</th>\n",
              "      <td>so2</td>\n",
              "      <td>7</td>\n",
              "      <td>0.002</td>\n",
              "      <td>ppm</td>\n",
              "      <td>Boston-Cambridge-Quincy</td>\n",
              "      <td>US</td>\n",
              "      <td>43.075367</td>\n",
              "      <td>-70.74802</td>\n",
              "      <td>2017-01-01T01:00:00.000Z</td>\n",
              "      <td>2016-12-31T20:00:00-05:00</td>\n",
              "      <td>2016-12-31</td>\n",
              "    </tr>\n",
              "    <tr>\n",
              "      <th>3</th>\n",
              "      <td>o3</td>\n",
              "      <td>7</td>\n",
              "      <td>0.033</td>\n",
              "      <td>ppm</td>\n",
              "      <td>Boston-Cambridge-Quincy</td>\n",
              "      <td>US</td>\n",
              "      <td>43.075367</td>\n",
              "      <td>-70.74802</td>\n",
              "      <td>2017-01-01T02:00:00.000Z</td>\n",
              "      <td>2016-12-31T21:00:00-05:00</td>\n",
              "      <td>2016-12-31</td>\n",
              "    </tr>\n",
              "    <tr>\n",
              "      <th>4</th>\n",
              "      <td>so2</td>\n",
              "      <td>7</td>\n",
              "      <td>0.002</td>\n",
              "      <td>ppm</td>\n",
              "      <td>Boston-Cambridge-Quincy</td>\n",
              "      <td>US</td>\n",
              "      <td>43.075367</td>\n",
              "      <td>-70.74802</td>\n",
              "      <td>2017-01-01T02:00:00.000Z</td>\n",
              "      <td>2016-12-31T21:00:00-05:00</td>\n",
              "      <td>2016-12-31</td>\n",
              "    </tr>\n",
              "  </tbody>\n",
              "</table>\n",
              "</div>"
            ],
            "text/plain": [
              "  parameter  location  ...                      local        date\n",
              "0       so2         7  ...  2016-12-31T19:00:00-05:00  2016-12-31\n",
              "1        o3         7  ...  2016-12-31T20:00:00-05:00  2016-12-31\n",
              "2       so2         7  ...  2016-12-31T20:00:00-05:00  2016-12-31\n",
              "3        o3         7  ...  2016-12-31T21:00:00-05:00  2016-12-31\n",
              "4       so2         7  ...  2016-12-31T21:00:00-05:00  2016-12-31\n",
              "\n",
              "[5 rows x 11 columns]"
            ]
          },
          "metadata": {
            "tags": []
          },
          "execution_count": 20
        }
      ]
    },
    {
      "cell_type": "code",
      "metadata": {
        "id": "L9aiMkhNE_b4",
        "colab_type": "code",
        "colab": {}
      },
      "source": [
        "# import datetime\n",
        "\n",
        "# df_air_quality['date'] = pd.DatetimeIndex(df_air_quality['date']).date\n",
        "# df_air_quality['date'] = df_air_quality['date'].apply(lambda x: x.strftime('%Y-%m-%d'))"
      ],
      "execution_count": 0,
      "outputs": []
    },
    {
      "cell_type": "code",
      "metadata": {
        "id": "HPeLJJP3GO_v",
        "colab_type": "code",
        "outputId": "b724d7c6-0e10-4d45-aa90-69d26682e1bd",
        "colab": {
          "base_uri": "https://localhost:8080/",
          "height": 204
        }
      },
      "source": [
        "df_air_quality.tail()"
      ],
      "execution_count": 0,
      "outputs": [
        {
          "output_type": "execute_result",
          "data": {
            "text/html": [
              "<div>\n",
              "<style scoped>\n",
              "    .dataframe tbody tr th:only-of-type {\n",
              "        vertical-align: middle;\n",
              "    }\n",
              "\n",
              "    .dataframe tbody tr th {\n",
              "        vertical-align: top;\n",
              "    }\n",
              "\n",
              "    .dataframe thead th {\n",
              "        text-align: right;\n",
              "    }\n",
              "</style>\n",
              "<table border=\"1\" class=\"dataframe\">\n",
              "  <thead>\n",
              "    <tr style=\"text-align: right;\">\n",
              "      <th></th>\n",
              "      <th>parameter</th>\n",
              "      <th>location</th>\n",
              "      <th>value</th>\n",
              "      <th>unit</th>\n",
              "      <th>city</th>\n",
              "      <th>country</th>\n",
              "      <th>latitude</th>\n",
              "      <th>longitude</th>\n",
              "      <th>utc</th>\n",
              "      <th>local</th>\n",
              "      <th>date</th>\n",
              "    </tr>\n",
              "  </thead>\n",
              "  <tbody>\n",
              "    <tr>\n",
              "      <th>74598</th>\n",
              "      <td>no2</td>\n",
              "      <td>0</td>\n",
              "      <td>0.016</td>\n",
              "      <td>ppm</td>\n",
              "      <td>Boston-Cambridge-Quincy</td>\n",
              "      <td>US</td>\n",
              "      <td>42.3489</td>\n",
              "      <td>-71.0977</td>\n",
              "      <td>2017-12-28T01:00:00.000Z</td>\n",
              "      <td>2017-12-27T20:00:00-05:00</td>\n",
              "      <td>2017-12-27</td>\n",
              "    </tr>\n",
              "    <tr>\n",
              "      <th>74599</th>\n",
              "      <td>o3</td>\n",
              "      <td>3</td>\n",
              "      <td>0.035</td>\n",
              "      <td>ppm</td>\n",
              "      <td>Boston-Cambridge-Quincy</td>\n",
              "      <td>US</td>\n",
              "      <td>42.2117</td>\n",
              "      <td>-71.1144</td>\n",
              "      <td>2017-12-28T01:00:00.000Z</td>\n",
              "      <td>2017-12-27T20:00:00-05:00</td>\n",
              "      <td>2017-12-27</td>\n",
              "    </tr>\n",
              "    <tr>\n",
              "      <th>74600</th>\n",
              "      <td>no2</td>\n",
              "      <td>3</td>\n",
              "      <td>0.004</td>\n",
              "      <td>ppm</td>\n",
              "      <td>Boston-Cambridge-Quincy</td>\n",
              "      <td>US</td>\n",
              "      <td>42.2117</td>\n",
              "      <td>-71.1144</td>\n",
              "      <td>2017-12-28T01:00:00.000Z</td>\n",
              "      <td>2017-12-27T20:00:00-05:00</td>\n",
              "      <td>2017-12-27</td>\n",
              "    </tr>\n",
              "    <tr>\n",
              "      <th>74601</th>\n",
              "      <td>o3</td>\n",
              "      <td>8</td>\n",
              "      <td>0.028</td>\n",
              "      <td>ppm</td>\n",
              "      <td>Boston-Cambridge-Quincy</td>\n",
              "      <td>US</td>\n",
              "      <td>42.6267</td>\n",
              "      <td>-71.3622</td>\n",
              "      <td>2017-12-28T01:00:00.000Z</td>\n",
              "      <td>2017-12-27T20:00:00-05:00</td>\n",
              "      <td>2017-12-27</td>\n",
              "    </tr>\n",
              "    <tr>\n",
              "      <th>74602</th>\n",
              "      <td>pm25</td>\n",
              "      <td>4</td>\n",
              "      <td>2.000</td>\n",
              "      <td>�g/m�_</td>\n",
              "      <td>Boston-Cambridge-Quincy</td>\n",
              "      <td>US</td>\n",
              "      <td>42.7708</td>\n",
              "      <td>-71.1028</td>\n",
              "      <td>2017-12-28T01:00:00.000Z</td>\n",
              "      <td>2017-12-27T20:00:00-05:00</td>\n",
              "      <td>2017-12-27</td>\n",
              "    </tr>\n",
              "  </tbody>\n",
              "</table>\n",
              "</div>"
            ],
            "text/plain": [
              "      parameter  location  ...                      local        date\n",
              "74598       no2         0  ...  2017-12-27T20:00:00-05:00  2017-12-27\n",
              "74599        o3         3  ...  2017-12-27T20:00:00-05:00  2017-12-27\n",
              "74600       no2         3  ...  2017-12-27T20:00:00-05:00  2017-12-27\n",
              "74601        o3         8  ...  2017-12-27T20:00:00-05:00  2017-12-27\n",
              "74602      pm25         4  ...  2017-12-27T20:00:00-05:00  2017-12-27\n",
              "\n",
              "[5 rows x 11 columns]"
            ]
          },
          "metadata": {
            "tags": []
          },
          "execution_count": 22
        }
      ]
    },
    {
      "cell_type": "code",
      "metadata": {
        "id": "slB1SeTJ9L88",
        "colab_type": "code",
        "outputId": "b4985b16-8c80-4448-e507-6ef9db221256",
        "colab": {
          "base_uri": "https://localhost:8080/",
          "height": 34
        }
      },
      "source": [
        "df_air_quality['location'].max()"
      ],
      "execution_count": 0,
      "outputs": [
        {
          "output_type": "execute_result",
          "data": {
            "text/plain": [
              "8"
            ]
          },
          "metadata": {
            "tags": []
          },
          "execution_count": 24
        }
      ]
    },
    {
      "cell_type": "markdown",
      "metadata": {
        "id": "H_4aPBctI_r8",
        "colab_type": "text"
      },
      "source": [
        "Pivot the table"
      ]
    },
    {
      "cell_type": "code",
      "metadata": {
        "id": "REWa6yzYMp1v",
        "colab_type": "code",
        "colab": {}
      },
      "source": [
        "def pivotTableParams(df):\n",
        "  table = pd.pivot_table(df, values='value', index=['location', 'local', 'date'], columns=['parameter'], aggfunc=np.sum, fill_value=0)\n",
        "  table.reset_index(inplace=True)\n",
        "  table.columns = table.columns.str.strip()\n",
        "  return table"
      ],
      "execution_count": 0,
      "outputs": []
    },
    {
      "cell_type": "code",
      "metadata": {
        "id": "aT9JDwfhGMNQ",
        "colab_type": "code",
        "outputId": "50920e8d-2aac-44af-dce9-956993ec3122",
        "colab": {
          "base_uri": "https://localhost:8080/",
          "height": 419
        }
      },
      "source": [
        "pivotTable = pd.DataFrame()\n",
        "for i in range(0,8):\n",
        "  df = df_air_quality[(df_air_quality['location'] == i)] #2,4,5\n",
        "  table = pivotTableParams(df)\n",
        "  pivotTable = pivotTable.append(table,ignore_index = True, sort = True)\n",
        "\n",
        "pivotTable.fillna(0, inplace = True)\n",
        "pivotTable\n",
        "\n",
        "#df3 = df_air_quality[(df_air_quality['location'] == 7)] #2,4,5"
      ],
      "execution_count": 0,
      "outputs": [
        {
          "output_type": "execute_result",
          "data": {
            "text/html": [
              "<div>\n",
              "<style scoped>\n",
              "    .dataframe tbody tr th:only-of-type {\n",
              "        vertical-align: middle;\n",
              "    }\n",
              "\n",
              "    .dataframe tbody tr th {\n",
              "        vertical-align: top;\n",
              "    }\n",
              "\n",
              "    .dataframe thead th {\n",
              "        text-align: right;\n",
              "    }\n",
              "</style>\n",
              "<table border=\"1\" class=\"dataframe\">\n",
              "  <thead>\n",
              "    <tr style=\"text-align: right;\">\n",
              "      <th></th>\n",
              "      <th>co</th>\n",
              "      <th>date</th>\n",
              "      <th>local</th>\n",
              "      <th>location</th>\n",
              "      <th>no2</th>\n",
              "      <th>o3</th>\n",
              "      <th>pm10</th>\n",
              "      <th>pm25</th>\n",
              "      <th>so2</th>\n",
              "    </tr>\n",
              "  </thead>\n",
              "  <tbody>\n",
              "    <tr>\n",
              "      <th>0</th>\n",
              "      <td>0.0</td>\n",
              "      <td>2017-01-01</td>\n",
              "      <td>2017-01-01T00:00:00-05:00</td>\n",
              "      <td>0</td>\n",
              "      <td>0.006</td>\n",
              "      <td>0.000</td>\n",
              "      <td>0.0</td>\n",
              "      <td>0.0</td>\n",
              "      <td>0.000</td>\n",
              "    </tr>\n",
              "    <tr>\n",
              "      <th>1</th>\n",
              "      <td>0.0</td>\n",
              "      <td>2017-01-01</td>\n",
              "      <td>2017-01-01T02:00:00-05:00</td>\n",
              "      <td>0</td>\n",
              "      <td>0.006</td>\n",
              "      <td>0.000</td>\n",
              "      <td>0.0</td>\n",
              "      <td>0.0</td>\n",
              "      <td>0.000</td>\n",
              "    </tr>\n",
              "    <tr>\n",
              "      <th>2</th>\n",
              "      <td>0.0</td>\n",
              "      <td>2017-01-01</td>\n",
              "      <td>2017-01-01T05:00:00-05:00</td>\n",
              "      <td>0</td>\n",
              "      <td>0.007</td>\n",
              "      <td>0.000</td>\n",
              "      <td>0.0</td>\n",
              "      <td>0.0</td>\n",
              "      <td>0.000</td>\n",
              "    </tr>\n",
              "    <tr>\n",
              "      <th>3</th>\n",
              "      <td>0.0</td>\n",
              "      <td>2017-01-01</td>\n",
              "      <td>2017-01-01T09:00:00-05:00</td>\n",
              "      <td>0</td>\n",
              "      <td>0.005</td>\n",
              "      <td>0.000</td>\n",
              "      <td>0.0</td>\n",
              "      <td>0.0</td>\n",
              "      <td>0.000</td>\n",
              "    </tr>\n",
              "    <tr>\n",
              "      <th>4</th>\n",
              "      <td>0.0</td>\n",
              "      <td>2017-01-02</td>\n",
              "      <td>2017-01-02T00:00:00-05:00</td>\n",
              "      <td>0</td>\n",
              "      <td>0.023</td>\n",
              "      <td>0.000</td>\n",
              "      <td>0.0</td>\n",
              "      <td>0.0</td>\n",
              "      <td>0.000</td>\n",
              "    </tr>\n",
              "    <tr>\n",
              "      <th>...</th>\n",
              "      <td>...</td>\n",
              "      <td>...</td>\n",
              "      <td>...</td>\n",
              "      <td>...</td>\n",
              "      <td>...</td>\n",
              "      <td>...</td>\n",
              "      <td>...</td>\n",
              "      <td>...</td>\n",
              "      <td>...</td>\n",
              "    </tr>\n",
              "    <tr>\n",
              "      <th>29647</th>\n",
              "      <td>0.0</td>\n",
              "      <td>2017-12-28</td>\n",
              "      <td>2017-12-28T19:00:00-05:00</td>\n",
              "      <td>7</td>\n",
              "      <td>0.000</td>\n",
              "      <td>0.033</td>\n",
              "      <td>0.0</td>\n",
              "      <td>0.0</td>\n",
              "      <td>0.001</td>\n",
              "    </tr>\n",
              "    <tr>\n",
              "      <th>29648</th>\n",
              "      <td>0.0</td>\n",
              "      <td>2017-12-29</td>\n",
              "      <td>2017-12-29T00:00:00-05:00</td>\n",
              "      <td>7</td>\n",
              "      <td>0.000</td>\n",
              "      <td>0.030</td>\n",
              "      <td>0.0</td>\n",
              "      <td>0.0</td>\n",
              "      <td>0.000</td>\n",
              "    </tr>\n",
              "    <tr>\n",
              "      <th>29649</th>\n",
              "      <td>0.0</td>\n",
              "      <td>2017-12-29</td>\n",
              "      <td>2017-12-29T04:00:00-05:00</td>\n",
              "      <td>7</td>\n",
              "      <td>0.000</td>\n",
              "      <td>0.000</td>\n",
              "      <td>0.0</td>\n",
              "      <td>0.0</td>\n",
              "      <td>0.001</td>\n",
              "    </tr>\n",
              "    <tr>\n",
              "      <th>29650</th>\n",
              "      <td>0.0</td>\n",
              "      <td>2017-12-29</td>\n",
              "      <td>2017-12-29T23:00:00-05:00</td>\n",
              "      <td>7</td>\n",
              "      <td>0.000</td>\n",
              "      <td>0.027</td>\n",
              "      <td>0.0</td>\n",
              "      <td>0.0</td>\n",
              "      <td>0.006</td>\n",
              "    </tr>\n",
              "    <tr>\n",
              "      <th>29651</th>\n",
              "      <td>0.0</td>\n",
              "      <td>2017-12-30</td>\n",
              "      <td>2017-12-30T07:00:00-05:00</td>\n",
              "      <td>7</td>\n",
              "      <td>0.000</td>\n",
              "      <td>0.029</td>\n",
              "      <td>0.0</td>\n",
              "      <td>0.0</td>\n",
              "      <td>0.002</td>\n",
              "    </tr>\n",
              "  </tbody>\n",
              "</table>\n",
              "<p>29652 rows × 9 columns</p>\n",
              "</div>"
            ],
            "text/plain": [
              "        co        date                      local  ...  pm10  pm25    so2\n",
              "0      0.0  2017-01-01  2017-01-01T00:00:00-05:00  ...   0.0   0.0  0.000\n",
              "1      0.0  2017-01-01  2017-01-01T02:00:00-05:00  ...   0.0   0.0  0.000\n",
              "2      0.0  2017-01-01  2017-01-01T05:00:00-05:00  ...   0.0   0.0  0.000\n",
              "3      0.0  2017-01-01  2017-01-01T09:00:00-05:00  ...   0.0   0.0  0.000\n",
              "4      0.0  2017-01-02  2017-01-02T00:00:00-05:00  ...   0.0   0.0  0.000\n",
              "...    ...         ...                        ...  ...   ...   ...    ...\n",
              "29647  0.0  2017-12-28  2017-12-28T19:00:00-05:00  ...   0.0   0.0  0.001\n",
              "29648  0.0  2017-12-29  2017-12-29T00:00:00-05:00  ...   0.0   0.0  0.000\n",
              "29649  0.0  2017-12-29  2017-12-29T04:00:00-05:00  ...   0.0   0.0  0.001\n",
              "29650  0.0  2017-12-29  2017-12-29T23:00:00-05:00  ...   0.0   0.0  0.006\n",
              "29651  0.0  2017-12-30  2017-12-30T07:00:00-05:00  ...   0.0   0.0  0.002\n",
              "\n",
              "[29652 rows x 9 columns]"
            ]
          },
          "metadata": {
            "tags": []
          },
          "execution_count": 26
        }
      ]
    },
    {
      "cell_type": "code",
      "metadata": {
        "id": "wFUO32iL8taf",
        "colab_type": "code",
        "colab": {}
      },
      "source": [
        "# table_air_quality = pd.pivot_table(df3, values='value', index=['location', 'local', 'date'], columns=['parameter'], aggfunc=np.sum, fill_value=0)\n",
        "# table_air_quality.reset_index(inplace=True)\n",
        "# table_air_quality.columns = table_air_quality.columns.str.strip()"
      ],
      "execution_count": 0,
      "outputs": []
    },
    {
      "cell_type": "markdown",
      "metadata": {
        "id": "mqhbZ2fIJDq8",
        "colab_type": "text"
      },
      "source": [
        "Convert to float values"
      ]
    },
    {
      "cell_type": "code",
      "metadata": {
        "id": "5kM3eGldENn2",
        "colab_type": "code",
        "outputId": "55b91063-f076-43ce-d09f-89a2a30ad2d9",
        "colab": {
          "base_uri": "https://localhost:8080/",
          "height": 204
        }
      },
      "source": [
        "def covert_to_float(param):\n",
        "  try:\n",
        "      pivotTable[param] =  pivotTable[param].astype(float)\n",
        "  except (KeyError):\n",
        "      pass\n",
        "    \n",
        "arr = ['co','no2','o3','so2','pm10','pm25']\n",
        "for i in arr:\n",
        "    covert_to_float(i)\n",
        "pivotTable.head(5)"
      ],
      "execution_count": 0,
      "outputs": [
        {
          "output_type": "execute_result",
          "data": {
            "text/html": [
              "<div>\n",
              "<style scoped>\n",
              "    .dataframe tbody tr th:only-of-type {\n",
              "        vertical-align: middle;\n",
              "    }\n",
              "\n",
              "    .dataframe tbody tr th {\n",
              "        vertical-align: top;\n",
              "    }\n",
              "\n",
              "    .dataframe thead th {\n",
              "        text-align: right;\n",
              "    }\n",
              "</style>\n",
              "<table border=\"1\" class=\"dataframe\">\n",
              "  <thead>\n",
              "    <tr style=\"text-align: right;\">\n",
              "      <th></th>\n",
              "      <th>co</th>\n",
              "      <th>date</th>\n",
              "      <th>local</th>\n",
              "      <th>location</th>\n",
              "      <th>no2</th>\n",
              "      <th>o3</th>\n",
              "      <th>pm10</th>\n",
              "      <th>pm25</th>\n",
              "      <th>so2</th>\n",
              "    </tr>\n",
              "  </thead>\n",
              "  <tbody>\n",
              "    <tr>\n",
              "      <th>0</th>\n",
              "      <td>0.0</td>\n",
              "      <td>2017-01-01</td>\n",
              "      <td>2017-01-01T00:00:00-05:00</td>\n",
              "      <td>0</td>\n",
              "      <td>0.006</td>\n",
              "      <td>0.0</td>\n",
              "      <td>0.0</td>\n",
              "      <td>0.0</td>\n",
              "      <td>0.0</td>\n",
              "    </tr>\n",
              "    <tr>\n",
              "      <th>1</th>\n",
              "      <td>0.0</td>\n",
              "      <td>2017-01-01</td>\n",
              "      <td>2017-01-01T02:00:00-05:00</td>\n",
              "      <td>0</td>\n",
              "      <td>0.006</td>\n",
              "      <td>0.0</td>\n",
              "      <td>0.0</td>\n",
              "      <td>0.0</td>\n",
              "      <td>0.0</td>\n",
              "    </tr>\n",
              "    <tr>\n",
              "      <th>2</th>\n",
              "      <td>0.0</td>\n",
              "      <td>2017-01-01</td>\n",
              "      <td>2017-01-01T05:00:00-05:00</td>\n",
              "      <td>0</td>\n",
              "      <td>0.007</td>\n",
              "      <td>0.0</td>\n",
              "      <td>0.0</td>\n",
              "      <td>0.0</td>\n",
              "      <td>0.0</td>\n",
              "    </tr>\n",
              "    <tr>\n",
              "      <th>3</th>\n",
              "      <td>0.0</td>\n",
              "      <td>2017-01-01</td>\n",
              "      <td>2017-01-01T09:00:00-05:00</td>\n",
              "      <td>0</td>\n",
              "      <td>0.005</td>\n",
              "      <td>0.0</td>\n",
              "      <td>0.0</td>\n",
              "      <td>0.0</td>\n",
              "      <td>0.0</td>\n",
              "    </tr>\n",
              "    <tr>\n",
              "      <th>4</th>\n",
              "      <td>0.0</td>\n",
              "      <td>2017-01-02</td>\n",
              "      <td>2017-01-02T00:00:00-05:00</td>\n",
              "      <td>0</td>\n",
              "      <td>0.023</td>\n",
              "      <td>0.0</td>\n",
              "      <td>0.0</td>\n",
              "      <td>0.0</td>\n",
              "      <td>0.0</td>\n",
              "    </tr>\n",
              "  </tbody>\n",
              "</table>\n",
              "</div>"
            ],
            "text/plain": [
              "    co        date                      local  location  ...   o3  pm10  pm25  so2\n",
              "0  0.0  2017-01-01  2017-01-01T00:00:00-05:00         0  ...  0.0   0.0   0.0  0.0\n",
              "1  0.0  2017-01-01  2017-01-01T02:00:00-05:00         0  ...  0.0   0.0   0.0  0.0\n",
              "2  0.0  2017-01-01  2017-01-01T05:00:00-05:00         0  ...  0.0   0.0   0.0  0.0\n",
              "3  0.0  2017-01-01  2017-01-01T09:00:00-05:00         0  ...  0.0   0.0   0.0  0.0\n",
              "4  0.0  2017-01-02  2017-01-02T00:00:00-05:00         0  ...  0.0   0.0   0.0  0.0\n",
              "\n",
              "[5 rows x 9 columns]"
            ]
          },
          "metadata": {
            "tags": []
          },
          "execution_count": 28
        }
      ]
    },
    {
      "cell_type": "code",
      "metadata": {
        "id": "c_8uhFqeVowA",
        "colab_type": "code",
        "outputId": "b8aee9a4-7254-4704-fd18-db465a3a449c",
        "colab": {
          "base_uri": "https://localhost:8080/",
          "height": 204
        }
      },
      "source": [
        "pivotTable.tail(5)"
      ],
      "execution_count": 0,
      "outputs": [
        {
          "output_type": "execute_result",
          "data": {
            "text/html": [
              "<div>\n",
              "<style scoped>\n",
              "    .dataframe tbody tr th:only-of-type {\n",
              "        vertical-align: middle;\n",
              "    }\n",
              "\n",
              "    .dataframe tbody tr th {\n",
              "        vertical-align: top;\n",
              "    }\n",
              "\n",
              "    .dataframe thead th {\n",
              "        text-align: right;\n",
              "    }\n",
              "</style>\n",
              "<table border=\"1\" class=\"dataframe\">\n",
              "  <thead>\n",
              "    <tr style=\"text-align: right;\">\n",
              "      <th></th>\n",
              "      <th>co</th>\n",
              "      <th>date</th>\n",
              "      <th>local</th>\n",
              "      <th>location</th>\n",
              "      <th>no2</th>\n",
              "      <th>o3</th>\n",
              "      <th>pm10</th>\n",
              "      <th>pm25</th>\n",
              "      <th>so2</th>\n",
              "    </tr>\n",
              "  </thead>\n",
              "  <tbody>\n",
              "    <tr>\n",
              "      <th>29647</th>\n",
              "      <td>0.0</td>\n",
              "      <td>2017-12-28</td>\n",
              "      <td>2017-12-28T19:00:00-05:00</td>\n",
              "      <td>7</td>\n",
              "      <td>0.0</td>\n",
              "      <td>0.033</td>\n",
              "      <td>0.0</td>\n",
              "      <td>0.0</td>\n",
              "      <td>0.001</td>\n",
              "    </tr>\n",
              "    <tr>\n",
              "      <th>29648</th>\n",
              "      <td>0.0</td>\n",
              "      <td>2017-12-29</td>\n",
              "      <td>2017-12-29T00:00:00-05:00</td>\n",
              "      <td>7</td>\n",
              "      <td>0.0</td>\n",
              "      <td>0.030</td>\n",
              "      <td>0.0</td>\n",
              "      <td>0.0</td>\n",
              "      <td>0.000</td>\n",
              "    </tr>\n",
              "    <tr>\n",
              "      <th>29649</th>\n",
              "      <td>0.0</td>\n",
              "      <td>2017-12-29</td>\n",
              "      <td>2017-12-29T04:00:00-05:00</td>\n",
              "      <td>7</td>\n",
              "      <td>0.0</td>\n",
              "      <td>0.000</td>\n",
              "      <td>0.0</td>\n",
              "      <td>0.0</td>\n",
              "      <td>0.001</td>\n",
              "    </tr>\n",
              "    <tr>\n",
              "      <th>29650</th>\n",
              "      <td>0.0</td>\n",
              "      <td>2017-12-29</td>\n",
              "      <td>2017-12-29T23:00:00-05:00</td>\n",
              "      <td>7</td>\n",
              "      <td>0.0</td>\n",
              "      <td>0.027</td>\n",
              "      <td>0.0</td>\n",
              "      <td>0.0</td>\n",
              "      <td>0.006</td>\n",
              "    </tr>\n",
              "    <tr>\n",
              "      <th>29651</th>\n",
              "      <td>0.0</td>\n",
              "      <td>2017-12-30</td>\n",
              "      <td>2017-12-30T07:00:00-05:00</td>\n",
              "      <td>7</td>\n",
              "      <td>0.0</td>\n",
              "      <td>0.029</td>\n",
              "      <td>0.0</td>\n",
              "      <td>0.0</td>\n",
              "      <td>0.002</td>\n",
              "    </tr>\n",
              "  </tbody>\n",
              "</table>\n",
              "</div>"
            ],
            "text/plain": [
              "        co        date                      local  ...  pm10  pm25    so2\n",
              "29647  0.0  2017-12-28  2017-12-28T19:00:00-05:00  ...   0.0   0.0  0.001\n",
              "29648  0.0  2017-12-29  2017-12-29T00:00:00-05:00  ...   0.0   0.0  0.000\n",
              "29649  0.0  2017-12-29  2017-12-29T04:00:00-05:00  ...   0.0   0.0  0.001\n",
              "29650  0.0  2017-12-29  2017-12-29T23:00:00-05:00  ...   0.0   0.0  0.006\n",
              "29651  0.0  2017-12-30  2017-12-30T07:00:00-05:00  ...   0.0   0.0  0.002\n",
              "\n",
              "[5 rows x 9 columns]"
            ]
          },
          "metadata": {
            "tags": []
          },
          "execution_count": 29
        }
      ]
    },
    {
      "cell_type": "markdown",
      "metadata": {
        "id": "zbnNMgG6JISW",
        "colab_type": "text"
      },
      "source": [
        "For getting 24 hours average values"
      ]
    },
    {
      "cell_type": "code",
      "metadata": {
        "id": "X7xIepHscfB8",
        "colab_type": "code",
        "colab": {}
      },
      "source": [
        "def groupBy(df):\n",
        "  mean_table = df.groupby(df['date']).mean()\n",
        "  mean_table.reset_index(inplace=True)\n",
        "  return mean_table"
      ],
      "execution_count": 0,
      "outputs": []
    },
    {
      "cell_type": "code",
      "metadata": {
        "id": "qIXXaxvacp09",
        "colab_type": "code",
        "outputId": "233d9dc3-5c55-45f7-dbc6-e4dc04a333e3",
        "colab": {
          "base_uri": "https://localhost:8080/",
          "height": 419
        }
      },
      "source": [
        "groupedTable = pd.DataFrame()\n",
        "for j in range(0,8):\n",
        "  table = groupBy(pivotTable[(pivotTable['location'] == j)])\n",
        "  groupedTable = groupedTable.append(table, ignore_index = True, sort = True)\n",
        "\n",
        "groupedTable"
      ],
      "execution_count": 0,
      "outputs": [
        {
          "output_type": "execute_result",
          "data": {
            "text/html": [
              "<div>\n",
              "<style scoped>\n",
              "    .dataframe tbody tr th:only-of-type {\n",
              "        vertical-align: middle;\n",
              "    }\n",
              "\n",
              "    .dataframe tbody tr th {\n",
              "        vertical-align: top;\n",
              "    }\n",
              "\n",
              "    .dataframe thead th {\n",
              "        text-align: right;\n",
              "    }\n",
              "</style>\n",
              "<table border=\"1\" class=\"dataframe\">\n",
              "  <thead>\n",
              "    <tr style=\"text-align: right;\">\n",
              "      <th></th>\n",
              "      <th>co</th>\n",
              "      <th>date</th>\n",
              "      <th>location</th>\n",
              "      <th>no2</th>\n",
              "      <th>o3</th>\n",
              "      <th>pm10</th>\n",
              "      <th>pm25</th>\n",
              "      <th>so2</th>\n",
              "    </tr>\n",
              "  </thead>\n",
              "  <tbody>\n",
              "    <tr>\n",
              "      <th>0</th>\n",
              "      <td>0.0</td>\n",
              "      <td>2017-01-01</td>\n",
              "      <td>0</td>\n",
              "      <td>0.006</td>\n",
              "      <td>0.000000</td>\n",
              "      <td>0.000000</td>\n",
              "      <td>0.000000</td>\n",
              "      <td>0.000000</td>\n",
              "    </tr>\n",
              "    <tr>\n",
              "      <th>1</th>\n",
              "      <td>0.0</td>\n",
              "      <td>2017-01-02</td>\n",
              "      <td>0</td>\n",
              "      <td>0.023</td>\n",
              "      <td>0.000000</td>\n",
              "      <td>0.000000</td>\n",
              "      <td>0.000000</td>\n",
              "      <td>0.000000</td>\n",
              "    </tr>\n",
              "    <tr>\n",
              "      <th>2</th>\n",
              "      <td>0.0</td>\n",
              "      <td>2017-01-03</td>\n",
              "      <td>0</td>\n",
              "      <td>0.007</td>\n",
              "      <td>0.000000</td>\n",
              "      <td>0.000000</td>\n",
              "      <td>0.000000</td>\n",
              "      <td>0.000000</td>\n",
              "    </tr>\n",
              "    <tr>\n",
              "      <th>3</th>\n",
              "      <td>0.0</td>\n",
              "      <td>2017-01-06</td>\n",
              "      <td>0</td>\n",
              "      <td>0.020</td>\n",
              "      <td>0.000000</td>\n",
              "      <td>0.000000</td>\n",
              "      <td>0.000000</td>\n",
              "      <td>0.000000</td>\n",
              "    </tr>\n",
              "    <tr>\n",
              "      <th>4</th>\n",
              "      <td>0.0</td>\n",
              "      <td>2017-01-07</td>\n",
              "      <td>0</td>\n",
              "      <td>0.015</td>\n",
              "      <td>0.000000</td>\n",
              "      <td>0.000000</td>\n",
              "      <td>0.000000</td>\n",
              "      <td>0.000000</td>\n",
              "    </tr>\n",
              "    <tr>\n",
              "      <th>...</th>\n",
              "      <td>...</td>\n",
              "      <td>...</td>\n",
              "      <td>...</td>\n",
              "      <td>...</td>\n",
              "      <td>...</td>\n",
              "      <td>...</td>\n",
              "      <td>...</td>\n",
              "      <td>...</td>\n",
              "    </tr>\n",
              "    <tr>\n",
              "      <th>2184</th>\n",
              "      <td>0.0</td>\n",
              "      <td>2017-12-25</td>\n",
              "      <td>7</td>\n",
              "      <td>0.000</td>\n",
              "      <td>0.033500</td>\n",
              "      <td>7.000000</td>\n",
              "      <td>1.950000</td>\n",
              "      <td>0.001000</td>\n",
              "    </tr>\n",
              "    <tr>\n",
              "      <th>2185</th>\n",
              "      <td>0.0</td>\n",
              "      <td>2017-12-27</td>\n",
              "      <td>7</td>\n",
              "      <td>0.000</td>\n",
              "      <td>0.033667</td>\n",
              "      <td>0.000000</td>\n",
              "      <td>0.000000</td>\n",
              "      <td>0.001000</td>\n",
              "    </tr>\n",
              "    <tr>\n",
              "      <th>2186</th>\n",
              "      <td>0.0</td>\n",
              "      <td>2017-12-28</td>\n",
              "      <td>7</td>\n",
              "      <td>0.000</td>\n",
              "      <td>0.035500</td>\n",
              "      <td>3.833333</td>\n",
              "      <td>2.616667</td>\n",
              "      <td>0.001000</td>\n",
              "    </tr>\n",
              "    <tr>\n",
              "      <th>2187</th>\n",
              "      <td>0.0</td>\n",
              "      <td>2017-12-29</td>\n",
              "      <td>7</td>\n",
              "      <td>0.000</td>\n",
              "      <td>0.019000</td>\n",
              "      <td>0.000000</td>\n",
              "      <td>0.000000</td>\n",
              "      <td>0.002333</td>\n",
              "    </tr>\n",
              "    <tr>\n",
              "      <th>2188</th>\n",
              "      <td>0.0</td>\n",
              "      <td>2017-12-30</td>\n",
              "      <td>7</td>\n",
              "      <td>0.000</td>\n",
              "      <td>0.029000</td>\n",
              "      <td>0.000000</td>\n",
              "      <td>0.000000</td>\n",
              "      <td>0.002000</td>\n",
              "    </tr>\n",
              "  </tbody>\n",
              "</table>\n",
              "<p>2189 rows × 8 columns</p>\n",
              "</div>"
            ],
            "text/plain": [
              "       co        date  location    no2        o3      pm10      pm25       so2\n",
              "0     0.0  2017-01-01         0  0.006  0.000000  0.000000  0.000000  0.000000\n",
              "1     0.0  2017-01-02         0  0.023  0.000000  0.000000  0.000000  0.000000\n",
              "2     0.0  2017-01-03         0  0.007  0.000000  0.000000  0.000000  0.000000\n",
              "3     0.0  2017-01-06         0  0.020  0.000000  0.000000  0.000000  0.000000\n",
              "4     0.0  2017-01-07         0  0.015  0.000000  0.000000  0.000000  0.000000\n",
              "...   ...         ...       ...    ...       ...       ...       ...       ...\n",
              "2184  0.0  2017-12-25         7  0.000  0.033500  7.000000  1.950000  0.001000\n",
              "2185  0.0  2017-12-27         7  0.000  0.033667  0.000000  0.000000  0.001000\n",
              "2186  0.0  2017-12-28         7  0.000  0.035500  3.833333  2.616667  0.001000\n",
              "2187  0.0  2017-12-29         7  0.000  0.019000  0.000000  0.000000  0.002333\n",
              "2188  0.0  2017-12-30         7  0.000  0.029000  0.000000  0.000000  0.002000\n",
              "\n",
              "[2189 rows x 8 columns]"
            ]
          },
          "metadata": {
            "tags": []
          },
          "execution_count": 43
        }
      ]
    },
    {
      "cell_type": "code",
      "metadata": {
        "id": "j03WannrJEu1",
        "colab_type": "code",
        "outputId": "19b4c2a2-cbe1-4aa7-dc9f-0cb044175a28",
        "colab": {
          "base_uri": "https://localhost:8080/",
          "height": 34
        }
      },
      "source": [
        "pip install python-aqi"
      ],
      "execution_count": 0,
      "outputs": [
        {
          "output_type": "stream",
          "text": [
            "Requirement already satisfied: python-aqi in /usr/local/lib/python3.6/dist-packages (0.6.1)\n"
          ],
          "name": "stdout"
        }
      ]
    },
    {
      "cell_type": "markdown",
      "metadata": {
        "id": "B3jNwImUJNUq",
        "colab_type": "text"
      },
      "source": [
        "Calculating AQI values"
      ]
    },
    {
      "cell_type": "code",
      "metadata": {
        "id": "fc8TyhP5KOu5",
        "colab_type": "code",
        "colab": {}
      },
      "source": [
        "import aqi\n",
        "def calculate_pm25(value):\n",
        "  if value > 0.0:\n",
        "    aqi_2_5 = aqi.to_iaqi(aqi.POLLUTANT_PM25, str(value))\n",
        "    return aqi_2_5\n",
        "  else:\n",
        "    return 0.0\n",
        "\n",
        "def calculate_pm10(value):\n",
        "  if value > 0.0:\n",
        "    aqi_10 = aqi.to_iaqi(aqi.POLLUTANT_PM10, str(value))\n",
        "    return aqi_10\n",
        "  else:\n",
        "    return 0.0"
      ],
      "execution_count": 0,
      "outputs": []
    },
    {
      "cell_type": "code",
      "metadata": {
        "id": "XiRgXQhqKQ7g",
        "colab_type": "code",
        "outputId": "905ebb52-db01-480e-bb33-95f55e16f10e",
        "colab": {
          "base_uri": "https://localhost:8080/",
          "height": 204
        }
      },
      "source": [
        "groupedTable['aqi25'] = groupedTable.apply(lambda x: calculate_pm25(x['pm25']), axis=1)\n",
        "groupedTable['aqi10'] = groupedTable.apply(lambda x: calculate_pm25(x['pm10']), axis=1)\n",
        "alt_mean_table = groupedTable\n",
        "#alt_mean_table = alt_mean_table[(alt_mean_table.aqi10 > 0.0)]\n",
        "alt_mean_table.head(5)\n",
        "#alt_mean_table.aqi25.max()"
      ],
      "execution_count": 0,
      "outputs": [
        {
          "output_type": "execute_result",
          "data": {
            "text/html": [
              "<div>\n",
              "<style scoped>\n",
              "    .dataframe tbody tr th:only-of-type {\n",
              "        vertical-align: middle;\n",
              "    }\n",
              "\n",
              "    .dataframe tbody tr th {\n",
              "        vertical-align: top;\n",
              "    }\n",
              "\n",
              "    .dataframe thead th {\n",
              "        text-align: right;\n",
              "    }\n",
              "</style>\n",
              "<table border=\"1\" class=\"dataframe\">\n",
              "  <thead>\n",
              "    <tr style=\"text-align: right;\">\n",
              "      <th></th>\n",
              "      <th>co</th>\n",
              "      <th>date</th>\n",
              "      <th>location</th>\n",
              "      <th>no2</th>\n",
              "      <th>o3</th>\n",
              "      <th>pm10</th>\n",
              "      <th>pm25</th>\n",
              "      <th>so2</th>\n",
              "      <th>aqi25</th>\n",
              "      <th>aqi10</th>\n",
              "    </tr>\n",
              "  </thead>\n",
              "  <tbody>\n",
              "    <tr>\n",
              "      <th>0</th>\n",
              "      <td>0.0</td>\n",
              "      <td>2017-01-01</td>\n",
              "      <td>0</td>\n",
              "      <td>0.006</td>\n",
              "      <td>0.0</td>\n",
              "      <td>0.0</td>\n",
              "      <td>0.0</td>\n",
              "      <td>0.0</td>\n",
              "      <td>0</td>\n",
              "      <td>0</td>\n",
              "    </tr>\n",
              "    <tr>\n",
              "      <th>1</th>\n",
              "      <td>0.0</td>\n",
              "      <td>2017-01-02</td>\n",
              "      <td>0</td>\n",
              "      <td>0.023</td>\n",
              "      <td>0.0</td>\n",
              "      <td>0.0</td>\n",
              "      <td>0.0</td>\n",
              "      <td>0.0</td>\n",
              "      <td>0</td>\n",
              "      <td>0</td>\n",
              "    </tr>\n",
              "    <tr>\n",
              "      <th>2</th>\n",
              "      <td>0.0</td>\n",
              "      <td>2017-01-03</td>\n",
              "      <td>0</td>\n",
              "      <td>0.007</td>\n",
              "      <td>0.0</td>\n",
              "      <td>0.0</td>\n",
              "      <td>0.0</td>\n",
              "      <td>0.0</td>\n",
              "      <td>0</td>\n",
              "      <td>0</td>\n",
              "    </tr>\n",
              "    <tr>\n",
              "      <th>3</th>\n",
              "      <td>0.0</td>\n",
              "      <td>2017-01-06</td>\n",
              "      <td>0</td>\n",
              "      <td>0.020</td>\n",
              "      <td>0.0</td>\n",
              "      <td>0.0</td>\n",
              "      <td>0.0</td>\n",
              "      <td>0.0</td>\n",
              "      <td>0</td>\n",
              "      <td>0</td>\n",
              "    </tr>\n",
              "    <tr>\n",
              "      <th>4</th>\n",
              "      <td>0.0</td>\n",
              "      <td>2017-01-07</td>\n",
              "      <td>0</td>\n",
              "      <td>0.015</td>\n",
              "      <td>0.0</td>\n",
              "      <td>0.0</td>\n",
              "      <td>0.0</td>\n",
              "      <td>0.0</td>\n",
              "      <td>0</td>\n",
              "      <td>0</td>\n",
              "    </tr>\n",
              "  </tbody>\n",
              "</table>\n",
              "</div>"
            ],
            "text/plain": [
              "    co        date  location    no2   o3  pm10  pm25  so2 aqi25 aqi10\n",
              "0  0.0  2017-01-01         0  0.006  0.0   0.0   0.0  0.0     0     0\n",
              "1  0.0  2017-01-02         0  0.023  0.0   0.0   0.0  0.0     0     0\n",
              "2  0.0  2017-01-03         0  0.007  0.0   0.0   0.0  0.0     0     0\n",
              "3  0.0  2017-01-06         0  0.020  0.0   0.0   0.0  0.0     0     0\n",
              "4  0.0  2017-01-07         0  0.015  0.0   0.0   0.0  0.0     0     0"
            ]
          },
          "metadata": {
            "tags": []
          },
          "execution_count": 46
        }
      ]
    },
    {
      "cell_type": "markdown",
      "metadata": {
        "id": "tF7x5Y_ZRm0r",
        "colab_type": "text"
      },
      "source": [
        "Linear Regression - PM 25 vs AQI"
      ]
    },
    {
      "cell_type": "code",
      "metadata": {
        "id": "r3NuYpOeOQ_Q",
        "colab_type": "code",
        "colab": {}
      },
      "source": [
        "import matplotlib.pyplot as plt  \n",
        "import seaborn as seabornInstance \n",
        "from sklearn.model_selection import train_test_split \n",
        "from sklearn.linear_model import LinearRegression\n",
        "from sklearn import metrics\n",
        "%matplotlib inline\n"
      ],
      "execution_count": 0,
      "outputs": []
    },
    {
      "cell_type": "code",
      "metadata": {
        "id": "XwLhzdg-Oy2c",
        "colab_type": "code",
        "colab": {}
      },
      "source": [
        "alt_mean_table['pm25'] = alt_mean_table['pm25'].astype(float)\n",
        "alt_mean_table['aqi25'] = alt_mean_table['aqi25'].astype(float)"
      ],
      "execution_count": 0,
      "outputs": []
    },
    {
      "cell_type": "code",
      "metadata": {
        "id": "dmfPZxdpOU_D",
        "colab_type": "code",
        "outputId": "e0349ce8-a5db-4495-e25c-2647e256f59d",
        "colab": {
          "base_uri": "https://localhost:8080/",
          "height": 295
        }
      },
      "source": [
        "alt_mean_table.plot(x='pm25', y='aqi25', style='o')  \n",
        "plt.title('PM25 vs AQI')  \n",
        "plt.xlabel('PM25')  \n",
        "plt.ylabel('AQI 25')  \n",
        "plt.show()"
      ],
      "execution_count": 0,
      "outputs": [
        {
          "output_type": "display_data",
          "data": {
            "image/png": "[encoded data removed]",
            "text/plain": [
              "<Figure size 432x288 with 1 Axes>"
            ]
          },
          "metadata": {
            "tags": []
          }
        }
      ]
    },
    {
      "cell_type": "code",
      "metadata": {
        "id": "oLx9I3TzPtuU",
        "colab_type": "code",
        "colab": {}
      },
      "source": [
        "X = alt_mean_table['pm25'].values.reshape(-1,1)\n",
        "y = alt_mean_table['aqi25'].values.reshape(-1,1)"
      ],
      "execution_count": 0,
      "outputs": []
    },
    {
      "cell_type": "code",
      "metadata": {
        "id": "4xYdBqchP2WD",
        "colab_type": "code",
        "colab": {}
      },
      "source": [
        "X_train, X_test, y_train, y_test = train_test_split(X, y, test_size=0.2, random_state=0)"
      ],
      "execution_count": 0,
      "outputs": []
    },
    {
      "cell_type": "code",
      "metadata": {
        "id": "D5XLvB_8P3UH",
        "colab_type": "code",
        "outputId": "7ca48a44-5061-44c7-8ed1-d5d1dafbac1d",
        "colab": {
          "base_uri": "https://localhost:8080/",
          "height": 34
        }
      },
      "source": [
        "regressor = LinearRegression()  \n",
        "regressor.fit(X_train, y_train) #training the algorithm"
      ],
      "execution_count": 0,
      "outputs": [
        {
          "output_type": "execute_result",
          "data": {
            "text/plain": [
              "LinearRegression(copy_X=True, fit_intercept=True, n_jobs=None, normalize=False)"
            ]
          },
          "metadata": {
            "tags": []
          },
          "execution_count": 67
        }
      ]
    },
    {
      "cell_type": "code",
      "metadata": {
        "id": "WSyTBk44P-sd",
        "colab_type": "code",
        "outputId": "798f466d-5495-437e-8bad-f314e777162c",
        "colab": {
          "base_uri": "https://localhost:8080/",
          "height": 51
        }
      },
      "source": [
        "#To retrieve the intercept:\n",
        "print(regressor.intercept_)\n",
        "#For retrieving the slope:\n",
        "print(regressor.coef_)"
      ],
      "execution_count": 0,
      "outputs": [
        {
          "output_type": "stream",
          "text": [
            "[0.94485576]\n",
            "[[4.09287222]]\n"
          ],
          "name": "stdout"
        }
      ]
    },
    {
      "cell_type": "code",
      "metadata": {
        "id": "Ps13dipGQBNQ",
        "colab_type": "code",
        "colab": {}
      },
      "source": [
        "y_pred = regressor.predict(X_test)"
      ],
      "execution_count": 0,
      "outputs": []
    },
    {
      "cell_type": "code",
      "metadata": {
        "id": "hav2gT9WQFjP",
        "colab_type": "code",
        "outputId": "78c1dd9e-111a-41f7-f19e-b95d94fe6f0a",
        "colab": {
          "base_uri": "https://localhost:8080/",
          "height": 279
        }
      },
      "source": [
        "plt.scatter(X_test, y_test,  color='gray')\n",
        "plt.plot(X_test, y_pred, color='red', linewidth=2)\n",
        "plt.xlabel('PM25')  \n",
        "plt.ylabel('AQI 25')  \n",
        "plt.show()"
      ],
      "execution_count": 0,
      "outputs": [
        {
          "output_type": "display_data",
          "data": {
            "image/png": "[encoded data removed]",
            "text/plain": [
              "<Figure size 432x288 with 1 Axes>"
            ]
          },
          "metadata": {
            "tags": []
          }
        }
      ]
    },
    {
      "cell_type": "markdown",
      "metadata": {
        "id": "syBOanzHRr2v",
        "colab_type": "text"
      },
      "source": [
        ""
      ]
    },
    {
      "cell_type": "code",
      "metadata": {
        "id": "xt-n1QvSR5AZ",
        "colab_type": "code",
        "colab": {}
      },
      "source": [
        "alt_mean_table['pm10'] = alt_mean_table['pm10'].astype(float)\n",
        "alt_mean_table['aqi10'] = alt_mean_table['aqi10'].astype(float)"
      ],
      "execution_count": 0,
      "outputs": []
    },
    {
      "cell_type": "code",
      "metadata": {
        "id": "6Qr2xiLVRlRg",
        "colab_type": "code",
        "outputId": "93fe6bdd-1c37-4ff0-d4c4-4a509ae4067a",
        "colab": {
          "base_uri": "https://localhost:8080/",
          "height": 295
        }
      },
      "source": [
        "alt_mean_table.plot(x='pm10', y='aqi10', style='o')  \n",
        "plt.title('PM10 vs AQI')  \n",
        "plt.xlabel('PM10')  \n",
        "plt.ylabel('AQI 10')  \n",
        "plt.show()"
      ],
      "execution_count": 0,
      "outputs": [
        {
          "output_type": "display_data",
          "data": {
            "image/png": "[encoded data removed]",
            "text/plain": [
              "<Figure size 432x288 with 1 Axes>"
            ]
          },
          "metadata": {
            "tags": []
          }
        }
      ]
    },
    {
      "cell_type": "code",
      "metadata": {
        "id": "oXwc16FFR8ik",
        "colab_type": "code",
        "colab": {}
      },
      "source": [
        "X = alt_mean_table['pm10'].values.reshape(-1,1)\n",
        "y = alt_mean_table['aqi10'].values.reshape(-1,1)"
      ],
      "execution_count": 0,
      "outputs": []
    },
    {
      "cell_type": "code",
      "metadata": {
        "id": "lMjW2ZzeSCFW",
        "colab_type": "code",
        "colab": {}
      },
      "source": [
        "X_train, X_test, y_train, y_test = train_test_split(X, y, test_size=0.2, random_state=0)"
      ],
      "execution_count": 0,
      "outputs": []
    },
    {
      "cell_type": "code",
      "metadata": {
        "id": "o4q6EqY-SEQe",
        "colab_type": "code",
        "outputId": "d5ee5f14-530f-45c8-dd06-d93953bd2595",
        "colab": {
          "base_uri": "https://localhost:8080/",
          "height": 34
        }
      },
      "source": [
        "regressor = LinearRegression()  \n",
        "regressor.fit(X_train, y_train) #training the algorithm"
      ],
      "execution_count": 0,
      "outputs": [
        {
          "output_type": "execute_result",
          "data": {
            "text/plain": [
              "LinearRegression(copy_X=True, fit_intercept=True, n_jobs=None, normalize=False)"
            ]
          },
          "metadata": {
            "tags": []
          },
          "execution_count": 77
        }
      ]
    },
    {
      "cell_type": "code",
      "metadata": {
        "id": "D4z7bSK8SHDg",
        "colab_type": "code",
        "outputId": "583b26f1-d26c-483b-c466-5d15766d9029",
        "colab": {
          "base_uri": "https://localhost:8080/",
          "height": 51
        }
      },
      "source": [
        "#To retrieve the intercept:\n",
        "print(regressor.intercept_)\n",
        "#For retrieving the slope:\n",
        "print(regressor.coef_)"
      ],
      "execution_count": 0,
      "outputs": [
        {
          "output_type": "stream",
          "text": [
            "[0.2064922]\n",
            "[[3.58956563]]\n"
          ],
          "name": "stdout"
        }
      ]
    },
    {
      "cell_type": "code",
      "metadata": {
        "id": "9sOhR6NUSJHq",
        "colab_type": "code",
        "colab": {}
      },
      "source": [
        "y_pred = regressor.predict(X_test)"
      ],
      "execution_count": 0,
      "outputs": []
    },
    {
      "cell_type": "code",
      "metadata": {
        "id": "4D13fWuBSK9X",
        "colab_type": "code",
        "outputId": "2a46f3ff-4164-440d-f734-0c2f31c89c6b",
        "colab": {
          "base_uri": "https://localhost:8080/",
          "height": 279
        }
      },
      "source": [
        "plt.scatter(X_test, y_test,  color='gray')\n",
        "plt.plot(X_test, y_pred, color='red', linewidth=2)\n",
        "plt.xlabel('PM10')  \n",
        "plt.ylabel('AQI')  \n",
        "plt.show()"
      ],
      "execution_count": 0,
      "outputs": [
        {
          "output_type": "display_data",
          "data": {
            "image/png": "[encoded data removed]",
            "text/plain": [
              "<Figure size 432x288 with 1 Axes>"
            ]
          },
          "metadata": {
            "tags": []
          }
        }
      ]
    },
    {
      "cell_type": "markdown",
      "metadata": {
        "id": "smY9M-GEJgY9",
        "colab_type": "text"
      },
      "source": [
        "Individual contributions:\n",
        "1. Vignesh\n",
        "2. Ranjani\n",
        "3. Pooja\n",
        "4. Akshaya\n",
        "\n",
        "Data collection - Vignesh and Ranjani\n",
        "Data preprocessing - Akshaya and Pooja\n",
        "\n"
      ]
    }
  ]
}