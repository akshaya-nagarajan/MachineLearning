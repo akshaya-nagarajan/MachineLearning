{
  "nbformat": 4,
  "nbformat_minor": 0,
  "metadata": {
    "colab": {
      "name": "RandomForestAirQualityWeatherTimeSeriesConsidered.ipynb",
      "provenance": [],
      "collapsed_sections": [],
      "include_colab_link": true
    },
    "kernelspec": {
      "name": "python3",
      "display_name": "Python 3"
    }
  },
  "cells": [
    {
      "cell_type": "markdown",
      "metadata": {
        "id": "view-in-github",
        "colab_type": "text"
      },
      "source": [
        "<a href=\"https://colab.research.google.com/github/akshaya-nagarajan/MachineLearning/blob/master/RandomForestAirQualityWeatherTimeSeriesConsidered.ipynb\" target=\"_parent\"><img src=\"https://colab.research.google.com/assets/colab-badge.svg\" alt=\"Open In Colab\"/></a>"
      ]
    },
    {
      "cell_type": "markdown",
      "metadata": {
        "id": "DoBspyhd1YTA",
        "colab_type": "text"
      },
      "source": [
        "# Data collection, Cleaning, Amalgamation"
      ]
    },
    {
      "cell_type": "markdown",
      "metadata": {
        "id": "bQBH9nsrmnoA",
        "colab_type": "text"
      },
      "source": [
        "### Mounting drive"
      ]
    },
    {
      "cell_type": "code",
      "metadata": {
        "id": "LmhQCgyy3y4a",
        "colab_type": "code",
        "outputId": "e989113c-4505-4fed-b1bf-97d4f23614c5",
        "colab": {
          "base_uri": "https://localhost:8080/",
          "height": 122
        }
      },
      "source": [
        "from google.colab import drive\n",
        "drive.mount('/content/gdrive', force_remount=True)\n",
        "root_dir = \"/content/gdrive/My Drive/MLSpring2020/\"\n",
        "base_dir = root_dir + 'the_expendables_AirQuality_Traffic'"
      ],
      "execution_count": 1,
      "outputs": [
        {
          "output_type": "stream",
          "text": [
            "Go to this URL in a browser: https://accounts.google.com/o/oauth2/auth?client_id=947318989803-6bn6qk8qdgf4n4g3pfee6491hc0brc4i.apps.googleusercontent.com&redirect_uri=urn%3aietf%3awg%3aoauth%3a2.0%3aoob&response_type=code&scope=email%20https%3a%2f%2fwww.googleapis.com%2fauth%2fdocs.test%20https%3a%2f%2fwww.googleapis.com%2fauth%2fdrive%20https%3a%2f%2fwww.googleapis.com%2fauth%2fdrive.photos.readonly%20https%3a%2f%2fwww.googleapis.com%2fauth%2fpeopleapi.readonly\n",
            "\n",
            "Enter your authorization code:\n",
            "··········\n",
            "Mounted at /content/gdrive\n"
          ],
          "name": "stdout"
        }
      ]
    },
    {
      "cell_type": "markdown",
      "metadata": {
        "id": "k2BeaZyfmtGe",
        "colab_type": "text"
      },
      "source": [
        "### File path and data frames\n"
      ]
    },
    {
      "cell_type": "code",
      "metadata": {
        "id": "9EM4rDhW39dd",
        "colab_type": "code",
        "colab": {}
      },
      "source": [
        "aqiFilePath = base_dir + '/aqidaily_2016_to_2019.csv'\n",
        "weatherFilePath = base_dir + '/bakersfield_weather_2016_to_2019.csv'"
      ],
      "execution_count": 0,
      "outputs": []
    },
    {
      "cell_type": "code",
      "metadata": {
        "id": "u_blyOBW473u",
        "colab_type": "code",
        "colab": {}
      },
      "source": [
        "import pandas as pd\n",
        "import numpy as np"
      ],
      "execution_count": 0,
      "outputs": []
    },
    {
      "cell_type": "code",
      "metadata": {
        "id": "xmcGlwql4-1g",
        "colab_type": "code",
        "colab": {}
      },
      "source": [
        "aqiDataFrame = pd.read_csv(aqiFilePath)\n",
        "weatherDataFrame = pd.read_csv(weatherFilePath)"
      ],
      "execution_count": 0,
      "outputs": []
    },
    {
      "cell_type": "code",
      "metadata": {
        "id": "ll5TFwfO5IXh",
        "colab_type": "code",
        "outputId": "0fb670f5-2f73-456e-e49a-7ef854776044",
        "colab": {
          "base_uri": "https://localhost:8080/",
          "height": 111
        }
      },
      "source": [
        "aqiDataFrame.head(2)"
      ],
      "execution_count": 5,
      "outputs": [
        {
          "output_type": "execute_result",
          "data": {
            "text/html": [
              "<div>\n",
              "<style scoped>\n",
              "    .dataframe tbody tr th:only-of-type {\n",
              "        vertical-align: middle;\n",
              "    }\n",
              "\n",
              "    .dataframe tbody tr th {\n",
              "        vertical-align: top;\n",
              "    }\n",
              "\n",
              "    .dataframe thead th {\n",
              "        text-align: right;\n",
              "    }\n",
              "</style>\n",
              "<table border=\"1\" class=\"dataframe\">\n",
              "  <thead>\n",
              "    <tr style=\"text-align: right;\">\n",
              "      <th></th>\n",
              "      <th>Date</th>\n",
              "      <th>Overall AQI Value</th>\n",
              "      <th>Main Pollutant</th>\n",
              "      <th>Site Name (of Overall AQI)</th>\n",
              "      <th>Site ID (of Overall AQI)</th>\n",
              "      <th>Source (of Overall AQI)</th>\n",
              "      <th>CO</th>\n",
              "      <th>Ozone</th>\n",
              "      <th>PM10</th>\n",
              "      <th>PM25</th>\n",
              "      <th>NO2</th>\n",
              "    </tr>\n",
              "  </thead>\n",
              "  <tbody>\n",
              "    <tr>\n",
              "      <th>0</th>\n",
              "      <td>1/1/16</td>\n",
              "      <td>148</td>\n",
              "      <td>PM2.5</td>\n",
              "      <td>Bakersfield-California</td>\n",
              "      <td>06-029-0014</td>\n",
              "      <td>AQS</td>\n",
              "      <td>8</td>\n",
              "      <td>37</td>\n",
              "      <td>52</td>\n",
              "      <td>148</td>\n",
              "      <td>23</td>\n",
              "    </tr>\n",
              "    <tr>\n",
              "      <th>1</th>\n",
              "      <td>1/2/16</td>\n",
              "      <td>113</td>\n",
              "      <td>PM2.5</td>\n",
              "      <td>Bakersfield-California</td>\n",
              "      <td>06-029-0014</td>\n",
              "      <td>AQS</td>\n",
              "      <td>7</td>\n",
              "      <td>37</td>\n",
              "      <td>14</td>\n",
              "      <td>113</td>\n",
              "      <td>25</td>\n",
              "    </tr>\n",
              "  </tbody>\n",
              "</table>\n",
              "</div>"
            ],
            "text/plain": [
              "     Date  Overall AQI Value Main Pollutant  ... PM10 PM25 NO2\n",
              "0  1/1/16                148          PM2.5  ...   52  148  23\n",
              "1  1/2/16                113          PM2.5  ...   14  113  25\n",
              "\n",
              "[2 rows x 11 columns]"
            ]
          },
          "metadata": {
            "tags": []
          },
          "execution_count": 5
        }
      ]
    },
    {
      "cell_type": "code",
      "metadata": {
        "id": "6gtNr8VK5p8x",
        "colab_type": "code",
        "outputId": "06a71e93-578a-46e6-9e68-53c51a34a18c",
        "colab": {
          "base_uri": "https://localhost:8080/",
          "height": 111
        }
      },
      "source": [
        "weatherDataFrame.head(2)"
      ],
      "execution_count": 6,
      "outputs": [
        {
          "output_type": "execute_result",
          "data": {
            "text/html": [
              "<div>\n",
              "<style scoped>\n",
              "    .dataframe tbody tr th:only-of-type {\n",
              "        vertical-align: middle;\n",
              "    }\n",
              "\n",
              "    .dataframe tbody tr th {\n",
              "        vertical-align: top;\n",
              "    }\n",
              "\n",
              "    .dataframe thead th {\n",
              "        text-align: right;\n",
              "    }\n",
              "</style>\n",
              "<table border=\"1\" class=\"dataframe\">\n",
              "  <thead>\n",
              "    <tr style=\"text-align: right;\">\n",
              "      <th></th>\n",
              "      <th>date</th>\n",
              "      <th>temperature</th>\n",
              "      <th>temperature_min</th>\n",
              "      <th>temperature_max</th>\n",
              "      <th>precipitation</th>\n",
              "      <th>snowfall</th>\n",
              "      <th>snowdepth</th>\n",
              "      <th>winddirection</th>\n",
              "      <th>windspeed</th>\n",
              "      <th>peakgust</th>\n",
              "      <th>sunshine</th>\n",
              "      <th>pressure</th>\n",
              "    </tr>\n",
              "  </thead>\n",
              "  <tbody>\n",
              "    <tr>\n",
              "      <th>0</th>\n",
              "      <td>2016-01-01</td>\n",
              "      <td>4.4</td>\n",
              "      <td>-2.7</td>\n",
              "      <td>12.8</td>\n",
              "      <td>0.0</td>\n",
              "      <td>NaN</td>\n",
              "      <td>NaN</td>\n",
              "      <td>NaN</td>\n",
              "      <td>6.5</td>\n",
              "      <td>NaN</td>\n",
              "      <td>NaN</td>\n",
              "      <td>1020.3</td>\n",
              "    </tr>\n",
              "    <tr>\n",
              "      <th>1</th>\n",
              "      <td>2016-01-02</td>\n",
              "      <td>7.1</td>\n",
              "      <td>1.1</td>\n",
              "      <td>13.9</td>\n",
              "      <td>0.0</td>\n",
              "      <td>NaN</td>\n",
              "      <td>NaN</td>\n",
              "      <td>NaN</td>\n",
              "      <td>3.6</td>\n",
              "      <td>NaN</td>\n",
              "      <td>NaN</td>\n",
              "      <td>1017.9</td>\n",
              "    </tr>\n",
              "  </tbody>\n",
              "</table>\n",
              "</div>"
            ],
            "text/plain": [
              "         date  temperature  temperature_min  ...  peakgust  sunshine  pressure\n",
              "0  2016-01-01          4.4             -2.7  ...       NaN       NaN    1020.3\n",
              "1  2016-01-02          7.1              1.1  ...       NaN       NaN    1017.9\n",
              "\n",
              "[2 rows x 12 columns]"
            ]
          },
          "metadata": {
            "tags": []
          },
          "execution_count": 6
        }
      ]
    },
    {
      "cell_type": "markdown",
      "metadata": {
        "id": "PNCmej8sm3e3",
        "colab_type": "text"
      },
      "source": [
        "### Column names to lower case"
      ]
    },
    {
      "cell_type": "code",
      "metadata": {
        "id": "I2Jf20hX53-F",
        "colab_type": "code",
        "outputId": "06ccd0e0-edac-4935-b9b1-9579ba54017c",
        "colab": {
          "base_uri": "https://localhost:8080/",
          "height": 85
        }
      },
      "source": [
        "aqiDataFrame.columns = map(str.lower, aqiDataFrame.columns)\n",
        "aqiDataFrame.columns"
      ],
      "execution_count": 7,
      "outputs": [
        {
          "output_type": "execute_result",
          "data": {
            "text/plain": [
              "Index(['date', 'overall aqi value', 'main pollutant',\n",
              "       'site name (of overall aqi)', 'site id (of overall aqi)',\n",
              "       'source (of overall aqi)', 'co', 'ozone', 'pm10', 'pm25', 'no2'],\n",
              "      dtype='object')"
            ]
          },
          "metadata": {
            "tags": []
          },
          "execution_count": 7
        }
      ]
    },
    {
      "cell_type": "markdown",
      "metadata": {
        "id": "2oDXk75Qm8Sj",
        "colab_type": "text"
      },
      "source": [
        "### Common date format"
      ]
    },
    {
      "cell_type": "code",
      "metadata": {
        "id": "WWjR1ThQ7yRl",
        "colab_type": "code",
        "colab": {}
      },
      "source": [
        "aqiDataFrame['date'] = pd.to_datetime(aqiDataFrame['date']).dt.strftime('%m/%d/%Y')\n",
        "weatherDataFrame['date'] = pd.to_datetime(weatherDataFrame['date']).dt.strftime('%m/%d/%Y')"
      ],
      "execution_count": 0,
      "outputs": []
    },
    {
      "cell_type": "code",
      "metadata": {
        "id": "5c2KbHPK8HVU",
        "colab_type": "code",
        "outputId": "6e395a5b-3c7a-4856-d84f-743d51cd6ba9",
        "colab": {
          "base_uri": "https://localhost:8080/",
          "height": 111
        }
      },
      "source": [
        "aqiDataFrame.head(2)"
      ],
      "execution_count": 9,
      "outputs": [
        {
          "output_type": "execute_result",
          "data": {
            "text/html": [
              "<div>\n",
              "<style scoped>\n",
              "    .dataframe tbody tr th:only-of-type {\n",
              "        vertical-align: middle;\n",
              "    }\n",
              "\n",
              "    .dataframe tbody tr th {\n",
              "        vertical-align: top;\n",
              "    }\n",
              "\n",
              "    .dataframe thead th {\n",
              "        text-align: right;\n",
              "    }\n",
              "</style>\n",
              "<table border=\"1\" class=\"dataframe\">\n",
              "  <thead>\n",
              "    <tr style=\"text-align: right;\">\n",
              "      <th></th>\n",
              "      <th>date</th>\n",
              "      <th>overall aqi value</th>\n",
              "      <th>main pollutant</th>\n",
              "      <th>site name (of overall aqi)</th>\n",
              "      <th>site id (of overall aqi)</th>\n",
              "      <th>source (of overall aqi)</th>\n",
              "      <th>co</th>\n",
              "      <th>ozone</th>\n",
              "      <th>pm10</th>\n",
              "      <th>pm25</th>\n",
              "      <th>no2</th>\n",
              "    </tr>\n",
              "  </thead>\n",
              "  <tbody>\n",
              "    <tr>\n",
              "      <th>0</th>\n",
              "      <td>01/01/2016</td>\n",
              "      <td>148</td>\n",
              "      <td>PM2.5</td>\n",
              "      <td>Bakersfield-California</td>\n",
              "      <td>06-029-0014</td>\n",
              "      <td>AQS</td>\n",
              "      <td>8</td>\n",
              "      <td>37</td>\n",
              "      <td>52</td>\n",
              "      <td>148</td>\n",
              "      <td>23</td>\n",
              "    </tr>\n",
              "    <tr>\n",
              "      <th>1</th>\n",
              "      <td>01/02/2016</td>\n",
              "      <td>113</td>\n",
              "      <td>PM2.5</td>\n",
              "      <td>Bakersfield-California</td>\n",
              "      <td>06-029-0014</td>\n",
              "      <td>AQS</td>\n",
              "      <td>7</td>\n",
              "      <td>37</td>\n",
              "      <td>14</td>\n",
              "      <td>113</td>\n",
              "      <td>25</td>\n",
              "    </tr>\n",
              "  </tbody>\n",
              "</table>\n",
              "</div>"
            ],
            "text/plain": [
              "         date  overall aqi value main pollutant  ... pm10 pm25 no2\n",
              "0  01/01/2016                148          PM2.5  ...   52  148  23\n",
              "1  01/02/2016                113          PM2.5  ...   14  113  25\n",
              "\n",
              "[2 rows x 11 columns]"
            ]
          },
          "metadata": {
            "tags": []
          },
          "execution_count": 9
        }
      ]
    },
    {
      "cell_type": "code",
      "metadata": {
        "id": "Z6J0fC7F8Ppd",
        "colab_type": "code",
        "outputId": "a8e9113b-a25d-4d0a-f638-5dd7a0b499ae",
        "colab": {
          "base_uri": "https://localhost:8080/",
          "height": 111
        }
      },
      "source": [
        "weatherDataFrame.head(2)"
      ],
      "execution_count": 10,
      "outputs": [
        {
          "output_type": "execute_result",
          "data": {
            "text/html": [
              "<div>\n",
              "<style scoped>\n",
              "    .dataframe tbody tr th:only-of-type {\n",
              "        vertical-align: middle;\n",
              "    }\n",
              "\n",
              "    .dataframe tbody tr th {\n",
              "        vertical-align: top;\n",
              "    }\n",
              "\n",
              "    .dataframe thead th {\n",
              "        text-align: right;\n",
              "    }\n",
              "</style>\n",
              "<table border=\"1\" class=\"dataframe\">\n",
              "  <thead>\n",
              "    <tr style=\"text-align: right;\">\n",
              "      <th></th>\n",
              "      <th>date</th>\n",
              "      <th>temperature</th>\n",
              "      <th>temperature_min</th>\n",
              "      <th>temperature_max</th>\n",
              "      <th>precipitation</th>\n",
              "      <th>snowfall</th>\n",
              "      <th>snowdepth</th>\n",
              "      <th>winddirection</th>\n",
              "      <th>windspeed</th>\n",
              "      <th>peakgust</th>\n",
              "      <th>sunshine</th>\n",
              "      <th>pressure</th>\n",
              "    </tr>\n",
              "  </thead>\n",
              "  <tbody>\n",
              "    <tr>\n",
              "      <th>0</th>\n",
              "      <td>01/01/2016</td>\n",
              "      <td>4.4</td>\n",
              "      <td>-2.7</td>\n",
              "      <td>12.8</td>\n",
              "      <td>0.0</td>\n",
              "      <td>NaN</td>\n",
              "      <td>NaN</td>\n",
              "      <td>NaN</td>\n",
              "      <td>6.5</td>\n",
              "      <td>NaN</td>\n",
              "      <td>NaN</td>\n",
              "      <td>1020.3</td>\n",
              "    </tr>\n",
              "    <tr>\n",
              "      <th>1</th>\n",
              "      <td>01/02/2016</td>\n",
              "      <td>7.1</td>\n",
              "      <td>1.1</td>\n",
              "      <td>13.9</td>\n",
              "      <td>0.0</td>\n",
              "      <td>NaN</td>\n",
              "      <td>NaN</td>\n",
              "      <td>NaN</td>\n",
              "      <td>3.6</td>\n",
              "      <td>NaN</td>\n",
              "      <td>NaN</td>\n",
              "      <td>1017.9</td>\n",
              "    </tr>\n",
              "  </tbody>\n",
              "</table>\n",
              "</div>"
            ],
            "text/plain": [
              "         date  temperature  temperature_min  ...  peakgust  sunshine  pressure\n",
              "0  01/01/2016          4.4             -2.7  ...       NaN       NaN    1020.3\n",
              "1  01/02/2016          7.1              1.1  ...       NaN       NaN    1017.9\n",
              "\n",
              "[2 rows x 12 columns]"
            ]
          },
          "metadata": {
            "tags": []
          },
          "execution_count": 10
        }
      ]
    },
    {
      "cell_type": "markdown",
      "metadata": {
        "id": "YjQLkPNVm_Uk",
        "colab_type": "text"
      },
      "source": [
        "### Merging the datasets"
      ]
    },
    {
      "cell_type": "code",
      "metadata": {
        "id": "aGPk72o15MjA",
        "colab_type": "code",
        "colab": {}
      },
      "source": [
        "df = pd.merge(aqiDataFrame, weatherDataFrame, on='date', how='inner')"
      ],
      "execution_count": 0,
      "outputs": []
    },
    {
      "cell_type": "code",
      "metadata": {
        "id": "SJfJ6tCI6Aax",
        "colab_type": "code",
        "outputId": "0ff36bb0-3701-4029-a71f-6d179b9d03b5",
        "colab": {
          "base_uri": "https://localhost:8080/",
          "height": 216
        }
      },
      "source": [
        "df.head(2)"
      ],
      "execution_count": 12,
      "outputs": [
        {
          "output_type": "execute_result",
          "data": {
            "text/html": [
              "<div>\n",
              "<style scoped>\n",
              "    .dataframe tbody tr th:only-of-type {\n",
              "        vertical-align: middle;\n",
              "    }\n",
              "\n",
              "    .dataframe tbody tr th {\n",
              "        vertical-align: top;\n",
              "    }\n",
              "\n",
              "    .dataframe thead th {\n",
              "        text-align: right;\n",
              "    }\n",
              "</style>\n",
              "<table border=\"1\" class=\"dataframe\">\n",
              "  <thead>\n",
              "    <tr style=\"text-align: right;\">\n",
              "      <th></th>\n",
              "      <th>date</th>\n",
              "      <th>overall aqi value</th>\n",
              "      <th>main pollutant</th>\n",
              "      <th>site name (of overall aqi)</th>\n",
              "      <th>site id (of overall aqi)</th>\n",
              "      <th>source (of overall aqi)</th>\n",
              "      <th>co</th>\n",
              "      <th>ozone</th>\n",
              "      <th>pm10</th>\n",
              "      <th>pm25</th>\n",
              "      <th>no2</th>\n",
              "      <th>temperature</th>\n",
              "      <th>temperature_min</th>\n",
              "      <th>temperature_max</th>\n",
              "      <th>precipitation</th>\n",
              "      <th>snowfall</th>\n",
              "      <th>snowdepth</th>\n",
              "      <th>winddirection</th>\n",
              "      <th>windspeed</th>\n",
              "      <th>peakgust</th>\n",
              "      <th>sunshine</th>\n",
              "      <th>pressure</th>\n",
              "    </tr>\n",
              "  </thead>\n",
              "  <tbody>\n",
              "    <tr>\n",
              "      <th>0</th>\n",
              "      <td>01/01/2016</td>\n",
              "      <td>148</td>\n",
              "      <td>PM2.5</td>\n",
              "      <td>Bakersfield-California</td>\n",
              "      <td>06-029-0014</td>\n",
              "      <td>AQS</td>\n",
              "      <td>8</td>\n",
              "      <td>37</td>\n",
              "      <td>52</td>\n",
              "      <td>148</td>\n",
              "      <td>23</td>\n",
              "      <td>4.4</td>\n",
              "      <td>-2.7</td>\n",
              "      <td>12.8</td>\n",
              "      <td>0.0</td>\n",
              "      <td>NaN</td>\n",
              "      <td>NaN</td>\n",
              "      <td>NaN</td>\n",
              "      <td>6.5</td>\n",
              "      <td>NaN</td>\n",
              "      <td>NaN</td>\n",
              "      <td>1020.3</td>\n",
              "    </tr>\n",
              "    <tr>\n",
              "      <th>1</th>\n",
              "      <td>01/02/2016</td>\n",
              "      <td>113</td>\n",
              "      <td>PM2.5</td>\n",
              "      <td>Bakersfield-California</td>\n",
              "      <td>06-029-0014</td>\n",
              "      <td>AQS</td>\n",
              "      <td>7</td>\n",
              "      <td>37</td>\n",
              "      <td>14</td>\n",
              "      <td>113</td>\n",
              "      <td>25</td>\n",
              "      <td>7.1</td>\n",
              "      <td>1.1</td>\n",
              "      <td>13.9</td>\n",
              "      <td>0.0</td>\n",
              "      <td>NaN</td>\n",
              "      <td>NaN</td>\n",
              "      <td>NaN</td>\n",
              "      <td>3.6</td>\n",
              "      <td>NaN</td>\n",
              "      <td>NaN</td>\n",
              "      <td>1017.9</td>\n",
              "    </tr>\n",
              "  </tbody>\n",
              "</table>\n",
              "</div>"
            ],
            "text/plain": [
              "         date  overall aqi value main pollutant  ... peakgust sunshine pressure\n",
              "0  01/01/2016                148          PM2.5  ...      NaN      NaN   1020.3\n",
              "1  01/02/2016                113          PM2.5  ...      NaN      NaN   1017.9\n",
              "\n",
              "[2 rows x 22 columns]"
            ]
          },
          "metadata": {
            "tags": []
          },
          "execution_count": 12
        }
      ]
    },
    {
      "cell_type": "markdown",
      "metadata": {
        "id": "RpIhReNUnEHI",
        "colab_type": "text"
      },
      "source": [
        "### Renaming column names"
      ]
    },
    {
      "cell_type": "code",
      "metadata": {
        "id": "oT7ly1A96FW9",
        "colab_type": "code",
        "colab": {}
      },
      "source": [
        "df.rename(columns = {'overall aqi value':'aqi', 'site name (of overall aqi)':'location', 'site id (of overall aqi)':'location id',\n",
        "                     'source (of overall aqi)' : 'aqi source'}, inplace = True) "
      ],
      "execution_count": 0,
      "outputs": []
    },
    {
      "cell_type": "code",
      "metadata": {
        "id": "5bUg9TWD9bZ7",
        "colab_type": "code",
        "outputId": "90d76d5e-f69f-456f-ef6b-eeaf81344eee",
        "colab": {
          "base_uri": "https://localhost:8080/",
          "height": 182
        }
      },
      "source": [
        "df.head(2)"
      ],
      "execution_count": 14,
      "outputs": [
        {
          "output_type": "execute_result",
          "data": {
            "text/html": [
              "<div>\n",
              "<style scoped>\n",
              "    .dataframe tbody tr th:only-of-type {\n",
              "        vertical-align: middle;\n",
              "    }\n",
              "\n",
              "    .dataframe tbody tr th {\n",
              "        vertical-align: top;\n",
              "    }\n",
              "\n",
              "    .dataframe thead th {\n",
              "        text-align: right;\n",
              "    }\n",
              "</style>\n",
              "<table border=\"1\" class=\"dataframe\">\n",
              "  <thead>\n",
              "    <tr style=\"text-align: right;\">\n",
              "      <th></th>\n",
              "      <th>date</th>\n",
              "      <th>aqi</th>\n",
              "      <th>main pollutant</th>\n",
              "      <th>location</th>\n",
              "      <th>location id</th>\n",
              "      <th>aqi source</th>\n",
              "      <th>co</th>\n",
              "      <th>ozone</th>\n",
              "      <th>pm10</th>\n",
              "      <th>pm25</th>\n",
              "      <th>no2</th>\n",
              "      <th>temperature</th>\n",
              "      <th>temperature_min</th>\n",
              "      <th>temperature_max</th>\n",
              "      <th>precipitation</th>\n",
              "      <th>snowfall</th>\n",
              "      <th>snowdepth</th>\n",
              "      <th>winddirection</th>\n",
              "      <th>windspeed</th>\n",
              "      <th>peakgust</th>\n",
              "      <th>sunshine</th>\n",
              "      <th>pressure</th>\n",
              "    </tr>\n",
              "  </thead>\n",
              "  <tbody>\n",
              "    <tr>\n",
              "      <th>0</th>\n",
              "      <td>01/01/2016</td>\n",
              "      <td>148</td>\n",
              "      <td>PM2.5</td>\n",
              "      <td>Bakersfield-California</td>\n",
              "      <td>06-029-0014</td>\n",
              "      <td>AQS</td>\n",
              "      <td>8</td>\n",
              "      <td>37</td>\n",
              "      <td>52</td>\n",
              "      <td>148</td>\n",
              "      <td>23</td>\n",
              "      <td>4.4</td>\n",
              "      <td>-2.7</td>\n",
              "      <td>12.8</td>\n",
              "      <td>0.0</td>\n",
              "      <td>NaN</td>\n",
              "      <td>NaN</td>\n",
              "      <td>NaN</td>\n",
              "      <td>6.5</td>\n",
              "      <td>NaN</td>\n",
              "      <td>NaN</td>\n",
              "      <td>1020.3</td>\n",
              "    </tr>\n",
              "    <tr>\n",
              "      <th>1</th>\n",
              "      <td>01/02/2016</td>\n",
              "      <td>113</td>\n",
              "      <td>PM2.5</td>\n",
              "      <td>Bakersfield-California</td>\n",
              "      <td>06-029-0014</td>\n",
              "      <td>AQS</td>\n",
              "      <td>7</td>\n",
              "      <td>37</td>\n",
              "      <td>14</td>\n",
              "      <td>113</td>\n",
              "      <td>25</td>\n",
              "      <td>7.1</td>\n",
              "      <td>1.1</td>\n",
              "      <td>13.9</td>\n",
              "      <td>0.0</td>\n",
              "      <td>NaN</td>\n",
              "      <td>NaN</td>\n",
              "      <td>NaN</td>\n",
              "      <td>3.6</td>\n",
              "      <td>NaN</td>\n",
              "      <td>NaN</td>\n",
              "      <td>1017.9</td>\n",
              "    </tr>\n",
              "  </tbody>\n",
              "</table>\n",
              "</div>"
            ],
            "text/plain": [
              "         date  aqi main pollutant  ... peakgust sunshine pressure\n",
              "0  01/01/2016  148          PM2.5  ...      NaN      NaN   1020.3\n",
              "1  01/02/2016  113          PM2.5  ...      NaN      NaN   1017.9\n",
              "\n",
              "[2 rows x 22 columns]"
            ]
          },
          "metadata": {
            "tags": []
          },
          "execution_count": 14
        }
      ]
    },
    {
      "cell_type": "code",
      "metadata": {
        "id": "rGcE2veM2y_9",
        "colab_type": "code",
        "colab": {}
      },
      "source": [
        "df.drop(df.columns[[15,16,17,19,20]], axis=1, inplace=True)"
      ],
      "execution_count": 0,
      "outputs": []
    },
    {
      "cell_type": "markdown",
      "metadata": {
        "id": "M8Wv-dnqnH0B",
        "colab_type": "text"
      },
      "source": [
        "### Shape of DF"
      ]
    },
    {
      "cell_type": "code",
      "metadata": {
        "id": "jpbxwks69dN9",
        "colab_type": "code",
        "outputId": "d4b0b1d6-6992-41a6-cbc8-7f7901b09824",
        "colab": {
          "base_uri": "https://localhost:8080/",
          "height": 34
        }
      },
      "source": [
        "df.shape"
      ],
      "execution_count": 16,
      "outputs": [
        {
          "output_type": "execute_result",
          "data": {
            "text/plain": [
              "(1461, 17)"
            ]
          },
          "metadata": {
            "tags": []
          },
          "execution_count": 16
        }
      ]
    },
    {
      "cell_type": "markdown",
      "metadata": {
        "id": "14flQ1bVnKzm",
        "colab_type": "text"
      },
      "source": [
        "### Columns with NaN "
      ]
    },
    {
      "cell_type": "code",
      "metadata": {
        "id": "S3ALhcQL-frL",
        "colab_type": "code",
        "outputId": "30d67f86-6335-4e58-8f15-0cfb0c01afbd",
        "colab": {
          "base_uri": "https://localhost:8080/",
          "height": 34
        }
      },
      "source": [
        "df.columns[df.isna().any()].tolist()"
      ],
      "execution_count": 17,
      "outputs": [
        {
          "output_type": "execute_result",
          "data": {
            "text/plain": [
              "['precipitation', 'pressure']"
            ]
          },
          "metadata": {
            "tags": []
          },
          "execution_count": 17
        }
      ]
    },
    {
      "cell_type": "markdown",
      "metadata": {
        "id": "q8Ai9SySnPgx",
        "colab_type": "text"
      },
      "source": [
        "### Replacing invalid data with 0"
      ]
    },
    {
      "cell_type": "code",
      "metadata": {
        "id": "8gWpl6X49qni",
        "colab_type": "code",
        "outputId": "15c035b8-6a1b-4c3b-c229-a19ad5d2e93c",
        "colab": {
          "base_uri": "https://localhost:8080/",
          "height": 470
        }
      },
      "source": [
        "df = df.fillna(0)\n",
        "df['co'].replace('.','0',inplace=True)\n",
        "df['no2'].replace('.','0',inplace=True)\n",
        "df['pm10'].replace('.','0',inplace=True)\n",
        "df"
      ],
      "execution_count": 18,
      "outputs": [
        {
          "output_type": "execute_result",
          "data": {
            "text/html": [
              "<div>\n",
              "<style scoped>\n",
              "    .dataframe tbody tr th:only-of-type {\n",
              "        vertical-align: middle;\n",
              "    }\n",
              "\n",
              "    .dataframe tbody tr th {\n",
              "        vertical-align: top;\n",
              "    }\n",
              "\n",
              "    .dataframe thead th {\n",
              "        text-align: right;\n",
              "    }\n",
              "</style>\n",
              "<table border=\"1\" class=\"dataframe\">\n",
              "  <thead>\n",
              "    <tr style=\"text-align: right;\">\n",
              "      <th></th>\n",
              "      <th>date</th>\n",
              "      <th>aqi</th>\n",
              "      <th>main pollutant</th>\n",
              "      <th>location</th>\n",
              "      <th>location id</th>\n",
              "      <th>aqi source</th>\n",
              "      <th>co</th>\n",
              "      <th>ozone</th>\n",
              "      <th>pm10</th>\n",
              "      <th>pm25</th>\n",
              "      <th>no2</th>\n",
              "      <th>temperature</th>\n",
              "      <th>temperature_min</th>\n",
              "      <th>temperature_max</th>\n",
              "      <th>precipitation</th>\n",
              "      <th>windspeed</th>\n",
              "      <th>pressure</th>\n",
              "    </tr>\n",
              "  </thead>\n",
              "  <tbody>\n",
              "    <tr>\n",
              "      <th>0</th>\n",
              "      <td>01/01/2016</td>\n",
              "      <td>148</td>\n",
              "      <td>PM2.5</td>\n",
              "      <td>Bakersfield-California</td>\n",
              "      <td>06-029-0014</td>\n",
              "      <td>AQS</td>\n",
              "      <td>8</td>\n",
              "      <td>37</td>\n",
              "      <td>52</td>\n",
              "      <td>148</td>\n",
              "      <td>23</td>\n",
              "      <td>4.4</td>\n",
              "      <td>-2.7</td>\n",
              "      <td>12.8</td>\n",
              "      <td>0.0</td>\n",
              "      <td>6.5</td>\n",
              "      <td>1020.3</td>\n",
              "    </tr>\n",
              "    <tr>\n",
              "      <th>1</th>\n",
              "      <td>01/02/2016</td>\n",
              "      <td>113</td>\n",
              "      <td>PM2.5</td>\n",
              "      <td>Bakersfield-California</td>\n",
              "      <td>06-029-0014</td>\n",
              "      <td>AQS</td>\n",
              "      <td>7</td>\n",
              "      <td>37</td>\n",
              "      <td>14</td>\n",
              "      <td>113</td>\n",
              "      <td>25</td>\n",
              "      <td>7.1</td>\n",
              "      <td>1.1</td>\n",
              "      <td>13.9</td>\n",
              "      <td>0.0</td>\n",
              "      <td>3.6</td>\n",
              "      <td>1017.9</td>\n",
              "    </tr>\n",
              "    <tr>\n",
              "      <th>2</th>\n",
              "      <td>01/03/2016</td>\n",
              "      <td>80</td>\n",
              "      <td>PM2.5</td>\n",
              "      <td>Bakersfield-California</td>\n",
              "      <td>06-029-0014</td>\n",
              "      <td>AQS</td>\n",
              "      <td>7</td>\n",
              "      <td>36</td>\n",
              "      <td>9</td>\n",
              "      <td>80</td>\n",
              "      <td>28</td>\n",
              "      <td>9.6</td>\n",
              "      <td>3.9</td>\n",
              "      <td>20.0</td>\n",
              "      <td>0.0</td>\n",
              "      <td>11.5</td>\n",
              "      <td>1011.5</td>\n",
              "    </tr>\n",
              "    <tr>\n",
              "      <th>3</th>\n",
              "      <td>01/04/2016</td>\n",
              "      <td>87</td>\n",
              "      <td>PM2.5</td>\n",
              "      <td>Bakersfield-Airport (Planz)</td>\n",
              "      <td>06-029-0016</td>\n",
              "      <td>AQS</td>\n",
              "      <td>5</td>\n",
              "      <td>37</td>\n",
              "      <td>8</td>\n",
              "      <td>87</td>\n",
              "      <td>28</td>\n",
              "      <td>10.6</td>\n",
              "      <td>5.6</td>\n",
              "      <td>18.3</td>\n",
              "      <td>0.0</td>\n",
              "      <td>7.2</td>\n",
              "      <td>1008.8</td>\n",
              "    </tr>\n",
              "    <tr>\n",
              "      <th>4</th>\n",
              "      <td>01/05/2016</td>\n",
              "      <td>54</td>\n",
              "      <td>PM2.5</td>\n",
              "      <td>Bakersfield-California</td>\n",
              "      <td>06-029-0014</td>\n",
              "      <td>AQS</td>\n",
              "      <td>5</td>\n",
              "      <td>41</td>\n",
              "      <td>6</td>\n",
              "      <td>54</td>\n",
              "      <td>30</td>\n",
              "      <td>12.5</td>\n",
              "      <td>8.3</td>\n",
              "      <td>14.4</td>\n",
              "      <td>12.2</td>\n",
              "      <td>7.6</td>\n",
              "      <td>1008.2</td>\n",
              "    </tr>\n",
              "    <tr>\n",
              "      <th>...</th>\n",
              "      <td>...</td>\n",
              "      <td>...</td>\n",
              "      <td>...</td>\n",
              "      <td>...</td>\n",
              "      <td>...</td>\n",
              "      <td>...</td>\n",
              "      <td>...</td>\n",
              "      <td>...</td>\n",
              "      <td>...</td>\n",
              "      <td>...</td>\n",
              "      <td>...</td>\n",
              "      <td>...</td>\n",
              "      <td>...</td>\n",
              "      <td>...</td>\n",
              "      <td>...</td>\n",
              "      <td>...</td>\n",
              "      <td>...</td>\n",
              "    </tr>\n",
              "    <tr>\n",
              "      <th>1456</th>\n",
              "      <td>12/27/2019</td>\n",
              "      <td>36</td>\n",
              "      <td>PM2.5</td>\n",
              "      <td>Bakersfield-California</td>\n",
              "      <td>06-029-0014</td>\n",
              "      <td>AirNow</td>\n",
              "      <td>0</td>\n",
              "      <td>33</td>\n",
              "      <td>0</td>\n",
              "      <td>36</td>\n",
              "      <td>0</td>\n",
              "      <td>7.9</td>\n",
              "      <td>3.9</td>\n",
              "      <td>11.7</td>\n",
              "      <td>0.0</td>\n",
              "      <td>4.0</td>\n",
              "      <td>1017.3</td>\n",
              "    </tr>\n",
              "    <tr>\n",
              "      <th>1457</th>\n",
              "      <td>12/28/2019</td>\n",
              "      <td>58</td>\n",
              "      <td>PM2.5</td>\n",
              "      <td>Bakersfield-California</td>\n",
              "      <td>06-029-0014</td>\n",
              "      <td>AQS</td>\n",
              "      <td>0</td>\n",
              "      <td>32</td>\n",
              "      <td>2</td>\n",
              "      <td>58</td>\n",
              "      <td>0</td>\n",
              "      <td>7.1</td>\n",
              "      <td>1.7</td>\n",
              "      <td>13.3</td>\n",
              "      <td>0.0</td>\n",
              "      <td>3.2</td>\n",
              "      <td>1020.8</td>\n",
              "    </tr>\n",
              "    <tr>\n",
              "      <th>1458</th>\n",
              "      <td>12/29/2019</td>\n",
              "      <td>60</td>\n",
              "      <td>PM2.5</td>\n",
              "      <td>Bakersfield-Golden/M St</td>\n",
              "      <td>06-029-0010</td>\n",
              "      <td>AQS</td>\n",
              "      <td>0</td>\n",
              "      <td>31</td>\n",
              "      <td>3</td>\n",
              "      <td>60</td>\n",
              "      <td>0</td>\n",
              "      <td>7.6</td>\n",
              "      <td>2.8</td>\n",
              "      <td>15.6</td>\n",
              "      <td>0.0</td>\n",
              "      <td>2.9</td>\n",
              "      <td>1019.5</td>\n",
              "    </tr>\n",
              "    <tr>\n",
              "      <th>1459</th>\n",
              "      <td>12/30/2019</td>\n",
              "      <td>62</td>\n",
              "      <td>PM2.5</td>\n",
              "      <td>Bakersfield-California</td>\n",
              "      <td>06-029-0014</td>\n",
              "      <td>AQS</td>\n",
              "      <td>0</td>\n",
              "      <td>34</td>\n",
              "      <td>4</td>\n",
              "      <td>62</td>\n",
              "      <td>0</td>\n",
              "      <td>10.4</td>\n",
              "      <td>5.6</td>\n",
              "      <td>13.9</td>\n",
              "      <td>0.0</td>\n",
              "      <td>7.9</td>\n",
              "      <td>1018.4</td>\n",
              "    </tr>\n",
              "    <tr>\n",
              "      <th>1460</th>\n",
              "      <td>12/31/2019</td>\n",
              "      <td>85</td>\n",
              "      <td>PM2.5</td>\n",
              "      <td>Bakersfield-California</td>\n",
              "      <td>06-029-0014</td>\n",
              "      <td>AQS</td>\n",
              "      <td>0</td>\n",
              "      <td>35</td>\n",
              "      <td>3</td>\n",
              "      <td>85</td>\n",
              "      <td>0</td>\n",
              "      <td>8.3</td>\n",
              "      <td>2.8</td>\n",
              "      <td>14.4</td>\n",
              "      <td>0.0</td>\n",
              "      <td>6.8</td>\n",
              "      <td>0.0</td>\n",
              "    </tr>\n",
              "  </tbody>\n",
              "</table>\n",
              "<p>1461 rows × 17 columns</p>\n",
              "</div>"
            ],
            "text/plain": [
              "            date  aqi main pollutant  ... precipitation windspeed pressure\n",
              "0     01/01/2016  148          PM2.5  ...           0.0       6.5   1020.3\n",
              "1     01/02/2016  113          PM2.5  ...           0.0       3.6   1017.9\n",
              "2     01/03/2016   80          PM2.5  ...           0.0      11.5   1011.5\n",
              "3     01/04/2016   87          PM2.5  ...           0.0       7.2   1008.8\n",
              "4     01/05/2016   54          PM2.5  ...          12.2       7.6   1008.2\n",
              "...          ...  ...            ...  ...           ...       ...      ...\n",
              "1456  12/27/2019   36          PM2.5  ...           0.0       4.0   1017.3\n",
              "1457  12/28/2019   58          PM2.5  ...           0.0       3.2   1020.8\n",
              "1458  12/29/2019   60          PM2.5  ...           0.0       2.9   1019.5\n",
              "1459  12/30/2019   62          PM2.5  ...           0.0       7.9   1018.4\n",
              "1460  12/31/2019   85          PM2.5  ...           0.0       6.8      0.0\n",
              "\n",
              "[1461 rows x 17 columns]"
            ]
          },
          "metadata": {
            "tags": []
          },
          "execution_count": 18
        }
      ]
    },
    {
      "cell_type": "code",
      "metadata": {
        "id": "fEqkPNQfXAIX",
        "colab_type": "code",
        "colab": {}
      },
      "source": [
        "# c = df['temperature_min'] < 0\n",
        "# df['temperature_min'] =  df['temperature_min'].astype(float)\n",
        "# newdf = df[c]\n",
        "# newdf"
      ],
      "execution_count": 0,
      "outputs": []
    },
    {
      "cell_type": "code",
      "metadata": {
        "id": "6_ypaORzCTep",
        "colab_type": "code",
        "outputId": "bc165263-a32f-403b-97d7-6965c0c84ca0",
        "colab": {
          "base_uri": "https://localhost:8080/",
          "height": 323
        }
      },
      "source": [
        "df.dtypes"
      ],
      "execution_count": 20,
      "outputs": [
        {
          "output_type": "execute_result",
          "data": {
            "text/plain": [
              "date                object\n",
              "aqi                  int64\n",
              "main pollutant      object\n",
              "location            object\n",
              "location id         object\n",
              "aqi source          object\n",
              "co                  object\n",
              "ozone                int64\n",
              "pm10                object\n",
              "pm25                 int64\n",
              "no2                 object\n",
              "temperature        float64\n",
              "temperature_min    float64\n",
              "temperature_max    float64\n",
              "precipitation      float64\n",
              "windspeed          float64\n",
              "pressure           float64\n",
              "dtype: object"
            ]
          },
          "metadata": {
            "tags": []
          },
          "execution_count": 20
        }
      ]
    },
    {
      "cell_type": "markdown",
      "metadata": {
        "id": "HbkYpwqJnWzo",
        "colab_type": "text"
      },
      "source": [
        "### Object to Float"
      ]
    },
    {
      "cell_type": "code",
      "metadata": {
        "id": "l9pCOkV8Cfo4",
        "colab_type": "code",
        "colab": {}
      },
      "source": [
        "def covert_to_float(param):\n",
        "    df[param] =  df[param].astype(float)\n",
        "\n",
        "arr = ['aqi','co','no2','pm10']\n",
        "for i in arr:\n",
        "    covert_to_float(i)"
      ],
      "execution_count": 0,
      "outputs": []
    },
    {
      "cell_type": "code",
      "metadata": {
        "id": "O07vThByls0O",
        "colab_type": "code",
        "outputId": "6ccfddd0-dd62-4cd6-ef9b-47701d3a7bc7",
        "colab": {
          "base_uri": "https://localhost:8080/",
          "height": 323
        }
      },
      "source": [
        "df.dtypes"
      ],
      "execution_count": 22,
      "outputs": [
        {
          "output_type": "execute_result",
          "data": {
            "text/plain": [
              "date                object\n",
              "aqi                float64\n",
              "main pollutant      object\n",
              "location            object\n",
              "location id         object\n",
              "aqi source          object\n",
              "co                 float64\n",
              "ozone                int64\n",
              "pm10               float64\n",
              "pm25                 int64\n",
              "no2                float64\n",
              "temperature        float64\n",
              "temperature_min    float64\n",
              "temperature_max    float64\n",
              "precipitation      float64\n",
              "windspeed          float64\n",
              "pressure           float64\n",
              "dtype: object"
            ]
          },
          "metadata": {
            "tags": []
          },
          "execution_count": 22
        }
      ]
    },
    {
      "cell_type": "code",
      "metadata": {
        "id": "mKqfqjy1EK0c",
        "colab_type": "code",
        "outputId": "a8fae1c4-9b7a-4402-9fa6-fd95e6b1f746",
        "colab": {
          "base_uri": "https://localhost:8080/",
          "height": 34
        }
      },
      "source": [
        "df.columns[df.isna().any()].tolist()"
      ],
      "execution_count": 23,
      "outputs": [
        {
          "output_type": "execute_result",
          "data": {
            "text/plain": [
              "[]"
            ]
          },
          "metadata": {
            "tags": []
          },
          "execution_count": 23
        }
      ]
    },
    {
      "cell_type": "code",
      "metadata": {
        "id": "NVYZ9AMaFtv2",
        "colab_type": "code",
        "outputId": "0495662c-14de-449e-c597-3f91d5a8e263",
        "colab": {
          "base_uri": "https://localhost:8080/",
          "height": 102
        }
      },
      "source": [
        "df.columns"
      ],
      "execution_count": 24,
      "outputs": [
        {
          "output_type": "execute_result",
          "data": {
            "text/plain": [
              "Index(['date', 'aqi', 'main pollutant', 'location', 'location id',\n",
              "       'aqi source', 'co', 'ozone', 'pm10', 'pm25', 'no2', 'temperature',\n",
              "       'temperature_min', 'temperature_max', 'precipitation', 'windspeed',\n",
              "       'pressure'],\n",
              "      dtype='object')"
            ]
          },
          "metadata": {
            "tags": []
          },
          "execution_count": 24
        }
      ]
    },
    {
      "cell_type": "markdown",
      "metadata": {
        "id": "awXzqTar13sB",
        "colab_type": "text"
      },
      "source": [
        "# Heatmap: Correlation"
      ]
    },
    {
      "cell_type": "code",
      "metadata": {
        "id": "LqaWm-Hv1rGa",
        "colab_type": "code",
        "outputId": "09805471-e869-400e-9dd6-c82395662992",
        "colab": {
          "base_uri": "https://localhost:8080/",
          "height": 610
        }
      },
      "source": [
        "import seaborn as sns\n",
        "corrMatrix = df.corr()\n",
        "sns.set(rc={'figure.figsize':(11.7,8.27)})\n",
        "sns.heatmap(corrMatrix, annot=True)"
      ],
      "execution_count": 25,
      "outputs": [
        {
          "output_type": "execute_result",
          "data": {
            "text/plain": [
              "<matplotlib.axes._subplots.AxesSubplot at 0x7f74e787b438>"
            ]
          },
          "metadata": {
            "tags": []
          },
          "execution_count": 25
        },
        {
          "output_type": "display_data",
          "data": {
            "image/png": "[encoded data removed]",
            "text/plain": [
              "<Figure size 842.4x595.44 with 2 Axes>"
            ]
          },
          "metadata": {
            "tags": []
          }
        }
      ]
    },
    {
      "cell_type": "markdown",
      "metadata": {
        "id": "OlD-Vd9k1EJa",
        "colab_type": "text"
      },
      "source": [
        "# K-Means"
      ]
    },
    {
      "cell_type": "code",
      "metadata": {
        "id": "wrKxFLqxpPcI",
        "colab_type": "code",
        "colab": {}
      },
      "source": [
        "from sklearn.cluster import KMeans\n",
        "%matplotlib inline\n",
        "import matplotlib\n",
        "import matplotlib.pyplot as plt"
      ],
      "execution_count": 0,
      "outputs": []
    },
    {
      "cell_type": "markdown",
      "metadata": {
        "id": "zMVMmtxH5X8h",
        "colab_type": "text"
      },
      "source": [
        "[0: 'date', 1: 'aqi', 2: 'main pollutant', 3: 'location', 4: 'location id',\n",
        "5: 'aqi source', 6: 'co', 7: 'ozone', 8: 'pm10', 9: 'pm25', 10: 'no2', 11: 'temperature', 12: 'temperature_min', 13: 'temperature_max', 14: 'precipitation', 15: 'windspeed', 16: 'pressure']"
      ]
    },
    {
      "cell_type": "markdown",
      "metadata": {
        "id": "TAoqpqpuuvLm",
        "colab_type": "text"
      },
      "source": [
        "### Elbow method"
      ]
    },
    {
      "cell_type": "code",
      "metadata": {
        "id": "lEQnYCFaoh0p",
        "colab_type": "code",
        "colab": {}
      },
      "source": [
        "def elbow_method():\n",
        "    Error =[]\n",
        "    x = df.iloc[:, [1,6,7,8,9,10,11,12,13,14,15,16]].values\n",
        "    for i in range(1, 11):\n",
        "        kmeans = KMeans(n_clusters = i).fit(x)\n",
        "        kmeans.fit(x)\n",
        "        Error.append(kmeans.inertia_)\n",
        "    plt.figure(figsize=(5,5))\n",
        "    plt.plot(range(1, 11), Error)\n",
        "    plt.title('Elbow method')\n",
        "    plt.xlabel('No of clusters')\n",
        "    plt.ylabel('Error')\n",
        "    plt.show()\n",
        "    "
      ],
      "execution_count": 0,
      "outputs": []
    },
    {
      "cell_type": "code",
      "metadata": {
        "id": "5KBmMNMfo_6n",
        "colab_type": "code",
        "outputId": "42c60fd4-fd6a-4d16-d225-b32c38ec6c44",
        "colab": {
          "base_uri": "https://localhost:8080/",
          "height": 355
        }
      },
      "source": [
        "elbow_method()"
      ],
      "execution_count": 28,
      "outputs": [
        {
          "output_type": "display_data",
          "data": {
            "image/png": "[encoded data removed]",
            "text/plain": [
              "<Figure size 360x360 with 1 Axes>"
            ]
          },
          "metadata": {
            "tags": []
          }
        }
      ]
    },
    {
      "cell_type": "markdown",
      "metadata": {
        "id": "hBhuKtcbuyAC",
        "colab_type": "text"
      },
      "source": [
        "### K-Means Clustering"
      ]
    },
    {
      "cell_type": "code",
      "metadata": {
        "id": "97au7w3mAhcw",
        "colab_type": "code",
        "outputId": "27ed0f8f-48a2-4a88-9887-3383d0683e7f",
        "colab": {
          "base_uri": "https://localhost:8080/",
          "height": 34
        }
      },
      "source": [
        "x = df.iloc[:, [1,6,7,8,9,10,11,12,13,14,15,16]].values\n",
        "y = df.iloc[:, [1,6,7,8,9,10,11,12,13,14,15,16]]\n",
        "col = y.columns\n",
        "\n",
        "kmeans = KMeans(n_clusters=2)\n",
        "y_kmeans = kmeans.fit_predict(x)\n",
        "plt.figure(figsize=(5,5))\n",
        "df['cluster'] = y_kmeans\n",
        "\n",
        "# for i in range(0, 11):\n",
        "#    for j in range(1, 12):\n",
        "#      plt.scatter(x[:, i], x[:, j], y_kmeans, c=y_kmeans)\n",
        "#      plt.scatter(x[y_kmeans == 0, i], x[y_kmeans == 0, j], s = 50, c = 'red')\n",
        "#      plt.scatter(x[y_kmeans == 1, i], x[y_kmeans == 1, j], s = 50, c = 'blue')\n",
        "#      plt.xlabel(col[i])\n",
        "#      plt.ylabel(col[j])\n",
        "#      plt.show()\n"
      ],
      "execution_count": 29,
      "outputs": [
        {
          "output_type": "display_data",
          "data": {
            "text/plain": [
              "<Figure size 360x360 with 0 Axes>"
            ]
          },
          "metadata": {
            "tags": []
          }
        }
      ]
    },
    {
      "cell_type": "code",
      "metadata": {
        "id": "mI7idOB--Oa0",
        "colab_type": "code",
        "outputId": "363f254d-8182-4456-9745-73dad65cb447",
        "colab": {
          "base_uri": "https://localhost:8080/",
          "height": 340
        }
      },
      "source": [
        "# df['date'] = pd.to_datetime(df['date'])\n",
        "df.dtypes"
      ],
      "execution_count": 30,
      "outputs": [
        {
          "output_type": "execute_result",
          "data": {
            "text/plain": [
              "date                object\n",
              "aqi                float64\n",
              "main pollutant      object\n",
              "location            object\n",
              "location id         object\n",
              "aqi source          object\n",
              "co                 float64\n",
              "ozone                int64\n",
              "pm10               float64\n",
              "pm25                 int64\n",
              "no2                float64\n",
              "temperature        float64\n",
              "temperature_min    float64\n",
              "temperature_max    float64\n",
              "precipitation      float64\n",
              "windspeed          float64\n",
              "pressure           float64\n",
              "cluster              int32\n",
              "dtype: object"
            ]
          },
          "metadata": {
            "tags": []
          },
          "execution_count": 30
        }
      ]
    },
    {
      "cell_type": "code",
      "metadata": {
        "id": "F7IPIAn7EMoq",
        "colab_type": "code",
        "outputId": "eb626171-e64d-4594-fed6-ee76fdac9519",
        "colab": {
          "base_uri": "https://localhost:8080/",
          "height": 221
        }
      },
      "source": [
        "# Add columns with year, month, and weekday name\n",
        "# df = df.set_index('date')\n",
        "# df['year'] = df.index.year\n",
        "# df['month'] = df.index.month\n",
        "# df['day'] = df.index.weekday_name\n",
        "# # Display a random sampling of 5 rows\n",
        "df.sample(5, random_state=5)\n",
        "# select = df[df['cluster'] == 1]\n",
        "# select.head()"
      ],
      "execution_count": 31,
      "outputs": [
        {
          "output_type": "execute_result",
          "data": {
            "text/html": [
              "<div>\n",
              "<style scoped>\n",
              "    .dataframe tbody tr th:only-of-type {\n",
              "        vertical-align: middle;\n",
              "    }\n",
              "\n",
              "    .dataframe tbody tr th {\n",
              "        vertical-align: top;\n",
              "    }\n",
              "\n",
              "    .dataframe thead th {\n",
              "        text-align: right;\n",
              "    }\n",
              "</style>\n",
              "<table border=\"1\" class=\"dataframe\">\n",
              "  <thead>\n",
              "    <tr style=\"text-align: right;\">\n",
              "      <th></th>\n",
              "      <th>date</th>\n",
              "      <th>aqi</th>\n",
              "      <th>main pollutant</th>\n",
              "      <th>location</th>\n",
              "      <th>location id</th>\n",
              "      <th>aqi source</th>\n",
              "      <th>co</th>\n",
              "      <th>ozone</th>\n",
              "      <th>pm10</th>\n",
              "      <th>pm25</th>\n",
              "      <th>no2</th>\n",
              "      <th>temperature</th>\n",
              "      <th>temperature_min</th>\n",
              "      <th>temperature_max</th>\n",
              "      <th>precipitation</th>\n",
              "      <th>windspeed</th>\n",
              "      <th>pressure</th>\n",
              "      <th>cluster</th>\n",
              "    </tr>\n",
              "  </thead>\n",
              "  <tbody>\n",
              "    <tr>\n",
              "      <th>531</th>\n",
              "      <td>06/15/2017</td>\n",
              "      <td>115.0</td>\n",
              "      <td>Ozone</td>\n",
              "      <td>Mojave</td>\n",
              "      <td>06-029-0011</td>\n",
              "      <td>AQS</td>\n",
              "      <td>3.0</td>\n",
              "      <td>115</td>\n",
              "      <td>44.0</td>\n",
              "      <td>54</td>\n",
              "      <td>33.0</td>\n",
              "      <td>27.3</td>\n",
              "      <td>20.0</td>\n",
              "      <td>35.6</td>\n",
              "      <td>0.0</td>\n",
              "      <td>9.4</td>\n",
              "      <td>1013.2</td>\n",
              "      <td>0</td>\n",
              "    </tr>\n",
              "    <tr>\n",
              "      <th>461</th>\n",
              "      <td>04/06/2017</td>\n",
              "      <td>87.0</td>\n",
              "      <td>Ozone</td>\n",
              "      <td>Mojave</td>\n",
              "      <td>06-029-0011</td>\n",
              "      <td>AQS</td>\n",
              "      <td>3.0</td>\n",
              "      <td>87</td>\n",
              "      <td>19.0</td>\n",
              "      <td>52</td>\n",
              "      <td>37.0</td>\n",
              "      <td>22.1</td>\n",
              "      <td>14.4</td>\n",
              "      <td>27.8</td>\n",
              "      <td>0.0</td>\n",
              "      <td>9.7</td>\n",
              "      <td>1012.5</td>\n",
              "      <td>0</td>\n",
              "    </tr>\n",
              "    <tr>\n",
              "      <th>793</th>\n",
              "      <td>03/04/2018</td>\n",
              "      <td>43.0</td>\n",
              "      <td>Ozone</td>\n",
              "      <td>Maricopa</td>\n",
              "      <td>06-029-0008</td>\n",
              "      <td>AQS</td>\n",
              "      <td>5.0</td>\n",
              "      <td>43</td>\n",
              "      <td>3.0</td>\n",
              "      <td>25</td>\n",
              "      <td>30.0</td>\n",
              "      <td>8.3</td>\n",
              "      <td>3.3</td>\n",
              "      <td>14.4</td>\n",
              "      <td>0.0</td>\n",
              "      <td>6.8</td>\n",
              "      <td>1024.2</td>\n",
              "      <td>0</td>\n",
              "    </tr>\n",
              "    <tr>\n",
              "      <th>663</th>\n",
              "      <td>10/25/2017</td>\n",
              "      <td>150.0</td>\n",
              "      <td>Ozone</td>\n",
              "      <td>Edison</td>\n",
              "      <td>06-029-0007</td>\n",
              "      <td>AQS</td>\n",
              "      <td>6.0</td>\n",
              "      <td>150</td>\n",
              "      <td>83.0</td>\n",
              "      <td>82</td>\n",
              "      <td>50.0</td>\n",
              "      <td>22.6</td>\n",
              "      <td>14.4</td>\n",
              "      <td>32.8</td>\n",
              "      <td>0.0</td>\n",
              "      <td>7.6</td>\n",
              "      <td>1014.0</td>\n",
              "      <td>0</td>\n",
              "    </tr>\n",
              "    <tr>\n",
              "      <th>654</th>\n",
              "      <td>10/16/2017</td>\n",
              "      <td>133.0</td>\n",
              "      <td>Ozone</td>\n",
              "      <td>Edison</td>\n",
              "      <td>06-029-0007</td>\n",
              "      <td>AQS</td>\n",
              "      <td>7.0</td>\n",
              "      <td>133</td>\n",
              "      <td>75.0</td>\n",
              "      <td>92</td>\n",
              "      <td>60.0</td>\n",
              "      <td>19.8</td>\n",
              "      <td>11.1</td>\n",
              "      <td>28.9</td>\n",
              "      <td>0.0</td>\n",
              "      <td>5.8</td>\n",
              "      <td>1019.4</td>\n",
              "      <td>0</td>\n",
              "    </tr>\n",
              "  </tbody>\n",
              "</table>\n",
              "</div>"
            ],
            "text/plain": [
              "           date    aqi main pollutant  ... windspeed pressure cluster\n",
              "531  06/15/2017  115.0          Ozone  ...       9.4   1013.2       0\n",
              "461  04/06/2017   87.0          Ozone  ...       9.7   1012.5       0\n",
              "793  03/04/2018   43.0          Ozone  ...       6.8   1024.2       0\n",
              "663  10/25/2017  150.0          Ozone  ...       7.6   1014.0       0\n",
              "654  10/16/2017  133.0          Ozone  ...       5.8   1019.4       0\n",
              "\n",
              "[5 rows x 18 columns]"
            ]
          },
          "metadata": {
            "tags": []
          },
          "execution_count": 31
        }
      ]
    },
    {
      "cell_type": "code",
      "metadata": {
        "id": "Nm_8o0VyaNPD",
        "colab_type": "code",
        "colab": {}
      },
      "source": [
        "from sklearn.preprocessing import StandardScaler\n",
        "scaler = StandardScaler()"
      ],
      "execution_count": 0,
      "outputs": []
    },
    {
      "cell_type": "code",
      "metadata": {
        "id": "KEcAKjPHaTHM",
        "colab_type": "code",
        "outputId": "c8b4bf65-1013-4223-b839-69d175c91dde",
        "colab": {
          "base_uri": "https://localhost:8080/",
          "height": 34
        }
      },
      "source": [
        "#scaledDF = df[['ozone', 'co', 'temperature', 'windspeed', 'precipitation', 'pressure', 'pm10', 'pm25', 'no2']]\n",
        "scaledDF = df[['ozone', 'co', 'temperature', 'windspeed', 'pressure', 'pm10', 'pm25', 'no2']]\n",
        "scaler.fit(scaledDF.values)"
      ],
      "execution_count": 33,
      "outputs": [
        {
          "output_type": "execute_result",
          "data": {
            "text/plain": [
              "StandardScaler(copy=True, with_mean=True, with_std=True)"
            ]
          },
          "metadata": {
            "tags": []
          },
          "execution_count": 33
        }
      ]
    },
    {
      "cell_type": "code",
      "metadata": {
        "id": "D23nPezxavAt",
        "colab_type": "code",
        "outputId": "ce22bb34-c67f-4ed9-b59f-402458b35275",
        "colab": {
          "base_uri": "https://localhost:8080/",
          "height": 111
        }
      },
      "source": [
        "scaledDF.head(2)"
      ],
      "execution_count": 34,
      "outputs": [
        {
          "output_type": "execute_result",
          "data": {
            "text/html": [
              "<div>\n",
              "<style scoped>\n",
              "    .dataframe tbody tr th:only-of-type {\n",
              "        vertical-align: middle;\n",
              "    }\n",
              "\n",
              "    .dataframe tbody tr th {\n",
              "        vertical-align: top;\n",
              "    }\n",
              "\n",
              "    .dataframe thead th {\n",
              "        text-align: right;\n",
              "    }\n",
              "</style>\n",
              "<table border=\"1\" class=\"dataframe\">\n",
              "  <thead>\n",
              "    <tr style=\"text-align: right;\">\n",
              "      <th></th>\n",
              "      <th>ozone</th>\n",
              "      <th>co</th>\n",
              "      <th>temperature</th>\n",
              "      <th>windspeed</th>\n",
              "      <th>pressure</th>\n",
              "      <th>pm10</th>\n",
              "      <th>pm25</th>\n",
              "      <th>no2</th>\n",
              "    </tr>\n",
              "  </thead>\n",
              "  <tbody>\n",
              "    <tr>\n",
              "      <th>0</th>\n",
              "      <td>37</td>\n",
              "      <td>8.0</td>\n",
              "      <td>4.4</td>\n",
              "      <td>6.5</td>\n",
              "      <td>1020.3</td>\n",
              "      <td>52.0</td>\n",
              "      <td>148</td>\n",
              "      <td>23.0</td>\n",
              "    </tr>\n",
              "    <tr>\n",
              "      <th>1</th>\n",
              "      <td>37</td>\n",
              "      <td>7.0</td>\n",
              "      <td>7.1</td>\n",
              "      <td>3.6</td>\n",
              "      <td>1017.9</td>\n",
              "      <td>14.0</td>\n",
              "      <td>113</td>\n",
              "      <td>25.0</td>\n",
              "    </tr>\n",
              "  </tbody>\n",
              "</table>\n",
              "</div>"
            ],
            "text/plain": [
              "   ozone   co  temperature  windspeed  pressure  pm10  pm25   no2\n",
              "0     37  8.0          4.4        6.5    1020.3  52.0   148  23.0\n",
              "1     37  7.0          7.1        3.6    1017.9  14.0   113  25.0"
            ]
          },
          "metadata": {
            "tags": []
          },
          "execution_count": 34
        }
      ]
    },
    {
      "cell_type": "code",
      "metadata": {
        "id": "4bRi0eWPa2Tx",
        "colab_type": "code",
        "outputId": "566633c8-2ae8-42fa-b1bc-c4cafc745581",
        "colab": {
          "base_uri": "https://localhost:8080/",
          "height": 51
        }
      },
      "source": [
        "scaler.mean_"
      ],
      "execution_count": 35,
      "outputs": [
        {
          "output_type": "execute_result",
          "data": {
            "text/plain": [
              "array([ 72.77891855,   3.33675565,  19.91177276,   9.12984257,\n",
              "       973.22600958,  34.38603696,  56.66666667,  25.39561944])"
            ]
          },
          "metadata": {
            "tags": []
          },
          "execution_count": 35
        }
      ]
    },
    {
      "cell_type": "code",
      "metadata": {
        "id": "k5t5FMHra5a1",
        "colab_type": "code",
        "colab": {}
      },
      "source": [
        "scaledDF = scaler.transform(scaledDF)"
      ],
      "execution_count": 0,
      "outputs": []
    },
    {
      "cell_type": "code",
      "metadata": {
        "id": "Qdtl2UVga_J-",
        "colab_type": "code",
        "outputId": "b0abb6b0-4706-4a8a-d7e7-cb01d3e7b7bb",
        "colab": {
          "base_uri": "https://localhost:8080/",
          "height": 111
        }
      },
      "source": [
        "scaledDF = pd.DataFrame(data=scaledDF, columns=['ozone', 'co', 'temperature', 'windspeed', 'pressure', 'pm10', 'pm25', 'no2'])\n",
        "scaledDF.head(2)"
      ],
      "execution_count": 37,
      "outputs": [
        {
          "output_type": "execute_result",
          "data": {
            "text/html": [
              "<div>\n",
              "<style scoped>\n",
              "    .dataframe tbody tr th:only-of-type {\n",
              "        vertical-align: middle;\n",
              "    }\n",
              "\n",
              "    .dataframe tbody tr th {\n",
              "        vertical-align: top;\n",
              "    }\n",
              "\n",
              "    .dataframe thead th {\n",
              "        text-align: right;\n",
              "    }\n",
              "</style>\n",
              "<table border=\"1\" class=\"dataframe\">\n",
              "  <thead>\n",
              "    <tr style=\"text-align: right;\">\n",
              "      <th></th>\n",
              "      <th>ozone</th>\n",
              "      <th>co</th>\n",
              "      <th>temperature</th>\n",
              "      <th>windspeed</th>\n",
              "      <th>pressure</th>\n",
              "      <th>pm10</th>\n",
              "      <th>pm25</th>\n",
              "      <th>no2</th>\n",
              "    </tr>\n",
              "  </thead>\n",
              "  <tbody>\n",
              "    <tr>\n",
              "      <th>0</th>\n",
              "      <td>-0.982177</td>\n",
              "      <td>1.895100</td>\n",
              "      <td>-1.987936</td>\n",
              "      <td>-0.756273</td>\n",
              "      <td>0.233657</td>\n",
              "      <td>0.673889</td>\n",
              "      <td>3.137893</td>\n",
              "      <td>-0.200856</td>\n",
              "    </tr>\n",
              "    <tr>\n",
              "      <th>1</th>\n",
              "      <td>-0.982177</td>\n",
              "      <td>1.488709</td>\n",
              "      <td>-1.641914</td>\n",
              "      <td>-1.590235</td>\n",
              "      <td>0.221745</td>\n",
              "      <td>-0.779945</td>\n",
              "      <td>1.935416</td>\n",
              "      <td>-0.033170</td>\n",
              "    </tr>\n",
              "  </tbody>\n",
              "</table>\n",
              "</div>"
            ],
            "text/plain": [
              "      ozone        co  temperature  ...      pm10      pm25       no2\n",
              "0 -0.982177  1.895100    -1.987936  ...  0.673889  3.137893 -0.200856\n",
              "1 -0.982177  1.488709    -1.641914  ... -0.779945  1.935416 -0.033170\n",
              "\n",
              "[2 rows x 8 columns]"
            ]
          },
          "metadata": {
            "tags": []
          },
          "execution_count": 37
        }
      ]
    },
    {
      "cell_type": "code",
      "metadata": {
        "id": "Sk6HUKWIb5-t",
        "colab_type": "code",
        "colab": {}
      },
      "source": [
        "scaledDF['aqi'] = df['aqi']"
      ],
      "execution_count": 0,
      "outputs": []
    },
    {
      "cell_type": "code",
      "metadata": {
        "id": "qib1hfwBb9uo",
        "colab_type": "code",
        "outputId": "af090ef0-9f93-4b76-f2bb-0e39107bd784",
        "colab": {
          "base_uri": "https://localhost:8080/",
          "height": 111
        }
      },
      "source": [
        "scaledDF.head(2)"
      ],
      "execution_count": 39,
      "outputs": [
        {
          "output_type": "execute_result",
          "data": {
            "text/html": [
              "<div>\n",
              "<style scoped>\n",
              "    .dataframe tbody tr th:only-of-type {\n",
              "        vertical-align: middle;\n",
              "    }\n",
              "\n",
              "    .dataframe tbody tr th {\n",
              "        vertical-align: top;\n",
              "    }\n",
              "\n",
              "    .dataframe thead th {\n",
              "        text-align: right;\n",
              "    }\n",
              "</style>\n",
              "<table border=\"1\" class=\"dataframe\">\n",
              "  <thead>\n",
              "    <tr style=\"text-align: right;\">\n",
              "      <th></th>\n",
              "      <th>ozone</th>\n",
              "      <th>co</th>\n",
              "      <th>temperature</th>\n",
              "      <th>windspeed</th>\n",
              "      <th>pressure</th>\n",
              "      <th>pm10</th>\n",
              "      <th>pm25</th>\n",
              "      <th>no2</th>\n",
              "      <th>aqi</th>\n",
              "    </tr>\n",
              "  </thead>\n",
              "  <tbody>\n",
              "    <tr>\n",
              "      <th>0</th>\n",
              "      <td>-0.982177</td>\n",
              "      <td>1.895100</td>\n",
              "      <td>-1.987936</td>\n",
              "      <td>-0.756273</td>\n",
              "      <td>0.233657</td>\n",
              "      <td>0.673889</td>\n",
              "      <td>3.137893</td>\n",
              "      <td>-0.200856</td>\n",
              "      <td>148.0</td>\n",
              "    </tr>\n",
              "    <tr>\n",
              "      <th>1</th>\n",
              "      <td>-0.982177</td>\n",
              "      <td>1.488709</td>\n",
              "      <td>-1.641914</td>\n",
              "      <td>-1.590235</td>\n",
              "      <td>0.221745</td>\n",
              "      <td>-0.779945</td>\n",
              "      <td>1.935416</td>\n",
              "      <td>-0.033170</td>\n",
              "      <td>113.0</td>\n",
              "    </tr>\n",
              "  </tbody>\n",
              "</table>\n",
              "</div>"
            ],
            "text/plain": [
              "      ozone        co  temperature  ...      pm25       no2    aqi\n",
              "0 -0.982177  1.895100    -1.987936  ...  3.137893 -0.200856  148.0\n",
              "1 -0.982177  1.488709    -1.641914  ...  1.935416 -0.033170  113.0\n",
              "\n",
              "[2 rows x 9 columns]"
            ]
          },
          "metadata": {
            "tags": []
          },
          "execution_count": 39
        }
      ]
    },
    {
      "cell_type": "code",
      "metadata": {
        "id": "obarwl_1cExA",
        "colab_type": "code",
        "colab": {}
      },
      "source": [
        "def label_gen(x):\n",
        "  if (x < 51):\n",
        "    return 'Good'\n",
        "  elif (x < 101):\n",
        "    return 'Moderate'\n",
        "  elif(x<151):\n",
        "    return 'Unhealthy for sensitive groups'\n",
        "  elif (x<201):\n",
        "    return 'Unhealthy'\n",
        "  elif (x<301):\n",
        "    return 'Very Unhealthy'\n",
        "  else:\n",
        "    return 'Hazardous'"
      ],
      "execution_count": 0,
      "outputs": []
    },
    {
      "cell_type": "code",
      "metadata": {
        "id": "OFFaZAui--kp",
        "colab_type": "code",
        "colab": {}
      },
      "source": [
        "def label_category(x):\n",
        "  if (x < 151):\n",
        "    return 0\n",
        "  else:\n",
        "    return 1"
      ],
      "execution_count": 0,
      "outputs": []
    },
    {
      "cell_type": "code",
      "metadata": {
        "id": "SvMn_9ddcI3U",
        "colab_type": "code",
        "colab": {}
      },
      "source": [
        "scaledDF['AQLabel'] = scaledDF['aqi'].apply(func=label_gen)\n",
        "scaledDF['AQICategory'] = scaledDF['aqi'].apply(func=label_category)"
      ],
      "execution_count": 0,
      "outputs": []
    },
    {
      "cell_type": "code",
      "metadata": {
        "id": "Ej5M_8gZ8lMV",
        "colab_type": "code",
        "colab": {}
      },
      "source": [
        "scaledDF['PAQI'] = scaledDF.aqi.shift(1)"
      ],
      "execution_count": 0,
      "outputs": []
    },
    {
      "cell_type": "code",
      "metadata": {
        "id": "jJW9oic68PSJ",
        "colab_type": "code",
        "colab": {}
      },
      "source": [
        "scaledDF['AQLabel'] = pd.Categorical(scaledDF['AQLabel'])\n",
        "scaledDF['AQLabel'] = scaledDF.AQLabel.cat.codes"
      ],
      "execution_count": 0,
      "outputs": []
    },
    {
      "cell_type": "code",
      "metadata": {
        "id": "vUEKS8jqcNIQ",
        "colab_type": "code",
        "outputId": "456471a9-777a-4114-9256-e97bd5030fff",
        "colab": {
          "base_uri": "https://localhost:8080/",
          "height": 204
        }
      },
      "source": [
        "scaledDF.head(5)"
      ],
      "execution_count": 45,
      "outputs": [
        {
          "output_type": "execute_result",
          "data": {
            "text/html": [
              "<div>\n",
              "<style scoped>\n",
              "    .dataframe tbody tr th:only-of-type {\n",
              "        vertical-align: middle;\n",
              "    }\n",
              "\n",
              "    .dataframe tbody tr th {\n",
              "        vertical-align: top;\n",
              "    }\n",
              "\n",
              "    .dataframe thead th {\n",
              "        text-align: right;\n",
              "    }\n",
              "</style>\n",
              "<table border=\"1\" class=\"dataframe\">\n",
              "  <thead>\n",
              "    <tr style=\"text-align: right;\">\n",
              "      <th></th>\n",
              "      <th>ozone</th>\n",
              "      <th>co</th>\n",
              "      <th>temperature</th>\n",
              "      <th>windspeed</th>\n",
              "      <th>pressure</th>\n",
              "      <th>pm10</th>\n",
              "      <th>pm25</th>\n",
              "      <th>no2</th>\n",
              "      <th>aqi</th>\n",
              "      <th>AQLabel</th>\n",
              "      <th>AQICategory</th>\n",
              "      <th>PAQI</th>\n",
              "    </tr>\n",
              "  </thead>\n",
              "  <tbody>\n",
              "    <tr>\n",
              "      <th>0</th>\n",
              "      <td>-0.982177</td>\n",
              "      <td>1.895100</td>\n",
              "      <td>-1.987936</td>\n",
              "      <td>-0.756273</td>\n",
              "      <td>0.233657</td>\n",
              "      <td>0.673889</td>\n",
              "      <td>3.137893</td>\n",
              "      <td>-0.200856</td>\n",
              "      <td>148.0</td>\n",
              "      <td>4</td>\n",
              "      <td>0</td>\n",
              "      <td>NaN</td>\n",
              "    </tr>\n",
              "    <tr>\n",
              "      <th>1</th>\n",
              "      <td>-0.982177</td>\n",
              "      <td>1.488709</td>\n",
              "      <td>-1.641914</td>\n",
              "      <td>-1.590235</td>\n",
              "      <td>0.221745</td>\n",
              "      <td>-0.779945</td>\n",
              "      <td>1.935416</td>\n",
              "      <td>-0.033170</td>\n",
              "      <td>113.0</td>\n",
              "      <td>4</td>\n",
              "      <td>0</td>\n",
              "      <td>148.0</td>\n",
              "    </tr>\n",
              "    <tr>\n",
              "      <th>2</th>\n",
              "      <td>-1.009629</td>\n",
              "      <td>1.488709</td>\n",
              "      <td>-1.321522</td>\n",
              "      <td>0.681594</td>\n",
              "      <td>0.189977</td>\n",
              "      <td>-0.971239</td>\n",
              "      <td>0.801652</td>\n",
              "      <td>0.218359</td>\n",
              "      <td>80.0</td>\n",
              "      <td>2</td>\n",
              "      <td>0</td>\n",
              "      <td>113.0</td>\n",
              "    </tr>\n",
              "    <tr>\n",
              "      <th>3</th>\n",
              "      <td>-0.982177</td>\n",
              "      <td>0.675927</td>\n",
              "      <td>-1.193365</td>\n",
              "      <td>-0.554971</td>\n",
              "      <td>0.176576</td>\n",
              "      <td>-1.009497</td>\n",
              "      <td>1.042147</td>\n",
              "      <td>0.218359</td>\n",
              "      <td>87.0</td>\n",
              "      <td>2</td>\n",
              "      <td>0</td>\n",
              "      <td>80.0</td>\n",
              "    </tr>\n",
              "    <tr>\n",
              "      <th>4</th>\n",
              "      <td>-0.872372</td>\n",
              "      <td>0.675927</td>\n",
              "      <td>-0.949868</td>\n",
              "      <td>-0.439942</td>\n",
              "      <td>0.173598</td>\n",
              "      <td>-1.086015</td>\n",
              "      <td>-0.091617</td>\n",
              "      <td>0.386046</td>\n",
              "      <td>54.0</td>\n",
              "      <td>2</td>\n",
              "      <td>0</td>\n",
              "      <td>87.0</td>\n",
              "    </tr>\n",
              "  </tbody>\n",
              "</table>\n",
              "</div>"
            ],
            "text/plain": [
              "      ozone        co  temperature  ...  AQLabel  AQICategory   PAQI\n",
              "0 -0.982177  1.895100    -1.987936  ...        4            0    NaN\n",
              "1 -0.982177  1.488709    -1.641914  ...        4            0  148.0\n",
              "2 -1.009629  1.488709    -1.321522  ...        2            0  113.0\n",
              "3 -0.982177  0.675927    -1.193365  ...        2            0   80.0\n",
              "4 -0.872372  0.675927    -0.949868  ...        2            0   87.0\n",
              "\n",
              "[5 rows x 12 columns]"
            ]
          },
          "metadata": {
            "tags": []
          },
          "execution_count": 45
        }
      ]
    },
    {
      "cell_type": "code",
      "metadata": {
        "id": "JvsbBuyB99xc",
        "colab_type": "code",
        "colab": {}
      },
      "source": [
        "scaledDF = scaledDF.drop([scaledDF.index[0]])"
      ],
      "execution_count": 0,
      "outputs": []
    },
    {
      "cell_type": "code",
      "metadata": {
        "id": "_4iT2WXe-F9P",
        "colab_type": "code",
        "outputId": "fa1abd5c-a104-46c9-a45c-1f989087419b",
        "colab": {
          "base_uri": "https://localhost:8080/",
          "height": 204
        }
      },
      "source": [
        "scaledDF.head(5)"
      ],
      "execution_count": 47,
      "outputs": [
        {
          "output_type": "execute_result",
          "data": {
            "text/html": [
              "<div>\n",
              "<style scoped>\n",
              "    .dataframe tbody tr th:only-of-type {\n",
              "        vertical-align: middle;\n",
              "    }\n",
              "\n",
              "    .dataframe tbody tr th {\n",
              "        vertical-align: top;\n",
              "    }\n",
              "\n",
              "    .dataframe thead th {\n",
              "        text-align: right;\n",
              "    }\n",
              "</style>\n",
              "<table border=\"1\" class=\"dataframe\">\n",
              "  <thead>\n",
              "    <tr style=\"text-align: right;\">\n",
              "      <th></th>\n",
              "      <th>ozone</th>\n",
              "      <th>co</th>\n",
              "      <th>temperature</th>\n",
              "      <th>windspeed</th>\n",
              "      <th>pressure</th>\n",
              "      <th>pm10</th>\n",
              "      <th>pm25</th>\n",
              "      <th>no2</th>\n",
              "      <th>aqi</th>\n",
              "      <th>AQLabel</th>\n",
              "      <th>AQICategory</th>\n",
              "      <th>PAQI</th>\n",
              "    </tr>\n",
              "  </thead>\n",
              "  <tbody>\n",
              "    <tr>\n",
              "      <th>1</th>\n",
              "      <td>-0.982177</td>\n",
              "      <td>1.488709</td>\n",
              "      <td>-1.641914</td>\n",
              "      <td>-1.590235</td>\n",
              "      <td>0.221745</td>\n",
              "      <td>-0.779945</td>\n",
              "      <td>1.935416</td>\n",
              "      <td>-0.033170</td>\n",
              "      <td>113.0</td>\n",
              "      <td>4</td>\n",
              "      <td>0</td>\n",
              "      <td>148.0</td>\n",
              "    </tr>\n",
              "    <tr>\n",
              "      <th>2</th>\n",
              "      <td>-1.009629</td>\n",
              "      <td>1.488709</td>\n",
              "      <td>-1.321522</td>\n",
              "      <td>0.681594</td>\n",
              "      <td>0.189977</td>\n",
              "      <td>-0.971239</td>\n",
              "      <td>0.801652</td>\n",
              "      <td>0.218359</td>\n",
              "      <td>80.0</td>\n",
              "      <td>2</td>\n",
              "      <td>0</td>\n",
              "      <td>113.0</td>\n",
              "    </tr>\n",
              "    <tr>\n",
              "      <th>3</th>\n",
              "      <td>-0.982177</td>\n",
              "      <td>0.675927</td>\n",
              "      <td>-1.193365</td>\n",
              "      <td>-0.554971</td>\n",
              "      <td>0.176576</td>\n",
              "      <td>-1.009497</td>\n",
              "      <td>1.042147</td>\n",
              "      <td>0.218359</td>\n",
              "      <td>87.0</td>\n",
              "      <td>2</td>\n",
              "      <td>0</td>\n",
              "      <td>80.0</td>\n",
              "    </tr>\n",
              "    <tr>\n",
              "      <th>4</th>\n",
              "      <td>-0.872372</td>\n",
              "      <td>0.675927</td>\n",
              "      <td>-0.949868</td>\n",
              "      <td>-0.439942</td>\n",
              "      <td>0.173598</td>\n",
              "      <td>-1.086015</td>\n",
              "      <td>-0.091617</td>\n",
              "      <td>0.386046</td>\n",
              "      <td>54.0</td>\n",
              "      <td>2</td>\n",
              "      <td>0</td>\n",
              "      <td>87.0</td>\n",
              "    </tr>\n",
              "    <tr>\n",
              "      <th>5</th>\n",
              "      <td>-0.872372</td>\n",
              "      <td>-0.543245</td>\n",
              "      <td>-1.244628</td>\n",
              "      <td>0.595322</td>\n",
              "      <td>-4.830723</td>\n",
              "      <td>-1.162533</td>\n",
              "      <td>-1.191025</td>\n",
              "      <td>0.302203</td>\n",
              "      <td>41.0</td>\n",
              "      <td>0</td>\n",
              "      <td>0</td>\n",
              "      <td>54.0</td>\n",
              "    </tr>\n",
              "  </tbody>\n",
              "</table>\n",
              "</div>"
            ],
            "text/plain": [
              "      ozone        co  temperature  ...  AQLabel  AQICategory   PAQI\n",
              "1 -0.982177  1.488709    -1.641914  ...        4            0  148.0\n",
              "2 -1.009629  1.488709    -1.321522  ...        2            0  113.0\n",
              "3 -0.982177  0.675927    -1.193365  ...        2            0   80.0\n",
              "4 -0.872372  0.675927    -0.949868  ...        2            0   87.0\n",
              "5 -0.872372 -0.543245    -1.244628  ...        0            0   54.0\n",
              "\n",
              "[5 rows x 12 columns]"
            ]
          },
          "metadata": {
            "tags": []
          },
          "execution_count": 47
        }
      ]
    },
    {
      "cell_type": "code",
      "metadata": {
        "id": "OkMfn8WOK3bI",
        "colab_type": "code",
        "colab": {}
      },
      "source": [
        "# df.loc[df['cluster']==1,'category'] = 'good'\n",
        "# df.loc[df['cluster']==0,'category'] = 'bad'"
      ],
      "execution_count": 0,
      "outputs": []
    },
    {
      "cell_type": "code",
      "metadata": {
        "id": "ZofZYEo_Ob-g",
        "colab_type": "code",
        "outputId": "228a1e04-1da4-4392-ce0d-e7852570ee58",
        "colab": {
          "base_uri": "https://localhost:8080/",
          "height": 34
        }
      },
      "source": [
        "decTreeDF = scaledDF[['temperature','windspeed','pressure', 'PAQI', 'AQICategory']]\n",
        "decTreeDF.shape"
      ],
      "execution_count": 64,
      "outputs": [
        {
          "output_type": "execute_result",
          "data": {
            "text/plain": [
              "(1460, 5)"
            ]
          },
          "metadata": {
            "tags": []
          },
          "execution_count": 64
        }
      ]
    },
    {
      "cell_type": "code",
      "metadata": {
        "id": "LgJ0Acd4PUa1",
        "colab_type": "code",
        "colab": {}
      },
      "source": [
        "#decTreeDFX = decTreeDF[['co', 'ozone', 'pm10', 'pm25', 'no2', 'temperature','windspeed','pressure']]\n",
        "decTreeDFX = decTreeDF[['PAQI', 'temperature','windspeed', 'pressure']]"
      ],
      "execution_count": 0,
      "outputs": []
    },
    {
      "cell_type": "code",
      "metadata": {
        "id": "1ieAeLVRD5sr",
        "colab_type": "code",
        "colab": {}
      },
      "source": [
        "from sklearn.model_selection import train_test_split\n",
        "X_train, X_test, y_train, y_test = train_test_split(decTreeDFX, decTreeDF.AQICategory, test_size=0.3)"
      ],
      "execution_count": 0,
      "outputs": []
    },
    {
      "cell_type": "code",
      "metadata": {
        "id": "JUvofPPrEVY6",
        "colab_type": "code",
        "outputId": "0c465818-8dee-405c-9c6e-acce110bf4a7",
        "colab": {
          "base_uri": "https://localhost:8080/",
          "height": 34
        }
      },
      "source": [
        "X_train.shape"
      ],
      "execution_count": 69,
      "outputs": [
        {
          "output_type": "execute_result",
          "data": {
            "text/plain": [
              "(1022, 4)"
            ]
          },
          "metadata": {
            "tags": []
          },
          "execution_count": 69
        }
      ]
    },
    {
      "cell_type": "code",
      "metadata": {
        "id": "ha0wEKRKEeVH",
        "colab_type": "code",
        "outputId": "035697e1-cb54-4f6d-e40f-8760b971e282",
        "colab": {
          "base_uri": "https://localhost:8080/",
          "height": 34
        }
      },
      "source": [
        "X_test.shape"
      ],
      "execution_count": 70,
      "outputs": [
        {
          "output_type": "execute_result",
          "data": {
            "text/plain": [
              "(438, 4)"
            ]
          },
          "metadata": {
            "tags": []
          },
          "execution_count": 70
        }
      ]
    },
    {
      "cell_type": "code",
      "metadata": {
        "id": "emX2JVrF-pNr",
        "colab_type": "code",
        "outputId": "ffdfe6f5-199e-478c-b162-ad5661cd53f5",
        "colab": {
          "base_uri": "https://localhost:8080/",
          "height": 34
        }
      },
      "source": [
        "y_train.shape"
      ],
      "execution_count": 71,
      "outputs": [
        {
          "output_type": "execute_result",
          "data": {
            "text/plain": [
              "(1022,)"
            ]
          },
          "metadata": {
            "tags": []
          },
          "execution_count": 71
        }
      ]
    },
    {
      "cell_type": "code",
      "metadata": {
        "id": "FbJpB3UI-eZt",
        "colab_type": "code",
        "colab": {}
      },
      "source": [
        "from sklearn.ensemble import RandomForestClassifier"
      ],
      "execution_count": 0,
      "outputs": []
    },
    {
      "cell_type": "code",
      "metadata": {
        "id": "Djkx0cX6-fAE",
        "colab_type": "code",
        "outputId": "956f1f40-3e9f-464b-b0b9-c353f185ee18",
        "colab": {
          "base_uri": "https://localhost:8080/",
          "height": 119
        }
      },
      "source": [
        "#regressor = RandomForestRegressor(n_estimators=20, random_state=0)\n",
        "model = RandomForestClassifier(n_estimators=100, \n",
        "                               random_state=50, \n",
        "                               max_features = 'sqrt',\n",
        "                               n_jobs=-1, verbose = 1)\n",
        "model.fit(X_train, y_train)\n",
        "y_pred = model.predict(X_test)\n"
      ],
      "execution_count": 73,
      "outputs": [
        {
          "output_type": "stream",
          "text": [
            "[Parallel(n_jobs=-1)]: Using backend ThreadingBackend with 2 concurrent workers.\n",
            "[Parallel(n_jobs=-1)]: Done  46 tasks      | elapsed:    0.1s\n",
            "[Parallel(n_jobs=-1)]: Done 100 out of 100 | elapsed:    0.2s finished\n",
            "[Parallel(n_jobs=2)]: Using backend ThreadingBackend with 2 concurrent workers.\n",
            "[Parallel(n_jobs=2)]: Done  46 tasks      | elapsed:    0.0s\n",
            "[Parallel(n_jobs=2)]: Done 100 out of 100 | elapsed:    0.0s finished\n"
          ],
          "name": "stderr"
        }
      ]
    },
    {
      "cell_type": "code",
      "metadata": {
        "id": "JbolL0sjV929",
        "colab_type": "code",
        "outputId": "4133ec99-5090-4053-a44e-8ef33347323f",
        "colab": {
          "base_uri": "https://localhost:8080/",
          "height": 34
        }
      },
      "source": [
        "y_pred.shape\n",
        "X_test.shape"
      ],
      "execution_count": 74,
      "outputs": [
        {
          "output_type": "execute_result",
          "data": {
            "text/plain": [
              "(438, 4)"
            ]
          },
          "metadata": {
            "tags": []
          },
          "execution_count": 74
        }
      ]
    },
    {
      "cell_type": "code",
      "metadata": {
        "id": "uFBJ4ezYJFz4",
        "colab_type": "code",
        "outputId": "59234d3b-fc49-4884-f256-484ac9964333",
        "colab": {
          "base_uri": "https://localhost:8080/",
          "height": 102
        }
      },
      "source": [
        "feature_imp = pd.Series(model.feature_importances_,index=['PAQI', 'temperature','windspeed', 'pressure']).sort_values(ascending=False)\n",
        "feature_imp"
      ],
      "execution_count": 75,
      "outputs": [
        {
          "output_type": "execute_result",
          "data": {
            "text/plain": [
              "PAQI           0.402967\n",
              "temperature    0.240588\n",
              "pressure       0.201070\n",
              "windspeed      0.155375\n",
              "dtype: float64"
            ]
          },
          "metadata": {
            "tags": []
          },
          "execution_count": 75
        }
      ]
    },
    {
      "cell_type": "code",
      "metadata": {
        "id": "kJkK17fOJjUj",
        "colab_type": "code",
        "outputId": "58be1feb-dce7-48b0-9cfc-6f845d1a079e",
        "colab": {
          "base_uri": "https://localhost:8080/",
          "height": 318
        }
      },
      "source": [
        "import matplotlib.pyplot as plt\n",
        "import seaborn as sns\n",
        "%matplotlib inline\n",
        "# Creating a bar plot\n",
        "sns.barplot(x=feature_imp, y=feature_imp.index)\n",
        "# Add labels to your graph\n",
        "plt.xlabel('Feature Importance Score')\n",
        "plt.ylabel('Features')\n",
        "plt.title(\"Visualizing Important Features\")\n",
        "plt.legend()\n",
        "plt.show()"
      ],
      "execution_count": 76,
      "outputs": [
        {
          "output_type": "stream",
          "text": [
            "No handles with labels found to put in legend.\n"
          ],
          "name": "stderr"
        },
        {
          "output_type": "display_data",
          "data": {
            "image/png": "[encoded data removed]",
            "text/plain": [
              "<Figure size 432x288 with 1 Axes>"
            ]
          },
          "metadata": {
            "tags": []
          }
        }
      ]
    },
    {
      "cell_type": "code",
      "metadata": {
        "id": "7Ze2DV2zEaOq",
        "colab_type": "code",
        "outputId": "8a6e2e08-bf09-47d4-dfda-97fdbb869454",
        "colab": {
          "base_uri": "https://localhost:8080/",
          "height": 51
        }
      },
      "source": [
        "n_nodes = []\n",
        "max_depths = []\n",
        "\n",
        "for ind_tree in model.estimators_:\n",
        "    n_nodes.append(ind_tree.tree_.node_count)\n",
        "    max_depths.append(ind_tree.tree_.max_depth)\n",
        "    \n",
        "print(f'Average number of nodes {int(np.mean(n_nodes))}')\n",
        "print(f'Average maximum depth {int(np.mean(max_depths))}')"
      ],
      "execution_count": 77,
      "outputs": [
        {
          "output_type": "stream",
          "text": [
            "Average number of nodes 90\n",
            "Average maximum depth 11\n"
          ],
          "name": "stdout"
        }
      ]
    },
    {
      "cell_type": "code",
      "metadata": {
        "id": "kqKe3_F2Efpj",
        "colab_type": "code",
        "outputId": "4bbb8308-7932-432a-ea89-ffd5ed7b2f56",
        "colab": {
          "base_uri": "https://localhost:8080/",
          "height": 221
        }
      },
      "source": [
        "train_rf_predictions = model.predict(X_train)\n",
        "train_rf_probs = model.predict_proba(X_train)[:, 1]\n",
        "\n",
        "rf_predictions = model.predict(X_test)\n",
        "rf_probs = model.predict_proba(X_test)[:, 1]"
      ],
      "execution_count": 78,
      "outputs": [
        {
          "output_type": "stream",
          "text": [
            "[Parallel(n_jobs=2)]: Using backend ThreadingBackend with 2 concurrent workers.\n",
            "[Parallel(n_jobs=2)]: Done  46 tasks      | elapsed:    0.0s\n",
            "[Parallel(n_jobs=2)]: Done 100 out of 100 | elapsed:    0.0s finished\n",
            "[Parallel(n_jobs=2)]: Using backend ThreadingBackend with 2 concurrent workers.\n",
            "[Parallel(n_jobs=2)]: Done  46 tasks      | elapsed:    0.0s\n",
            "[Parallel(n_jobs=2)]: Done 100 out of 100 | elapsed:    0.0s finished\n",
            "[Parallel(n_jobs=2)]: Using backend ThreadingBackend with 2 concurrent workers.\n",
            "[Parallel(n_jobs=2)]: Done  46 tasks      | elapsed:    0.0s\n",
            "[Parallel(n_jobs=2)]: Done 100 out of 100 | elapsed:    0.0s finished\n",
            "[Parallel(n_jobs=2)]: Using backend ThreadingBackend with 2 concurrent workers.\n",
            "[Parallel(n_jobs=2)]: Done  46 tasks      | elapsed:    0.0s\n",
            "[Parallel(n_jobs=2)]: Done 100 out of 100 | elapsed:    0.0s finished\n"
          ],
          "name": "stderr"
        }
      ]
    },
    {
      "cell_type": "code",
      "metadata": {
        "id": "iCDIqEFKFDlc",
        "colab_type": "code",
        "colab": {}
      },
      "source": [
        "from sklearn.metrics import precision_score, recall_score, roc_auc_score, roc_curve, confusion_matrix,accuracy_score\n",
        "def evaluate_model(predictions, probs, train_predictions, train_probs):\n",
        "    \"\"\"Compare machine learning model to baseline performance.\n",
        "    Computes statistics and shows ROC curve.\"\"\"\n",
        "    test_labels = y_test\n",
        "    train_labels = y_train\n",
        "    baseline = {}\n",
        "    \n",
        "    baseline['recall'] = recall_score(test_labels, [1 for _ in range(len(test_labels))])\n",
        "    baseline['precision'] = precision_score(test_labels, [1 for _ in range(len(test_labels))])\n",
        "    baseline['roc'] = 0.5\n",
        "    \n",
        "    results = {}\n",
        "    \n",
        "    results['recall'] = recall_score(test_labels, predictions)\n",
        "    results['precision'] = precision_score(test_labels, predictions)\n",
        "    results['roc'] = roc_auc_score(test_labels, probs)\n",
        "    \n",
        "    train_results = {}\n",
        "    train_results['recall'] = recall_score(train_labels, train_predictions)\n",
        "    train_results['precision'] = precision_score(train_labels, train_predictions)\n",
        "    train_results['roc'] = roc_auc_score(train_labels, train_probs)\n",
        "    \n",
        "    for metric in ['recall', 'precision', 'roc']:\n",
        "        print(f'{metric.capitalize()} Baseline: {round(baseline[metric], 2)} Test: {round(results[metric], 2)} Train: {round(train_results[metric], 2)}')\n",
        "    \n",
        "    # Calculate false positive rates and true positive rates\n",
        "    base_fpr, base_tpr, _ = roc_curve(test_labels, [1 for _ in range(len(test_labels))])\n",
        "    model_fpr, model_tpr, _ = roc_curve(test_labels, probs)\n",
        "\n",
        "    plt.figure(figsize = (8, 6))\n",
        "    plt.rcParams['font.size'] = 16\n",
        "    \n",
        "    # Plot both curves\n",
        "    plt.plot(base_fpr, base_tpr, 'b', label = 'baseline')\n",
        "    plt.plot(model_fpr, model_tpr, 'r', label = 'model')\n",
        "    plt.legend();\n",
        "    plt.xlabel('False Positive Rate'); plt.ylabel('True Positive Rate'); plt.title('ROC Curves');"
      ],
      "execution_count": 0,
      "outputs": []
    },
    {
      "cell_type": "code",
      "metadata": {
        "id": "ib8sYqpREw5j",
        "colab_type": "code",
        "outputId": "4e6d1bb4-440f-4925-da47-c195ba0a2b9e",
        "colab": {
          "base_uri": "https://localhost:8080/",
          "height": 461
        }
      },
      "source": [
        "evaluate_model(rf_predictions, rf_probs, train_rf_predictions, train_rf_probs)"
      ],
      "execution_count": 80,
      "outputs": [
        {
          "output_type": "stream",
          "text": [
            "Recall Baseline: 1.0 Test: 0.45 Train: 1.0\n",
            "Precision Baseline: 0.05 Test: 0.77 Train: 1.0\n",
            "Roc Baseline: 0.5 Test: 0.92 Train: 1.0\n"
          ],
          "name": "stdout"
        },
        {
          "output_type": "display_data",
          "data": {
            "image/png": "[encoded data removed]",
            "text/plain": [
              "<Figure size 576x432 with 1 Axes>"
            ]
          },
          "metadata": {
            "tags": []
          }
        }
      ]
    },
    {
      "cell_type": "code",
      "metadata": {
        "id": "gvSrF-5A-0Qq",
        "colab_type": "code",
        "colab": {
          "base_uri": "https://localhost:8080/",
          "height": 68
        },
        "outputId": "d327c77f-e6d8-4b6b-b8aa-f16791bd3097"
      },
      "source": [
        "print(confusion_matrix(y_test.round(),y_pred.round()))\n",
        "print(accuracy_score(y_test.round(), y_pred.round()))"
      ],
      "execution_count": 82,
      "outputs": [
        {
          "output_type": "stream",
          "text": [
            "[[413   3]\n",
            " [ 12  10]]\n",
            "0.9657534246575342\n"
          ],
          "name": "stdout"
        }
      ]
    },
    {
      "cell_type": "code",
      "metadata": {
        "id": "y00gs2PT2-GP",
        "colab_type": "code",
        "colab": {
          "base_uri": "https://localhost:8080/",
          "height": 273
        },
        "outputId": "864eb65e-e552-472d-d9e5-b0964767508a"
      },
      "source": [
        "import seaborn as sn\n",
        "sn.set(font_scale=1.4) # for label size\n",
        "sn.heatmap(confusion_matrix(y_test, y_pred), annot=True) # font size\n",
        "\n",
        "plt.show()"
      ],
      "execution_count": 90,
      "outputs": [
        {
          "output_type": "display_data",
          "data": {
            "image/png": "[encoded data removed]",
            "text/plain": [
              "<Figure size 432x288 with 2 Axes>"
            ]
          },
          "metadata": {
            "tags": []
          }
        }
      ]
    }
  ]
}